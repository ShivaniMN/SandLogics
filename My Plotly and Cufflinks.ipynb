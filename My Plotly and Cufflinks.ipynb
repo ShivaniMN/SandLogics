{
 "cells": [
  {
   "cell_type": "code",
   "execution_count": 9,
   "id": "a4cc158f",
   "metadata": {
    "scrolled": true
   },
   "outputs": [],
   "source": [
    "import pandas as pd\n",
    "import numpy as np\n",
    "import scipy as sp\n",
    "import chart_studio.plotly as py\n",
    "import plotly.figure_factory as ff"
   ]
  },
  {
   "cell_type": "code",
   "execution_count": 8,
   "id": "c29528d1",
   "metadata": {},
   "outputs": [
    {
     "name": "stdout",
     "output_type": "stream",
     "text": [
      "Collecting chart_studio\n",
      "  Downloading chart_studio-1.1.0-py3-none-any.whl (64 kB)\n",
      "Collecting retrying>=1.3.3\n",
      "  Downloading retrying-1.3.3.tar.gz (10 kB)\n",
      "Requirement already satisfied: six in c:\\users\\shivani\\anaconda3\\lib\\site-packages (from chart_studio) (1.15.0)\n",
      "Requirement already satisfied: requests in c:\\users\\shivani\\anaconda3\\lib\\site-packages (from chart_studio) (2.25.1)\n",
      "Collecting plotly\n",
      "  Downloading plotly-5.1.0-py2.py3-none-any.whl (20.6 MB)\n",
      "Collecting tenacity>=6.2.0\n",
      "  Downloading tenacity-8.0.1-py3-none-any.whl (24 kB)\n",
      "Requirement already satisfied: chardet<5,>=3.0.2 in c:\\users\\shivani\\anaconda3\\lib\\site-packages (from requests->chart_studio) (4.0.0)\n",
      "Requirement already satisfied: idna<3,>=2.5 in c:\\users\\shivani\\anaconda3\\lib\\site-packages (from requests->chart_studio) (2.10)\n",
      "Requirement already satisfied: urllib3<1.27,>=1.21.1 in c:\\users\\shivani\\anaconda3\\lib\\site-packages (from requests->chart_studio) (1.26.4)\n",
      "Requirement already satisfied: certifi>=2017.4.17 in c:\\users\\shivani\\anaconda3\\lib\\site-packages (from requests->chart_studio) (2020.12.5)\n",
      "Building wheels for collected packages: retrying\n",
      "  Building wheel for retrying (setup.py): started\n",
      "  Building wheel for retrying (setup.py): finished with status 'done'\n",
      "  Created wheel for retrying: filename=retrying-1.3.3-py3-none-any.whl size=11429 sha256=f800184da302d5903745dae95d2f15e84a55fa0abd68eef216795bbe21518fad\n",
      "  Stored in directory: c:\\users\\shivani\\appdata\\local\\pip\\cache\\wheels\\c4\\a7\\48\\0a434133f6d56e878ca511c0e6c38326907c0792f67b476e56\n",
      "Successfully built retrying\n",
      "Installing collected packages: tenacity, retrying, plotly, chart-studio\n",
      "Successfully installed chart-studio-1.1.0 plotly-5.1.0 retrying-1.3.3 tenacity-8.0.1\n",
      "Note: you may need to restart the kernel to use updated packages.\n"
     ]
    }
   ],
   "source": [
    "pip install chart_studio"
   ]
  },
  {
   "cell_type": "code",
   "execution_count": 14,
   "id": "fcf96184",
   "metadata": {},
   "outputs": [],
   "source": [
    "import plotly\n",
    "from plotly import __version__"
   ]
  },
  {
   "cell_type": "code",
   "execution_count": 15,
   "id": "54ed1143",
   "metadata": {},
   "outputs": [
    {
     "name": "stdout",
     "output_type": "stream",
     "text": [
      "Collecting cufflinksNote: you may need to restart the kernel to use updated packages.\n",
      "\n",
      "  Downloading cufflinks-0.17.3.tar.gz (81 kB)\n",
      "Requirement already satisfied: numpy>=1.9.2 in c:\\users\\shivani\\anaconda3\\lib\\site-packages (from cufflinks) (1.20.1)\n",
      "Requirement already satisfied: pandas>=0.19.2 in c:\\users\\shivani\\anaconda3\\lib\\site-packages (from cufflinks) (1.2.4)\n",
      "Requirement already satisfied: plotly>=4.1.1 in c:\\users\\shivani\\anaconda3\\lib\\site-packages (from cufflinks) (5.1.0)\n",
      "Requirement already satisfied: six>=1.9.0 in c:\\users\\shivani\\anaconda3\\lib\\site-packages (from cufflinks) (1.15.0)\n",
      "Collecting colorlover>=0.2.1\n",
      "  Downloading colorlover-0.3.0-py3-none-any.whl (8.9 kB)\n",
      "Requirement already satisfied: setuptools>=34.4.1 in c:\\users\\shivani\\anaconda3\\lib\\site-packages (from cufflinks) (52.0.0.post20210125)\n",
      "Requirement already satisfied: ipython>=5.3.0 in c:\\users\\shivani\\anaconda3\\lib\\site-packages (from cufflinks) (7.22.0)\n",
      "Requirement already satisfied: ipywidgets>=7.0.0 in c:\\users\\shivani\\anaconda3\\lib\\site-packages (from cufflinks) (7.6.3)\n",
      "Requirement already satisfied: colorama in c:\\users\\shivani\\anaconda3\\lib\\site-packages (from ipython>=5.3.0->cufflinks) (0.4.4)\n",
      "Requirement already satisfied: pygments in c:\\users\\shivani\\anaconda3\\lib\\site-packages (from ipython>=5.3.0->cufflinks) (2.8.1)\n",
      "Requirement already satisfied: decorator in c:\\users\\shivani\\anaconda3\\lib\\site-packages (from ipython>=5.3.0->cufflinks) (5.0.6)\n",
      "Requirement already satisfied: prompt-toolkit!=3.0.0,!=3.0.1,<3.1.0,>=2.0.0 in c:\\users\\shivani\\anaconda3\\lib\\site-packages (from ipython>=5.3.0->cufflinks) (3.0.17)\n",
      "Requirement already satisfied: pickleshare in c:\\users\\shivani\\anaconda3\\lib\\site-packages (from ipython>=5.3.0->cufflinks) (0.7.5)\n",
      "Requirement already satisfied: jedi>=0.16 in c:\\users\\shivani\\anaconda3\\lib\\site-packages (from ipython>=5.3.0->cufflinks) (0.17.2)\n",
      "Requirement already satisfied: traitlets>=4.2 in c:\\users\\shivani\\anaconda3\\lib\\site-packages (from ipython>=5.3.0->cufflinks) (5.0.5)\n",
      "Requirement already satisfied: backcall in c:\\users\\shivani\\anaconda3\\lib\\site-packages (from ipython>=5.3.0->cufflinks) (0.2.0)\n",
      "Requirement already satisfied: widgetsnbextension~=3.5.0 in c:\\users\\shivani\\anaconda3\\lib\\site-packages (from ipywidgets>=7.0.0->cufflinks) (3.5.1)\n",
      "Requirement already satisfied: ipykernel>=4.5.1 in c:\\users\\shivani\\anaconda3\\lib\\site-packages (from ipywidgets>=7.0.0->cufflinks) (5.3.4)\n",
      "Requirement already satisfied: jupyterlab-widgets>=1.0.0 in c:\\users\\shivani\\anaconda3\\lib\\site-packages (from ipywidgets>=7.0.0->cufflinks) (1.0.0)\n",
      "Requirement already satisfied: nbformat>=4.2.0 in c:\\users\\shivani\\anaconda3\\lib\\site-packages (from ipywidgets>=7.0.0->cufflinks) (5.1.3)\n",
      "Requirement already satisfied: tornado>=4.2 in c:\\users\\shivani\\anaconda3\\lib\\site-packages (from ipykernel>=4.5.1->ipywidgets>=7.0.0->cufflinks) (6.1)\n",
      "Requirement already satisfied: jupyter-client in c:\\users\\shivani\\anaconda3\\lib\\site-packages (from ipykernel>=4.5.1->ipywidgets>=7.0.0->cufflinks) (6.1.12)\n",
      "Requirement already satisfied: parso<0.8.0,>=0.7.0 in c:\\users\\shivani\\anaconda3\\lib\\site-packages (from jedi>=0.16->ipython>=5.3.0->cufflinks) (0.7.0)\n",
      "Requirement already satisfied: ipython-genutils in c:\\users\\shivani\\anaconda3\\lib\\site-packages (from nbformat>=4.2.0->ipywidgets>=7.0.0->cufflinks) (0.2.0)\n",
      "Requirement already satisfied: jsonschema!=2.5.0,>=2.4 in c:\\users\\shivani\\anaconda3\\lib\\site-packages (from nbformat>=4.2.0->ipywidgets>=7.0.0->cufflinks) (3.2.0)\n",
      "Requirement already satisfied: jupyter-core in c:\\users\\shivani\\anaconda3\\lib\\site-packages (from nbformat>=4.2.0->ipywidgets>=7.0.0->cufflinks) (4.7.1)\n",
      "Requirement already satisfied: pyrsistent>=0.14.0 in c:\\users\\shivani\\anaconda3\\lib\\site-packages (from jsonschema!=2.5.0,>=2.4->nbformat>=4.2.0->ipywidgets>=7.0.0->cufflinks) (0.17.3)\n",
      "Requirement already satisfied: attrs>=17.4.0 in c:\\users\\shivani\\anaconda3\\lib\\site-packages (from jsonschema!=2.5.0,>=2.4->nbformat>=4.2.0->ipywidgets>=7.0.0->cufflinks) (20.3.0)\n",
      "Requirement already satisfied: python-dateutil>=2.7.3 in c:\\users\\shivani\\anaconda3\\lib\\site-packages (from pandas>=0.19.2->cufflinks) (2.8.1)\n",
      "Requirement already satisfied: pytz>=2017.3 in c:\\users\\shivani\\anaconda3\\lib\\site-packages (from pandas>=0.19.2->cufflinks) (2021.1)\n",
      "Requirement already satisfied: tenacity>=6.2.0 in c:\\users\\shivani\\anaconda3\\lib\\site-packages (from plotly>=4.1.1->cufflinks) (8.0.1)\n",
      "Requirement already satisfied: wcwidth in c:\\users\\shivani\\anaconda3\\lib\\site-packages (from prompt-toolkit!=3.0.0,!=3.0.1,<3.1.0,>=2.0.0->ipython>=5.3.0->cufflinks) (0.2.5)\n",
      "Requirement already satisfied: notebook>=4.4.1 in c:\\users\\shivani\\anaconda3\\lib\\site-packages (from widgetsnbextension~=3.5.0->ipywidgets>=7.0.0->cufflinks) (6.3.0)\n",
      "Requirement already satisfied: argon2-cffi in c:\\users\\shivani\\anaconda3\\lib\\site-packages (from notebook>=4.4.1->widgetsnbextension~=3.5.0->ipywidgets>=7.0.0->cufflinks) (20.1.0)\n",
      "Requirement already satisfied: nbconvert in c:\\users\\shivani\\anaconda3\\lib\\site-packages (from notebook>=4.4.1->widgetsnbextension~=3.5.0->ipywidgets>=7.0.0->cufflinks) (6.0.7)\n",
      "Requirement already satisfied: Send2Trash>=1.5.0 in c:\\users\\shivani\\anaconda3\\lib\\site-packages (from notebook>=4.4.1->widgetsnbextension~=3.5.0->ipywidgets>=7.0.0->cufflinks) (1.5.0)\n",
      "Requirement already satisfied: pyzmq>=17 in c:\\users\\shivani\\anaconda3\\lib\\site-packages (from notebook>=4.4.1->widgetsnbextension~=3.5.0->ipywidgets>=7.0.0->cufflinks) (20.0.0)\n",
      "Requirement already satisfied: terminado>=0.8.3 in c:\\users\\shivani\\anaconda3\\lib\\site-packages (from notebook>=4.4.1->widgetsnbextension~=3.5.0->ipywidgets>=7.0.0->cufflinks) (0.9.4)\n",
      "Requirement already satisfied: prometheus-client in c:\\users\\shivani\\anaconda3\\lib\\site-packages (from notebook>=4.4.1->widgetsnbextension~=3.5.0->ipywidgets>=7.0.0->cufflinks) (0.10.1)\n",
      "Requirement already satisfied: jinja2 in c:\\users\\shivani\\anaconda3\\lib\\site-packages (from notebook>=4.4.1->widgetsnbextension~=3.5.0->ipywidgets>=7.0.0->cufflinks) (2.11.3)\n",
      "Requirement already satisfied: pywin32>=1.0 in c:\\users\\shivani\\anaconda3\\lib\\site-packages (from jupyter-core->nbformat>=4.2.0->ipywidgets>=7.0.0->cufflinks) (227)\n",
      "Requirement already satisfied: pywinpty>=0.5 in c:\\users\\shivani\\anaconda3\\lib\\site-packages (from terminado>=0.8.3->notebook>=4.4.1->widgetsnbextension~=3.5.0->ipywidgets>=7.0.0->cufflinks) (0.5.7)\n",
      "Requirement already satisfied: cffi>=1.0.0 in c:\\users\\shivani\\anaconda3\\lib\\site-packages (from argon2-cffi->notebook>=4.4.1->widgetsnbextension~=3.5.0->ipywidgets>=7.0.0->cufflinks) (1.14.5)\n",
      "Requirement already satisfied: pycparser in c:\\users\\shivani\\anaconda3\\lib\\site-packages (from cffi>=1.0.0->argon2-cffi->notebook>=4.4.1->widgetsnbextension~=3.5.0->ipywidgets>=7.0.0->cufflinks) (2.20)\n",
      "Requirement already satisfied: MarkupSafe>=0.23 in c:\\users\\shivani\\anaconda3\\lib\\site-packages (from jinja2->notebook>=4.4.1->widgetsnbextension~=3.5.0->ipywidgets>=7.0.0->cufflinks) (1.1.1)\n",
      "Requirement already satisfied: nbclient<0.6.0,>=0.5.0 in c:\\users\\shivani\\anaconda3\\lib\\site-packages (from nbconvert->notebook>=4.4.1->widgetsnbextension~=3.5.0->ipywidgets>=7.0.0->cufflinks) (0.5.3)\n",
      "Requirement already satisfied: testpath in c:\\users\\shivani\\anaconda3\\lib\\site-packages (from nbconvert->notebook>=4.4.1->widgetsnbextension~=3.5.0->ipywidgets>=7.0.0->cufflinks) (0.4.4)\n",
      "Requirement already satisfied: entrypoints>=0.2.2 in c:\\users\\shivani\\anaconda3\\lib\\site-packages (from nbconvert->notebook>=4.4.1->widgetsnbextension~=3.5.0->ipywidgets>=7.0.0->cufflinks) (0.3)\n",
      "Requirement already satisfied: pandocfilters>=1.4.1 in c:\\users\\shivani\\anaconda3\\lib\\site-packages (from nbconvert->notebook>=4.4.1->widgetsnbextension~=3.5.0->ipywidgets>=7.0.0->cufflinks) (1.4.3)\n",
      "Requirement already satisfied: mistune<2,>=0.8.1 in c:\\users\\shivani\\anaconda3\\lib\\site-packages (from nbconvert->notebook>=4.4.1->widgetsnbextension~=3.5.0->ipywidgets>=7.0.0->cufflinks) (0.8.4)\n",
      "Requirement already satisfied: jupyterlab-pygments in c:\\users\\shivani\\anaconda3\\lib\\site-packages (from nbconvert->notebook>=4.4.1->widgetsnbextension~=3.5.0->ipywidgets>=7.0.0->cufflinks) (0.1.2)\n",
      "Requirement already satisfied: defusedxml in c:\\users\\shivani\\anaconda3\\lib\\site-packages (from nbconvert->notebook>=4.4.1->widgetsnbextension~=3.5.0->ipywidgets>=7.0.0->cufflinks) (0.7.1)\n",
      "Requirement already satisfied: bleach in c:\\users\\shivani\\anaconda3\\lib\\site-packages (from nbconvert->notebook>=4.4.1->widgetsnbextension~=3.5.0->ipywidgets>=7.0.0->cufflinks) (3.3.0)\n",
      "Requirement already satisfied: async-generator in c:\\users\\shivani\\anaconda3\\lib\\site-packages (from nbclient<0.6.0,>=0.5.0->nbconvert->notebook>=4.4.1->widgetsnbextension~=3.5.0->ipywidgets>=7.0.0->cufflinks) (1.10)\n",
      "Requirement already satisfied: nest-asyncio in c:\\users\\shivani\\anaconda3\\lib\\site-packages (from nbclient<0.6.0,>=0.5.0->nbconvert->notebook>=4.4.1->widgetsnbextension~=3.5.0->ipywidgets>=7.0.0->cufflinks) (1.5.1)\n",
      "Requirement already satisfied: webencodings in c:\\users\\shivani\\anaconda3\\lib\\site-packages (from bleach->nbconvert->notebook>=4.4.1->widgetsnbextension~=3.5.0->ipywidgets>=7.0.0->cufflinks) (0.5.1)\n",
      "Requirement already satisfied: packaging in c:\\users\\shivani\\anaconda3\\lib\\site-packages (from bleach->nbconvert->notebook>=4.4.1->widgetsnbextension~=3.5.0->ipywidgets>=7.0.0->cufflinks) (20.9)\n",
      "Requirement already satisfied: pyparsing>=2.0.2 in c:\\users\\shivani\\anaconda3\\lib\\site-packages (from packaging->bleach->nbconvert->notebook>=4.4.1->widgetsnbextension~=3.5.0->ipywidgets>=7.0.0->cufflinks) (2.4.7)\n",
      "Building wheels for collected packages: cufflinks\n",
      "  Building wheel for cufflinks (setup.py): started\n",
      "  Building wheel for cufflinks (setup.py): finished with status 'done'\n",
      "  Created wheel for cufflinks: filename=cufflinks-0.17.3-py3-none-any.whl size=68724 sha256=c9fe3a8f1537aa81e2c7d364ea20071c2951a2346373907317c1adaaa0d5d1fd\n",
      "  Stored in directory: c:\\users\\shivani\\appdata\\local\\pip\\cache\\wheels\\6b\\76\\62\\6da97734911ffcbdd559fd1a3f28526321f0ae699182a23866\n",
      "Successfully built cufflinks\n",
      "Installing collected packages: colorlover, cufflinks\n",
      "Successfully installed colorlover-0.3.0 cufflinks-0.17.3\n"
     ]
    }
   ],
   "source": [
    "pip install cufflinks"
   ]
  },
  {
   "cell_type": "code",
   "execution_count": 16,
   "id": "a006e686",
   "metadata": {},
   "outputs": [],
   "source": [
    "import cufflinks as cf"
   ]
  },
  {
   "cell_type": "code",
   "execution_count": 17,
   "id": "0fe3006f",
   "metadata": {},
   "outputs": [],
   "source": [
    "from plotly.offline import download_plotlyjs,init_notebook_mode,plot,iplot"
   ]
  },
  {
   "cell_type": "code",
   "execution_count": 18,
   "id": "d6bf91cd",
   "metadata": {},
   "outputs": [
    {
     "data": {
      "text/html": [
       "        <script type=\"text/javascript\">\n",
       "        window.PlotlyConfig = {MathJaxConfig: 'local'};\n",
       "        if (window.MathJax) {MathJax.Hub.Config({SVG: {font: \"STIX-Web\"}});}\n",
       "        if (typeof require !== 'undefined') {\n",
       "        require.undef(\"plotly\");\n",
       "        requirejs.config({\n",
       "            paths: {\n",
       "                'plotly': ['https://cdn.plot.ly/plotly-2.2.0.min']\n",
       "            }\n",
       "        });\n",
       "        require(['plotly'], function(Plotly) {\n",
       "            window._Plotly = Plotly;\n",
       "        });\n",
       "        }\n",
       "        </script>\n",
       "        "
      ]
     },
     "metadata": {},
     "output_type": "display_data"
    }
   ],
   "source": [
    "init_notebook_mode(connected=True)"
   ]
  },
  {
   "cell_type": "code",
   "execution_count": 19,
   "id": "1b774b6d",
   "metadata": {},
   "outputs": [
    {
     "data": {
      "text/html": [
       "        <script type=\"text/javascript\">\n",
       "        window.PlotlyConfig = {MathJaxConfig: 'local'};\n",
       "        if (window.MathJax) {MathJax.Hub.Config({SVG: {font: \"STIX-Web\"}});}\n",
       "        if (typeof require !== 'undefined') {\n",
       "        require.undef(\"plotly\");\n",
       "        requirejs.config({\n",
       "            paths: {\n",
       "                'plotly': ['https://cdn.plot.ly/plotly-2.2.0.min']\n",
       "            }\n",
       "        });\n",
       "        require(['plotly'], function(Plotly) {\n",
       "            window._Plotly = Plotly;\n",
       "        });\n",
       "        }\n",
       "        </script>\n",
       "        "
      ]
     },
     "metadata": {},
     "output_type": "display_data"
    }
   ],
   "source": [
    "cf.go_offline()"
   ]
  },
  {
   "cell_type": "code",
   "execution_count": 21,
   "id": "6c65372a",
   "metadata": {},
   "outputs": [],
   "source": [
    "#data\n",
    "df = pd.DataFrame(np.random.randn(100,4),columns='A B C D'.split())"
   ]
  },
  {
   "cell_type": "code",
   "execution_count": 22,
   "id": "48b1d1df",
   "metadata": {},
   "outputs": [
    {
     "data": {
      "text/html": [
       "<div>\n",
       "<style scoped>\n",
       "    .dataframe tbody tr th:only-of-type {\n",
       "        vertical-align: middle;\n",
       "    }\n",
       "\n",
       "    .dataframe tbody tr th {\n",
       "        vertical-align: top;\n",
       "    }\n",
       "\n",
       "    .dataframe thead th {\n",
       "        text-align: right;\n",
       "    }\n",
       "</style>\n",
       "<table border=\"1\" class=\"dataframe\">\n",
       "  <thead>\n",
       "    <tr style=\"text-align: right;\">\n",
       "      <th></th>\n",
       "      <th>A</th>\n",
       "      <th>B</th>\n",
       "      <th>C</th>\n",
       "      <th>D</th>\n",
       "    </tr>\n",
       "  </thead>\n",
       "  <tbody>\n",
       "    <tr>\n",
       "      <th>0</th>\n",
       "      <td>-0.420377</td>\n",
       "      <td>0.670565</td>\n",
       "      <td>0.074227</td>\n",
       "      <td>-0.426565</td>\n",
       "    </tr>\n",
       "    <tr>\n",
       "      <th>1</th>\n",
       "      <td>-1.742554</td>\n",
       "      <td>0.747911</td>\n",
       "      <td>0.413025</td>\n",
       "      <td>0.534575</td>\n",
       "    </tr>\n",
       "    <tr>\n",
       "      <th>2</th>\n",
       "      <td>0.889038</td>\n",
       "      <td>0.123761</td>\n",
       "      <td>0.085489</td>\n",
       "      <td>1.264862</td>\n",
       "    </tr>\n",
       "    <tr>\n",
       "      <th>3</th>\n",
       "      <td>-1.014695</td>\n",
       "      <td>0.507687</td>\n",
       "      <td>-0.231391</td>\n",
       "      <td>-0.503697</td>\n",
       "    </tr>\n",
       "    <tr>\n",
       "      <th>4</th>\n",
       "      <td>0.644987</td>\n",
       "      <td>0.277511</td>\n",
       "      <td>0.374808</td>\n",
       "      <td>1.383952</td>\n",
       "    </tr>\n",
       "    <tr>\n",
       "      <th>...</th>\n",
       "      <td>...</td>\n",
       "      <td>...</td>\n",
       "      <td>...</td>\n",
       "      <td>...</td>\n",
       "    </tr>\n",
       "    <tr>\n",
       "      <th>95</th>\n",
       "      <td>-0.176478</td>\n",
       "      <td>-0.191046</td>\n",
       "      <td>-0.168935</td>\n",
       "      <td>0.622032</td>\n",
       "    </tr>\n",
       "    <tr>\n",
       "      <th>96</th>\n",
       "      <td>1.480724</td>\n",
       "      <td>1.437890</td>\n",
       "      <td>0.450834</td>\n",
       "      <td>0.430714</td>\n",
       "    </tr>\n",
       "    <tr>\n",
       "      <th>97</th>\n",
       "      <td>-1.288966</td>\n",
       "      <td>-2.061446</td>\n",
       "      <td>-1.128420</td>\n",
       "      <td>-0.069112</td>\n",
       "    </tr>\n",
       "    <tr>\n",
       "      <th>98</th>\n",
       "      <td>0.340807</td>\n",
       "      <td>1.699779</td>\n",
       "      <td>0.878329</td>\n",
       "      <td>0.189141</td>\n",
       "    </tr>\n",
       "    <tr>\n",
       "      <th>99</th>\n",
       "      <td>0.516023</td>\n",
       "      <td>0.195276</td>\n",
       "      <td>1.051529</td>\n",
       "      <td>-1.397443</td>\n",
       "    </tr>\n",
       "  </tbody>\n",
       "</table>\n",
       "<p>100 rows × 4 columns</p>\n",
       "</div>"
      ],
      "text/plain": [
       "           A         B         C         D\n",
       "0  -0.420377  0.670565  0.074227 -0.426565\n",
       "1  -1.742554  0.747911  0.413025  0.534575\n",
       "2   0.889038  0.123761  0.085489  1.264862\n",
       "3  -1.014695  0.507687 -0.231391 -0.503697\n",
       "4   0.644987  0.277511  0.374808  1.383952\n",
       "..       ...       ...       ...       ...\n",
       "95 -0.176478 -0.191046 -0.168935  0.622032\n",
       "96  1.480724  1.437890  0.450834  0.430714\n",
       "97 -1.288966 -2.061446 -1.128420 -0.069112\n",
       "98  0.340807  1.699779  0.878329  0.189141\n",
       "99  0.516023  0.195276  1.051529 -1.397443\n",
       "\n",
       "[100 rows x 4 columns]"
      ]
     },
     "execution_count": 22,
     "metadata": {},
     "output_type": "execute_result"
    }
   ],
   "source": [
    "df"
   ]
  },
  {
   "cell_type": "code",
   "execution_count": 24,
   "id": "fc1b5d34",
   "metadata": {},
   "outputs": [],
   "source": [
    "df2 = pd.DataFrame({'Category':['A','B','C'],'Values':[32,43,50]})"
   ]
  },
  {
   "cell_type": "code",
   "execution_count": 25,
   "id": "b016f0c0",
   "metadata": {},
   "outputs": [
    {
     "data": {
      "text/html": [
       "<div>\n",
       "<style scoped>\n",
       "    .dataframe tbody tr th:only-of-type {\n",
       "        vertical-align: middle;\n",
       "    }\n",
       "\n",
       "    .dataframe tbody tr th {\n",
       "        vertical-align: top;\n",
       "    }\n",
       "\n",
       "    .dataframe thead th {\n",
       "        text-align: right;\n",
       "    }\n",
       "</style>\n",
       "<table border=\"1\" class=\"dataframe\">\n",
       "  <thead>\n",
       "    <tr style=\"text-align: right;\">\n",
       "      <th></th>\n",
       "      <th>Category</th>\n",
       "      <th>Values</th>\n",
       "    </tr>\n",
       "  </thead>\n",
       "  <tbody>\n",
       "    <tr>\n",
       "      <th>0</th>\n",
       "      <td>A</td>\n",
       "      <td>32</td>\n",
       "    </tr>\n",
       "    <tr>\n",
       "      <th>1</th>\n",
       "      <td>B</td>\n",
       "      <td>43</td>\n",
       "    </tr>\n",
       "    <tr>\n",
       "      <th>2</th>\n",
       "      <td>C</td>\n",
       "      <td>50</td>\n",
       "    </tr>\n",
       "  </tbody>\n",
       "</table>\n",
       "</div>"
      ],
      "text/plain": [
       "  Category  Values\n",
       "0        A      32\n",
       "1        B      43\n",
       "2        C      50"
      ]
     },
     "execution_count": 25,
     "metadata": {},
     "output_type": "execute_result"
    }
   ],
   "source": [
    "df2"
   ]
  },
  {
   "cell_type": "code",
   "execution_count": 26,
   "id": "b21eab5a",
   "metadata": {},
   "outputs": [
    {
     "data": {
      "text/plain": [
       "<AxesSubplot:>"
      ]
     },
     "execution_count": 26,
     "metadata": {},
     "output_type": "execute_result"
    },
    {
     "data": {
      "image/png": "[encoded data removed]",
      "text/plain": [
       "<Figure size 432x288 with 1 Axes>"
      ]
     },
     "metadata": {
      "needs_background": "light"
     },
     "output_type": "display_data"
    }
   ],
   "source": [
    "df.plot()"
   ]
  },
  {
   "cell_type": "code",
   "execution_count": 28,
   "id": "e447f322",
   "metadata": {},
   "outputs": [
    {
     "data": {
      "application/vnd.plotly.v1+json": {
       "config": {
        "linkText": "Export to plot.ly",
        "plotlyServerURL": "https://plot.ly",
        "showLink": true
       },
       "data": [
        {
         "line": {
          "color": "rgba(255, 153, 51, 1.0)",
          "dash": "solid",
          "shape": "linear",
          "width": 1.3
         },
         "mode": "lines",
         "name": "A",
         "text": "",
         "type": "scatter",
         "x": [
          0,
          1,
          2,
          3,
          4,
          5,
          6,
          7,
          8,
          9,
          10,
          11,
          12,
          13,
          14,
          15,
          16,
          17,
          18,
          19,
          20,
          21,
          22,
          23,
          24,
          25,
          26,
          27,
          28,
          29,
          30,
          31,
          32,
          33,
          34,
          35,
          36,
          37,
          38,
          39,
          40,
          41,
          42,
          43,
          44,
          45,
          46,
          47,
          48,
          49,
          50,
          51,
          52,
          53,
          54,
          55,
          56,
          57,
          58,
          59,
          60,
          61,
          62,
          63,
          64,
          65,
          66,
          67,
          68,
          69,
          70,
          71,
          72,
          73,
          74,
          75,
          76,
          77,
          78,
          79,
          80,
          81,
          82,
          83,
          84,
          85,
          86,
          87,
          88,
          89,
          90,
          91,
          92,
          93,
          94,
          95,
          96,
          97,
          98,
          99
         ],
         "y": [
          -0.4203769172138504,
          -1.7425536061462963,
          0.889037777019348,
          -1.0146950303,
          0.644987085922443,
          -0.5867545637092614,
          0.19788543355418084,
          -0.2730404740189748,
          -0.9026425523496677,
          -1.6279069661349634,
          -1.502814218287029,
          0.9328022335577573,
          -0.1647065323106058,
          0.6098435552056553,
          0.7157458424489646,
          -1.8653534653067507,
          0.04561722455290629,
          -1.83236922326372,
          1.2857591028121669,
          0.970847338623453,
          0.38469108105725586,
          -0.40669880244896184,
          -0.06933498378794453,
          1.320095941524994,
          -0.049271141297447224,
          0.24992502893762825,
          -1.0468650538432982,
          0.8544164021291353,
          0.5427353132690936,
          -0.6046711968130206,
          0.268146006228171,
          -0.8136978787020882,
          0.5129283434240521,
          -1.135879355830157,
          -0.5949835740230749,
          -0.9991198230270095,
          -1.6954857308348357,
          -0.5946797454314954,
          -0.038096198045322445,
          -0.597690474040178,
          -0.91787070032281,
          0.0049305892151103705,
          0.3176792336961347,
          1.8158591736530727,
          -0.18625555231119253,
          0.5334916797623348,
          -1.7790749335164024,
          -0.4561764528203567,
          -0.5383765801583805,
          0.9303974394928215,
          0.3019654074882458,
          -0.44691681108686937,
          1.0528514568643699,
          -0.8167380173526259,
          1.2329356705867764,
          1.5463527728336532,
          -0.20062580071149355,
          -0.09651096288571068,
          0.9154837337810589,
          -1.116298893230286,
          -0.12815668411074205,
          -0.35583474560030715,
          -0.1451024331637089,
          -0.015403174313218963,
          -0.28000443145952597,
          -0.47316418081547024,
          1.1183679273647713,
          0.5531770838513008,
          0.510397106892376,
          0.8396821842077113,
          0.11193850783712242,
          1.5340640502750655,
          0.021240171794083367,
          -0.9880713077949188,
          -0.6483165415061083,
          -0.3232730425399403,
          -0.3962516779122834,
          -0.4889839801990028,
          -0.6958235391363193,
          1.0309874763249955,
          -1.2084742863986977,
          -1.326989784774145,
          0.87219511894707,
          -0.5061261280696431,
          -0.9298406048337552,
          0.3475633689311191,
          -0.4488686768784139,
          0.08110817045384922,
          -0.0762302794889301,
          0.9625165014804028,
          0.8396345494906886,
          -1.80754629237557,
          0.8112661931818693,
          -0.6042239124449605,
          0.12005231709963185,
          -0.1764783558475839,
          1.4807239063761461,
          -1.2889664844008466,
          0.34080712450550255,
          0.5160231621797224
         ]
        },
        {
         "line": {
          "color": "rgba(55, 128, 191, 1.0)",
          "dash": "solid",
          "shape": "linear",
          "width": 1.3
         },
         "mode": "lines",
         "name": "B",
         "text": "",
         "type": "scatter",
         "x": [
          0,
          1,
          2,
          3,
          4,
          5,
          6,
          7,
          8,
          9,
          10,
          11,
          12,
          13,
          14,
          15,
          16,
          17,
          18,
          19,
          20,
          21,
          22,
          23,
          24,
          25,
          26,
          27,
          28,
          29,
          30,
          31,
          32,
          33,
          34,
          35,
          36,
          37,
          38,
          39,
          40,
          41,
          42,
          43,
          44,
          45,
          46,
          47,
          48,
          49,
          50,
          51,
          52,
          53,
          54,
          55,
          56,
          57,
          58,
          59,
          60,
          61,
          62,
          63,
          64,
          65,
          66,
          67,
          68,
          69,
          70,
          71,
          72,
          73,
          74,
          75,
          76,
          77,
          78,
          79,
          80,
          81,
          82,
          83,
          84,
          85,
          86,
          87,
          88,
          89,
          90,
          91,
          92,
          93,
          94,
          95,
          96,
          97,
          98,
          99
         ],
         "y": [
          0.6705648136691061,
          0.7479108416593321,
          0.12376066704020804,
          0.5076865776365572,
          0.27751055021147714,
          -0.03885891767652951,
          -1.1484619773486824,
          0.06228241207836648,
          -1.057573110496256,
          1.135998182104359,
          -1.5268471457059039,
          0.03189578091454026,
          0.22200393733858212,
          0.35923447166256467,
          0.0438455986084191,
          -0.3286116744247036,
          -2.263135223059364,
          -0.4813577542132742,
          -1.3263312412535673,
          -0.49685187273799336,
          0.3715396209386487,
          1.3972487045901876,
          -1.7711776100919718,
          0.5164795444719394,
          -0.4040893207540781,
          -0.233485549950093,
          -1.476540568165758,
          0.28736959359819514,
          -1.828738271205067,
          -0.23033607719013108,
          -0.1716670784386983,
          0.6333589652539582,
          0.24579312524127364,
          -1.0430792092208319,
          -1.3054477184770257,
          -0.377953740083831,
          -1.6893335298772036,
          -0.05613954327924084,
          -0.6487634074366234,
          0.28329949096429036,
          -0.4042017835341697,
          0.032341002346677895,
          0.09703874914253871,
          -1.6933485826179155,
          0.6919740876165209,
          1.6491769080229144,
          -0.5779327269841692,
          -0.368352415642468,
          -1.5547059886995682,
          -1.9347232358061432,
          -0.49457341387009357,
          -1.1431865654017428,
          -0.589440944580983,
          -0.7321925083296308,
          -0.5598495607910404,
          -0.07280153382431334,
          -0.9677078775408386,
          2.110893914463245,
          -1.8007775476818115,
          -0.5492778523321554,
          -0.5153143189722851,
          0.2819410514014495,
          0.6389173365089797,
          -0.03690079064012558,
          0.3154919697960902,
          0.34399013315007754,
          0.8770157732702345,
          1.59051131022073,
          0.7904345189953608,
          0.7311438272766193,
          0.7387973826077535,
          -0.879583440706914,
          0.5868810728835954,
          0.03420631434201392,
          -0.45894188198105734,
          -0.4850085142032951,
          0.15108157763018584,
          0.1416739928211047,
          0.4779585274094298,
          -0.8118140116099221,
          0.5562018187811655,
          -0.24169835421043992,
          -0.5660844805115468,
          -0.49218350172725206,
          -0.61293743048621,
          1.2332793309806727,
          2.1240417997227214,
          1.400322812515332,
          -1.2707703517297577,
          0.04297896308622119,
          -1.1629777976548832,
          -0.527264203119578,
          -1.1036025507929965,
          0.11634484045105915,
          1.4459565634949803,
          -0.19104602555144024,
          1.43788963939247,
          -2.0614461044332733,
          1.6997794796458487,
          0.19527633470967637
         ]
        },
        {
         "line": {
          "color": "rgba(50, 171, 96, 1.0)",
          "dash": "solid",
          "shape": "linear",
          "width": 1.3
         },
         "mode": "lines",
         "name": "C",
         "text": "",
         "type": "scatter",
         "x": [
          0,
          1,
          2,
          3,
          4,
          5,
          6,
          7,
          8,
          9,
          10,
          11,
          12,
          13,
          14,
          15,
          16,
          17,
          18,
          19,
          20,
          21,
          22,
          23,
          24,
          25,
          26,
          27,
          28,
          29,
          30,
          31,
          32,
          33,
          34,
          35,
          36,
          37,
          38,
          39,
          40,
          41,
          42,
          43,
          44,
          45,
          46,
          47,
          48,
          49,
          50,
          51,
          52,
          53,
          54,
          55,
          56,
          57,
          58,
          59,
          60,
          61,
          62,
          63,
          64,
          65,
          66,
          67,
          68,
          69,
          70,
          71,
          72,
          73,
          74,
          75,
          76,
          77,
          78,
          79,
          80,
          81,
          82,
          83,
          84,
          85,
          86,
          87,
          88,
          89,
          90,
          91,
          92,
          93,
          94,
          95,
          96,
          97,
          98,
          99
         ],
         "y": [
          0.07422700527315418,
          0.4130249643103405,
          0.08548858850732852,
          -0.2313907405072228,
          0.37480831038947743,
          -0.5804733866469306,
          -0.6801880384913043,
          1.8022342350275198,
          0.2860197998610701,
          0.44232578447992343,
          -1.5016331070440165,
          -0.17047063909762822,
          0.2969657590242623,
          -0.3938742717666108,
          0.005322578576980963,
          -0.1509403635371195,
          -1.475176645424478,
          -0.6996670204144476,
          0.01040519118246566,
          -0.43008029671786063,
          0.049262896897995734,
          -2.2794486022226317,
          -0.05170995821764871,
          -1.1642223337949063,
          -0.7845961694373157,
          1.7201571256729855,
          -0.1080899951479665,
          1.9172077113769468,
          -1.0291295424930516,
          -0.4830378049493245,
          -3.042769218598791,
          -0.24804905428614898,
          1.0314805119510864,
          -1.404281005575798,
          -0.1379101447202194,
          -0.7195472131915353,
          -0.2735942321860184,
          -1.7388301654248608,
          0.8921268176921588,
          0.015092574704470684,
          -0.017843727398743788,
          -0.023373546868586628,
          0.48356729019745276,
          0.3724710103514023,
          1.008265930319548,
          2.4463710370181833,
          -1.984883419537376,
          0.3580786992700125,
          -1.1542277648532895,
          0.4987945521011533,
          -0.5602989609894605,
          -1.2899859967795375,
          -0.18340439848799506,
          -1.0255585995065564,
          -1.3069786772803889,
          -0.12442852338564153,
          0.9828613424354359,
          -0.5926949048387103,
          -0.7621082270075276,
          -1.5803155758375553,
          -1.5450357781388426,
          -0.6167758224917211,
          1.0960016305928086,
          -0.3660385461050507,
          0.40608765534013885,
          0.061831984060027934,
          -1.5480288983429116,
          2.2488514861594293,
          -0.2471095149706103,
          -1.4855057620299903,
          -0.6967002864504952,
          0.6592024314305059,
          0.7725617098876191,
          -0.008263027740115753,
          -0.6944179983332547,
          1.1526220459892333,
          1.4501439219254952,
          2.1505517700712176,
          -0.3492929750190928,
          0.11094652493428009,
          -0.6108141968900309,
          0.3502143994430392,
          -0.2227433971114668,
          1.678016033517746,
          -0.9382350184164863,
          -0.7751011686520267,
          0.4806329226047449,
          -1.2579044633708636,
          -0.9662571507224871,
          -0.3709616614910942,
          -0.06452441870975577,
          -0.35563498268520916,
          -0.016514764413823962,
          -0.22861270922344848,
          -0.5462410861762043,
          -0.16893452437550166,
          0.4508344021737034,
          -1.1284200562808675,
          0.8783286696936663,
          1.051529015196934
         ]
        },
        {
         "line": {
          "color": "rgba(128, 0, 128, 1.0)",
          "dash": "solid",
          "shape": "linear",
          "width": 1.3
         },
         "mode": "lines",
         "name": "D",
         "text": "",
         "type": "scatter",
         "x": [
          0,
          1,
          2,
          3,
          4,
          5,
          6,
          7,
          8,
          9,
          10,
          11,
          12,
          13,
          14,
          15,
          16,
          17,
          18,
          19,
          20,
          21,
          22,
          23,
          24,
          25,
          26,
          27,
          28,
          29,
          30,
          31,
          32,
          33,
          34,
          35,
          36,
          37,
          38,
          39,
          40,
          41,
          42,
          43,
          44,
          45,
          46,
          47,
          48,
          49,
          50,
          51,
          52,
          53,
          54,
          55,
          56,
          57,
          58,
          59,
          60,
          61,
          62,
          63,
          64,
          65,
          66,
          67,
          68,
          69,
          70,
          71,
          72,
          73,
          74,
          75,
          76,
          77,
          78,
          79,
          80,
          81,
          82,
          83,
          84,
          85,
          86,
          87,
          88,
          89,
          90,
          91,
          92,
          93,
          94,
          95,
          96,
          97,
          98,
          99
         ],
         "y": [
          -0.4265649055030353,
          0.5345753963116453,
          1.2648624239240278,
          -0.5036965328663572,
          1.3839523450361182,
          1.2575049616846319,
          0.4144214395049769,
          -0.5025921390683061,
          0.4646854192098949,
          -1.0187018400737897,
          -0.41604955826801,
          -0.704873422773722,
          0.34012659882708757,
          0.8215859955152438,
          -0.9630212613275814,
          -1.5479364624579965,
          1.262427324095102,
          -0.6314716294991332,
          -0.2948263242881089,
          2.045843585833337,
          0.7779892759515108,
          -2.3374769861385496,
          0.08076847935905539,
          0.9386365422370996,
          1.006813472053596,
          -1.7130081664294843,
          -0.8301818918715494,
          0.40662438561416886,
          0.6184271143243777,
          -1.1171162565881085,
          -0.7259743318271101,
          -0.7894973693297371,
          0.15673300611977514,
          -0.0411443578526938,
          1.8725145576747395,
          0.07417574962603085,
          -2.0476069434418798,
          -0.5231585358294968,
          -1.1450987535161061,
          0.6433542561798411,
          0.01529112076703967,
          -0.48657373270143484,
          1.7052382835670108,
          0.4116424859047016,
          -0.4234715279258913,
          -0.9252985606450924,
          0.4828442783376966,
          1.5942461288472833,
          0.08456822084845338,
          -1.5394659470604126,
          0.5501664509165102,
          0.9454148982132563,
          -0.1261792942872043,
          0.3017002608052505,
          -1.2519565936221715,
          -0.24466158095145318,
          1.1954983324987216,
          -0.3809112557174018,
          1.33923613114652,
          1.3560837868399453,
          0.09661889452534182,
          -1.4880197906360266,
          -0.2827010917022672,
          0.11638639687460929,
          1.4606288990278828,
          -0.724909388940758,
          -0.8292888279027019,
          1.2152792806199297,
          0.9406782217308104,
          -0.2271121287232906,
          -0.6456754382419851,
          0.2246503169045476,
          0.9088534114783418,
          -0.785122627292339,
          -0.43312963489765566,
          -0.6263627891053157,
          -0.8124367069314169,
          -0.0944907864199542,
          -0.19604602013795855,
          1.6082443316810087,
          -0.4009981234549997,
          0.35696227827031496,
          0.08582423282612472,
          0.11139904700992809,
          0.3807598674561099,
          1.7292243256324968,
          0.5402498413873286,
          1.0069502326770607,
          1.7525588986920897,
          -1.0483571007203314,
          0.42820914988334524,
          0.9648945646092203,
          1.4849291082110934,
          -0.6459546098399391,
          -0.11144734102298919,
          0.6220318081645934,
          0.4307143405325117,
          -0.06911151660227972,
          0.18914139541645156,
          -1.3974429546298435
         ]
        }
       ],
       "layout": {
        "legend": {
         "bgcolor": "#F5F6F9",
         "font": {
          "color": "#4D5663"
         }
        },
        "paper_bgcolor": "#F5F6F9",
        "plot_bgcolor": "#F5F6F9",
        "template": {
         "data": {
          "bar": [
           {
            "error_x": {
             "color": "#2a3f5f"
            },
            "error_y": {
             "color": "#2a3f5f"
            },
            "marker": {
             "line": {
              "color": "#E5ECF6",
              "width": 0.5
             },
             "pattern": {
              "fillmode": "overlay",
              "size": 10,
              "solidity": 0.2
             }
            },
            "type": "bar"
           }
          ],
          "barpolar": [
           {
            "marker": {
             "line": {
              "color": "#E5ECF6",
              "width": 0.5
             },
             "pattern": {
              "fillmode": "overlay",
              "size": 10,
              "solidity": 0.2
             }
            },
            "type": "barpolar"
           }
          ],
          "carpet": [
           {
            "aaxis": {
             "endlinecolor": "#2a3f5f",
             "gridcolor": "white",
             "linecolor": "white",
             "minorgridcolor": "white",
             "startlinecolor": "#2a3f5f"
            },
            "baxis": {
             "endlinecolor": "#2a3f5f",
             "gridcolor": "white",
             "linecolor": "white",
             "minorgridcolor": "white",
             "startlinecolor": "#2a3f5f"
            },
            "type": "carpet"
           }
          ],
          "choropleth": [
           {
            "colorbar": {
             "outlinewidth": 0,
             "ticks": ""
            },
            "type": "choropleth"
           }
          ],
          "contour": [
           {
            "colorbar": {
             "outlinewidth": 0,
             "ticks": ""
            },
            "colorscale": [
             [
              0,
              "#0d0887"
             ],
             [
              0.1111111111111111,
              "#46039f"
             ],
             [
              0.2222222222222222,
              "#7201a8"
             ],
             [
              0.3333333333333333,
              "#9c179e"
             ],
             [
              0.4444444444444444,
              "#bd3786"
             ],
             [
              0.5555555555555556,
              "#d8576b"
             ],
             [
              0.6666666666666666,
              "#ed7953"
             ],
             [
              0.7777777777777778,
              "#fb9f3a"
             ],
             [
              0.8888888888888888,
              "#fdca26"
             ],
             [
              1,
              "#f0f921"
             ]
            ],
            "type": "contour"
           }
          ],
          "contourcarpet": [
           {
            "colorbar": {
             "outlinewidth": 0,
             "ticks": ""
            },
            "type": "contourcarpet"
           }
          ],
          "heatmap": [
           {
            "colorbar": {
             "outlinewidth": 0,
             "ticks": ""
            },
            "colorscale": [
             [
              0,
              "#0d0887"
             ],
             [
              0.1111111111111111,
              "#46039f"
             ],
             [
              0.2222222222222222,
              "#7201a8"
             ],
             [
              0.3333333333333333,
              "#9c179e"
             ],
             [
              0.4444444444444444,
              "#bd3786"
             ],
             [
              0.5555555555555556,
              "#d8576b"
             ],
             [
              0.6666666666666666,
              "#ed7953"
             ],
             [
              0.7777777777777778,
              "#fb9f3a"
             ],
             [
              0.8888888888888888,
              "#fdca26"
             ],
             [
              1,
              "#f0f921"
             ]
            ],
            "type": "heatmap"
           }
          ],
          "heatmapgl": [
           {
            "colorbar": {
             "outlinewidth": 0,
             "ticks": ""
            },
            "colorscale": [
             [
              0,
              "#0d0887"
             ],
             [
              0.1111111111111111,
              "#46039f"
             ],
             [
              0.2222222222222222,
              "#7201a8"
             ],
             [
              0.3333333333333333,
              "#9c179e"
             ],
             [
              0.4444444444444444,
              "#bd3786"
             ],
             [
              0.5555555555555556,
              "#d8576b"
             ],
             [
              0.6666666666666666,
              "#ed7953"
             ],
             [
              0.7777777777777778,
              "#fb9f3a"
             ],
             [
              0.8888888888888888,
              "#fdca26"
             ],
             [
              1,
              "#f0f921"
             ]
            ],
            "type": "heatmapgl"
           }
          ],
          "histogram": [
           {
            "marker": {
             "pattern": {
              "fillmode": "overlay",
              "size": 10,
              "solidity": 0.2
             }
            },
            "type": "histogram"
           }
          ],
          "histogram2d": [
           {
            "colorbar": {
             "outlinewidth": 0,
             "ticks": ""
            },
            "colorscale": [
             [
              0,
              "#0d0887"
             ],
             [
              0.1111111111111111,
              "#46039f"
             ],
             [
              0.2222222222222222,
              "#7201a8"
             ],
             [
              0.3333333333333333,
              "#9c179e"
             ],
             [
              0.4444444444444444,
              "#bd3786"
             ],
             [
              0.5555555555555556,
              "#d8576b"
             ],
             [
              0.6666666666666666,
              "#ed7953"
             ],
             [
              0.7777777777777778,
              "#fb9f3a"
             ],
             [
              0.8888888888888888,
              "#fdca26"
             ],
             [
              1,
              "#f0f921"
             ]
            ],
            "type": "histogram2d"
           }
          ],
          "histogram2dcontour": [
           {
            "colorbar": {
             "outlinewidth": 0,
             "ticks": ""
            },
            "colorscale": [
             [
              0,
              "#0d0887"
             ],
             [
              0.1111111111111111,
              "#46039f"
             ],
             [
              0.2222222222222222,
              "#7201a8"
             ],
             [
              0.3333333333333333,
              "#9c179e"
             ],
             [
              0.4444444444444444,
              "#bd3786"
             ],
             [
              0.5555555555555556,
              "#d8576b"
             ],
             [
              0.6666666666666666,
              "#ed7953"
             ],
             [
              0.7777777777777778,
              "#fb9f3a"
             ],
             [
              0.8888888888888888,
              "#fdca26"
             ],
             [
              1,
              "#f0f921"
             ]
            ],
            "type": "histogram2dcontour"
           }
          ],
          "mesh3d": [
           {
            "colorbar": {
             "outlinewidth": 0,
             "ticks": ""
            },
            "type": "mesh3d"
           }
          ],
          "parcoords": [
           {
            "line": {
             "colorbar": {
              "outlinewidth": 0,
              "ticks": ""
             }
            },
            "type": "parcoords"
           }
          ],
          "pie": [
           {
            "automargin": true,
            "type": "pie"
           }
          ],
          "scatter": [
           {
            "marker": {
             "colorbar": {
              "outlinewidth": 0,
              "ticks": ""
             }
            },
            "type": "scatter"
           }
          ],
          "scatter3d": [
           {
            "line": {
             "colorbar": {
              "outlinewidth": 0,
              "ticks": ""
             }
            },
            "marker": {
             "colorbar": {
              "outlinewidth": 0,
              "ticks": ""
             }
            },
            "type": "scatter3d"
           }
          ],
          "scattercarpet": [
           {
            "marker": {
             "colorbar": {
              "outlinewidth": 0,
              "ticks": ""
             }
            },
            "type": "scattercarpet"
           }
          ],
          "scattergeo": [
           {
            "marker": {
             "colorbar": {
              "outlinewidth": 0,
              "ticks": ""
             }
            },
            "type": "scattergeo"
           }
          ],
          "scattergl": [
           {
            "marker": {
             "colorbar": {
              "outlinewidth": 0,
              "ticks": ""
             }
            },
            "type": "scattergl"
           }
          ],
          "scattermapbox": [
           {
            "marker": {
             "colorbar": {
              "outlinewidth": 0,
              "ticks": ""
             }
            },
            "type": "scattermapbox"
           }
          ],
          "scatterpolar": [
           {
            "marker": {
             "colorbar": {
              "outlinewidth": 0,
              "ticks": ""
             }
            },
            "type": "scatterpolar"
           }
          ],
          "scatterpolargl": [
           {
            "marker": {
             "colorbar": {
              "outlinewidth": 0,
              "ticks": ""
             }
            },
            "type": "scatterpolargl"
           }
          ],
          "scatterternary": [
           {
            "marker": {
             "colorbar": {
              "outlinewidth": 0,
              "ticks": ""
             }
            },
            "type": "scatterternary"
           }
          ],
          "surface": [
           {
            "colorbar": {
             "outlinewidth": 0,
             "ticks": ""
            },
            "colorscale": [
             [
              0,
              "#0d0887"
             ],
             [
              0.1111111111111111,
              "#46039f"
             ],
             [
              0.2222222222222222,
              "#7201a8"
             ],
             [
              0.3333333333333333,
              "#9c179e"
             ],
             [
              0.4444444444444444,
              "#bd3786"
             ],
             [
              0.5555555555555556,
              "#d8576b"
             ],
             [
              0.6666666666666666,
              "#ed7953"
             ],
             [
              0.7777777777777778,
              "#fb9f3a"
             ],
             [
              0.8888888888888888,
              "#fdca26"
             ],
             [
              1,
              "#f0f921"
             ]
            ],
            "type": "surface"
           }
          ],
          "table": [
           {
            "cells": {
             "fill": {
              "color": "#EBF0F8"
             },
             "line": {
              "color": "white"
             }
            },
            "header": {
             "fill": {
              "color": "#C8D4E3"
             },
             "line": {
              "color": "white"
             }
            },
            "type": "table"
           }
          ]
         },
         "layout": {
          "annotationdefaults": {
           "arrowcolor": "#2a3f5f",
           "arrowhead": 0,
           "arrowwidth": 1
          },
          "autotypenumbers": "strict",
          "coloraxis": {
           "colorbar": {
            "outlinewidth": 0,
            "ticks": ""
           }
          },
          "colorscale": {
           "diverging": [
            [
             0,
             "#8e0152"
            ],
            [
             0.1,
             "#c51b7d"
            ],
            [
             0.2,
             "#de77ae"
            ],
            [
             0.3,
             "#f1b6da"
            ],
            [
             0.4,
             "#fde0ef"
            ],
            [
             0.5,
             "#f7f7f7"
            ],
            [
             0.6,
             "#e6f5d0"
            ],
            [
             0.7,
             "#b8e186"
            ],
            [
             0.8,
             "#7fbc41"
            ],
            [
             0.9,
             "#4d9221"
            ],
            [
             1,
             "#276419"
            ]
           ],
           "sequential": [
            [
             0,
             "#0d0887"
            ],
            [
             0.1111111111111111,
             "#46039f"
            ],
            [
             0.2222222222222222,
             "#7201a8"
            ],
            [
             0.3333333333333333,
             "#9c179e"
            ],
            [
             0.4444444444444444,
             "#bd3786"
            ],
            [
             0.5555555555555556,
             "#d8576b"
            ],
            [
             0.6666666666666666,
             "#ed7953"
            ],
            [
             0.7777777777777778,
             "#fb9f3a"
            ],
            [
             0.8888888888888888,
             "#fdca26"
            ],
            [
             1,
             "#f0f921"
            ]
           ],
           "sequentialminus": [
            [
             0,
             "#0d0887"
            ],
            [
             0.1111111111111111,
             "#46039f"
            ],
            [
             0.2222222222222222,
             "#7201a8"
            ],
            [
             0.3333333333333333,
             "#9c179e"
            ],
            [
             0.4444444444444444,
             "#bd3786"
            ],
            [
             0.5555555555555556,
             "#d8576b"
            ],
            [
             0.6666666666666666,
             "#ed7953"
            ],
            [
             0.7777777777777778,
             "#fb9f3a"
            ],
            [
             0.8888888888888888,
             "#fdca26"
            ],
            [
             1,
             "#f0f921"
            ]
           ]
          },
          "colorway": [
           "#636efa",
           "#EF553B",
           "#00cc96",
           "#ab63fa",
           "#FFA15A",
           "#19d3f3",
           "#FF6692",
           "#B6E880",
           "#FF97FF",
           "#FECB52"
          ],
          "font": {
           "color": "#2a3f5f"
          },
          "geo": {
           "bgcolor": "white",
           "lakecolor": "white",
           "landcolor": "#E5ECF6",
           "showlakes": true,
           "showland": true,
           "subunitcolor": "white"
          },
          "hoverlabel": {
           "align": "left"
          },
          "hovermode": "closest",
          "mapbox": {
           "style": "light"
          },
          "paper_bgcolor": "white",
          "plot_bgcolor": "#E5ECF6",
          "polar": {
           "angularaxis": {
            "gridcolor": "white",
            "linecolor": "white",
            "ticks": ""
           },
           "bgcolor": "#E5ECF6",
           "radialaxis": {
            "gridcolor": "white",
            "linecolor": "white",
            "ticks": ""
           }
          },
          "scene": {
           "xaxis": {
            "backgroundcolor": "#E5ECF6",
            "gridcolor": "white",
            "gridwidth": 2,
            "linecolor": "white",
            "showbackground": true,
            "ticks": "",
            "zerolinecolor": "white"
           },
           "yaxis": {
            "backgroundcolor": "#E5ECF6",
            "gridcolor": "white",
            "gridwidth": 2,
            "linecolor": "white",
            "showbackground": true,
            "ticks": "",
            "zerolinecolor": "white"
           },
           "zaxis": {
            "backgroundcolor": "#E5ECF6",
            "gridcolor": "white",
            "gridwidth": 2,
            "linecolor": "white",
            "showbackground": true,
            "ticks": "",
            "zerolinecolor": "white"
           }
          },
          "shapedefaults": {
           "line": {
            "color": "#2a3f5f"
           }
          },
          "ternary": {
           "aaxis": {
            "gridcolor": "white",
            "linecolor": "white",
            "ticks": ""
           },
           "baxis": {
            "gridcolor": "white",
            "linecolor": "white",
            "ticks": ""
           },
           "bgcolor": "#E5ECF6",
           "caxis": {
            "gridcolor": "white",
            "linecolor": "white",
            "ticks": ""
           }
          },
          "title": {
           "x": 0.05
          },
          "xaxis": {
           "automargin": true,
           "gridcolor": "white",
           "linecolor": "white",
           "ticks": "",
           "title": {
            "standoff": 15
           },
           "zerolinecolor": "white",
           "zerolinewidth": 2
          },
          "yaxis": {
           "automargin": true,
           "gridcolor": "white",
           "linecolor": "white",
           "ticks": "",
           "title": {
            "standoff": 15
           },
           "zerolinecolor": "white",
           "zerolinewidth": 2
          }
         }
        },
        "title": {
         "font": {
          "color": "#4D5663"
         }
        },
        "xaxis": {
         "gridcolor": "#E1E5ED",
         "showgrid": true,
         "tickfont": {
          "color": "#4D5663"
         },
         "title": {
          "font": {
           "color": "#4D5663"
          },
          "text": ""
         },
         "zerolinecolor": "#E1E5ED"
        },
        "yaxis": {
         "gridcolor": "#E1E5ED",
         "showgrid": true,
         "tickfont": {
          "color": "#4D5663"
         },
         "title": {
          "font": {
           "color": "#4D5663"
          },
          "text": ""
         },
         "zerolinecolor": "#E1E5ED"
        }
       }
      },
      "text/html": [
       "<div>                            <div id=\"5b3b0abf-69f5-49fe-8253-e742e4d1f957\" class=\"plotly-graph-div\" style=\"height:525px; width:100%;\"></div>            <script type=\"text/javascript\">                require([\"plotly\"], function(Plotly) {                    window.PLOTLYENV=window.PLOTLYENV || {};\n",
       "                    window.PLOTLYENV.BASE_URL='https://plot.ly';                                    if (document.getElementById(\"5b3b0abf-69f5-49fe-8253-e742e4d1f957\")) {                    Plotly.newPlot(                        \"5b3b0abf-69f5-49fe-8253-e742e4d1f957\",                        [{\"line\":{\"color\":\"rgba(255, 153, 51, 1.0)\",\"dash\":\"solid\",\"shape\":\"linear\",\"width\":1.3},\"mode\":\"lines\",\"name\":\"A\",\"text\":\"\",\"type\":\"scatter\",\"x\":[0,1,2,3,4,5,6,7,8,9,10,11,12,13,14,15,16,17,18,19,20,21,22,23,24,25,26,27,28,29,30,31,32,33,34,35,36,37,38,39,40,41,42,43,44,45,46,47,48,49,50,51,52,53,54,55,56,57,58,59,60,61,62,63,64,65,66,67,68,69,70,71,72,73,74,75,76,77,78,79,80,81,82,83,84,85,86,87,88,89,90,91,92,93,94,95,96,97,98,99],\"y\":[-0.4203769172138504,-1.7425536061462963,0.889037777019348,-1.0146950303,0.644987085922443,-0.5867545637092614,0.19788543355418084,-0.2730404740189748,-0.9026425523496677,-1.6279069661349634,-1.502814218287029,0.9328022335577573,-0.1647065323106058,0.6098435552056553,0.7157458424489646,-1.8653534653067507,0.04561722455290629,-1.83236922326372,1.2857591028121669,0.970847338623453,0.38469108105725586,-0.40669880244896184,-0.06933498378794453,1.320095941524994,-0.049271141297447224,0.24992502893762825,-1.0468650538432982,0.8544164021291353,0.5427353132690936,-0.6046711968130206,0.268146006228171,-0.8136978787020882,0.5129283434240521,-1.135879355830157,-0.5949835740230749,-0.9991198230270095,-1.6954857308348357,-0.5946797454314954,-0.038096198045322445,-0.597690474040178,-0.91787070032281,0.0049305892151103705,0.3176792336961347,1.8158591736530727,-0.18625555231119253,0.5334916797623348,-1.7790749335164024,-0.4561764528203567,-0.5383765801583805,0.9303974394928215,0.3019654074882458,-0.44691681108686937,1.0528514568643699,-0.8167380173526259,1.2329356705867764,1.5463527728336532,-0.20062580071149355,-0.09651096288571068,0.9154837337810589,-1.116298893230286,-0.12815668411074205,-0.35583474560030715,-0.1451024331637089,-0.015403174313218963,-0.28000443145952597,-0.47316418081547024,1.1183679273647713,0.5531770838513008,0.510397106892376,0.8396821842077113,0.11193850783712242,1.5340640502750655,0.021240171794083367,-0.9880713077949188,-0.6483165415061083,-0.3232730425399403,-0.3962516779122834,-0.4889839801990028,-0.6958235391363193,1.0309874763249955,-1.2084742863986977,-1.326989784774145,0.87219511894707,-0.5061261280696431,-0.9298406048337552,0.3475633689311191,-0.4488686768784139,0.08110817045384922,-0.0762302794889301,0.9625165014804028,0.8396345494906886,-1.80754629237557,0.8112661931818693,-0.6042239124449605,0.12005231709963185,-0.1764783558475839,1.4807239063761461,-1.2889664844008466,0.34080712450550255,0.5160231621797224]},{\"line\":{\"color\":\"rgba(55, 128, 191, 1.0)\",\"dash\":\"solid\",\"shape\":\"linear\",\"width\":1.3},\"mode\":\"lines\",\"name\":\"B\",\"text\":\"\",\"type\":\"scatter\",\"x\":[0,1,2,3,4,5,6,7,8,9,10,11,12,13,14,15,16,17,18,19,20,21,22,23,24,25,26,27,28,29,30,31,32,33,34,35,36,37,38,39,40,41,42,43,44,45,46,47,48,49,50,51,52,53,54,55,56,57,58,59,60,61,62,63,64,65,66,67,68,69,70,71,72,73,74,75,76,77,78,79,80,81,82,83,84,85,86,87,88,89,90,91,92,93,94,95,96,97,98,99],\"y\":[0.6705648136691061,0.7479108416593321,0.12376066704020804,0.5076865776365572,0.27751055021147714,-0.03885891767652951,-1.1484619773486824,0.06228241207836648,-1.057573110496256,1.135998182104359,-1.5268471457059039,0.03189578091454026,0.22200393733858212,0.35923447166256467,0.0438455986084191,-0.3286116744247036,-2.263135223059364,-0.4813577542132742,-1.3263312412535673,-0.49685187273799336,0.3715396209386487,1.3972487045901876,-1.7711776100919718,0.5164795444719394,-0.4040893207540781,-0.233485549950093,-1.476540568165758,0.28736959359819514,-1.828738271205067,-0.23033607719013108,-0.1716670784386983,0.6333589652539582,0.24579312524127364,-1.0430792092208319,-1.3054477184770257,-0.377953740083831,-1.6893335298772036,-0.05613954327924084,-0.6487634074366234,0.28329949096429036,-0.4042017835341697,0.032341002346677895,0.09703874914253871,-1.6933485826179155,0.6919740876165209,1.6491769080229144,-0.5779327269841692,-0.368352415642468,-1.5547059886995682,-1.9347232358061432,-0.49457341387009357,-1.1431865654017428,-0.589440944580983,-0.7321925083296308,-0.5598495607910404,-0.07280153382431334,-0.9677078775408386,2.110893914463245,-1.8007775476818115,-0.5492778523321554,-0.5153143189722851,0.2819410514014495,0.6389173365089797,-0.03690079064012558,0.3154919697960902,0.34399013315007754,0.8770157732702345,1.59051131022073,0.7904345189953608,0.7311438272766193,0.7387973826077535,-0.879583440706914,0.5868810728835954,0.03420631434201392,-0.45894188198105734,-0.4850085142032951,0.15108157763018584,0.1416739928211047,0.4779585274094298,-0.8118140116099221,0.5562018187811655,-0.24169835421043992,-0.5660844805115468,-0.49218350172725206,-0.61293743048621,1.2332793309806727,2.1240417997227214,1.400322812515332,-1.2707703517297577,0.04297896308622119,-1.1629777976548832,-0.527264203119578,-1.1036025507929965,0.11634484045105915,1.4459565634949803,-0.19104602555144024,1.43788963939247,-2.0614461044332733,1.6997794796458487,0.19527633470967637]},{\"line\":{\"color\":\"rgba(50, 171, 96, 1.0)\",\"dash\":\"solid\",\"shape\":\"linear\",\"width\":1.3},\"mode\":\"lines\",\"name\":\"C\",\"text\":\"\",\"type\":\"scatter\",\"x\":[0,1,2,3,4,5,6,7,8,9,10,11,12,13,14,15,16,17,18,19,20,21,22,23,24,25,26,27,28,29,30,31,32,33,34,35,36,37,38,39,40,41,42,43,44,45,46,47,48,49,50,51,52,53,54,55,56,57,58,59,60,61,62,63,64,65,66,67,68,69,70,71,72,73,74,75,76,77,78,79,80,81,82,83,84,85,86,87,88,89,90,91,92,93,94,95,96,97,98,99],\"y\":[0.07422700527315418,0.4130249643103405,0.08548858850732852,-0.2313907405072228,0.37480831038947743,-0.5804733866469306,-0.6801880384913043,1.8022342350275198,0.2860197998610701,0.44232578447992343,-1.5016331070440165,-0.17047063909762822,0.2969657590242623,-0.3938742717666108,0.005322578576980963,-0.1509403635371195,-1.475176645424478,-0.6996670204144476,0.01040519118246566,-0.43008029671786063,0.049262896897995734,-2.2794486022226317,-0.05170995821764871,-1.1642223337949063,-0.7845961694373157,1.7201571256729855,-0.1080899951479665,1.9172077113769468,-1.0291295424930516,-0.4830378049493245,-3.042769218598791,-0.24804905428614898,1.0314805119510864,-1.404281005575798,-0.1379101447202194,-0.7195472131915353,-0.2735942321860184,-1.7388301654248608,0.8921268176921588,0.015092574704470684,-0.017843727398743788,-0.023373546868586628,0.48356729019745276,0.3724710103514023,1.008265930319548,2.4463710370181833,-1.984883419537376,0.3580786992700125,-1.1542277648532895,0.4987945521011533,-0.5602989609894605,-1.2899859967795375,-0.18340439848799506,-1.0255585995065564,-1.3069786772803889,-0.12442852338564153,0.9828613424354359,-0.5926949048387103,-0.7621082270075276,-1.5803155758375553,-1.5450357781388426,-0.6167758224917211,1.0960016305928086,-0.3660385461050507,0.40608765534013885,0.061831984060027934,-1.5480288983429116,2.2488514861594293,-0.2471095149706103,-1.4855057620299903,-0.6967002864504952,0.6592024314305059,0.7725617098876191,-0.008263027740115753,-0.6944179983332547,1.1526220459892333,1.4501439219254952,2.1505517700712176,-0.3492929750190928,0.11094652493428009,-0.6108141968900309,0.3502143994430392,-0.2227433971114668,1.678016033517746,-0.9382350184164863,-0.7751011686520267,0.4806329226047449,-1.2579044633708636,-0.9662571507224871,-0.3709616614910942,-0.06452441870975577,-0.35563498268520916,-0.016514764413823962,-0.22861270922344848,-0.5462410861762043,-0.16893452437550166,0.4508344021737034,-1.1284200562808675,0.8783286696936663,1.051529015196934]},{\"line\":{\"color\":\"rgba(128, 0, 128, 1.0)\",\"dash\":\"solid\",\"shape\":\"linear\",\"width\":1.3},\"mode\":\"lines\",\"name\":\"D\",\"text\":\"\",\"type\":\"scatter\",\"x\":[0,1,2,3,4,5,6,7,8,9,10,11,12,13,14,15,16,17,18,19,20,21,22,23,24,25,26,27,28,29,30,31,32,33,34,35,36,37,38,39,40,41,42,43,44,45,46,47,48,49,50,51,52,53,54,55,56,57,58,59,60,61,62,63,64,65,66,67,68,69,70,71,72,73,74,75,76,77,78,79,80,81,82,83,84,85,86,87,88,89,90,91,92,93,94,95,96,97,98,99],\"y\":[-0.4265649055030353,0.5345753963116453,1.2648624239240278,-0.5036965328663572,1.3839523450361182,1.2575049616846319,0.4144214395049769,-0.5025921390683061,0.4646854192098949,-1.0187018400737897,-0.41604955826801,-0.704873422773722,0.34012659882708757,0.8215859955152438,-0.9630212613275814,-1.5479364624579965,1.262427324095102,-0.6314716294991332,-0.2948263242881089,2.045843585833337,0.7779892759515108,-2.3374769861385496,0.08076847935905539,0.9386365422370996,1.006813472053596,-1.7130081664294843,-0.8301818918715494,0.40662438561416886,0.6184271143243777,-1.1171162565881085,-0.7259743318271101,-0.7894973693297371,0.15673300611977514,-0.0411443578526938,1.8725145576747395,0.07417574962603085,-2.0476069434418798,-0.5231585358294968,-1.1450987535161061,0.6433542561798411,0.01529112076703967,-0.48657373270143484,1.7052382835670108,0.4116424859047016,-0.4234715279258913,-0.9252985606450924,0.4828442783376966,1.5942461288472833,0.08456822084845338,-1.5394659470604126,0.5501664509165102,0.9454148982132563,-0.1261792942872043,0.3017002608052505,-1.2519565936221715,-0.24466158095145318,1.1954983324987216,-0.3809112557174018,1.33923613114652,1.3560837868399453,0.09661889452534182,-1.4880197906360266,-0.2827010917022672,0.11638639687460929,1.4606288990278828,-0.724909388940758,-0.8292888279027019,1.2152792806199297,0.9406782217308104,-0.2271121287232906,-0.6456754382419851,0.2246503169045476,0.9088534114783418,-0.785122627292339,-0.43312963489765566,-0.6263627891053157,-0.8124367069314169,-0.0944907864199542,-0.19604602013795855,1.6082443316810087,-0.4009981234549997,0.35696227827031496,0.08582423282612472,0.11139904700992809,0.3807598674561099,1.7292243256324968,0.5402498413873286,1.0069502326770607,1.7525588986920897,-1.0483571007203314,0.42820914988334524,0.9648945646092203,1.4849291082110934,-0.6459546098399391,-0.11144734102298919,0.6220318081645934,0.4307143405325117,-0.06911151660227972,0.18914139541645156,-1.3974429546298435]}],                        {\"legend\":{\"bgcolor\":\"#F5F6F9\",\"font\":{\"color\":\"#4D5663\"}},\"paper_bgcolor\":\"#F5F6F9\",\"plot_bgcolor\":\"#F5F6F9\",\"template\":{\"data\":{\"bar\":[{\"error_x\":{\"color\":\"#2a3f5f\"},\"error_y\":{\"color\":\"#2a3f5f\"},\"marker\":{\"line\":{\"color\":\"#E5ECF6\",\"width\":0.5},\"pattern\":{\"fillmode\":\"overlay\",\"size\":10,\"solidity\":0.2}},\"type\":\"bar\"}],\"barpolar\":[{\"marker\":{\"line\":{\"color\":\"#E5ECF6\",\"width\":0.5},\"pattern\":{\"fillmode\":\"overlay\",\"size\":10,\"solidity\":0.2}},\"type\":\"barpolar\"}],\"carpet\":[{\"aaxis\":{\"endlinecolor\":\"#2a3f5f\",\"gridcolor\":\"white\",\"linecolor\":\"white\",\"minorgridcolor\":\"white\",\"startlinecolor\":\"#2a3f5f\"},\"baxis\":{\"endlinecolor\":\"#2a3f5f\",\"gridcolor\":\"white\",\"linecolor\":\"white\",\"minorgridcolor\":\"white\",\"startlinecolor\":\"#2a3f5f\"},\"type\":\"carpet\"}],\"choropleth\":[{\"colorbar\":{\"outlinewidth\":0,\"ticks\":\"\"},\"type\":\"choropleth\"}],\"contour\":[{\"colorbar\":{\"outlinewidth\":0,\"ticks\":\"\"},\"colorscale\":[[0.0,\"#0d0887\"],[0.1111111111111111,\"#46039f\"],[0.2222222222222222,\"#7201a8\"],[0.3333333333333333,\"#9c179e\"],[0.4444444444444444,\"#bd3786\"],[0.5555555555555556,\"#d8576b\"],[0.6666666666666666,\"#ed7953\"],[0.7777777777777778,\"#fb9f3a\"],[0.8888888888888888,\"#fdca26\"],[1.0,\"#f0f921\"]],\"type\":\"contour\"}],\"contourcarpet\":[{\"colorbar\":{\"outlinewidth\":0,\"ticks\":\"\"},\"type\":\"contourcarpet\"}],\"heatmap\":[{\"colorbar\":{\"outlinewidth\":0,\"ticks\":\"\"},\"colorscale\":[[0.0,\"#0d0887\"],[0.1111111111111111,\"#46039f\"],[0.2222222222222222,\"#7201a8\"],[0.3333333333333333,\"#9c179e\"],[0.4444444444444444,\"#bd3786\"],[0.5555555555555556,\"#d8576b\"],[0.6666666666666666,\"#ed7953\"],[0.7777777777777778,\"#fb9f3a\"],[0.8888888888888888,\"#fdca26\"],[1.0,\"#f0f921\"]],\"type\":\"heatmap\"}],\"heatmapgl\":[{\"colorbar\":{\"outlinewidth\":0,\"ticks\":\"\"},\"colorscale\":[[0.0,\"#0d0887\"],[0.1111111111111111,\"#46039f\"],[0.2222222222222222,\"#7201a8\"],[0.3333333333333333,\"#9c179e\"],[0.4444444444444444,\"#bd3786\"],[0.5555555555555556,\"#d8576b\"],[0.6666666666666666,\"#ed7953\"],[0.7777777777777778,\"#fb9f3a\"],[0.8888888888888888,\"#fdca26\"],[1.0,\"#f0f921\"]],\"type\":\"heatmapgl\"}],\"histogram\":[{\"marker\":{\"pattern\":{\"fillmode\":\"overlay\",\"size\":10,\"solidity\":0.2}},\"type\":\"histogram\"}],\"histogram2d\":[{\"colorbar\":{\"outlinewidth\":0,\"ticks\":\"\"},\"colorscale\":[[0.0,\"#0d0887\"],[0.1111111111111111,\"#46039f\"],[0.2222222222222222,\"#7201a8\"],[0.3333333333333333,\"#9c179e\"],[0.4444444444444444,\"#bd3786\"],[0.5555555555555556,\"#d8576b\"],[0.6666666666666666,\"#ed7953\"],[0.7777777777777778,\"#fb9f3a\"],[0.8888888888888888,\"#fdca26\"],[1.0,\"#f0f921\"]],\"type\":\"histogram2d\"}],\"histogram2dcontour\":[{\"colorbar\":{\"outlinewidth\":0,\"ticks\":\"\"},\"colorscale\":[[0.0,\"#0d0887\"],[0.1111111111111111,\"#46039f\"],[0.2222222222222222,\"#7201a8\"],[0.3333333333333333,\"#9c179e\"],[0.4444444444444444,\"#bd3786\"],[0.5555555555555556,\"#d8576b\"],[0.6666666666666666,\"#ed7953\"],[0.7777777777777778,\"#fb9f3a\"],[0.8888888888888888,\"#fdca26\"],[1.0,\"#f0f921\"]],\"type\":\"histogram2dcontour\"}],\"mesh3d\":[{\"colorbar\":{\"outlinewidth\":0,\"ticks\":\"\"},\"type\":\"mesh3d\"}],\"parcoords\":[{\"line\":{\"colorbar\":{\"outlinewidth\":0,\"ticks\":\"\"}},\"type\":\"parcoords\"}],\"pie\":[{\"automargin\":true,\"type\":\"pie\"}],\"scatter\":[{\"marker\":{\"colorbar\":{\"outlinewidth\":0,\"ticks\":\"\"}},\"type\":\"scatter\"}],\"scatter3d\":[{\"line\":{\"colorbar\":{\"outlinewidth\":0,\"ticks\":\"\"}},\"marker\":{\"colorbar\":{\"outlinewidth\":0,\"ticks\":\"\"}},\"type\":\"scatter3d\"}],\"scattercarpet\":[{\"marker\":{\"colorbar\":{\"outlinewidth\":0,\"ticks\":\"\"}},\"type\":\"scattercarpet\"}],\"scattergeo\":[{\"marker\":{\"colorbar\":{\"outlinewidth\":0,\"ticks\":\"\"}},\"type\":\"scattergeo\"}],\"scattergl\":[{\"marker\":{\"colorbar\":{\"outlinewidth\":0,\"ticks\":\"\"}},\"type\":\"scattergl\"}],\"scattermapbox\":[{\"marker\":{\"colorbar\":{\"outlinewidth\":0,\"ticks\":\"\"}},\"type\":\"scattermapbox\"}],\"scatterpolar\":[{\"marker\":{\"colorbar\":{\"outlinewidth\":0,\"ticks\":\"\"}},\"type\":\"scatterpolar\"}],\"scatterpolargl\":[{\"marker\":{\"colorbar\":{\"outlinewidth\":0,\"ticks\":\"\"}},\"type\":\"scatterpolargl\"}],\"scatterternary\":[{\"marker\":{\"colorbar\":{\"outlinewidth\":0,\"ticks\":\"\"}},\"type\":\"scatterternary\"}],\"surface\":[{\"colorbar\":{\"outlinewidth\":0,\"ticks\":\"\"},\"colorscale\":[[0.0,\"#0d0887\"],[0.1111111111111111,\"#46039f\"],[0.2222222222222222,\"#7201a8\"],[0.3333333333333333,\"#9c179e\"],[0.4444444444444444,\"#bd3786\"],[0.5555555555555556,\"#d8576b\"],[0.6666666666666666,\"#ed7953\"],[0.7777777777777778,\"#fb9f3a\"],[0.8888888888888888,\"#fdca26\"],[1.0,\"#f0f921\"]],\"type\":\"surface\"}],\"table\":[{\"cells\":{\"fill\":{\"color\":\"#EBF0F8\"},\"line\":{\"color\":\"white\"}},\"header\":{\"fill\":{\"color\":\"#C8D4E3\"},\"line\":{\"color\":\"white\"}},\"type\":\"table\"}]},\"layout\":{\"annotationdefaults\":{\"arrowcolor\":\"#2a3f5f\",\"arrowhead\":0,\"arrowwidth\":1},\"autotypenumbers\":\"strict\",\"coloraxis\":{\"colorbar\":{\"outlinewidth\":0,\"ticks\":\"\"}},\"colorscale\":{\"diverging\":[[0,\"#8e0152\"],[0.1,\"#c51b7d\"],[0.2,\"#de77ae\"],[0.3,\"#f1b6da\"],[0.4,\"#fde0ef\"],[0.5,\"#f7f7f7\"],[0.6,\"#e6f5d0\"],[0.7,\"#b8e186\"],[0.8,\"#7fbc41\"],[0.9,\"#4d9221\"],[1,\"#276419\"]],\"sequential\":[[0.0,\"#0d0887\"],[0.1111111111111111,\"#46039f\"],[0.2222222222222222,\"#7201a8\"],[0.3333333333333333,\"#9c179e\"],[0.4444444444444444,\"#bd3786\"],[0.5555555555555556,\"#d8576b\"],[0.6666666666666666,\"#ed7953\"],[0.7777777777777778,\"#fb9f3a\"],[0.8888888888888888,\"#fdca26\"],[1.0,\"#f0f921\"]],\"sequentialminus\":[[0.0,\"#0d0887\"],[0.1111111111111111,\"#46039f\"],[0.2222222222222222,\"#7201a8\"],[0.3333333333333333,\"#9c179e\"],[0.4444444444444444,\"#bd3786\"],[0.5555555555555556,\"#d8576b\"],[0.6666666666666666,\"#ed7953\"],[0.7777777777777778,\"#fb9f3a\"],[0.8888888888888888,\"#fdca26\"],[1.0,\"#f0f921\"]]},\"colorway\":[\"#636efa\",\"#EF553B\",\"#00cc96\",\"#ab63fa\",\"#FFA15A\",\"#19d3f3\",\"#FF6692\",\"#B6E880\",\"#FF97FF\",\"#FECB52\"],\"font\":{\"color\":\"#2a3f5f\"},\"geo\":{\"bgcolor\":\"white\",\"lakecolor\":\"white\",\"landcolor\":\"#E5ECF6\",\"showlakes\":true,\"showland\":true,\"subunitcolor\":\"white\"},\"hoverlabel\":{\"align\":\"left\"},\"hovermode\":\"closest\",\"mapbox\":{\"style\":\"light\"},\"paper_bgcolor\":\"white\",\"plot_bgcolor\":\"#E5ECF6\",\"polar\":{\"angularaxis\":{\"gridcolor\":\"white\",\"linecolor\":\"white\",\"ticks\":\"\"},\"bgcolor\":\"#E5ECF6\",\"radialaxis\":{\"gridcolor\":\"white\",\"linecolor\":\"white\",\"ticks\":\"\"}},\"scene\":{\"xaxis\":{\"backgroundcolor\":\"#E5ECF6\",\"gridcolor\":\"white\",\"gridwidth\":2,\"linecolor\":\"white\",\"showbackground\":true,\"ticks\":\"\",\"zerolinecolor\":\"white\"},\"yaxis\":{\"backgroundcolor\":\"#E5ECF6\",\"gridcolor\":\"white\",\"gridwidth\":2,\"linecolor\":\"white\",\"showbackground\":true,\"ticks\":\"\",\"zerolinecolor\":\"white\"},\"zaxis\":{\"backgroundcolor\":\"#E5ECF6\",\"gridcolor\":\"white\",\"gridwidth\":2,\"linecolor\":\"white\",\"showbackground\":true,\"ticks\":\"\",\"zerolinecolor\":\"white\"}},\"shapedefaults\":{\"line\":{\"color\":\"#2a3f5f\"}},\"ternary\":{\"aaxis\":{\"gridcolor\":\"white\",\"linecolor\":\"white\",\"ticks\":\"\"},\"baxis\":{\"gridcolor\":\"white\",\"linecolor\":\"white\",\"ticks\":\"\"},\"bgcolor\":\"#E5ECF6\",\"caxis\":{\"gridcolor\":\"white\",\"linecolor\":\"white\",\"ticks\":\"\"}},\"title\":{\"x\":0.05},\"xaxis\":{\"automargin\":true,\"gridcolor\":\"white\",\"linecolor\":\"white\",\"ticks\":\"\",\"title\":{\"standoff\":15},\"zerolinecolor\":\"white\",\"zerolinewidth\":2},\"yaxis\":{\"automargin\":true,\"gridcolor\":\"white\",\"linecolor\":\"white\",\"ticks\":\"\",\"title\":{\"standoff\":15},\"zerolinecolor\":\"white\",\"zerolinewidth\":2}}},\"title\":{\"font\":{\"color\":\"#4D5663\"}},\"xaxis\":{\"gridcolor\":\"#E1E5ED\",\"showgrid\":true,\"tickfont\":{\"color\":\"#4D5663\"},\"title\":{\"font\":{\"color\":\"#4D5663\"},\"text\":\"\"},\"zerolinecolor\":\"#E1E5ED\"},\"yaxis\":{\"gridcolor\":\"#E1E5ED\",\"showgrid\":true,\"tickfont\":{\"color\":\"#4D5663\"},\"title\":{\"font\":{\"color\":\"#4D5663\"},\"text\":\"\"},\"zerolinecolor\":\"#E1E5ED\"}},                        {\"showLink\": true, \"linkText\": \"Export to plot.ly\", \"plotlyServerURL\": \"https://plot.ly\", \"responsive\": true}                    ).then(function(){\n",
       "                            \n",
       "var gd = document.getElementById('5b3b0abf-69f5-49fe-8253-e742e4d1f957');\n",
       "var x = new MutationObserver(function (mutations, observer) {{\n",
       "        var display = window.getComputedStyle(gd).display;\n",
       "        if (!display || display === 'none') {{\n",
       "            console.log([gd, 'removed!']);\n",
       "            Plotly.purge(gd);\n",
       "            observer.disconnect();\n",
       "        }}\n",
       "}});\n",
       "\n",
       "// Listen for the removal of the full notebook cells\n",
       "var notebookContainer = gd.closest('#notebook-container');\n",
       "if (notebookContainer) {{\n",
       "    x.observe(notebookContainer, {childList: true});\n",
       "}}\n",
       "\n",
       "// Listen for the clearing of the current output cell\n",
       "var outputEl = gd.closest('.output');\n",
       "if (outputEl) {{\n",
       "    x.observe(outputEl, {childList: true});\n",
       "}}\n",
       "\n",
       "                        })                };                });            </script>        </div>"
      ]
     },
     "metadata": {},
     "output_type": "display_data"
    }
   ],
   "source": [
    "df.iplot()"
   ]
  },
  {
   "cell_type": "code",
   "execution_count": 30,
   "id": "455d8e30",
   "metadata": {},
   "outputs": [
    {
     "data": {
      "application/vnd.plotly.v1+json": {
       "config": {
        "linkText": "Export to plot.ly",
        "plotlyServerURL": "https://plot.ly",
        "showLink": true
       },
       "data": [
        {
         "line": {
          "color": "rgba(255, 153, 51, 1.0)",
          "dash": "solid",
          "shape": "linear",
          "width": 1.3
         },
         "mode": "lines",
         "name": "B",
         "text": "",
         "type": "scatter",
         "x": [
          -0.4203769172138504,
          -1.7425536061462963,
          0.889037777019348,
          -1.0146950303,
          0.644987085922443,
          -0.5867545637092614,
          0.19788543355418084,
          -0.2730404740189748,
          -0.9026425523496677,
          -1.6279069661349634,
          -1.502814218287029,
          0.9328022335577573,
          -0.1647065323106058,
          0.6098435552056553,
          0.7157458424489646,
          -1.8653534653067507,
          0.04561722455290629,
          -1.83236922326372,
          1.2857591028121669,
          0.970847338623453,
          0.38469108105725586,
          -0.40669880244896184,
          -0.06933498378794453,
          1.320095941524994,
          -0.049271141297447224,
          0.24992502893762825,
          -1.0468650538432982,
          0.8544164021291353,
          0.5427353132690936,
          -0.6046711968130206,
          0.268146006228171,
          -0.8136978787020882,
          0.5129283434240521,
          -1.135879355830157,
          -0.5949835740230749,
          -0.9991198230270095,
          -1.6954857308348357,
          -0.5946797454314954,
          -0.038096198045322445,
          -0.597690474040178,
          -0.91787070032281,
          0.0049305892151103705,
          0.3176792336961347,
          1.8158591736530727,
          -0.18625555231119253,
          0.5334916797623348,
          -1.7790749335164024,
          -0.4561764528203567,
          -0.5383765801583805,
          0.9303974394928215,
          0.3019654074882458,
          -0.44691681108686937,
          1.0528514568643699,
          -0.8167380173526259,
          1.2329356705867764,
          1.5463527728336532,
          -0.20062580071149355,
          -0.09651096288571068,
          0.9154837337810589,
          -1.116298893230286,
          -0.12815668411074205,
          -0.35583474560030715,
          -0.1451024331637089,
          -0.015403174313218963,
          -0.28000443145952597,
          -0.47316418081547024,
          1.1183679273647713,
          0.5531770838513008,
          0.510397106892376,
          0.8396821842077113,
          0.11193850783712242,
          1.5340640502750655,
          0.021240171794083367,
          -0.9880713077949188,
          -0.6483165415061083,
          -0.3232730425399403,
          -0.3962516779122834,
          -0.4889839801990028,
          -0.6958235391363193,
          1.0309874763249955,
          -1.2084742863986977,
          -1.326989784774145,
          0.87219511894707,
          -0.5061261280696431,
          -0.9298406048337552,
          0.3475633689311191,
          -0.4488686768784139,
          0.08110817045384922,
          -0.0762302794889301,
          0.9625165014804028,
          0.8396345494906886,
          -1.80754629237557,
          0.8112661931818693,
          -0.6042239124449605,
          0.12005231709963185,
          -0.1764783558475839,
          1.4807239063761461,
          -1.2889664844008466,
          0.34080712450550255,
          0.5160231621797224
         ],
         "y": [
          0.6705648136691061,
          0.7479108416593321,
          0.12376066704020804,
          0.5076865776365572,
          0.27751055021147714,
          -0.03885891767652951,
          -1.1484619773486824,
          0.06228241207836648,
          -1.057573110496256,
          1.135998182104359,
          -1.5268471457059039,
          0.03189578091454026,
          0.22200393733858212,
          0.35923447166256467,
          0.0438455986084191,
          -0.3286116744247036,
          -2.263135223059364,
          -0.4813577542132742,
          -1.3263312412535673,
          -0.49685187273799336,
          0.3715396209386487,
          1.3972487045901876,
          -1.7711776100919718,
          0.5164795444719394,
          -0.4040893207540781,
          -0.233485549950093,
          -1.476540568165758,
          0.28736959359819514,
          -1.828738271205067,
          -0.23033607719013108,
          -0.1716670784386983,
          0.6333589652539582,
          0.24579312524127364,
          -1.0430792092208319,
          -1.3054477184770257,
          -0.377953740083831,
          -1.6893335298772036,
          -0.05613954327924084,
          -0.6487634074366234,
          0.28329949096429036,
          -0.4042017835341697,
          0.032341002346677895,
          0.09703874914253871,
          -1.6933485826179155,
          0.6919740876165209,
          1.6491769080229144,
          -0.5779327269841692,
          -0.368352415642468,
          -1.5547059886995682,
          -1.9347232358061432,
          -0.49457341387009357,
          -1.1431865654017428,
          -0.589440944580983,
          -0.7321925083296308,
          -0.5598495607910404,
          -0.07280153382431334,
          -0.9677078775408386,
          2.110893914463245,
          -1.8007775476818115,
          -0.5492778523321554,
          -0.5153143189722851,
          0.2819410514014495,
          0.6389173365089797,
          -0.03690079064012558,
          0.3154919697960902,
          0.34399013315007754,
          0.8770157732702345,
          1.59051131022073,
          0.7904345189953608,
          0.7311438272766193,
          0.7387973826077535,
          -0.879583440706914,
          0.5868810728835954,
          0.03420631434201392,
          -0.45894188198105734,
          -0.4850085142032951,
          0.15108157763018584,
          0.1416739928211047,
          0.4779585274094298,
          -0.8118140116099221,
          0.5562018187811655,
          -0.24169835421043992,
          -0.5660844805115468,
          -0.49218350172725206,
          -0.61293743048621,
          1.2332793309806727,
          2.1240417997227214,
          1.400322812515332,
          -1.2707703517297577,
          0.04297896308622119,
          -1.1629777976548832,
          -0.527264203119578,
          -1.1036025507929965,
          0.11634484045105915,
          1.4459565634949803,
          -0.19104602555144024,
          1.43788963939247,
          -2.0614461044332733,
          1.6997794796458487,
          0.19527633470967637
         ]
        }
       ],
       "layout": {
        "legend": {
         "bgcolor": "#F5F6F9",
         "font": {
          "color": "#4D5663"
         }
        },
        "paper_bgcolor": "#F5F6F9",
        "plot_bgcolor": "#F5F6F9",
        "template": {
         "data": {
          "bar": [
           {
            "error_x": {
             "color": "#2a3f5f"
            },
            "error_y": {
             "color": "#2a3f5f"
            },
            "marker": {
             "line": {
              "color": "#E5ECF6",
              "width": 0.5
             },
             "pattern": {
              "fillmode": "overlay",
              "size": 10,
              "solidity": 0.2
             }
            },
            "type": "bar"
           }
          ],
          "barpolar": [
           {
            "marker": {
             "line": {
              "color": "#E5ECF6",
              "width": 0.5
             },
             "pattern": {
              "fillmode": "overlay",
              "size": 10,
              "solidity": 0.2
             }
            },
            "type": "barpolar"
           }
          ],
          "carpet": [
           {
            "aaxis": {
             "endlinecolor": "#2a3f5f",
             "gridcolor": "white",
             "linecolor": "white",
             "minorgridcolor": "white",
             "startlinecolor": "#2a3f5f"
            },
            "baxis": {
             "endlinecolor": "#2a3f5f",
             "gridcolor": "white",
             "linecolor": "white",
             "minorgridcolor": "white",
             "startlinecolor": "#2a3f5f"
            },
            "type": "carpet"
           }
          ],
          "choropleth": [
           {
            "colorbar": {
             "outlinewidth": 0,
             "ticks": ""
            },
            "type": "choropleth"
           }
          ],
          "contour": [
           {
            "colorbar": {
             "outlinewidth": 0,
             "ticks": ""
            },
            "colorscale": [
             [
              0,
              "#0d0887"
             ],
             [
              0.1111111111111111,
              "#46039f"
             ],
             [
              0.2222222222222222,
              "#7201a8"
             ],
             [
              0.3333333333333333,
              "#9c179e"
             ],
             [
              0.4444444444444444,
              "#bd3786"
             ],
             [
              0.5555555555555556,
              "#d8576b"
             ],
             [
              0.6666666666666666,
              "#ed7953"
             ],
             [
              0.7777777777777778,
              "#fb9f3a"
             ],
             [
              0.8888888888888888,
              "#fdca26"
             ],
             [
              1,
              "#f0f921"
             ]
            ],
            "type": "contour"
           }
          ],
          "contourcarpet": [
           {
            "colorbar": {
             "outlinewidth": 0,
             "ticks": ""
            },
            "type": "contourcarpet"
           }
          ],
          "heatmap": [
           {
            "colorbar": {
             "outlinewidth": 0,
             "ticks": ""
            },
            "colorscale": [
             [
              0,
              "#0d0887"
             ],
             [
              0.1111111111111111,
              "#46039f"
             ],
             [
              0.2222222222222222,
              "#7201a8"
             ],
             [
              0.3333333333333333,
              "#9c179e"
             ],
             [
              0.4444444444444444,
              "#bd3786"
             ],
             [
              0.5555555555555556,
              "#d8576b"
             ],
             [
              0.6666666666666666,
              "#ed7953"
             ],
             [
              0.7777777777777778,
              "#fb9f3a"
             ],
             [
              0.8888888888888888,
              "#fdca26"
             ],
             [
              1,
              "#f0f921"
             ]
            ],
            "type": "heatmap"
           }
          ],
          "heatmapgl": [
           {
            "colorbar": {
             "outlinewidth": 0,
             "ticks": ""
            },
            "colorscale": [
             [
              0,
              "#0d0887"
             ],
             [
              0.1111111111111111,
              "#46039f"
             ],
             [
              0.2222222222222222,
              "#7201a8"
             ],
             [
              0.3333333333333333,
              "#9c179e"
             ],
             [
              0.4444444444444444,
              "#bd3786"
             ],
             [
              0.5555555555555556,
              "#d8576b"
             ],
             [
              0.6666666666666666,
              "#ed7953"
             ],
             [
              0.7777777777777778,
              "#fb9f3a"
             ],
             [
              0.8888888888888888,
              "#fdca26"
             ],
             [
              1,
              "#f0f921"
             ]
            ],
            "type": "heatmapgl"
           }
          ],
          "histogram": [
           {
            "marker": {
             "pattern": {
              "fillmode": "overlay",
              "size": 10,
              "solidity": 0.2
             }
            },
            "type": "histogram"
           }
          ],
          "histogram2d": [
           {
            "colorbar": {
             "outlinewidth": 0,
             "ticks": ""
            },
            "colorscale": [
             [
              0,
              "#0d0887"
             ],
             [
              0.1111111111111111,
              "#46039f"
             ],
             [
              0.2222222222222222,
              "#7201a8"
             ],
             [
              0.3333333333333333,
              "#9c179e"
             ],
             [
              0.4444444444444444,
              "#bd3786"
             ],
             [
              0.5555555555555556,
              "#d8576b"
             ],
             [
              0.6666666666666666,
              "#ed7953"
             ],
             [
              0.7777777777777778,
              "#fb9f3a"
             ],
             [
              0.8888888888888888,
              "#fdca26"
             ],
             [
              1,
              "#f0f921"
             ]
            ],
            "type": "histogram2d"
           }
          ],
          "histogram2dcontour": [
           {
            "colorbar": {
             "outlinewidth": 0,
             "ticks": ""
            },
            "colorscale": [
             [
              0,
              "#0d0887"
             ],
             [
              0.1111111111111111,
              "#46039f"
             ],
             [
              0.2222222222222222,
              "#7201a8"
             ],
             [
              0.3333333333333333,
              "#9c179e"
             ],
             [
              0.4444444444444444,
              "#bd3786"
             ],
             [
              0.5555555555555556,
              "#d8576b"
             ],
             [
              0.6666666666666666,
              "#ed7953"
             ],
             [
              0.7777777777777778,
              "#fb9f3a"
             ],
             [
              0.8888888888888888,
              "#fdca26"
             ],
             [
              1,
              "#f0f921"
             ]
            ],
            "type": "histogram2dcontour"
           }
          ],
          "mesh3d": [
           {
            "colorbar": {
             "outlinewidth": 0,
             "ticks": ""
            },
            "type": "mesh3d"
           }
          ],
          "parcoords": [
           {
            "line": {
             "colorbar": {
              "outlinewidth": 0,
              "ticks": ""
             }
            },
            "type": "parcoords"
           }
          ],
          "pie": [
           {
            "automargin": true,
            "type": "pie"
           }
          ],
          "scatter": [
           {
            "marker": {
             "colorbar": {
              "outlinewidth": 0,
              "ticks": ""
             }
            },
            "type": "scatter"
           }
          ],
          "scatter3d": [
           {
            "line": {
             "colorbar": {
              "outlinewidth": 0,
              "ticks": ""
             }
            },
            "marker": {
             "colorbar": {
              "outlinewidth": 0,
              "ticks": ""
             }
            },
            "type": "scatter3d"
           }
          ],
          "scattercarpet": [
           {
            "marker": {
             "colorbar": {
              "outlinewidth": 0,
              "ticks": ""
             }
            },
            "type": "scattercarpet"
           }
          ],
          "scattergeo": [
           {
            "marker": {
             "colorbar": {
              "outlinewidth": 0,
              "ticks": ""
             }
            },
            "type": "scattergeo"
           }
          ],
          "scattergl": [
           {
            "marker": {
             "colorbar": {
              "outlinewidth": 0,
              "ticks": ""
             }
            },
            "type": "scattergl"
           }
          ],
          "scattermapbox": [
           {
            "marker": {
             "colorbar": {
              "outlinewidth": 0,
              "ticks": ""
             }
            },
            "type": "scattermapbox"
           }
          ],
          "scatterpolar": [
           {
            "marker": {
             "colorbar": {
              "outlinewidth": 0,
              "ticks": ""
             }
            },
            "type": "scatterpolar"
           }
          ],
          "scatterpolargl": [
           {
            "marker": {
             "colorbar": {
              "outlinewidth": 0,
              "ticks": ""
             }
            },
            "type": "scatterpolargl"
           }
          ],
          "scatterternary": [
           {
            "marker": {
             "colorbar": {
              "outlinewidth": 0,
              "ticks": ""
             }
            },
            "type": "scatterternary"
           }
          ],
          "surface": [
           {
            "colorbar": {
             "outlinewidth": 0,
             "ticks": ""
            },
            "colorscale": [
             [
              0,
              "#0d0887"
             ],
             [
              0.1111111111111111,
              "#46039f"
             ],
             [
              0.2222222222222222,
              "#7201a8"
             ],
             [
              0.3333333333333333,
              "#9c179e"
             ],
             [
              0.4444444444444444,
              "#bd3786"
             ],
             [
              0.5555555555555556,
              "#d8576b"
             ],
             [
              0.6666666666666666,
              "#ed7953"
             ],
             [
              0.7777777777777778,
              "#fb9f3a"
             ],
             [
              0.8888888888888888,
              "#fdca26"
             ],
             [
              1,
              "#f0f921"
             ]
            ],
            "type": "surface"
           }
          ],
          "table": [
           {
            "cells": {
             "fill": {
              "color": "#EBF0F8"
             },
             "line": {
              "color": "white"
             }
            },
            "header": {
             "fill": {
              "color": "#C8D4E3"
             },
             "line": {
              "color": "white"
             }
            },
            "type": "table"
           }
          ]
         },
         "layout": {
          "annotationdefaults": {
           "arrowcolor": "#2a3f5f",
           "arrowhead": 0,
           "arrowwidth": 1
          },
          "autotypenumbers": "strict",
          "coloraxis": {
           "colorbar": {
            "outlinewidth": 0,
            "ticks": ""
           }
          },
          "colorscale": {
           "diverging": [
            [
             0,
             "#8e0152"
            ],
            [
             0.1,
             "#c51b7d"
            ],
            [
             0.2,
             "#de77ae"
            ],
            [
             0.3,
             "#f1b6da"
            ],
            [
             0.4,
             "#fde0ef"
            ],
            [
             0.5,
             "#f7f7f7"
            ],
            [
             0.6,
             "#e6f5d0"
            ],
            [
             0.7,
             "#b8e186"
            ],
            [
             0.8,
             "#7fbc41"
            ],
            [
             0.9,
             "#4d9221"
            ],
            [
             1,
             "#276419"
            ]
           ],
           "sequential": [
            [
             0,
             "#0d0887"
            ],
            [
             0.1111111111111111,
             "#46039f"
            ],
            [
             0.2222222222222222,
             "#7201a8"
            ],
            [
             0.3333333333333333,
             "#9c179e"
            ],
            [
             0.4444444444444444,
             "#bd3786"
            ],
            [
             0.5555555555555556,
             "#d8576b"
            ],
            [
             0.6666666666666666,
             "#ed7953"
            ],
            [
             0.7777777777777778,
             "#fb9f3a"
            ],
            [
             0.8888888888888888,
             "#fdca26"
            ],
            [
             1,
             "#f0f921"
            ]
           ],
           "sequentialminus": [
            [
             0,
             "#0d0887"
            ],
            [
             0.1111111111111111,
             "#46039f"
            ],
            [
             0.2222222222222222,
             "#7201a8"
            ],
            [
             0.3333333333333333,
             "#9c179e"
            ],
            [
             0.4444444444444444,
             "#bd3786"
            ],
            [
             0.5555555555555556,
             "#d8576b"
            ],
            [
             0.6666666666666666,
             "#ed7953"
            ],
            [
             0.7777777777777778,
             "#fb9f3a"
            ],
            [
             0.8888888888888888,
             "#fdca26"
            ],
            [
             1,
             "#f0f921"
            ]
           ]
          },
          "colorway": [
           "#636efa",
           "#EF553B",
           "#00cc96",
           "#ab63fa",
           "#FFA15A",
           "#19d3f3",
           "#FF6692",
           "#B6E880",
           "#FF97FF",
           "#FECB52"
          ],
          "font": {
           "color": "#2a3f5f"
          },
          "geo": {
           "bgcolor": "white",
           "lakecolor": "white",
           "landcolor": "#E5ECF6",
           "showlakes": true,
           "showland": true,
           "subunitcolor": "white"
          },
          "hoverlabel": {
           "align": "left"
          },
          "hovermode": "closest",
          "mapbox": {
           "style": "light"
          },
          "paper_bgcolor": "white",
          "plot_bgcolor": "#E5ECF6",
          "polar": {
           "angularaxis": {
            "gridcolor": "white",
            "linecolor": "white",
            "ticks": ""
           },
           "bgcolor": "#E5ECF6",
           "radialaxis": {
            "gridcolor": "white",
            "linecolor": "white",
            "ticks": ""
           }
          },
          "scene": {
           "xaxis": {
            "backgroundcolor": "#E5ECF6",
            "gridcolor": "white",
            "gridwidth": 2,
            "linecolor": "white",
            "showbackground": true,
            "ticks": "",
            "zerolinecolor": "white"
           },
           "yaxis": {
            "backgroundcolor": "#E5ECF6",
            "gridcolor": "white",
            "gridwidth": 2,
            "linecolor": "white",
            "showbackground": true,
            "ticks": "",
            "zerolinecolor": "white"
           },
           "zaxis": {
            "backgroundcolor": "#E5ECF6",
            "gridcolor": "white",
            "gridwidth": 2,
            "linecolor": "white",
            "showbackground": true,
            "ticks": "",
            "zerolinecolor": "white"
           }
          },
          "shapedefaults": {
           "line": {
            "color": "#2a3f5f"
           }
          },
          "ternary": {
           "aaxis": {
            "gridcolor": "white",
            "linecolor": "white",
            "ticks": ""
           },
           "baxis": {
            "gridcolor": "white",
            "linecolor": "white",
            "ticks": ""
           },
           "bgcolor": "#E5ECF6",
           "caxis": {
            "gridcolor": "white",
            "linecolor": "white",
            "ticks": ""
           }
          },
          "title": {
           "x": 0.05
          },
          "xaxis": {
           "automargin": true,
           "gridcolor": "white",
           "linecolor": "white",
           "ticks": "",
           "title": {
            "standoff": 15
           },
           "zerolinecolor": "white",
           "zerolinewidth": 2
          },
          "yaxis": {
           "automargin": true,
           "gridcolor": "white",
           "linecolor": "white",
           "ticks": "",
           "title": {
            "standoff": 15
           },
           "zerolinecolor": "white",
           "zerolinewidth": 2
          }
         }
        },
        "title": {
         "font": {
          "color": "#4D5663"
         }
        },
        "xaxis": {
         "gridcolor": "#E1E5ED",
         "showgrid": true,
         "tickfont": {
          "color": "#4D5663"
         },
         "title": {
          "font": {
           "color": "#4D5663"
          },
          "text": ""
         },
         "zerolinecolor": "#E1E5ED"
        },
        "yaxis": {
         "gridcolor": "#E1E5ED",
         "showgrid": true,
         "tickfont": {
          "color": "#4D5663"
         },
         "title": {
          "font": {
           "color": "#4D5663"
          },
          "text": ""
         },
         "zerolinecolor": "#E1E5ED"
        }
       }
      },
      "text/html": [
       "<div>                            <div id=\"15831a73-bdf8-4052-b839-73549237ea72\" class=\"plotly-graph-div\" style=\"height:525px; width:100%;\"></div>            <script type=\"text/javascript\">                require([\"plotly\"], function(Plotly) {                    window.PLOTLYENV=window.PLOTLYENV || {};\n",
       "                    window.PLOTLYENV.BASE_URL='https://plot.ly';                                    if (document.getElementById(\"15831a73-bdf8-4052-b839-73549237ea72\")) {                    Plotly.newPlot(                        \"15831a73-bdf8-4052-b839-73549237ea72\",                        [{\"line\":{\"color\":\"rgba(255, 153, 51, 1.0)\",\"dash\":\"solid\",\"shape\":\"linear\",\"width\":1.3},\"mode\":\"lines\",\"name\":\"B\",\"text\":\"\",\"type\":\"scatter\",\"x\":[-0.4203769172138504,-1.7425536061462963,0.889037777019348,-1.0146950303,0.644987085922443,-0.5867545637092614,0.19788543355418084,-0.2730404740189748,-0.9026425523496677,-1.6279069661349634,-1.502814218287029,0.9328022335577573,-0.1647065323106058,0.6098435552056553,0.7157458424489646,-1.8653534653067507,0.04561722455290629,-1.83236922326372,1.2857591028121669,0.970847338623453,0.38469108105725586,-0.40669880244896184,-0.06933498378794453,1.320095941524994,-0.049271141297447224,0.24992502893762825,-1.0468650538432982,0.8544164021291353,0.5427353132690936,-0.6046711968130206,0.268146006228171,-0.8136978787020882,0.5129283434240521,-1.135879355830157,-0.5949835740230749,-0.9991198230270095,-1.6954857308348357,-0.5946797454314954,-0.038096198045322445,-0.597690474040178,-0.91787070032281,0.0049305892151103705,0.3176792336961347,1.8158591736530727,-0.18625555231119253,0.5334916797623348,-1.7790749335164024,-0.4561764528203567,-0.5383765801583805,0.9303974394928215,0.3019654074882458,-0.44691681108686937,1.0528514568643699,-0.8167380173526259,1.2329356705867764,1.5463527728336532,-0.20062580071149355,-0.09651096288571068,0.9154837337810589,-1.116298893230286,-0.12815668411074205,-0.35583474560030715,-0.1451024331637089,-0.015403174313218963,-0.28000443145952597,-0.47316418081547024,1.1183679273647713,0.5531770838513008,0.510397106892376,0.8396821842077113,0.11193850783712242,1.5340640502750655,0.021240171794083367,-0.9880713077949188,-0.6483165415061083,-0.3232730425399403,-0.3962516779122834,-0.4889839801990028,-0.6958235391363193,1.0309874763249955,-1.2084742863986977,-1.326989784774145,0.87219511894707,-0.5061261280696431,-0.9298406048337552,0.3475633689311191,-0.4488686768784139,0.08110817045384922,-0.0762302794889301,0.9625165014804028,0.8396345494906886,-1.80754629237557,0.8112661931818693,-0.6042239124449605,0.12005231709963185,-0.1764783558475839,1.4807239063761461,-1.2889664844008466,0.34080712450550255,0.5160231621797224],\"y\":[0.6705648136691061,0.7479108416593321,0.12376066704020804,0.5076865776365572,0.27751055021147714,-0.03885891767652951,-1.1484619773486824,0.06228241207836648,-1.057573110496256,1.135998182104359,-1.5268471457059039,0.03189578091454026,0.22200393733858212,0.35923447166256467,0.0438455986084191,-0.3286116744247036,-2.263135223059364,-0.4813577542132742,-1.3263312412535673,-0.49685187273799336,0.3715396209386487,1.3972487045901876,-1.7711776100919718,0.5164795444719394,-0.4040893207540781,-0.233485549950093,-1.476540568165758,0.28736959359819514,-1.828738271205067,-0.23033607719013108,-0.1716670784386983,0.6333589652539582,0.24579312524127364,-1.0430792092208319,-1.3054477184770257,-0.377953740083831,-1.6893335298772036,-0.05613954327924084,-0.6487634074366234,0.28329949096429036,-0.4042017835341697,0.032341002346677895,0.09703874914253871,-1.6933485826179155,0.6919740876165209,1.6491769080229144,-0.5779327269841692,-0.368352415642468,-1.5547059886995682,-1.9347232358061432,-0.49457341387009357,-1.1431865654017428,-0.589440944580983,-0.7321925083296308,-0.5598495607910404,-0.07280153382431334,-0.9677078775408386,2.110893914463245,-1.8007775476818115,-0.5492778523321554,-0.5153143189722851,0.2819410514014495,0.6389173365089797,-0.03690079064012558,0.3154919697960902,0.34399013315007754,0.8770157732702345,1.59051131022073,0.7904345189953608,0.7311438272766193,0.7387973826077535,-0.879583440706914,0.5868810728835954,0.03420631434201392,-0.45894188198105734,-0.4850085142032951,0.15108157763018584,0.1416739928211047,0.4779585274094298,-0.8118140116099221,0.5562018187811655,-0.24169835421043992,-0.5660844805115468,-0.49218350172725206,-0.61293743048621,1.2332793309806727,2.1240417997227214,1.400322812515332,-1.2707703517297577,0.04297896308622119,-1.1629777976548832,-0.527264203119578,-1.1036025507929965,0.11634484045105915,1.4459565634949803,-0.19104602555144024,1.43788963939247,-2.0614461044332733,1.6997794796458487,0.19527633470967637]}],                        {\"legend\":{\"bgcolor\":\"#F5F6F9\",\"font\":{\"color\":\"#4D5663\"}},\"paper_bgcolor\":\"#F5F6F9\",\"plot_bgcolor\":\"#F5F6F9\",\"template\":{\"data\":{\"bar\":[{\"error_x\":{\"color\":\"#2a3f5f\"},\"error_y\":{\"color\":\"#2a3f5f\"},\"marker\":{\"line\":{\"color\":\"#E5ECF6\",\"width\":0.5},\"pattern\":{\"fillmode\":\"overlay\",\"size\":10,\"solidity\":0.2}},\"type\":\"bar\"}],\"barpolar\":[{\"marker\":{\"line\":{\"color\":\"#E5ECF6\",\"width\":0.5},\"pattern\":{\"fillmode\":\"overlay\",\"size\":10,\"solidity\":0.2}},\"type\":\"barpolar\"}],\"carpet\":[{\"aaxis\":{\"endlinecolor\":\"#2a3f5f\",\"gridcolor\":\"white\",\"linecolor\":\"white\",\"minorgridcolor\":\"white\",\"startlinecolor\":\"#2a3f5f\"},\"baxis\":{\"endlinecolor\":\"#2a3f5f\",\"gridcolor\":\"white\",\"linecolor\":\"white\",\"minorgridcolor\":\"white\",\"startlinecolor\":\"#2a3f5f\"},\"type\":\"carpet\"}],\"choropleth\":[{\"colorbar\":{\"outlinewidth\":0,\"ticks\":\"\"},\"type\":\"choropleth\"}],\"contour\":[{\"colorbar\":{\"outlinewidth\":0,\"ticks\":\"\"},\"colorscale\":[[0.0,\"#0d0887\"],[0.1111111111111111,\"#46039f\"],[0.2222222222222222,\"#7201a8\"],[0.3333333333333333,\"#9c179e\"],[0.4444444444444444,\"#bd3786\"],[0.5555555555555556,\"#d8576b\"],[0.6666666666666666,\"#ed7953\"],[0.7777777777777778,\"#fb9f3a\"],[0.8888888888888888,\"#fdca26\"],[1.0,\"#f0f921\"]],\"type\":\"contour\"}],\"contourcarpet\":[{\"colorbar\":{\"outlinewidth\":0,\"ticks\":\"\"},\"type\":\"contourcarpet\"}],\"heatmap\":[{\"colorbar\":{\"outlinewidth\":0,\"ticks\":\"\"},\"colorscale\":[[0.0,\"#0d0887\"],[0.1111111111111111,\"#46039f\"],[0.2222222222222222,\"#7201a8\"],[0.3333333333333333,\"#9c179e\"],[0.4444444444444444,\"#bd3786\"],[0.5555555555555556,\"#d8576b\"],[0.6666666666666666,\"#ed7953\"],[0.7777777777777778,\"#fb9f3a\"],[0.8888888888888888,\"#fdca26\"],[1.0,\"#f0f921\"]],\"type\":\"heatmap\"}],\"heatmapgl\":[{\"colorbar\":{\"outlinewidth\":0,\"ticks\":\"\"},\"colorscale\":[[0.0,\"#0d0887\"],[0.1111111111111111,\"#46039f\"],[0.2222222222222222,\"#7201a8\"],[0.3333333333333333,\"#9c179e\"],[0.4444444444444444,\"#bd3786\"],[0.5555555555555556,\"#d8576b\"],[0.6666666666666666,\"#ed7953\"],[0.7777777777777778,\"#fb9f3a\"],[0.8888888888888888,\"#fdca26\"],[1.0,\"#f0f921\"]],\"type\":\"heatmapgl\"}],\"histogram\":[{\"marker\":{\"pattern\":{\"fillmode\":\"overlay\",\"size\":10,\"solidity\":0.2}},\"type\":\"histogram\"}],\"histogram2d\":[{\"colorbar\":{\"outlinewidth\":0,\"ticks\":\"\"},\"colorscale\":[[0.0,\"#0d0887\"],[0.1111111111111111,\"#46039f\"],[0.2222222222222222,\"#7201a8\"],[0.3333333333333333,\"#9c179e\"],[0.4444444444444444,\"#bd3786\"],[0.5555555555555556,\"#d8576b\"],[0.6666666666666666,\"#ed7953\"],[0.7777777777777778,\"#fb9f3a\"],[0.8888888888888888,\"#fdca26\"],[1.0,\"#f0f921\"]],\"type\":\"histogram2d\"}],\"histogram2dcontour\":[{\"colorbar\":{\"outlinewidth\":0,\"ticks\":\"\"},\"colorscale\":[[0.0,\"#0d0887\"],[0.1111111111111111,\"#46039f\"],[0.2222222222222222,\"#7201a8\"],[0.3333333333333333,\"#9c179e\"],[0.4444444444444444,\"#bd3786\"],[0.5555555555555556,\"#d8576b\"],[0.6666666666666666,\"#ed7953\"],[0.7777777777777778,\"#fb9f3a\"],[0.8888888888888888,\"#fdca26\"],[1.0,\"#f0f921\"]],\"type\":\"histogram2dcontour\"}],\"mesh3d\":[{\"colorbar\":{\"outlinewidth\":0,\"ticks\":\"\"},\"type\":\"mesh3d\"}],\"parcoords\":[{\"line\":{\"colorbar\":{\"outlinewidth\":0,\"ticks\":\"\"}},\"type\":\"parcoords\"}],\"pie\":[{\"automargin\":true,\"type\":\"pie\"}],\"scatter\":[{\"marker\":{\"colorbar\":{\"outlinewidth\":0,\"ticks\":\"\"}},\"type\":\"scatter\"}],\"scatter3d\":[{\"line\":{\"colorbar\":{\"outlinewidth\":0,\"ticks\":\"\"}},\"marker\":{\"colorbar\":{\"outlinewidth\":0,\"ticks\":\"\"}},\"type\":\"scatter3d\"}],\"scattercarpet\":[{\"marker\":{\"colorbar\":{\"outlinewidth\":0,\"ticks\":\"\"}},\"type\":\"scattercarpet\"}],\"scattergeo\":[{\"marker\":{\"colorbar\":{\"outlinewidth\":0,\"ticks\":\"\"}},\"type\":\"scattergeo\"}],\"scattergl\":[{\"marker\":{\"colorbar\":{\"outlinewidth\":0,\"ticks\":\"\"}},\"type\":\"scattergl\"}],\"scattermapbox\":[{\"marker\":{\"colorbar\":{\"outlinewidth\":0,\"ticks\":\"\"}},\"type\":\"scattermapbox\"}],\"scatterpolar\":[{\"marker\":{\"colorbar\":{\"outlinewidth\":0,\"ticks\":\"\"}},\"type\":\"scatterpolar\"}],\"scatterpolargl\":[{\"marker\":{\"colorbar\":{\"outlinewidth\":0,\"ticks\":\"\"}},\"type\":\"scatterpolargl\"}],\"scatterternary\":[{\"marker\":{\"colorbar\":{\"outlinewidth\":0,\"ticks\":\"\"}},\"type\":\"scatterternary\"}],\"surface\":[{\"colorbar\":{\"outlinewidth\":0,\"ticks\":\"\"},\"colorscale\":[[0.0,\"#0d0887\"],[0.1111111111111111,\"#46039f\"],[0.2222222222222222,\"#7201a8\"],[0.3333333333333333,\"#9c179e\"],[0.4444444444444444,\"#bd3786\"],[0.5555555555555556,\"#d8576b\"],[0.6666666666666666,\"#ed7953\"],[0.7777777777777778,\"#fb9f3a\"],[0.8888888888888888,\"#fdca26\"],[1.0,\"#f0f921\"]],\"type\":\"surface\"}],\"table\":[{\"cells\":{\"fill\":{\"color\":\"#EBF0F8\"},\"line\":{\"color\":\"white\"}},\"header\":{\"fill\":{\"color\":\"#C8D4E3\"},\"line\":{\"color\":\"white\"}},\"type\":\"table\"}]},\"layout\":{\"annotationdefaults\":{\"arrowcolor\":\"#2a3f5f\",\"arrowhead\":0,\"arrowwidth\":1},\"autotypenumbers\":\"strict\",\"coloraxis\":{\"colorbar\":{\"outlinewidth\":0,\"ticks\":\"\"}},\"colorscale\":{\"diverging\":[[0,\"#8e0152\"],[0.1,\"#c51b7d\"],[0.2,\"#de77ae\"],[0.3,\"#f1b6da\"],[0.4,\"#fde0ef\"],[0.5,\"#f7f7f7\"],[0.6,\"#e6f5d0\"],[0.7,\"#b8e186\"],[0.8,\"#7fbc41\"],[0.9,\"#4d9221\"],[1,\"#276419\"]],\"sequential\":[[0.0,\"#0d0887\"],[0.1111111111111111,\"#46039f\"],[0.2222222222222222,\"#7201a8\"],[0.3333333333333333,\"#9c179e\"],[0.4444444444444444,\"#bd3786\"],[0.5555555555555556,\"#d8576b\"],[0.6666666666666666,\"#ed7953\"],[0.7777777777777778,\"#fb9f3a\"],[0.8888888888888888,\"#fdca26\"],[1.0,\"#f0f921\"]],\"sequentialminus\":[[0.0,\"#0d0887\"],[0.1111111111111111,\"#46039f\"],[0.2222222222222222,\"#7201a8\"],[0.3333333333333333,\"#9c179e\"],[0.4444444444444444,\"#bd3786\"],[0.5555555555555556,\"#d8576b\"],[0.6666666666666666,\"#ed7953\"],[0.7777777777777778,\"#fb9f3a\"],[0.8888888888888888,\"#fdca26\"],[1.0,\"#f0f921\"]]},\"colorway\":[\"#636efa\",\"#EF553B\",\"#00cc96\",\"#ab63fa\",\"#FFA15A\",\"#19d3f3\",\"#FF6692\",\"#B6E880\",\"#FF97FF\",\"#FECB52\"],\"font\":{\"color\":\"#2a3f5f\"},\"geo\":{\"bgcolor\":\"white\",\"lakecolor\":\"white\",\"landcolor\":\"#E5ECF6\",\"showlakes\":true,\"showland\":true,\"subunitcolor\":\"white\"},\"hoverlabel\":{\"align\":\"left\"},\"hovermode\":\"closest\",\"mapbox\":{\"style\":\"light\"},\"paper_bgcolor\":\"white\",\"plot_bgcolor\":\"#E5ECF6\",\"polar\":{\"angularaxis\":{\"gridcolor\":\"white\",\"linecolor\":\"white\",\"ticks\":\"\"},\"bgcolor\":\"#E5ECF6\",\"radialaxis\":{\"gridcolor\":\"white\",\"linecolor\":\"white\",\"ticks\":\"\"}},\"scene\":{\"xaxis\":{\"backgroundcolor\":\"#E5ECF6\",\"gridcolor\":\"white\",\"gridwidth\":2,\"linecolor\":\"white\",\"showbackground\":true,\"ticks\":\"\",\"zerolinecolor\":\"white\"},\"yaxis\":{\"backgroundcolor\":\"#E5ECF6\",\"gridcolor\":\"white\",\"gridwidth\":2,\"linecolor\":\"white\",\"showbackground\":true,\"ticks\":\"\",\"zerolinecolor\":\"white\"},\"zaxis\":{\"backgroundcolor\":\"#E5ECF6\",\"gridcolor\":\"white\",\"gridwidth\":2,\"linecolor\":\"white\",\"showbackground\":true,\"ticks\":\"\",\"zerolinecolor\":\"white\"}},\"shapedefaults\":{\"line\":{\"color\":\"#2a3f5f\"}},\"ternary\":{\"aaxis\":{\"gridcolor\":\"white\",\"linecolor\":\"white\",\"ticks\":\"\"},\"baxis\":{\"gridcolor\":\"white\",\"linecolor\":\"white\",\"ticks\":\"\"},\"bgcolor\":\"#E5ECF6\",\"caxis\":{\"gridcolor\":\"white\",\"linecolor\":\"white\",\"ticks\":\"\"}},\"title\":{\"x\":0.05},\"xaxis\":{\"automargin\":true,\"gridcolor\":\"white\",\"linecolor\":\"white\",\"ticks\":\"\",\"title\":{\"standoff\":15},\"zerolinecolor\":\"white\",\"zerolinewidth\":2},\"yaxis\":{\"automargin\":true,\"gridcolor\":\"white\",\"linecolor\":\"white\",\"ticks\":\"\",\"title\":{\"standoff\":15},\"zerolinecolor\":\"white\",\"zerolinewidth\":2}}},\"title\":{\"font\":{\"color\":\"#4D5663\"}},\"xaxis\":{\"gridcolor\":\"#E1E5ED\",\"showgrid\":true,\"tickfont\":{\"color\":\"#4D5663\"},\"title\":{\"font\":{\"color\":\"#4D5663\"},\"text\":\"\"},\"zerolinecolor\":\"#E1E5ED\"},\"yaxis\":{\"gridcolor\":\"#E1E5ED\",\"showgrid\":true,\"tickfont\":{\"color\":\"#4D5663\"},\"title\":{\"font\":{\"color\":\"#4D5663\"},\"text\":\"\"},\"zerolinecolor\":\"#E1E5ED\"}},                        {\"showLink\": true, \"linkText\": \"Export to plot.ly\", \"plotlyServerURL\": \"https://plot.ly\", \"responsive\": true}                    ).then(function(){\n",
       "                            \n",
       "var gd = document.getElementById('15831a73-bdf8-4052-b839-73549237ea72');\n",
       "var x = new MutationObserver(function (mutations, observer) {{\n",
       "        var display = window.getComputedStyle(gd).display;\n",
       "        if (!display || display === 'none') {{\n",
       "            console.log([gd, 'removed!']);\n",
       "            Plotly.purge(gd);\n",
       "            observer.disconnect();\n",
       "        }}\n",
       "}});\n",
       "\n",
       "// Listen for the removal of the full notebook cells\n",
       "var notebookContainer = gd.closest('#notebook-container');\n",
       "if (notebookContainer) {{\n",
       "    x.observe(notebookContainer, {childList: true});\n",
       "}}\n",
       "\n",
       "// Listen for the clearing of the current output cell\n",
       "var outputEl = gd.closest('.output');\n",
       "if (outputEl) {{\n",
       "    x.observe(outputEl, {childList: true});\n",
       "}}\n",
       "\n",
       "                        })                };                });            </script>        </div>"
      ]
     },
     "metadata": {},
     "output_type": "display_data"
    }
   ],
   "source": [
    "df.iplot(kind='scatter',x='A',y='B')"
   ]
  },
  {
   "cell_type": "code",
   "execution_count": 31,
   "id": "93c3b2f9",
   "metadata": {},
   "outputs": [
    {
     "data": {
      "application/vnd.plotly.v1+json": {
       "config": {
        "linkText": "Export to plot.ly",
        "plotlyServerURL": "https://plot.ly",
        "showLink": true
       },
       "data": [
        {
         "line": {
          "color": "rgba(255, 153, 51, 1.0)",
          "dash": "solid",
          "shape": "linear",
          "width": 1.3
         },
         "marker": {
          "size": 12,
          "symbol": "circle"
         },
         "mode": "markers",
         "name": "B",
         "text": "",
         "type": "scatter",
         "x": [
          -0.4203769172138504,
          -1.7425536061462963,
          0.889037777019348,
          -1.0146950303,
          0.644987085922443,
          -0.5867545637092614,
          0.19788543355418084,
          -0.2730404740189748,
          -0.9026425523496677,
          -1.6279069661349634,
          -1.502814218287029,
          0.9328022335577573,
          -0.1647065323106058,
          0.6098435552056553,
          0.7157458424489646,
          -1.8653534653067507,
          0.04561722455290629,
          -1.83236922326372,
          1.2857591028121669,
          0.970847338623453,
          0.38469108105725586,
          -0.40669880244896184,
          -0.06933498378794453,
          1.320095941524994,
          -0.049271141297447224,
          0.24992502893762825,
          -1.0468650538432982,
          0.8544164021291353,
          0.5427353132690936,
          -0.6046711968130206,
          0.268146006228171,
          -0.8136978787020882,
          0.5129283434240521,
          -1.135879355830157,
          -0.5949835740230749,
          -0.9991198230270095,
          -1.6954857308348357,
          -0.5946797454314954,
          -0.038096198045322445,
          -0.597690474040178,
          -0.91787070032281,
          0.0049305892151103705,
          0.3176792336961347,
          1.8158591736530727,
          -0.18625555231119253,
          0.5334916797623348,
          -1.7790749335164024,
          -0.4561764528203567,
          -0.5383765801583805,
          0.9303974394928215,
          0.3019654074882458,
          -0.44691681108686937,
          1.0528514568643699,
          -0.8167380173526259,
          1.2329356705867764,
          1.5463527728336532,
          -0.20062580071149355,
          -0.09651096288571068,
          0.9154837337810589,
          -1.116298893230286,
          -0.12815668411074205,
          -0.35583474560030715,
          -0.1451024331637089,
          -0.015403174313218963,
          -0.28000443145952597,
          -0.47316418081547024,
          1.1183679273647713,
          0.5531770838513008,
          0.510397106892376,
          0.8396821842077113,
          0.11193850783712242,
          1.5340640502750655,
          0.021240171794083367,
          -0.9880713077949188,
          -0.6483165415061083,
          -0.3232730425399403,
          -0.3962516779122834,
          -0.4889839801990028,
          -0.6958235391363193,
          1.0309874763249955,
          -1.2084742863986977,
          -1.326989784774145,
          0.87219511894707,
          -0.5061261280696431,
          -0.9298406048337552,
          0.3475633689311191,
          -0.4488686768784139,
          0.08110817045384922,
          -0.0762302794889301,
          0.9625165014804028,
          0.8396345494906886,
          -1.80754629237557,
          0.8112661931818693,
          -0.6042239124449605,
          0.12005231709963185,
          -0.1764783558475839,
          1.4807239063761461,
          -1.2889664844008466,
          0.34080712450550255,
          0.5160231621797224
         ],
         "y": [
          0.6705648136691061,
          0.7479108416593321,
          0.12376066704020804,
          0.5076865776365572,
          0.27751055021147714,
          -0.03885891767652951,
          -1.1484619773486824,
          0.06228241207836648,
          -1.057573110496256,
          1.135998182104359,
          -1.5268471457059039,
          0.03189578091454026,
          0.22200393733858212,
          0.35923447166256467,
          0.0438455986084191,
          -0.3286116744247036,
          -2.263135223059364,
          -0.4813577542132742,
          -1.3263312412535673,
          -0.49685187273799336,
          0.3715396209386487,
          1.3972487045901876,
          -1.7711776100919718,
          0.5164795444719394,
          -0.4040893207540781,
          -0.233485549950093,
          -1.476540568165758,
          0.28736959359819514,
          -1.828738271205067,
          -0.23033607719013108,
          -0.1716670784386983,
          0.6333589652539582,
          0.24579312524127364,
          -1.0430792092208319,
          -1.3054477184770257,
          -0.377953740083831,
          -1.6893335298772036,
          -0.05613954327924084,
          -0.6487634074366234,
          0.28329949096429036,
          -0.4042017835341697,
          0.032341002346677895,
          0.09703874914253871,
          -1.6933485826179155,
          0.6919740876165209,
          1.6491769080229144,
          -0.5779327269841692,
          -0.368352415642468,
          -1.5547059886995682,
          -1.9347232358061432,
          -0.49457341387009357,
          -1.1431865654017428,
          -0.589440944580983,
          -0.7321925083296308,
          -0.5598495607910404,
          -0.07280153382431334,
          -0.9677078775408386,
          2.110893914463245,
          -1.8007775476818115,
          -0.5492778523321554,
          -0.5153143189722851,
          0.2819410514014495,
          0.6389173365089797,
          -0.03690079064012558,
          0.3154919697960902,
          0.34399013315007754,
          0.8770157732702345,
          1.59051131022073,
          0.7904345189953608,
          0.7311438272766193,
          0.7387973826077535,
          -0.879583440706914,
          0.5868810728835954,
          0.03420631434201392,
          -0.45894188198105734,
          -0.4850085142032951,
          0.15108157763018584,
          0.1416739928211047,
          0.4779585274094298,
          -0.8118140116099221,
          0.5562018187811655,
          -0.24169835421043992,
          -0.5660844805115468,
          -0.49218350172725206,
          -0.61293743048621,
          1.2332793309806727,
          2.1240417997227214,
          1.400322812515332,
          -1.2707703517297577,
          0.04297896308622119,
          -1.1629777976548832,
          -0.527264203119578,
          -1.1036025507929965,
          0.11634484045105915,
          1.4459565634949803,
          -0.19104602555144024,
          1.43788963939247,
          -2.0614461044332733,
          1.6997794796458487,
          0.19527633470967637
         ]
        }
       ],
       "layout": {
        "legend": {
         "bgcolor": "#F5F6F9",
         "font": {
          "color": "#4D5663"
         }
        },
        "paper_bgcolor": "#F5F6F9",
        "plot_bgcolor": "#F5F6F9",
        "template": {
         "data": {
          "bar": [
           {
            "error_x": {
             "color": "#2a3f5f"
            },
            "error_y": {
             "color": "#2a3f5f"
            },
            "marker": {
             "line": {
              "color": "#E5ECF6",
              "width": 0.5
             },
             "pattern": {
              "fillmode": "overlay",
              "size": 10,
              "solidity": 0.2
             }
            },
            "type": "bar"
           }
          ],
          "barpolar": [
           {
            "marker": {
             "line": {
              "color": "#E5ECF6",
              "width": 0.5
             },
             "pattern": {
              "fillmode": "overlay",
              "size": 10,
              "solidity": 0.2
             }
            },
            "type": "barpolar"
           }
          ],
          "carpet": [
           {
            "aaxis": {
             "endlinecolor": "#2a3f5f",
             "gridcolor": "white",
             "linecolor": "white",
             "minorgridcolor": "white",
             "startlinecolor": "#2a3f5f"
            },
            "baxis": {
             "endlinecolor": "#2a3f5f",
             "gridcolor": "white",
             "linecolor": "white",
             "minorgridcolor": "white",
             "startlinecolor": "#2a3f5f"
            },
            "type": "carpet"
           }
          ],
          "choropleth": [
           {
            "colorbar": {
             "outlinewidth": 0,
             "ticks": ""
            },
            "type": "choropleth"
           }
          ],
          "contour": [
           {
            "colorbar": {
             "outlinewidth": 0,
             "ticks": ""
            },
            "colorscale": [
             [
              0,
              "#0d0887"
             ],
             [
              0.1111111111111111,
              "#46039f"
             ],
             [
              0.2222222222222222,
              "#7201a8"
             ],
             [
              0.3333333333333333,
              "#9c179e"
             ],
             [
              0.4444444444444444,
              "#bd3786"
             ],
             [
              0.5555555555555556,
              "#d8576b"
             ],
             [
              0.6666666666666666,
              "#ed7953"
             ],
             [
              0.7777777777777778,
              "#fb9f3a"
             ],
             [
              0.8888888888888888,
              "#fdca26"
             ],
             [
              1,
              "#f0f921"
             ]
            ],
            "type": "contour"
           }
          ],
          "contourcarpet": [
           {
            "colorbar": {
             "outlinewidth": 0,
             "ticks": ""
            },
            "type": "contourcarpet"
           }
          ],
          "heatmap": [
           {
            "colorbar": {
             "outlinewidth": 0,
             "ticks": ""
            },
            "colorscale": [
             [
              0,
              "#0d0887"
             ],
             [
              0.1111111111111111,
              "#46039f"
             ],
             [
              0.2222222222222222,
              "#7201a8"
             ],
             [
              0.3333333333333333,
              "#9c179e"
             ],
             [
              0.4444444444444444,
              "#bd3786"
             ],
             [
              0.5555555555555556,
              "#d8576b"
             ],
             [
              0.6666666666666666,
              "#ed7953"
             ],
             [
              0.7777777777777778,
              "#fb9f3a"
             ],
             [
              0.8888888888888888,
              "#fdca26"
             ],
             [
              1,
              "#f0f921"
             ]
            ],
            "type": "heatmap"
           }
          ],
          "heatmapgl": [
           {
            "colorbar": {
             "outlinewidth": 0,
             "ticks": ""
            },
            "colorscale": [
             [
              0,
              "#0d0887"
             ],
             [
              0.1111111111111111,
              "#46039f"
             ],
             [
              0.2222222222222222,
              "#7201a8"
             ],
             [
              0.3333333333333333,
              "#9c179e"
             ],
             [
              0.4444444444444444,
              "#bd3786"
             ],
             [
              0.5555555555555556,
              "#d8576b"
             ],
             [
              0.6666666666666666,
              "#ed7953"
             ],
             [
              0.7777777777777778,
              "#fb9f3a"
             ],
             [
              0.8888888888888888,
              "#fdca26"
             ],
             [
              1,
              "#f0f921"
             ]
            ],
            "type": "heatmapgl"
           }
          ],
          "histogram": [
           {
            "marker": {
             "pattern": {
              "fillmode": "overlay",
              "size": 10,
              "solidity": 0.2
             }
            },
            "type": "histogram"
           }
          ],
          "histogram2d": [
           {
            "colorbar": {
             "outlinewidth": 0,
             "ticks": ""
            },
            "colorscale": [
             [
              0,
              "#0d0887"
             ],
             [
              0.1111111111111111,
              "#46039f"
             ],
             [
              0.2222222222222222,
              "#7201a8"
             ],
             [
              0.3333333333333333,
              "#9c179e"
             ],
             [
              0.4444444444444444,
              "#bd3786"
             ],
             [
              0.5555555555555556,
              "#d8576b"
             ],
             [
              0.6666666666666666,
              "#ed7953"
             ],
             [
              0.7777777777777778,
              "#fb9f3a"
             ],
             [
              0.8888888888888888,
              "#fdca26"
             ],
             [
              1,
              "#f0f921"
             ]
            ],
            "type": "histogram2d"
           }
          ],
          "histogram2dcontour": [
           {
            "colorbar": {
             "outlinewidth": 0,
             "ticks": ""
            },
            "colorscale": [
             [
              0,
              "#0d0887"
             ],
             [
              0.1111111111111111,
              "#46039f"
             ],
             [
              0.2222222222222222,
              "#7201a8"
             ],
             [
              0.3333333333333333,
              "#9c179e"
             ],
             [
              0.4444444444444444,
              "#bd3786"
             ],
             [
              0.5555555555555556,
              "#d8576b"
             ],
             [
              0.6666666666666666,
              "#ed7953"
             ],
             [
              0.7777777777777778,
              "#fb9f3a"
             ],
             [
              0.8888888888888888,
              "#fdca26"
             ],
             [
              1,
              "#f0f921"
             ]
            ],
            "type": "histogram2dcontour"
           }
          ],
          "mesh3d": [
           {
            "colorbar": {
             "outlinewidth": 0,
             "ticks": ""
            },
            "type": "mesh3d"
           }
          ],
          "parcoords": [
           {
            "line": {
             "colorbar": {
              "outlinewidth": 0,
              "ticks": ""
             }
            },
            "type": "parcoords"
           }
          ],
          "pie": [
           {
            "automargin": true,
            "type": "pie"
           }
          ],
          "scatter": [
           {
            "marker": {
             "colorbar": {
              "outlinewidth": 0,
              "ticks": ""
             }
            },
            "type": "scatter"
           }
          ],
          "scatter3d": [
           {
            "line": {
             "colorbar": {
              "outlinewidth": 0,
              "ticks": ""
             }
            },
            "marker": {
             "colorbar": {
              "outlinewidth": 0,
              "ticks": ""
             }
            },
            "type": "scatter3d"
           }
          ],
          "scattercarpet": [
           {
            "marker": {
             "colorbar": {
              "outlinewidth": 0,
              "ticks": ""
             }
            },
            "type": "scattercarpet"
           }
          ],
          "scattergeo": [
           {
            "marker": {
             "colorbar": {
              "outlinewidth": 0,
              "ticks": ""
             }
            },
            "type": "scattergeo"
           }
          ],
          "scattergl": [
           {
            "marker": {
             "colorbar": {
              "outlinewidth": 0,
              "ticks": ""
             }
            },
            "type": "scattergl"
           }
          ],
          "scattermapbox": [
           {
            "marker": {
             "colorbar": {
              "outlinewidth": 0,
              "ticks": ""
             }
            },
            "type": "scattermapbox"
           }
          ],
          "scatterpolar": [
           {
            "marker": {
             "colorbar": {
              "outlinewidth": 0,
              "ticks": ""
             }
            },
            "type": "scatterpolar"
           }
          ],
          "scatterpolargl": [
           {
            "marker": {
             "colorbar": {
              "outlinewidth": 0,
              "ticks": ""
             }
            },
            "type": "scatterpolargl"
           }
          ],
          "scatterternary": [
           {
            "marker": {
             "colorbar": {
              "outlinewidth": 0,
              "ticks": ""
             }
            },
            "type": "scatterternary"
           }
          ],
          "surface": [
           {
            "colorbar": {
             "outlinewidth": 0,
             "ticks": ""
            },
            "colorscale": [
             [
              0,
              "#0d0887"
             ],
             [
              0.1111111111111111,
              "#46039f"
             ],
             [
              0.2222222222222222,
              "#7201a8"
             ],
             [
              0.3333333333333333,
              "#9c179e"
             ],
             [
              0.4444444444444444,
              "#bd3786"
             ],
             [
              0.5555555555555556,
              "#d8576b"
             ],
             [
              0.6666666666666666,
              "#ed7953"
             ],
             [
              0.7777777777777778,
              "#fb9f3a"
             ],
             [
              0.8888888888888888,
              "#fdca26"
             ],
             [
              1,
              "#f0f921"
             ]
            ],
            "type": "surface"
           }
          ],
          "table": [
           {
            "cells": {
             "fill": {
              "color": "#EBF0F8"
             },
             "line": {
              "color": "white"
             }
            },
            "header": {
             "fill": {
              "color": "#C8D4E3"
             },
             "line": {
              "color": "white"
             }
            },
            "type": "table"
           }
          ]
         },
         "layout": {
          "annotationdefaults": {
           "arrowcolor": "#2a3f5f",
           "arrowhead": 0,
           "arrowwidth": 1
          },
          "autotypenumbers": "strict",
          "coloraxis": {
           "colorbar": {
            "outlinewidth": 0,
            "ticks": ""
           }
          },
          "colorscale": {
           "diverging": [
            [
             0,
             "#8e0152"
            ],
            [
             0.1,
             "#c51b7d"
            ],
            [
             0.2,
             "#de77ae"
            ],
            [
             0.3,
             "#f1b6da"
            ],
            [
             0.4,
             "#fde0ef"
            ],
            [
             0.5,
             "#f7f7f7"
            ],
            [
             0.6,
             "#e6f5d0"
            ],
            [
             0.7,
             "#b8e186"
            ],
            [
             0.8,
             "#7fbc41"
            ],
            [
             0.9,
             "#4d9221"
            ],
            [
             1,
             "#276419"
            ]
           ],
           "sequential": [
            [
             0,
             "#0d0887"
            ],
            [
             0.1111111111111111,
             "#46039f"
            ],
            [
             0.2222222222222222,
             "#7201a8"
            ],
            [
             0.3333333333333333,
             "#9c179e"
            ],
            [
             0.4444444444444444,
             "#bd3786"
            ],
            [
             0.5555555555555556,
             "#d8576b"
            ],
            [
             0.6666666666666666,
             "#ed7953"
            ],
            [
             0.7777777777777778,
             "#fb9f3a"
            ],
            [
             0.8888888888888888,
             "#fdca26"
            ],
            [
             1,
             "#f0f921"
            ]
           ],
           "sequentialminus": [
            [
             0,
             "#0d0887"
            ],
            [
             0.1111111111111111,
             "#46039f"
            ],
            [
             0.2222222222222222,
             "#7201a8"
            ],
            [
             0.3333333333333333,
             "#9c179e"
            ],
            [
             0.4444444444444444,
             "#bd3786"
            ],
            [
             0.5555555555555556,
             "#d8576b"
            ],
            [
             0.6666666666666666,
             "#ed7953"
            ],
            [
             0.7777777777777778,
             "#fb9f3a"
            ],
            [
             0.8888888888888888,
             "#fdca26"
            ],
            [
             1,
             "#f0f921"
            ]
           ]
          },
          "colorway": [
           "#636efa",
           "#EF553B",
           "#00cc96",
           "#ab63fa",
           "#FFA15A",
           "#19d3f3",
           "#FF6692",
           "#B6E880",
           "#FF97FF",
           "#FECB52"
          ],
          "font": {
           "color": "#2a3f5f"
          },
          "geo": {
           "bgcolor": "white",
           "lakecolor": "white",
           "landcolor": "#E5ECF6",
           "showlakes": true,
           "showland": true,
           "subunitcolor": "white"
          },
          "hoverlabel": {
           "align": "left"
          },
          "hovermode": "closest",
          "mapbox": {
           "style": "light"
          },
          "paper_bgcolor": "white",
          "plot_bgcolor": "#E5ECF6",
          "polar": {
           "angularaxis": {
            "gridcolor": "white",
            "linecolor": "white",
            "ticks": ""
           },
           "bgcolor": "#E5ECF6",
           "radialaxis": {
            "gridcolor": "white",
            "linecolor": "white",
            "ticks": ""
           }
          },
          "scene": {
           "xaxis": {
            "backgroundcolor": "#E5ECF6",
            "gridcolor": "white",
            "gridwidth": 2,
            "linecolor": "white",
            "showbackground": true,
            "ticks": "",
            "zerolinecolor": "white"
           },
           "yaxis": {
            "backgroundcolor": "#E5ECF6",
            "gridcolor": "white",
            "gridwidth": 2,
            "linecolor": "white",
            "showbackground": true,
            "ticks": "",
            "zerolinecolor": "white"
           },
           "zaxis": {
            "backgroundcolor": "#E5ECF6",
            "gridcolor": "white",
            "gridwidth": 2,
            "linecolor": "white",
            "showbackground": true,
            "ticks": "",
            "zerolinecolor": "white"
           }
          },
          "shapedefaults": {
           "line": {
            "color": "#2a3f5f"
           }
          },
          "ternary": {
           "aaxis": {
            "gridcolor": "white",
            "linecolor": "white",
            "ticks": ""
           },
           "baxis": {
            "gridcolor": "white",
            "linecolor": "white",
            "ticks": ""
           },
           "bgcolor": "#E5ECF6",
           "caxis": {
            "gridcolor": "white",
            "linecolor": "white",
            "ticks": ""
           }
          },
          "title": {
           "x": 0.05
          },
          "xaxis": {
           "automargin": true,
           "gridcolor": "white",
           "linecolor": "white",
           "ticks": "",
           "title": {
            "standoff": 15
           },
           "zerolinecolor": "white",
           "zerolinewidth": 2
          },
          "yaxis": {
           "automargin": true,
           "gridcolor": "white",
           "linecolor": "white",
           "ticks": "",
           "title": {
            "standoff": 15
           },
           "zerolinecolor": "white",
           "zerolinewidth": 2
          }
         }
        },
        "title": {
         "font": {
          "color": "#4D5663"
         }
        },
        "xaxis": {
         "gridcolor": "#E1E5ED",
         "showgrid": true,
         "tickfont": {
          "color": "#4D5663"
         },
         "title": {
          "font": {
           "color": "#4D5663"
          },
          "text": ""
         },
         "zerolinecolor": "#E1E5ED"
        },
        "yaxis": {
         "gridcolor": "#E1E5ED",
         "showgrid": true,
         "tickfont": {
          "color": "#4D5663"
         },
         "title": {
          "font": {
           "color": "#4D5663"
          },
          "text": ""
         },
         "zerolinecolor": "#E1E5ED"
        }
       }
      },
      "text/html": [
       "<div>                            <div id=\"b887aa5f-389c-48fe-8f80-384eb47eef3a\" class=\"plotly-graph-div\" style=\"height:525px; width:100%;\"></div>            <script type=\"text/javascript\">                require([\"plotly\"], function(Plotly) {                    window.PLOTLYENV=window.PLOTLYENV || {};\n",
       "                    window.PLOTLYENV.BASE_URL='https://plot.ly';                                    if (document.getElementById(\"b887aa5f-389c-48fe-8f80-384eb47eef3a\")) {                    Plotly.newPlot(                        \"b887aa5f-389c-48fe-8f80-384eb47eef3a\",                        [{\"line\":{\"color\":\"rgba(255, 153, 51, 1.0)\",\"dash\":\"solid\",\"shape\":\"linear\",\"width\":1.3},\"marker\":{\"size\":12,\"symbol\":\"circle\"},\"mode\":\"markers\",\"name\":\"B\",\"text\":\"\",\"type\":\"scatter\",\"x\":[-0.4203769172138504,-1.7425536061462963,0.889037777019348,-1.0146950303,0.644987085922443,-0.5867545637092614,0.19788543355418084,-0.2730404740189748,-0.9026425523496677,-1.6279069661349634,-1.502814218287029,0.9328022335577573,-0.1647065323106058,0.6098435552056553,0.7157458424489646,-1.8653534653067507,0.04561722455290629,-1.83236922326372,1.2857591028121669,0.970847338623453,0.38469108105725586,-0.40669880244896184,-0.06933498378794453,1.320095941524994,-0.049271141297447224,0.24992502893762825,-1.0468650538432982,0.8544164021291353,0.5427353132690936,-0.6046711968130206,0.268146006228171,-0.8136978787020882,0.5129283434240521,-1.135879355830157,-0.5949835740230749,-0.9991198230270095,-1.6954857308348357,-0.5946797454314954,-0.038096198045322445,-0.597690474040178,-0.91787070032281,0.0049305892151103705,0.3176792336961347,1.8158591736530727,-0.18625555231119253,0.5334916797623348,-1.7790749335164024,-0.4561764528203567,-0.5383765801583805,0.9303974394928215,0.3019654074882458,-0.44691681108686937,1.0528514568643699,-0.8167380173526259,1.2329356705867764,1.5463527728336532,-0.20062580071149355,-0.09651096288571068,0.9154837337810589,-1.116298893230286,-0.12815668411074205,-0.35583474560030715,-0.1451024331637089,-0.015403174313218963,-0.28000443145952597,-0.47316418081547024,1.1183679273647713,0.5531770838513008,0.510397106892376,0.8396821842077113,0.11193850783712242,1.5340640502750655,0.021240171794083367,-0.9880713077949188,-0.6483165415061083,-0.3232730425399403,-0.3962516779122834,-0.4889839801990028,-0.6958235391363193,1.0309874763249955,-1.2084742863986977,-1.326989784774145,0.87219511894707,-0.5061261280696431,-0.9298406048337552,0.3475633689311191,-0.4488686768784139,0.08110817045384922,-0.0762302794889301,0.9625165014804028,0.8396345494906886,-1.80754629237557,0.8112661931818693,-0.6042239124449605,0.12005231709963185,-0.1764783558475839,1.4807239063761461,-1.2889664844008466,0.34080712450550255,0.5160231621797224],\"y\":[0.6705648136691061,0.7479108416593321,0.12376066704020804,0.5076865776365572,0.27751055021147714,-0.03885891767652951,-1.1484619773486824,0.06228241207836648,-1.057573110496256,1.135998182104359,-1.5268471457059039,0.03189578091454026,0.22200393733858212,0.35923447166256467,0.0438455986084191,-0.3286116744247036,-2.263135223059364,-0.4813577542132742,-1.3263312412535673,-0.49685187273799336,0.3715396209386487,1.3972487045901876,-1.7711776100919718,0.5164795444719394,-0.4040893207540781,-0.233485549950093,-1.476540568165758,0.28736959359819514,-1.828738271205067,-0.23033607719013108,-0.1716670784386983,0.6333589652539582,0.24579312524127364,-1.0430792092208319,-1.3054477184770257,-0.377953740083831,-1.6893335298772036,-0.05613954327924084,-0.6487634074366234,0.28329949096429036,-0.4042017835341697,0.032341002346677895,0.09703874914253871,-1.6933485826179155,0.6919740876165209,1.6491769080229144,-0.5779327269841692,-0.368352415642468,-1.5547059886995682,-1.9347232358061432,-0.49457341387009357,-1.1431865654017428,-0.589440944580983,-0.7321925083296308,-0.5598495607910404,-0.07280153382431334,-0.9677078775408386,2.110893914463245,-1.8007775476818115,-0.5492778523321554,-0.5153143189722851,0.2819410514014495,0.6389173365089797,-0.03690079064012558,0.3154919697960902,0.34399013315007754,0.8770157732702345,1.59051131022073,0.7904345189953608,0.7311438272766193,0.7387973826077535,-0.879583440706914,0.5868810728835954,0.03420631434201392,-0.45894188198105734,-0.4850085142032951,0.15108157763018584,0.1416739928211047,0.4779585274094298,-0.8118140116099221,0.5562018187811655,-0.24169835421043992,-0.5660844805115468,-0.49218350172725206,-0.61293743048621,1.2332793309806727,2.1240417997227214,1.400322812515332,-1.2707703517297577,0.04297896308622119,-1.1629777976548832,-0.527264203119578,-1.1036025507929965,0.11634484045105915,1.4459565634949803,-0.19104602555144024,1.43788963939247,-2.0614461044332733,1.6997794796458487,0.19527633470967637]}],                        {\"legend\":{\"bgcolor\":\"#F5F6F9\",\"font\":{\"color\":\"#4D5663\"}},\"paper_bgcolor\":\"#F5F6F9\",\"plot_bgcolor\":\"#F5F6F9\",\"template\":{\"data\":{\"bar\":[{\"error_x\":{\"color\":\"#2a3f5f\"},\"error_y\":{\"color\":\"#2a3f5f\"},\"marker\":{\"line\":{\"color\":\"#E5ECF6\",\"width\":0.5},\"pattern\":{\"fillmode\":\"overlay\",\"size\":10,\"solidity\":0.2}},\"type\":\"bar\"}],\"barpolar\":[{\"marker\":{\"line\":{\"color\":\"#E5ECF6\",\"width\":0.5},\"pattern\":{\"fillmode\":\"overlay\",\"size\":10,\"solidity\":0.2}},\"type\":\"barpolar\"}],\"carpet\":[{\"aaxis\":{\"endlinecolor\":\"#2a3f5f\",\"gridcolor\":\"white\",\"linecolor\":\"white\",\"minorgridcolor\":\"white\",\"startlinecolor\":\"#2a3f5f\"},\"baxis\":{\"endlinecolor\":\"#2a3f5f\",\"gridcolor\":\"white\",\"linecolor\":\"white\",\"minorgridcolor\":\"white\",\"startlinecolor\":\"#2a3f5f\"},\"type\":\"carpet\"}],\"choropleth\":[{\"colorbar\":{\"outlinewidth\":0,\"ticks\":\"\"},\"type\":\"choropleth\"}],\"contour\":[{\"colorbar\":{\"outlinewidth\":0,\"ticks\":\"\"},\"colorscale\":[[0.0,\"#0d0887\"],[0.1111111111111111,\"#46039f\"],[0.2222222222222222,\"#7201a8\"],[0.3333333333333333,\"#9c179e\"],[0.4444444444444444,\"#bd3786\"],[0.5555555555555556,\"#d8576b\"],[0.6666666666666666,\"#ed7953\"],[0.7777777777777778,\"#fb9f3a\"],[0.8888888888888888,\"#fdca26\"],[1.0,\"#f0f921\"]],\"type\":\"contour\"}],\"contourcarpet\":[{\"colorbar\":{\"outlinewidth\":0,\"ticks\":\"\"},\"type\":\"contourcarpet\"}],\"heatmap\":[{\"colorbar\":{\"outlinewidth\":0,\"ticks\":\"\"},\"colorscale\":[[0.0,\"#0d0887\"],[0.1111111111111111,\"#46039f\"],[0.2222222222222222,\"#7201a8\"],[0.3333333333333333,\"#9c179e\"],[0.4444444444444444,\"#bd3786\"],[0.5555555555555556,\"#d8576b\"],[0.6666666666666666,\"#ed7953\"],[0.7777777777777778,\"#fb9f3a\"],[0.8888888888888888,\"#fdca26\"],[1.0,\"#f0f921\"]],\"type\":\"heatmap\"}],\"heatmapgl\":[{\"colorbar\":{\"outlinewidth\":0,\"ticks\":\"\"},\"colorscale\":[[0.0,\"#0d0887\"],[0.1111111111111111,\"#46039f\"],[0.2222222222222222,\"#7201a8\"],[0.3333333333333333,\"#9c179e\"],[0.4444444444444444,\"#bd3786\"],[0.5555555555555556,\"#d8576b\"],[0.6666666666666666,\"#ed7953\"],[0.7777777777777778,\"#fb9f3a\"],[0.8888888888888888,\"#fdca26\"],[1.0,\"#f0f921\"]],\"type\":\"heatmapgl\"}],\"histogram\":[{\"marker\":{\"pattern\":{\"fillmode\":\"overlay\",\"size\":10,\"solidity\":0.2}},\"type\":\"histogram\"}],\"histogram2d\":[{\"colorbar\":{\"outlinewidth\":0,\"ticks\":\"\"},\"colorscale\":[[0.0,\"#0d0887\"],[0.1111111111111111,\"#46039f\"],[0.2222222222222222,\"#7201a8\"],[0.3333333333333333,\"#9c179e\"],[0.4444444444444444,\"#bd3786\"],[0.5555555555555556,\"#d8576b\"],[0.6666666666666666,\"#ed7953\"],[0.7777777777777778,\"#fb9f3a\"],[0.8888888888888888,\"#fdca26\"],[1.0,\"#f0f921\"]],\"type\":\"histogram2d\"}],\"histogram2dcontour\":[{\"colorbar\":{\"outlinewidth\":0,\"ticks\":\"\"},\"colorscale\":[[0.0,\"#0d0887\"],[0.1111111111111111,\"#46039f\"],[0.2222222222222222,\"#7201a8\"],[0.3333333333333333,\"#9c179e\"],[0.4444444444444444,\"#bd3786\"],[0.5555555555555556,\"#d8576b\"],[0.6666666666666666,\"#ed7953\"],[0.7777777777777778,\"#fb9f3a\"],[0.8888888888888888,\"#fdca26\"],[1.0,\"#f0f921\"]],\"type\":\"histogram2dcontour\"}],\"mesh3d\":[{\"colorbar\":{\"outlinewidth\":0,\"ticks\":\"\"},\"type\":\"mesh3d\"}],\"parcoords\":[{\"line\":{\"colorbar\":{\"outlinewidth\":0,\"ticks\":\"\"}},\"type\":\"parcoords\"}],\"pie\":[{\"automargin\":true,\"type\":\"pie\"}],\"scatter\":[{\"marker\":{\"colorbar\":{\"outlinewidth\":0,\"ticks\":\"\"}},\"type\":\"scatter\"}],\"scatter3d\":[{\"line\":{\"colorbar\":{\"outlinewidth\":0,\"ticks\":\"\"}},\"marker\":{\"colorbar\":{\"outlinewidth\":0,\"ticks\":\"\"}},\"type\":\"scatter3d\"}],\"scattercarpet\":[{\"marker\":{\"colorbar\":{\"outlinewidth\":0,\"ticks\":\"\"}},\"type\":\"scattercarpet\"}],\"scattergeo\":[{\"marker\":{\"colorbar\":{\"outlinewidth\":0,\"ticks\":\"\"}},\"type\":\"scattergeo\"}],\"scattergl\":[{\"marker\":{\"colorbar\":{\"outlinewidth\":0,\"ticks\":\"\"}},\"type\":\"scattergl\"}],\"scattermapbox\":[{\"marker\":{\"colorbar\":{\"outlinewidth\":0,\"ticks\":\"\"}},\"type\":\"scattermapbox\"}],\"scatterpolar\":[{\"marker\":{\"colorbar\":{\"outlinewidth\":0,\"ticks\":\"\"}},\"type\":\"scatterpolar\"}],\"scatterpolargl\":[{\"marker\":{\"colorbar\":{\"outlinewidth\":0,\"ticks\":\"\"}},\"type\":\"scatterpolargl\"}],\"scatterternary\":[{\"marker\":{\"colorbar\":{\"outlinewidth\":0,\"ticks\":\"\"}},\"type\":\"scatterternary\"}],\"surface\":[{\"colorbar\":{\"outlinewidth\":0,\"ticks\":\"\"},\"colorscale\":[[0.0,\"#0d0887\"],[0.1111111111111111,\"#46039f\"],[0.2222222222222222,\"#7201a8\"],[0.3333333333333333,\"#9c179e\"],[0.4444444444444444,\"#bd3786\"],[0.5555555555555556,\"#d8576b\"],[0.6666666666666666,\"#ed7953\"],[0.7777777777777778,\"#fb9f3a\"],[0.8888888888888888,\"#fdca26\"],[1.0,\"#f0f921\"]],\"type\":\"surface\"}],\"table\":[{\"cells\":{\"fill\":{\"color\":\"#EBF0F8\"},\"line\":{\"color\":\"white\"}},\"header\":{\"fill\":{\"color\":\"#C8D4E3\"},\"line\":{\"color\":\"white\"}},\"type\":\"table\"}]},\"layout\":{\"annotationdefaults\":{\"arrowcolor\":\"#2a3f5f\",\"arrowhead\":0,\"arrowwidth\":1},\"autotypenumbers\":\"strict\",\"coloraxis\":{\"colorbar\":{\"outlinewidth\":0,\"ticks\":\"\"}},\"colorscale\":{\"diverging\":[[0,\"#8e0152\"],[0.1,\"#c51b7d\"],[0.2,\"#de77ae\"],[0.3,\"#f1b6da\"],[0.4,\"#fde0ef\"],[0.5,\"#f7f7f7\"],[0.6,\"#e6f5d0\"],[0.7,\"#b8e186\"],[0.8,\"#7fbc41\"],[0.9,\"#4d9221\"],[1,\"#276419\"]],\"sequential\":[[0.0,\"#0d0887\"],[0.1111111111111111,\"#46039f\"],[0.2222222222222222,\"#7201a8\"],[0.3333333333333333,\"#9c179e\"],[0.4444444444444444,\"#bd3786\"],[0.5555555555555556,\"#d8576b\"],[0.6666666666666666,\"#ed7953\"],[0.7777777777777778,\"#fb9f3a\"],[0.8888888888888888,\"#fdca26\"],[1.0,\"#f0f921\"]],\"sequentialminus\":[[0.0,\"#0d0887\"],[0.1111111111111111,\"#46039f\"],[0.2222222222222222,\"#7201a8\"],[0.3333333333333333,\"#9c179e\"],[0.4444444444444444,\"#bd3786\"],[0.5555555555555556,\"#d8576b\"],[0.6666666666666666,\"#ed7953\"],[0.7777777777777778,\"#fb9f3a\"],[0.8888888888888888,\"#fdca26\"],[1.0,\"#f0f921\"]]},\"colorway\":[\"#636efa\",\"#EF553B\",\"#00cc96\",\"#ab63fa\",\"#FFA15A\",\"#19d3f3\",\"#FF6692\",\"#B6E880\",\"#FF97FF\",\"#FECB52\"],\"font\":{\"color\":\"#2a3f5f\"},\"geo\":{\"bgcolor\":\"white\",\"lakecolor\":\"white\",\"landcolor\":\"#E5ECF6\",\"showlakes\":true,\"showland\":true,\"subunitcolor\":\"white\"},\"hoverlabel\":{\"align\":\"left\"},\"hovermode\":\"closest\",\"mapbox\":{\"style\":\"light\"},\"paper_bgcolor\":\"white\",\"plot_bgcolor\":\"#E5ECF6\",\"polar\":{\"angularaxis\":{\"gridcolor\":\"white\",\"linecolor\":\"white\",\"ticks\":\"\"},\"bgcolor\":\"#E5ECF6\",\"radialaxis\":{\"gridcolor\":\"white\",\"linecolor\":\"white\",\"ticks\":\"\"}},\"scene\":{\"xaxis\":{\"backgroundcolor\":\"#E5ECF6\",\"gridcolor\":\"white\",\"gridwidth\":2,\"linecolor\":\"white\",\"showbackground\":true,\"ticks\":\"\",\"zerolinecolor\":\"white\"},\"yaxis\":{\"backgroundcolor\":\"#E5ECF6\",\"gridcolor\":\"white\",\"gridwidth\":2,\"linecolor\":\"white\",\"showbackground\":true,\"ticks\":\"\",\"zerolinecolor\":\"white\"},\"zaxis\":{\"backgroundcolor\":\"#E5ECF6\",\"gridcolor\":\"white\",\"gridwidth\":2,\"linecolor\":\"white\",\"showbackground\":true,\"ticks\":\"\",\"zerolinecolor\":\"white\"}},\"shapedefaults\":{\"line\":{\"color\":\"#2a3f5f\"}},\"ternary\":{\"aaxis\":{\"gridcolor\":\"white\",\"linecolor\":\"white\",\"ticks\":\"\"},\"baxis\":{\"gridcolor\":\"white\",\"linecolor\":\"white\",\"ticks\":\"\"},\"bgcolor\":\"#E5ECF6\",\"caxis\":{\"gridcolor\":\"white\",\"linecolor\":\"white\",\"ticks\":\"\"}},\"title\":{\"x\":0.05},\"xaxis\":{\"automargin\":true,\"gridcolor\":\"white\",\"linecolor\":\"white\",\"ticks\":\"\",\"title\":{\"standoff\":15},\"zerolinecolor\":\"white\",\"zerolinewidth\":2},\"yaxis\":{\"automargin\":true,\"gridcolor\":\"white\",\"linecolor\":\"white\",\"ticks\":\"\",\"title\":{\"standoff\":15},\"zerolinecolor\":\"white\",\"zerolinewidth\":2}}},\"title\":{\"font\":{\"color\":\"#4D5663\"}},\"xaxis\":{\"gridcolor\":\"#E1E5ED\",\"showgrid\":true,\"tickfont\":{\"color\":\"#4D5663\"},\"title\":{\"font\":{\"color\":\"#4D5663\"},\"text\":\"\"},\"zerolinecolor\":\"#E1E5ED\"},\"yaxis\":{\"gridcolor\":\"#E1E5ED\",\"showgrid\":true,\"tickfont\":{\"color\":\"#4D5663\"},\"title\":{\"font\":{\"color\":\"#4D5663\"},\"text\":\"\"},\"zerolinecolor\":\"#E1E5ED\"}},                        {\"showLink\": true, \"linkText\": \"Export to plot.ly\", \"plotlyServerURL\": \"https://plot.ly\", \"responsive\": true}                    ).then(function(){\n",
       "                            \n",
       "var gd = document.getElementById('b887aa5f-389c-48fe-8f80-384eb47eef3a');\n",
       "var x = new MutationObserver(function (mutations, observer) {{\n",
       "        var display = window.getComputedStyle(gd).display;\n",
       "        if (!display || display === 'none') {{\n",
       "            console.log([gd, 'removed!']);\n",
       "            Plotly.purge(gd);\n",
       "            observer.disconnect();\n",
       "        }}\n",
       "}});\n",
       "\n",
       "// Listen for the removal of the full notebook cells\n",
       "var notebookContainer = gd.closest('#notebook-container');\n",
       "if (notebookContainer) {{\n",
       "    x.observe(notebookContainer, {childList: true});\n",
       "}}\n",
       "\n",
       "// Listen for the clearing of the current output cell\n",
       "var outputEl = gd.closest('.output');\n",
       "if (outputEl) {{\n",
       "    x.observe(outputEl, {childList: true});\n",
       "}}\n",
       "\n",
       "                        })                };                });            </script>        </div>"
      ]
     },
     "metadata": {},
     "output_type": "display_data"
    }
   ],
   "source": [
    "df.iplot(kind='scatter',x='A',y='B',mode='markers')\n",
    "#df.iplot(kind='scatter',x='A',y='B',mode='markers',size=20)"
   ]
  },
  {
   "cell_type": "code",
   "execution_count": 33,
   "id": "13b7d70d",
   "metadata": {},
   "outputs": [
    {
     "data": {
      "application/vnd.plotly.v1+json": {
       "config": {
        "linkText": "Export to plot.ly",
        "plotlyServerURL": "https://plot.ly",
        "showLink": true
       },
       "data": [
        {
         "marker": {
          "color": "rgba(255, 153, 51, 0.6)",
          "line": {
           "color": "rgba(255, 153, 51, 1.0)",
           "width": 1
          }
         },
         "name": "Values",
         "orientation": "v",
         "text": "",
         "type": "bar",
         "x": [
          "A",
          "B",
          "C"
         ],
         "y": [
          32,
          43,
          50
         ]
        }
       ],
       "layout": {
        "legend": {
         "bgcolor": "#F5F6F9",
         "font": {
          "color": "#4D5663"
         }
        },
        "paper_bgcolor": "#F5F6F9",
        "plot_bgcolor": "#F5F6F9",
        "template": {
         "data": {
          "bar": [
           {
            "error_x": {
             "color": "#2a3f5f"
            },
            "error_y": {
             "color": "#2a3f5f"
            },
            "marker": {
             "line": {
              "color": "#E5ECF6",
              "width": 0.5
             },
             "pattern": {
              "fillmode": "overlay",
              "size": 10,
              "solidity": 0.2
             }
            },
            "type": "bar"
           }
          ],
          "barpolar": [
           {
            "marker": {
             "line": {
              "color": "#E5ECF6",
              "width": 0.5
             },
             "pattern": {
              "fillmode": "overlay",
              "size": 10,
              "solidity": 0.2
             }
            },
            "type": "barpolar"
           }
          ],
          "carpet": [
           {
            "aaxis": {
             "endlinecolor": "#2a3f5f",
             "gridcolor": "white",
             "linecolor": "white",
             "minorgridcolor": "white",
             "startlinecolor": "#2a3f5f"
            },
            "baxis": {
             "endlinecolor": "#2a3f5f",
             "gridcolor": "white",
             "linecolor": "white",
             "minorgridcolor": "white",
             "startlinecolor": "#2a3f5f"
            },
            "type": "carpet"
           }
          ],
          "choropleth": [
           {
            "colorbar": {
             "outlinewidth": 0,
             "ticks": ""
            },
            "type": "choropleth"
           }
          ],
          "contour": [
           {
            "colorbar": {
             "outlinewidth": 0,
             "ticks": ""
            },
            "colorscale": [
             [
              0,
              "#0d0887"
             ],
             [
              0.1111111111111111,
              "#46039f"
             ],
             [
              0.2222222222222222,
              "#7201a8"
             ],
             [
              0.3333333333333333,
              "#9c179e"
             ],
             [
              0.4444444444444444,
              "#bd3786"
             ],
             [
              0.5555555555555556,
              "#d8576b"
             ],
             [
              0.6666666666666666,
              "#ed7953"
             ],
             [
              0.7777777777777778,
              "#fb9f3a"
             ],
             [
              0.8888888888888888,
              "#fdca26"
             ],
             [
              1,
              "#f0f921"
             ]
            ],
            "type": "contour"
           }
          ],
          "contourcarpet": [
           {
            "colorbar": {
             "outlinewidth": 0,
             "ticks": ""
            },
            "type": "contourcarpet"
           }
          ],
          "heatmap": [
           {
            "colorbar": {
             "outlinewidth": 0,
             "ticks": ""
            },
            "colorscale": [
             [
              0,
              "#0d0887"
             ],
             [
              0.1111111111111111,
              "#46039f"
             ],
             [
              0.2222222222222222,
              "#7201a8"
             ],
             [
              0.3333333333333333,
              "#9c179e"
             ],
             [
              0.4444444444444444,
              "#bd3786"
             ],
             [
              0.5555555555555556,
              "#d8576b"
             ],
             [
              0.6666666666666666,
              "#ed7953"
             ],
             [
              0.7777777777777778,
              "#fb9f3a"
             ],
             [
              0.8888888888888888,
              "#fdca26"
             ],
             [
              1,
              "#f0f921"
             ]
            ],
            "type": "heatmap"
           }
          ],
          "heatmapgl": [
           {
            "colorbar": {
             "outlinewidth": 0,
             "ticks": ""
            },
            "colorscale": [
             [
              0,
              "#0d0887"
             ],
             [
              0.1111111111111111,
              "#46039f"
             ],
             [
              0.2222222222222222,
              "#7201a8"
             ],
             [
              0.3333333333333333,
              "#9c179e"
             ],
             [
              0.4444444444444444,
              "#bd3786"
             ],
             [
              0.5555555555555556,
              "#d8576b"
             ],
             [
              0.6666666666666666,
              "#ed7953"
             ],
             [
              0.7777777777777778,
              "#fb9f3a"
             ],
             [
              0.8888888888888888,
              "#fdca26"
             ],
             [
              1,
              "#f0f921"
             ]
            ],
            "type": "heatmapgl"
           }
          ],
          "histogram": [
           {
            "marker": {
             "pattern": {
              "fillmode": "overlay",
              "size": 10,
              "solidity": 0.2
             }
            },
            "type": "histogram"
           }
          ],
          "histogram2d": [
           {
            "colorbar": {
             "outlinewidth": 0,
             "ticks": ""
            },
            "colorscale": [
             [
              0,
              "#0d0887"
             ],
             [
              0.1111111111111111,
              "#46039f"
             ],
             [
              0.2222222222222222,
              "#7201a8"
             ],
             [
              0.3333333333333333,
              "#9c179e"
             ],
             [
              0.4444444444444444,
              "#bd3786"
             ],
             [
              0.5555555555555556,
              "#d8576b"
             ],
             [
              0.6666666666666666,
              "#ed7953"
             ],
             [
              0.7777777777777778,
              "#fb9f3a"
             ],
             [
              0.8888888888888888,
              "#fdca26"
             ],
             [
              1,
              "#f0f921"
             ]
            ],
            "type": "histogram2d"
           }
          ],
          "histogram2dcontour": [
           {
            "colorbar": {
             "outlinewidth": 0,
             "ticks": ""
            },
            "colorscale": [
             [
              0,
              "#0d0887"
             ],
             [
              0.1111111111111111,
              "#46039f"
             ],
             [
              0.2222222222222222,
              "#7201a8"
             ],
             [
              0.3333333333333333,
              "#9c179e"
             ],
             [
              0.4444444444444444,
              "#bd3786"
             ],
             [
              0.5555555555555556,
              "#d8576b"
             ],
             [
              0.6666666666666666,
              "#ed7953"
             ],
             [
              0.7777777777777778,
              "#fb9f3a"
             ],
             [
              0.8888888888888888,
              "#fdca26"
             ],
             [
              1,
              "#f0f921"
             ]
            ],
            "type": "histogram2dcontour"
           }
          ],
          "mesh3d": [
           {
            "colorbar": {
             "outlinewidth": 0,
             "ticks": ""
            },
            "type": "mesh3d"
           }
          ],
          "parcoords": [
           {
            "line": {
             "colorbar": {
              "outlinewidth": 0,
              "ticks": ""
             }
            },
            "type": "parcoords"
           }
          ],
          "pie": [
           {
            "automargin": true,
            "type": "pie"
           }
          ],
          "scatter": [
           {
            "marker": {
             "colorbar": {
              "outlinewidth": 0,
              "ticks": ""
             }
            },
            "type": "scatter"
           }
          ],
          "scatter3d": [
           {
            "line": {
             "colorbar": {
              "outlinewidth": 0,
              "ticks": ""
             }
            },
            "marker": {
             "colorbar": {
              "outlinewidth": 0,
              "ticks": ""
             }
            },
            "type": "scatter3d"
           }
          ],
          "scattercarpet": [
           {
            "marker": {
             "colorbar": {
              "outlinewidth": 0,
              "ticks": ""
             }
            },
            "type": "scattercarpet"
           }
          ],
          "scattergeo": [
           {
            "marker": {
             "colorbar": {
              "outlinewidth": 0,
              "ticks": ""
             }
            },
            "type": "scattergeo"
           }
          ],
          "scattergl": [
           {
            "marker": {
             "colorbar": {
              "outlinewidth": 0,
              "ticks": ""
             }
            },
            "type": "scattergl"
           }
          ],
          "scattermapbox": [
           {
            "marker": {
             "colorbar": {
              "outlinewidth": 0,
              "ticks": ""
             }
            },
            "type": "scattermapbox"
           }
          ],
          "scatterpolar": [
           {
            "marker": {
             "colorbar": {
              "outlinewidth": 0,
              "ticks": ""
             }
            },
            "type": "scatterpolar"
           }
          ],
          "scatterpolargl": [
           {
            "marker": {
             "colorbar": {
              "outlinewidth": 0,
              "ticks": ""
             }
            },
            "type": "scatterpolargl"
           }
          ],
          "scatterternary": [
           {
            "marker": {
             "colorbar": {
              "outlinewidth": 0,
              "ticks": ""
             }
            },
            "type": "scatterternary"
           }
          ],
          "surface": [
           {
            "colorbar": {
             "outlinewidth": 0,
             "ticks": ""
            },
            "colorscale": [
             [
              0,
              "#0d0887"
             ],
             [
              0.1111111111111111,
              "#46039f"
             ],
             [
              0.2222222222222222,
              "#7201a8"
             ],
             [
              0.3333333333333333,
              "#9c179e"
             ],
             [
              0.4444444444444444,
              "#bd3786"
             ],
             [
              0.5555555555555556,
              "#d8576b"
             ],
             [
              0.6666666666666666,
              "#ed7953"
             ],
             [
              0.7777777777777778,
              "#fb9f3a"
             ],
             [
              0.8888888888888888,
              "#fdca26"
             ],
             [
              1,
              "#f0f921"
             ]
            ],
            "type": "surface"
           }
          ],
          "table": [
           {
            "cells": {
             "fill": {
              "color": "#EBF0F8"
             },
             "line": {
              "color": "white"
             }
            },
            "header": {
             "fill": {
              "color": "#C8D4E3"
             },
             "line": {
              "color": "white"
             }
            },
            "type": "table"
           }
          ]
         },
         "layout": {
          "annotationdefaults": {
           "arrowcolor": "#2a3f5f",
           "arrowhead": 0,
           "arrowwidth": 1
          },
          "autotypenumbers": "strict",
          "coloraxis": {
           "colorbar": {
            "outlinewidth": 0,
            "ticks": ""
           }
          },
          "colorscale": {
           "diverging": [
            [
             0,
             "#8e0152"
            ],
            [
             0.1,
             "#c51b7d"
            ],
            [
             0.2,
             "#de77ae"
            ],
            [
             0.3,
             "#f1b6da"
            ],
            [
             0.4,
             "#fde0ef"
            ],
            [
             0.5,
             "#f7f7f7"
            ],
            [
             0.6,
             "#e6f5d0"
            ],
            [
             0.7,
             "#b8e186"
            ],
            [
             0.8,
             "#7fbc41"
            ],
            [
             0.9,
             "#4d9221"
            ],
            [
             1,
             "#276419"
            ]
           ],
           "sequential": [
            [
             0,
             "#0d0887"
            ],
            [
             0.1111111111111111,
             "#46039f"
            ],
            [
             0.2222222222222222,
             "#7201a8"
            ],
            [
             0.3333333333333333,
             "#9c179e"
            ],
            [
             0.4444444444444444,
             "#bd3786"
            ],
            [
             0.5555555555555556,
             "#d8576b"
            ],
            [
             0.6666666666666666,
             "#ed7953"
            ],
            [
             0.7777777777777778,
             "#fb9f3a"
            ],
            [
             0.8888888888888888,
             "#fdca26"
            ],
            [
             1,
             "#f0f921"
            ]
           ],
           "sequentialminus": [
            [
             0,
             "#0d0887"
            ],
            [
             0.1111111111111111,
             "#46039f"
            ],
            [
             0.2222222222222222,
             "#7201a8"
            ],
            [
             0.3333333333333333,
             "#9c179e"
            ],
            [
             0.4444444444444444,
             "#bd3786"
            ],
            [
             0.5555555555555556,
             "#d8576b"
            ],
            [
             0.6666666666666666,
             "#ed7953"
            ],
            [
             0.7777777777777778,
             "#fb9f3a"
            ],
            [
             0.8888888888888888,
             "#fdca26"
            ],
            [
             1,
             "#f0f921"
            ]
           ]
          },
          "colorway": [
           "#636efa",
           "#EF553B",
           "#00cc96",
           "#ab63fa",
           "#FFA15A",
           "#19d3f3",
           "#FF6692",
           "#B6E880",
           "#FF97FF",
           "#FECB52"
          ],
          "font": {
           "color": "#2a3f5f"
          },
          "geo": {
           "bgcolor": "white",
           "lakecolor": "white",
           "landcolor": "#E5ECF6",
           "showlakes": true,
           "showland": true,
           "subunitcolor": "white"
          },
          "hoverlabel": {
           "align": "left"
          },
          "hovermode": "closest",
          "mapbox": {
           "style": "light"
          },
          "paper_bgcolor": "white",
          "plot_bgcolor": "#E5ECF6",
          "polar": {
           "angularaxis": {
            "gridcolor": "white",
            "linecolor": "white",
            "ticks": ""
           },
           "bgcolor": "#E5ECF6",
           "radialaxis": {
            "gridcolor": "white",
            "linecolor": "white",
            "ticks": ""
           }
          },
          "scene": {
           "xaxis": {
            "backgroundcolor": "#E5ECF6",
            "gridcolor": "white",
            "gridwidth": 2,
            "linecolor": "white",
            "showbackground": true,
            "ticks": "",
            "zerolinecolor": "white"
           },
           "yaxis": {
            "backgroundcolor": "#E5ECF6",
            "gridcolor": "white",
            "gridwidth": 2,
            "linecolor": "white",
            "showbackground": true,
            "ticks": "",
            "zerolinecolor": "white"
           },
           "zaxis": {
            "backgroundcolor": "#E5ECF6",
            "gridcolor": "white",
            "gridwidth": 2,
            "linecolor": "white",
            "showbackground": true,
            "ticks": "",
            "zerolinecolor": "white"
           }
          },
          "shapedefaults": {
           "line": {
            "color": "#2a3f5f"
           }
          },
          "ternary": {
           "aaxis": {
            "gridcolor": "white",
            "linecolor": "white",
            "ticks": ""
           },
           "baxis": {
            "gridcolor": "white",
            "linecolor": "white",
            "ticks": ""
           },
           "bgcolor": "#E5ECF6",
           "caxis": {
            "gridcolor": "white",
            "linecolor": "white",
            "ticks": ""
           }
          },
          "title": {
           "x": 0.05
          },
          "xaxis": {
           "automargin": true,
           "gridcolor": "white",
           "linecolor": "white",
           "ticks": "",
           "title": {
            "standoff": 15
           },
           "zerolinecolor": "white",
           "zerolinewidth": 2
          },
          "yaxis": {
           "automargin": true,
           "gridcolor": "white",
           "linecolor": "white",
           "ticks": "",
           "title": {
            "standoff": 15
           },
           "zerolinecolor": "white",
           "zerolinewidth": 2
          }
         }
        },
        "title": {
         "font": {
          "color": "#4D5663"
         }
        },
        "xaxis": {
         "gridcolor": "#E1E5ED",
         "showgrid": true,
         "tickfont": {
          "color": "#4D5663"
         },
         "title": {
          "font": {
           "color": "#4D5663"
          },
          "text": ""
         },
         "zerolinecolor": "#E1E5ED"
        },
        "yaxis": {
         "gridcolor": "#E1E5ED",
         "showgrid": true,
         "tickfont": {
          "color": "#4D5663"
         },
         "title": {
          "font": {
           "color": "#4D5663"
          },
          "text": ""
         },
         "zerolinecolor": "#E1E5ED"
        }
       }
      },
      "text/html": [
       "<div>                            <div id=\"3720e3e4-bb7c-4e5d-a314-752ddbbbe988\" class=\"plotly-graph-div\" style=\"height:525px; width:100%;\"></div>            <script type=\"text/javascript\">                require([\"plotly\"], function(Plotly) {                    window.PLOTLYENV=window.PLOTLYENV || {};\n",
       "                    window.PLOTLYENV.BASE_URL='https://plot.ly';                                    if (document.getElementById(\"3720e3e4-bb7c-4e5d-a314-752ddbbbe988\")) {                    Plotly.newPlot(                        \"3720e3e4-bb7c-4e5d-a314-752ddbbbe988\",                        [{\"marker\":{\"color\":\"rgba(255, 153, 51, 0.6)\",\"line\":{\"color\":\"rgba(255, 153, 51, 1.0)\",\"width\":1}},\"name\":\"Values\",\"orientation\":\"v\",\"text\":\"\",\"type\":\"bar\",\"x\":[\"A\",\"B\",\"C\"],\"y\":[32,43,50]}],                        {\"legend\":{\"bgcolor\":\"#F5F6F9\",\"font\":{\"color\":\"#4D5663\"}},\"paper_bgcolor\":\"#F5F6F9\",\"plot_bgcolor\":\"#F5F6F9\",\"template\":{\"data\":{\"bar\":[{\"error_x\":{\"color\":\"#2a3f5f\"},\"error_y\":{\"color\":\"#2a3f5f\"},\"marker\":{\"line\":{\"color\":\"#E5ECF6\",\"width\":0.5},\"pattern\":{\"fillmode\":\"overlay\",\"size\":10,\"solidity\":0.2}},\"type\":\"bar\"}],\"barpolar\":[{\"marker\":{\"line\":{\"color\":\"#E5ECF6\",\"width\":0.5},\"pattern\":{\"fillmode\":\"overlay\",\"size\":10,\"solidity\":0.2}},\"type\":\"barpolar\"}],\"carpet\":[{\"aaxis\":{\"endlinecolor\":\"#2a3f5f\",\"gridcolor\":\"white\",\"linecolor\":\"white\",\"minorgridcolor\":\"white\",\"startlinecolor\":\"#2a3f5f\"},\"baxis\":{\"endlinecolor\":\"#2a3f5f\",\"gridcolor\":\"white\",\"linecolor\":\"white\",\"minorgridcolor\":\"white\",\"startlinecolor\":\"#2a3f5f\"},\"type\":\"carpet\"}],\"choropleth\":[{\"colorbar\":{\"outlinewidth\":0,\"ticks\":\"\"},\"type\":\"choropleth\"}],\"contour\":[{\"colorbar\":{\"outlinewidth\":0,\"ticks\":\"\"},\"colorscale\":[[0.0,\"#0d0887\"],[0.1111111111111111,\"#46039f\"],[0.2222222222222222,\"#7201a8\"],[0.3333333333333333,\"#9c179e\"],[0.4444444444444444,\"#bd3786\"],[0.5555555555555556,\"#d8576b\"],[0.6666666666666666,\"#ed7953\"],[0.7777777777777778,\"#fb9f3a\"],[0.8888888888888888,\"#fdca26\"],[1.0,\"#f0f921\"]],\"type\":\"contour\"}],\"contourcarpet\":[{\"colorbar\":{\"outlinewidth\":0,\"ticks\":\"\"},\"type\":\"contourcarpet\"}],\"heatmap\":[{\"colorbar\":{\"outlinewidth\":0,\"ticks\":\"\"},\"colorscale\":[[0.0,\"#0d0887\"],[0.1111111111111111,\"#46039f\"],[0.2222222222222222,\"#7201a8\"],[0.3333333333333333,\"#9c179e\"],[0.4444444444444444,\"#bd3786\"],[0.5555555555555556,\"#d8576b\"],[0.6666666666666666,\"#ed7953\"],[0.7777777777777778,\"#fb9f3a\"],[0.8888888888888888,\"#fdca26\"],[1.0,\"#f0f921\"]],\"type\":\"heatmap\"}],\"heatmapgl\":[{\"colorbar\":{\"outlinewidth\":0,\"ticks\":\"\"},\"colorscale\":[[0.0,\"#0d0887\"],[0.1111111111111111,\"#46039f\"],[0.2222222222222222,\"#7201a8\"],[0.3333333333333333,\"#9c179e\"],[0.4444444444444444,\"#bd3786\"],[0.5555555555555556,\"#d8576b\"],[0.6666666666666666,\"#ed7953\"],[0.7777777777777778,\"#fb9f3a\"],[0.8888888888888888,\"#fdca26\"],[1.0,\"#f0f921\"]],\"type\":\"heatmapgl\"}],\"histogram\":[{\"marker\":{\"pattern\":{\"fillmode\":\"overlay\",\"size\":10,\"solidity\":0.2}},\"type\":\"histogram\"}],\"histogram2d\":[{\"colorbar\":{\"outlinewidth\":0,\"ticks\":\"\"},\"colorscale\":[[0.0,\"#0d0887\"],[0.1111111111111111,\"#46039f\"],[0.2222222222222222,\"#7201a8\"],[0.3333333333333333,\"#9c179e\"],[0.4444444444444444,\"#bd3786\"],[0.5555555555555556,\"#d8576b\"],[0.6666666666666666,\"#ed7953\"],[0.7777777777777778,\"#fb9f3a\"],[0.8888888888888888,\"#fdca26\"],[1.0,\"#f0f921\"]],\"type\":\"histogram2d\"}],\"histogram2dcontour\":[{\"colorbar\":{\"outlinewidth\":0,\"ticks\":\"\"},\"colorscale\":[[0.0,\"#0d0887\"],[0.1111111111111111,\"#46039f\"],[0.2222222222222222,\"#7201a8\"],[0.3333333333333333,\"#9c179e\"],[0.4444444444444444,\"#bd3786\"],[0.5555555555555556,\"#d8576b\"],[0.6666666666666666,\"#ed7953\"],[0.7777777777777778,\"#fb9f3a\"],[0.8888888888888888,\"#fdca26\"],[1.0,\"#f0f921\"]],\"type\":\"histogram2dcontour\"}],\"mesh3d\":[{\"colorbar\":{\"outlinewidth\":0,\"ticks\":\"\"},\"type\":\"mesh3d\"}],\"parcoords\":[{\"line\":{\"colorbar\":{\"outlinewidth\":0,\"ticks\":\"\"}},\"type\":\"parcoords\"}],\"pie\":[{\"automargin\":true,\"type\":\"pie\"}],\"scatter\":[{\"marker\":{\"colorbar\":{\"outlinewidth\":0,\"ticks\":\"\"}},\"type\":\"scatter\"}],\"scatter3d\":[{\"line\":{\"colorbar\":{\"outlinewidth\":0,\"ticks\":\"\"}},\"marker\":{\"colorbar\":{\"outlinewidth\":0,\"ticks\":\"\"}},\"type\":\"scatter3d\"}],\"scattercarpet\":[{\"marker\":{\"colorbar\":{\"outlinewidth\":0,\"ticks\":\"\"}},\"type\":\"scattercarpet\"}],\"scattergeo\":[{\"marker\":{\"colorbar\":{\"outlinewidth\":0,\"ticks\":\"\"}},\"type\":\"scattergeo\"}],\"scattergl\":[{\"marker\":{\"colorbar\":{\"outlinewidth\":0,\"ticks\":\"\"}},\"type\":\"scattergl\"}],\"scattermapbox\":[{\"marker\":{\"colorbar\":{\"outlinewidth\":0,\"ticks\":\"\"}},\"type\":\"scattermapbox\"}],\"scatterpolar\":[{\"marker\":{\"colorbar\":{\"outlinewidth\":0,\"ticks\":\"\"}},\"type\":\"scatterpolar\"}],\"scatterpolargl\":[{\"marker\":{\"colorbar\":{\"outlinewidth\":0,\"ticks\":\"\"}},\"type\":\"scatterpolargl\"}],\"scatterternary\":[{\"marker\":{\"colorbar\":{\"outlinewidth\":0,\"ticks\":\"\"}},\"type\":\"scatterternary\"}],\"surface\":[{\"colorbar\":{\"outlinewidth\":0,\"ticks\":\"\"},\"colorscale\":[[0.0,\"#0d0887\"],[0.1111111111111111,\"#46039f\"],[0.2222222222222222,\"#7201a8\"],[0.3333333333333333,\"#9c179e\"],[0.4444444444444444,\"#bd3786\"],[0.5555555555555556,\"#d8576b\"],[0.6666666666666666,\"#ed7953\"],[0.7777777777777778,\"#fb9f3a\"],[0.8888888888888888,\"#fdca26\"],[1.0,\"#f0f921\"]],\"type\":\"surface\"}],\"table\":[{\"cells\":{\"fill\":{\"color\":\"#EBF0F8\"},\"line\":{\"color\":\"white\"}},\"header\":{\"fill\":{\"color\":\"#C8D4E3\"},\"line\":{\"color\":\"white\"}},\"type\":\"table\"}]},\"layout\":{\"annotationdefaults\":{\"arrowcolor\":\"#2a3f5f\",\"arrowhead\":0,\"arrowwidth\":1},\"autotypenumbers\":\"strict\",\"coloraxis\":{\"colorbar\":{\"outlinewidth\":0,\"ticks\":\"\"}},\"colorscale\":{\"diverging\":[[0,\"#8e0152\"],[0.1,\"#c51b7d\"],[0.2,\"#de77ae\"],[0.3,\"#f1b6da\"],[0.4,\"#fde0ef\"],[0.5,\"#f7f7f7\"],[0.6,\"#e6f5d0\"],[0.7,\"#b8e186\"],[0.8,\"#7fbc41\"],[0.9,\"#4d9221\"],[1,\"#276419\"]],\"sequential\":[[0.0,\"#0d0887\"],[0.1111111111111111,\"#46039f\"],[0.2222222222222222,\"#7201a8\"],[0.3333333333333333,\"#9c179e\"],[0.4444444444444444,\"#bd3786\"],[0.5555555555555556,\"#d8576b\"],[0.6666666666666666,\"#ed7953\"],[0.7777777777777778,\"#fb9f3a\"],[0.8888888888888888,\"#fdca26\"],[1.0,\"#f0f921\"]],\"sequentialminus\":[[0.0,\"#0d0887\"],[0.1111111111111111,\"#46039f\"],[0.2222222222222222,\"#7201a8\"],[0.3333333333333333,\"#9c179e\"],[0.4444444444444444,\"#bd3786\"],[0.5555555555555556,\"#d8576b\"],[0.6666666666666666,\"#ed7953\"],[0.7777777777777778,\"#fb9f3a\"],[0.8888888888888888,\"#fdca26\"],[1.0,\"#f0f921\"]]},\"colorway\":[\"#636efa\",\"#EF553B\",\"#00cc96\",\"#ab63fa\",\"#FFA15A\",\"#19d3f3\",\"#FF6692\",\"#B6E880\",\"#FF97FF\",\"#FECB52\"],\"font\":{\"color\":\"#2a3f5f\"},\"geo\":{\"bgcolor\":\"white\",\"lakecolor\":\"white\",\"landcolor\":\"#E5ECF6\",\"showlakes\":true,\"showland\":true,\"subunitcolor\":\"white\"},\"hoverlabel\":{\"align\":\"left\"},\"hovermode\":\"closest\",\"mapbox\":{\"style\":\"light\"},\"paper_bgcolor\":\"white\",\"plot_bgcolor\":\"#E5ECF6\",\"polar\":{\"angularaxis\":{\"gridcolor\":\"white\",\"linecolor\":\"white\",\"ticks\":\"\"},\"bgcolor\":\"#E5ECF6\",\"radialaxis\":{\"gridcolor\":\"white\",\"linecolor\":\"white\",\"ticks\":\"\"}},\"scene\":{\"xaxis\":{\"backgroundcolor\":\"#E5ECF6\",\"gridcolor\":\"white\",\"gridwidth\":2,\"linecolor\":\"white\",\"showbackground\":true,\"ticks\":\"\",\"zerolinecolor\":\"white\"},\"yaxis\":{\"backgroundcolor\":\"#E5ECF6\",\"gridcolor\":\"white\",\"gridwidth\":2,\"linecolor\":\"white\",\"showbackground\":true,\"ticks\":\"\",\"zerolinecolor\":\"white\"},\"zaxis\":{\"backgroundcolor\":\"#E5ECF6\",\"gridcolor\":\"white\",\"gridwidth\":2,\"linecolor\":\"white\",\"showbackground\":true,\"ticks\":\"\",\"zerolinecolor\":\"white\"}},\"shapedefaults\":{\"line\":{\"color\":\"#2a3f5f\"}},\"ternary\":{\"aaxis\":{\"gridcolor\":\"white\",\"linecolor\":\"white\",\"ticks\":\"\"},\"baxis\":{\"gridcolor\":\"white\",\"linecolor\":\"white\",\"ticks\":\"\"},\"bgcolor\":\"#E5ECF6\",\"caxis\":{\"gridcolor\":\"white\",\"linecolor\":\"white\",\"ticks\":\"\"}},\"title\":{\"x\":0.05},\"xaxis\":{\"automargin\":true,\"gridcolor\":\"white\",\"linecolor\":\"white\",\"ticks\":\"\",\"title\":{\"standoff\":15},\"zerolinecolor\":\"white\",\"zerolinewidth\":2},\"yaxis\":{\"automargin\":true,\"gridcolor\":\"white\",\"linecolor\":\"white\",\"ticks\":\"\",\"title\":{\"standoff\":15},\"zerolinecolor\":\"white\",\"zerolinewidth\":2}}},\"title\":{\"font\":{\"color\":\"#4D5663\"}},\"xaxis\":{\"gridcolor\":\"#E1E5ED\",\"showgrid\":true,\"tickfont\":{\"color\":\"#4D5663\"},\"title\":{\"font\":{\"color\":\"#4D5663\"},\"text\":\"\"},\"zerolinecolor\":\"#E1E5ED\"},\"yaxis\":{\"gridcolor\":\"#E1E5ED\",\"showgrid\":true,\"tickfont\":{\"color\":\"#4D5663\"},\"title\":{\"font\":{\"color\":\"#4D5663\"},\"text\":\"\"},\"zerolinecolor\":\"#E1E5ED\"}},                        {\"showLink\": true, \"linkText\": \"Export to plot.ly\", \"plotlyServerURL\": \"https://plot.ly\", \"responsive\": true}                    ).then(function(){\n",
       "                            \n",
       "var gd = document.getElementById('3720e3e4-bb7c-4e5d-a314-752ddbbbe988');\n",
       "var x = new MutationObserver(function (mutations, observer) {{\n",
       "        var display = window.getComputedStyle(gd).display;\n",
       "        if (!display || display === 'none') {{\n",
       "            console.log([gd, 'removed!']);\n",
       "            Plotly.purge(gd);\n",
       "            observer.disconnect();\n",
       "        }}\n",
       "}});\n",
       "\n",
       "// Listen for the removal of the full notebook cells\n",
       "var notebookContainer = gd.closest('#notebook-container');\n",
       "if (notebookContainer) {{\n",
       "    x.observe(notebookContainer, {childList: true});\n",
       "}}\n",
       "\n",
       "// Listen for the clearing of the current output cell\n",
       "var outputEl = gd.closest('.output');\n",
       "if (outputEl) {{\n",
       "    x.observe(outputEl, {childList: true});\n",
       "}}\n",
       "\n",
       "                        })                };                });            </script>        </div>"
      ]
     },
     "metadata": {},
     "output_type": "display_data"
    }
   ],
   "source": [
    "df2.iplot(kind='bar',x='Category',y='Values')"
   ]
  },
  {
   "cell_type": "code",
   "execution_count": 34,
   "id": "22e1aad6",
   "metadata": {},
   "outputs": [
    {
     "data": {
      "application/vnd.plotly.v1+json": {
       "config": {
        "linkText": "Export to plot.ly",
        "plotlyServerURL": "https://plot.ly",
        "showLink": true
       },
       "data": [
        {
         "marker": {
          "color": "rgba(255, 153, 51, 0.6)",
          "line": {
           "color": "rgba(255, 153, 51, 1.0)",
           "width": 1
          }
         },
         "name": "None",
         "orientation": "v",
         "text": "",
         "type": "bar",
         "x": [
          "A",
          "B",
          "C",
          "D"
         ],
         "y": [
          -9.27750696679196,
          -14.31410292638717,
          -15.028364161164625,
          8.526018512321919
         ]
        }
       ],
       "layout": {
        "legend": {
         "bgcolor": "#F5F6F9",
         "font": {
          "color": "#4D5663"
         }
        },
        "paper_bgcolor": "#F5F6F9",
        "plot_bgcolor": "#F5F6F9",
        "template": {
         "data": {
          "bar": [
           {
            "error_x": {
             "color": "#2a3f5f"
            },
            "error_y": {
             "color": "#2a3f5f"
            },
            "marker": {
             "line": {
              "color": "#E5ECF6",
              "width": 0.5
             },
             "pattern": {
              "fillmode": "overlay",
              "size": 10,
              "solidity": 0.2
             }
            },
            "type": "bar"
           }
          ],
          "barpolar": [
           {
            "marker": {
             "line": {
              "color": "#E5ECF6",
              "width": 0.5
             },
             "pattern": {
              "fillmode": "overlay",
              "size": 10,
              "solidity": 0.2
             }
            },
            "type": "barpolar"
           }
          ],
          "carpet": [
           {
            "aaxis": {
             "endlinecolor": "#2a3f5f",
             "gridcolor": "white",
             "linecolor": "white",
             "minorgridcolor": "white",
             "startlinecolor": "#2a3f5f"
            },
            "baxis": {
             "endlinecolor": "#2a3f5f",
             "gridcolor": "white",
             "linecolor": "white",
             "minorgridcolor": "white",
             "startlinecolor": "#2a3f5f"
            },
            "type": "carpet"
           }
          ],
          "choropleth": [
           {
            "colorbar": {
             "outlinewidth": 0,
             "ticks": ""
            },
            "type": "choropleth"
           }
          ],
          "contour": [
           {
            "colorbar": {
             "outlinewidth": 0,
             "ticks": ""
            },
            "colorscale": [
             [
              0,
              "#0d0887"
             ],
             [
              0.1111111111111111,
              "#46039f"
             ],
             [
              0.2222222222222222,
              "#7201a8"
             ],
             [
              0.3333333333333333,
              "#9c179e"
             ],
             [
              0.4444444444444444,
              "#bd3786"
             ],
             [
              0.5555555555555556,
              "#d8576b"
             ],
             [
              0.6666666666666666,
              "#ed7953"
             ],
             [
              0.7777777777777778,
              "#fb9f3a"
             ],
             [
              0.8888888888888888,
              "#fdca26"
             ],
             [
              1,
              "#f0f921"
             ]
            ],
            "type": "contour"
           }
          ],
          "contourcarpet": [
           {
            "colorbar": {
             "outlinewidth": 0,
             "ticks": ""
            },
            "type": "contourcarpet"
           }
          ],
          "heatmap": [
           {
            "colorbar": {
             "outlinewidth": 0,
             "ticks": ""
            },
            "colorscale": [
             [
              0,
              "#0d0887"
             ],
             [
              0.1111111111111111,
              "#46039f"
             ],
             [
              0.2222222222222222,
              "#7201a8"
             ],
             [
              0.3333333333333333,
              "#9c179e"
             ],
             [
              0.4444444444444444,
              "#bd3786"
             ],
             [
              0.5555555555555556,
              "#d8576b"
             ],
             [
              0.6666666666666666,
              "#ed7953"
             ],
             [
              0.7777777777777778,
              "#fb9f3a"
             ],
             [
              0.8888888888888888,
              "#fdca26"
             ],
             [
              1,
              "#f0f921"
             ]
            ],
            "type": "heatmap"
           }
          ],
          "heatmapgl": [
           {
            "colorbar": {
             "outlinewidth": 0,
             "ticks": ""
            },
            "colorscale": [
             [
              0,
              "#0d0887"
             ],
             [
              0.1111111111111111,
              "#46039f"
             ],
             [
              0.2222222222222222,
              "#7201a8"
             ],
             [
              0.3333333333333333,
              "#9c179e"
             ],
             [
              0.4444444444444444,
              "#bd3786"
             ],
             [
              0.5555555555555556,
              "#d8576b"
             ],
             [
              0.6666666666666666,
              "#ed7953"
             ],
             [
              0.7777777777777778,
              "#fb9f3a"
             ],
             [
              0.8888888888888888,
              "#fdca26"
             ],
             [
              1,
              "#f0f921"
             ]
            ],
            "type": "heatmapgl"
           }
          ],
          "histogram": [
           {
            "marker": {
             "pattern": {
              "fillmode": "overlay",
              "size": 10,
              "solidity": 0.2
             }
            },
            "type": "histogram"
           }
          ],
          "histogram2d": [
           {
            "colorbar": {
             "outlinewidth": 0,
             "ticks": ""
            },
            "colorscale": [
             [
              0,
              "#0d0887"
             ],
             [
              0.1111111111111111,
              "#46039f"
             ],
             [
              0.2222222222222222,
              "#7201a8"
             ],
             [
              0.3333333333333333,
              "#9c179e"
             ],
             [
              0.4444444444444444,
              "#bd3786"
             ],
             [
              0.5555555555555556,
              "#d8576b"
             ],
             [
              0.6666666666666666,
              "#ed7953"
             ],
             [
              0.7777777777777778,
              "#fb9f3a"
             ],
             [
              0.8888888888888888,
              "#fdca26"
             ],
             [
              1,
              "#f0f921"
             ]
            ],
            "type": "histogram2d"
           }
          ],
          "histogram2dcontour": [
           {
            "colorbar": {
             "outlinewidth": 0,
             "ticks": ""
            },
            "colorscale": [
             [
              0,
              "#0d0887"
             ],
             [
              0.1111111111111111,
              "#46039f"
             ],
             [
              0.2222222222222222,
              "#7201a8"
             ],
             [
              0.3333333333333333,
              "#9c179e"
             ],
             [
              0.4444444444444444,
              "#bd3786"
             ],
             [
              0.5555555555555556,
              "#d8576b"
             ],
             [
              0.6666666666666666,
              "#ed7953"
             ],
             [
              0.7777777777777778,
              "#fb9f3a"
             ],
             [
              0.8888888888888888,
              "#fdca26"
             ],
             [
              1,
              "#f0f921"
             ]
            ],
            "type": "histogram2dcontour"
           }
          ],
          "mesh3d": [
           {
            "colorbar": {
             "outlinewidth": 0,
             "ticks": ""
            },
            "type": "mesh3d"
           }
          ],
          "parcoords": [
           {
            "line": {
             "colorbar": {
              "outlinewidth": 0,
              "ticks": ""
             }
            },
            "type": "parcoords"
           }
          ],
          "pie": [
           {
            "automargin": true,
            "type": "pie"
           }
          ],
          "scatter": [
           {
            "marker": {
             "colorbar": {
              "outlinewidth": 0,
              "ticks": ""
             }
            },
            "type": "scatter"
           }
          ],
          "scatter3d": [
           {
            "line": {
             "colorbar": {
              "outlinewidth": 0,
              "ticks": ""
             }
            },
            "marker": {
             "colorbar": {
              "outlinewidth": 0,
              "ticks": ""
             }
            },
            "type": "scatter3d"
           }
          ],
          "scattercarpet": [
           {
            "marker": {
             "colorbar": {
              "outlinewidth": 0,
              "ticks": ""
             }
            },
            "type": "scattercarpet"
           }
          ],
          "scattergeo": [
           {
            "marker": {
             "colorbar": {
              "outlinewidth": 0,
              "ticks": ""
             }
            },
            "type": "scattergeo"
           }
          ],
          "scattergl": [
           {
            "marker": {
             "colorbar": {
              "outlinewidth": 0,
              "ticks": ""
             }
            },
            "type": "scattergl"
           }
          ],
          "scattermapbox": [
           {
            "marker": {
             "colorbar": {
              "outlinewidth": 0,
              "ticks": ""
             }
            },
            "type": "scattermapbox"
           }
          ],
          "scatterpolar": [
           {
            "marker": {
             "colorbar": {
              "outlinewidth": 0,
              "ticks": ""
             }
            },
            "type": "scatterpolar"
           }
          ],
          "scatterpolargl": [
           {
            "marker": {
             "colorbar": {
              "outlinewidth": 0,
              "ticks": ""
             }
            },
            "type": "scatterpolargl"
           }
          ],
          "scatterternary": [
           {
            "marker": {
             "colorbar": {
              "outlinewidth": 0,
              "ticks": ""
             }
            },
            "type": "scatterternary"
           }
          ],
          "surface": [
           {
            "colorbar": {
             "outlinewidth": 0,
             "ticks": ""
            },
            "colorscale": [
             [
              0,
              "#0d0887"
             ],
             [
              0.1111111111111111,
              "#46039f"
             ],
             [
              0.2222222222222222,
              "#7201a8"
             ],
             [
              0.3333333333333333,
              "#9c179e"
             ],
             [
              0.4444444444444444,
              "#bd3786"
             ],
             [
              0.5555555555555556,
              "#d8576b"
             ],
             [
              0.6666666666666666,
              "#ed7953"
             ],
             [
              0.7777777777777778,
              "#fb9f3a"
             ],
             [
              0.8888888888888888,
              "#fdca26"
             ],
             [
              1,
              "#f0f921"
             ]
            ],
            "type": "surface"
           }
          ],
          "table": [
           {
            "cells": {
             "fill": {
              "color": "#EBF0F8"
             },
             "line": {
              "color": "white"
             }
            },
            "header": {
             "fill": {
              "color": "#C8D4E3"
             },
             "line": {
              "color": "white"
             }
            },
            "type": "table"
           }
          ]
         },
         "layout": {
          "annotationdefaults": {
           "arrowcolor": "#2a3f5f",
           "arrowhead": 0,
           "arrowwidth": 1
          },
          "autotypenumbers": "strict",
          "coloraxis": {
           "colorbar": {
            "outlinewidth": 0,
            "ticks": ""
           }
          },
          "colorscale": {
           "diverging": [
            [
             0,
             "#8e0152"
            ],
            [
             0.1,
             "#c51b7d"
            ],
            [
             0.2,
             "#de77ae"
            ],
            [
             0.3,
             "#f1b6da"
            ],
            [
             0.4,
             "#fde0ef"
            ],
            [
             0.5,
             "#f7f7f7"
            ],
            [
             0.6,
             "#e6f5d0"
            ],
            [
             0.7,
             "#b8e186"
            ],
            [
             0.8,
             "#7fbc41"
            ],
            [
             0.9,
             "#4d9221"
            ],
            [
             1,
             "#276419"
            ]
           ],
           "sequential": [
            [
             0,
             "#0d0887"
            ],
            [
             0.1111111111111111,
             "#46039f"
            ],
            [
             0.2222222222222222,
             "#7201a8"
            ],
            [
             0.3333333333333333,
             "#9c179e"
            ],
            [
             0.4444444444444444,
             "#bd3786"
            ],
            [
             0.5555555555555556,
             "#d8576b"
            ],
            [
             0.6666666666666666,
             "#ed7953"
            ],
            [
             0.7777777777777778,
             "#fb9f3a"
            ],
            [
             0.8888888888888888,
             "#fdca26"
            ],
            [
             1,
             "#f0f921"
            ]
           ],
           "sequentialminus": [
            [
             0,
             "#0d0887"
            ],
            [
             0.1111111111111111,
             "#46039f"
            ],
            [
             0.2222222222222222,
             "#7201a8"
            ],
            [
             0.3333333333333333,
             "#9c179e"
            ],
            [
             0.4444444444444444,
             "#bd3786"
            ],
            [
             0.5555555555555556,
             "#d8576b"
            ],
            [
             0.6666666666666666,
             "#ed7953"
            ],
            [
             0.7777777777777778,
             "#fb9f3a"
            ],
            [
             0.8888888888888888,
             "#fdca26"
            ],
            [
             1,
             "#f0f921"
            ]
           ]
          },
          "colorway": [
           "#636efa",
           "#EF553B",
           "#00cc96",
           "#ab63fa",
           "#FFA15A",
           "#19d3f3",
           "#FF6692",
           "#B6E880",
           "#FF97FF",
           "#FECB52"
          ],
          "font": {
           "color": "#2a3f5f"
          },
          "geo": {
           "bgcolor": "white",
           "lakecolor": "white",
           "landcolor": "#E5ECF6",
           "showlakes": true,
           "showland": true,
           "subunitcolor": "white"
          },
          "hoverlabel": {
           "align": "left"
          },
          "hovermode": "closest",
          "mapbox": {
           "style": "light"
          },
          "paper_bgcolor": "white",
          "plot_bgcolor": "#E5ECF6",
          "polar": {
           "angularaxis": {
            "gridcolor": "white",
            "linecolor": "white",
            "ticks": ""
           },
           "bgcolor": "#E5ECF6",
           "radialaxis": {
            "gridcolor": "white",
            "linecolor": "white",
            "ticks": ""
           }
          },
          "scene": {
           "xaxis": {
            "backgroundcolor": "#E5ECF6",
            "gridcolor": "white",
            "gridwidth": 2,
            "linecolor": "white",
            "showbackground": true,
            "ticks": "",
            "zerolinecolor": "white"
           },
           "yaxis": {
            "backgroundcolor": "#E5ECF6",
            "gridcolor": "white",
            "gridwidth": 2,
            "linecolor": "white",
            "showbackground": true,
            "ticks": "",
            "zerolinecolor": "white"
           },
           "zaxis": {
            "backgroundcolor": "#E5ECF6",
            "gridcolor": "white",
            "gridwidth": 2,
            "linecolor": "white",
            "showbackground": true,
            "ticks": "",
            "zerolinecolor": "white"
           }
          },
          "shapedefaults": {
           "line": {
            "color": "#2a3f5f"
           }
          },
          "ternary": {
           "aaxis": {
            "gridcolor": "white",
            "linecolor": "white",
            "ticks": ""
           },
           "baxis": {
            "gridcolor": "white",
            "linecolor": "white",
            "ticks": ""
           },
           "bgcolor": "#E5ECF6",
           "caxis": {
            "gridcolor": "white",
            "linecolor": "white",
            "ticks": ""
           }
          },
          "title": {
           "x": 0.05
          },
          "xaxis": {
           "automargin": true,
           "gridcolor": "white",
           "linecolor": "white",
           "ticks": "",
           "title": {
            "standoff": 15
           },
           "zerolinecolor": "white",
           "zerolinewidth": 2
          },
          "yaxis": {
           "automargin": true,
           "gridcolor": "white",
           "linecolor": "white",
           "ticks": "",
           "title": {
            "standoff": 15
           },
           "zerolinecolor": "white",
           "zerolinewidth": 2
          }
         }
        },
        "title": {
         "font": {
          "color": "#4D5663"
         }
        },
        "xaxis": {
         "gridcolor": "#E1E5ED",
         "showgrid": true,
         "tickfont": {
          "color": "#4D5663"
         },
         "title": {
          "font": {
           "color": "#4D5663"
          },
          "text": ""
         },
         "zerolinecolor": "#E1E5ED"
        },
        "yaxis": {
         "gridcolor": "#E1E5ED",
         "showgrid": true,
         "tickfont": {
          "color": "#4D5663"
         },
         "title": {
          "font": {
           "color": "#4D5663"
          },
          "text": ""
         },
         "zerolinecolor": "#E1E5ED"
        }
       }
      },
      "text/html": [
       "<div>                            <div id=\"966d668a-bb3d-4450-8f54-f53e59cb5ea9\" class=\"plotly-graph-div\" style=\"height:525px; width:100%;\"></div>            <script type=\"text/javascript\">                require([\"plotly\"], function(Plotly) {                    window.PLOTLYENV=window.PLOTLYENV || {};\n",
       "                    window.PLOTLYENV.BASE_URL='https://plot.ly';                                    if (document.getElementById(\"966d668a-bb3d-4450-8f54-f53e59cb5ea9\")) {                    Plotly.newPlot(                        \"966d668a-bb3d-4450-8f54-f53e59cb5ea9\",                        [{\"marker\":{\"color\":\"rgba(255, 153, 51, 0.6)\",\"line\":{\"color\":\"rgba(255, 153, 51, 1.0)\",\"width\":1}},\"name\":\"None\",\"orientation\":\"v\",\"text\":\"\",\"type\":\"bar\",\"x\":[\"A\",\"B\",\"C\",\"D\"],\"y\":[-9.27750696679196,-14.31410292638717,-15.028364161164625,8.526018512321919]}],                        {\"legend\":{\"bgcolor\":\"#F5F6F9\",\"font\":{\"color\":\"#4D5663\"}},\"paper_bgcolor\":\"#F5F6F9\",\"plot_bgcolor\":\"#F5F6F9\",\"template\":{\"data\":{\"bar\":[{\"error_x\":{\"color\":\"#2a3f5f\"},\"error_y\":{\"color\":\"#2a3f5f\"},\"marker\":{\"line\":{\"color\":\"#E5ECF6\",\"width\":0.5},\"pattern\":{\"fillmode\":\"overlay\",\"size\":10,\"solidity\":0.2}},\"type\":\"bar\"}],\"barpolar\":[{\"marker\":{\"line\":{\"color\":\"#E5ECF6\",\"width\":0.5},\"pattern\":{\"fillmode\":\"overlay\",\"size\":10,\"solidity\":0.2}},\"type\":\"barpolar\"}],\"carpet\":[{\"aaxis\":{\"endlinecolor\":\"#2a3f5f\",\"gridcolor\":\"white\",\"linecolor\":\"white\",\"minorgridcolor\":\"white\",\"startlinecolor\":\"#2a3f5f\"},\"baxis\":{\"endlinecolor\":\"#2a3f5f\",\"gridcolor\":\"white\",\"linecolor\":\"white\",\"minorgridcolor\":\"white\",\"startlinecolor\":\"#2a3f5f\"},\"type\":\"carpet\"}],\"choropleth\":[{\"colorbar\":{\"outlinewidth\":0,\"ticks\":\"\"},\"type\":\"choropleth\"}],\"contour\":[{\"colorbar\":{\"outlinewidth\":0,\"ticks\":\"\"},\"colorscale\":[[0.0,\"#0d0887\"],[0.1111111111111111,\"#46039f\"],[0.2222222222222222,\"#7201a8\"],[0.3333333333333333,\"#9c179e\"],[0.4444444444444444,\"#bd3786\"],[0.5555555555555556,\"#d8576b\"],[0.6666666666666666,\"#ed7953\"],[0.7777777777777778,\"#fb9f3a\"],[0.8888888888888888,\"#fdca26\"],[1.0,\"#f0f921\"]],\"type\":\"contour\"}],\"contourcarpet\":[{\"colorbar\":{\"outlinewidth\":0,\"ticks\":\"\"},\"type\":\"contourcarpet\"}],\"heatmap\":[{\"colorbar\":{\"outlinewidth\":0,\"ticks\":\"\"},\"colorscale\":[[0.0,\"#0d0887\"],[0.1111111111111111,\"#46039f\"],[0.2222222222222222,\"#7201a8\"],[0.3333333333333333,\"#9c179e\"],[0.4444444444444444,\"#bd3786\"],[0.5555555555555556,\"#d8576b\"],[0.6666666666666666,\"#ed7953\"],[0.7777777777777778,\"#fb9f3a\"],[0.8888888888888888,\"#fdca26\"],[1.0,\"#f0f921\"]],\"type\":\"heatmap\"}],\"heatmapgl\":[{\"colorbar\":{\"outlinewidth\":0,\"ticks\":\"\"},\"colorscale\":[[0.0,\"#0d0887\"],[0.1111111111111111,\"#46039f\"],[0.2222222222222222,\"#7201a8\"],[0.3333333333333333,\"#9c179e\"],[0.4444444444444444,\"#bd3786\"],[0.5555555555555556,\"#d8576b\"],[0.6666666666666666,\"#ed7953\"],[0.7777777777777778,\"#fb9f3a\"],[0.8888888888888888,\"#fdca26\"],[1.0,\"#f0f921\"]],\"type\":\"heatmapgl\"}],\"histogram\":[{\"marker\":{\"pattern\":{\"fillmode\":\"overlay\",\"size\":10,\"solidity\":0.2}},\"type\":\"histogram\"}],\"histogram2d\":[{\"colorbar\":{\"outlinewidth\":0,\"ticks\":\"\"},\"colorscale\":[[0.0,\"#0d0887\"],[0.1111111111111111,\"#46039f\"],[0.2222222222222222,\"#7201a8\"],[0.3333333333333333,\"#9c179e\"],[0.4444444444444444,\"#bd3786\"],[0.5555555555555556,\"#d8576b\"],[0.6666666666666666,\"#ed7953\"],[0.7777777777777778,\"#fb9f3a\"],[0.8888888888888888,\"#fdca26\"],[1.0,\"#f0f921\"]],\"type\":\"histogram2d\"}],\"histogram2dcontour\":[{\"colorbar\":{\"outlinewidth\":0,\"ticks\":\"\"},\"colorscale\":[[0.0,\"#0d0887\"],[0.1111111111111111,\"#46039f\"],[0.2222222222222222,\"#7201a8\"],[0.3333333333333333,\"#9c179e\"],[0.4444444444444444,\"#bd3786\"],[0.5555555555555556,\"#d8576b\"],[0.6666666666666666,\"#ed7953\"],[0.7777777777777778,\"#fb9f3a\"],[0.8888888888888888,\"#fdca26\"],[1.0,\"#f0f921\"]],\"type\":\"histogram2dcontour\"}],\"mesh3d\":[{\"colorbar\":{\"outlinewidth\":0,\"ticks\":\"\"},\"type\":\"mesh3d\"}],\"parcoords\":[{\"line\":{\"colorbar\":{\"outlinewidth\":0,\"ticks\":\"\"}},\"type\":\"parcoords\"}],\"pie\":[{\"automargin\":true,\"type\":\"pie\"}],\"scatter\":[{\"marker\":{\"colorbar\":{\"outlinewidth\":0,\"ticks\":\"\"}},\"type\":\"scatter\"}],\"scatter3d\":[{\"line\":{\"colorbar\":{\"outlinewidth\":0,\"ticks\":\"\"}},\"marker\":{\"colorbar\":{\"outlinewidth\":0,\"ticks\":\"\"}},\"type\":\"scatter3d\"}],\"scattercarpet\":[{\"marker\":{\"colorbar\":{\"outlinewidth\":0,\"ticks\":\"\"}},\"type\":\"scattercarpet\"}],\"scattergeo\":[{\"marker\":{\"colorbar\":{\"outlinewidth\":0,\"ticks\":\"\"}},\"type\":\"scattergeo\"}],\"scattergl\":[{\"marker\":{\"colorbar\":{\"outlinewidth\":0,\"ticks\":\"\"}},\"type\":\"scattergl\"}],\"scattermapbox\":[{\"marker\":{\"colorbar\":{\"outlinewidth\":0,\"ticks\":\"\"}},\"type\":\"scattermapbox\"}],\"scatterpolar\":[{\"marker\":{\"colorbar\":{\"outlinewidth\":0,\"ticks\":\"\"}},\"type\":\"scatterpolar\"}],\"scatterpolargl\":[{\"marker\":{\"colorbar\":{\"outlinewidth\":0,\"ticks\":\"\"}},\"type\":\"scatterpolargl\"}],\"scatterternary\":[{\"marker\":{\"colorbar\":{\"outlinewidth\":0,\"ticks\":\"\"}},\"type\":\"scatterternary\"}],\"surface\":[{\"colorbar\":{\"outlinewidth\":0,\"ticks\":\"\"},\"colorscale\":[[0.0,\"#0d0887\"],[0.1111111111111111,\"#46039f\"],[0.2222222222222222,\"#7201a8\"],[0.3333333333333333,\"#9c179e\"],[0.4444444444444444,\"#bd3786\"],[0.5555555555555556,\"#d8576b\"],[0.6666666666666666,\"#ed7953\"],[0.7777777777777778,\"#fb9f3a\"],[0.8888888888888888,\"#fdca26\"],[1.0,\"#f0f921\"]],\"type\":\"surface\"}],\"table\":[{\"cells\":{\"fill\":{\"color\":\"#EBF0F8\"},\"line\":{\"color\":\"white\"}},\"header\":{\"fill\":{\"color\":\"#C8D4E3\"},\"line\":{\"color\":\"white\"}},\"type\":\"table\"}]},\"layout\":{\"annotationdefaults\":{\"arrowcolor\":\"#2a3f5f\",\"arrowhead\":0,\"arrowwidth\":1},\"autotypenumbers\":\"strict\",\"coloraxis\":{\"colorbar\":{\"outlinewidth\":0,\"ticks\":\"\"}},\"colorscale\":{\"diverging\":[[0,\"#8e0152\"],[0.1,\"#c51b7d\"],[0.2,\"#de77ae\"],[0.3,\"#f1b6da\"],[0.4,\"#fde0ef\"],[0.5,\"#f7f7f7\"],[0.6,\"#e6f5d0\"],[0.7,\"#b8e186\"],[0.8,\"#7fbc41\"],[0.9,\"#4d9221\"],[1,\"#276419\"]],\"sequential\":[[0.0,\"#0d0887\"],[0.1111111111111111,\"#46039f\"],[0.2222222222222222,\"#7201a8\"],[0.3333333333333333,\"#9c179e\"],[0.4444444444444444,\"#bd3786\"],[0.5555555555555556,\"#d8576b\"],[0.6666666666666666,\"#ed7953\"],[0.7777777777777778,\"#fb9f3a\"],[0.8888888888888888,\"#fdca26\"],[1.0,\"#f0f921\"]],\"sequentialminus\":[[0.0,\"#0d0887\"],[0.1111111111111111,\"#46039f\"],[0.2222222222222222,\"#7201a8\"],[0.3333333333333333,\"#9c179e\"],[0.4444444444444444,\"#bd3786\"],[0.5555555555555556,\"#d8576b\"],[0.6666666666666666,\"#ed7953\"],[0.7777777777777778,\"#fb9f3a\"],[0.8888888888888888,\"#fdca26\"],[1.0,\"#f0f921\"]]},\"colorway\":[\"#636efa\",\"#EF553B\",\"#00cc96\",\"#ab63fa\",\"#FFA15A\",\"#19d3f3\",\"#FF6692\",\"#B6E880\",\"#FF97FF\",\"#FECB52\"],\"font\":{\"color\":\"#2a3f5f\"},\"geo\":{\"bgcolor\":\"white\",\"lakecolor\":\"white\",\"landcolor\":\"#E5ECF6\",\"showlakes\":true,\"showland\":true,\"subunitcolor\":\"white\"},\"hoverlabel\":{\"align\":\"left\"},\"hovermode\":\"closest\",\"mapbox\":{\"style\":\"light\"},\"paper_bgcolor\":\"white\",\"plot_bgcolor\":\"#E5ECF6\",\"polar\":{\"angularaxis\":{\"gridcolor\":\"white\",\"linecolor\":\"white\",\"ticks\":\"\"},\"bgcolor\":\"#E5ECF6\",\"radialaxis\":{\"gridcolor\":\"white\",\"linecolor\":\"white\",\"ticks\":\"\"}},\"scene\":{\"xaxis\":{\"backgroundcolor\":\"#E5ECF6\",\"gridcolor\":\"white\",\"gridwidth\":2,\"linecolor\":\"white\",\"showbackground\":true,\"ticks\":\"\",\"zerolinecolor\":\"white\"},\"yaxis\":{\"backgroundcolor\":\"#E5ECF6\",\"gridcolor\":\"white\",\"gridwidth\":2,\"linecolor\":\"white\",\"showbackground\":true,\"ticks\":\"\",\"zerolinecolor\":\"white\"},\"zaxis\":{\"backgroundcolor\":\"#E5ECF6\",\"gridcolor\":\"white\",\"gridwidth\":2,\"linecolor\":\"white\",\"showbackground\":true,\"ticks\":\"\",\"zerolinecolor\":\"white\"}},\"shapedefaults\":{\"line\":{\"color\":\"#2a3f5f\"}},\"ternary\":{\"aaxis\":{\"gridcolor\":\"white\",\"linecolor\":\"white\",\"ticks\":\"\"},\"baxis\":{\"gridcolor\":\"white\",\"linecolor\":\"white\",\"ticks\":\"\"},\"bgcolor\":\"#E5ECF6\",\"caxis\":{\"gridcolor\":\"white\",\"linecolor\":\"white\",\"ticks\":\"\"}},\"title\":{\"x\":0.05},\"xaxis\":{\"automargin\":true,\"gridcolor\":\"white\",\"linecolor\":\"white\",\"ticks\":\"\",\"title\":{\"standoff\":15},\"zerolinecolor\":\"white\",\"zerolinewidth\":2},\"yaxis\":{\"automargin\":true,\"gridcolor\":\"white\",\"linecolor\":\"white\",\"ticks\":\"\",\"title\":{\"standoff\":15},\"zerolinecolor\":\"white\",\"zerolinewidth\":2}}},\"title\":{\"font\":{\"color\":\"#4D5663\"}},\"xaxis\":{\"gridcolor\":\"#E1E5ED\",\"showgrid\":true,\"tickfont\":{\"color\":\"#4D5663\"},\"title\":{\"font\":{\"color\":\"#4D5663\"},\"text\":\"\"},\"zerolinecolor\":\"#E1E5ED\"},\"yaxis\":{\"gridcolor\":\"#E1E5ED\",\"showgrid\":true,\"tickfont\":{\"color\":\"#4D5663\"},\"title\":{\"font\":{\"color\":\"#4D5663\"},\"text\":\"\"},\"zerolinecolor\":\"#E1E5ED\"}},                        {\"showLink\": true, \"linkText\": \"Export to plot.ly\", \"plotlyServerURL\": \"https://plot.ly\", \"responsive\": true}                    ).then(function(){\n",
       "                            \n",
       "var gd = document.getElementById('966d668a-bb3d-4450-8f54-f53e59cb5ea9');\n",
       "var x = new MutationObserver(function (mutations, observer) {{\n",
       "        var display = window.getComputedStyle(gd).display;\n",
       "        if (!display || display === 'none') {{\n",
       "            console.log([gd, 'removed!']);\n",
       "            Plotly.purge(gd);\n",
       "            observer.disconnect();\n",
       "        }}\n",
       "}});\n",
       "\n",
       "// Listen for the removal of the full notebook cells\n",
       "var notebookContainer = gd.closest('#notebook-container');\n",
       "if (notebookContainer) {{\n",
       "    x.observe(notebookContainer, {childList: true});\n",
       "}}\n",
       "\n",
       "// Listen for the clearing of the current output cell\n",
       "var outputEl = gd.closest('.output');\n",
       "if (outputEl) {{\n",
       "    x.observe(outputEl, {childList: true});\n",
       "}}\n",
       "\n",
       "                        })                };                });            </script>        </div>"
      ]
     },
     "metadata": {},
     "output_type": "display_data"
    }
   ],
   "source": [
    "df.sum().iplot(kind='bar')"
   ]
  },
  {
   "cell_type": "code",
   "execution_count": 36,
   "id": "d9c3fb7a",
   "metadata": {},
   "outputs": [
    {
     "data": {
      "application/vnd.plotly.v1+json": {
       "config": {
        "linkText": "Export to plot.ly",
        "plotlyServerURL": "https://plot.ly",
        "showLink": true
       },
       "data": [
        {
         "boxpoints": false,
         "line": {
          "width": 1.3
         },
         "marker": {
          "color": "rgba(255, 153, 51, 1.0)"
         },
         "name": "A",
         "orientation": "v",
         "type": "box",
         "y": [
          -0.4203769172138504,
          -1.7425536061462963,
          0.889037777019348,
          -1.0146950303,
          0.644987085922443,
          -0.5867545637092614,
          0.19788543355418084,
          -0.2730404740189748,
          -0.9026425523496677,
          -1.6279069661349634,
          -1.502814218287029,
          0.9328022335577573,
          -0.1647065323106058,
          0.6098435552056553,
          0.7157458424489646,
          -1.8653534653067507,
          0.04561722455290629,
          -1.83236922326372,
          1.2857591028121669,
          0.970847338623453,
          0.38469108105725586,
          -0.40669880244896184,
          -0.06933498378794453,
          1.320095941524994,
          -0.049271141297447224,
          0.24992502893762825,
          -1.0468650538432982,
          0.8544164021291353,
          0.5427353132690936,
          -0.6046711968130206,
          0.268146006228171,
          -0.8136978787020882,
          0.5129283434240521,
          -1.135879355830157,
          -0.5949835740230749,
          -0.9991198230270095,
          -1.6954857308348357,
          -0.5946797454314954,
          -0.038096198045322445,
          -0.597690474040178,
          -0.91787070032281,
          0.0049305892151103705,
          0.3176792336961347,
          1.8158591736530727,
          -0.18625555231119253,
          0.5334916797623348,
          -1.7790749335164024,
          -0.4561764528203567,
          -0.5383765801583805,
          0.9303974394928215,
          0.3019654074882458,
          -0.44691681108686937,
          1.0528514568643699,
          -0.8167380173526259,
          1.2329356705867764,
          1.5463527728336532,
          -0.20062580071149355,
          -0.09651096288571068,
          0.9154837337810589,
          -1.116298893230286,
          -0.12815668411074205,
          -0.35583474560030715,
          -0.1451024331637089,
          -0.015403174313218963,
          -0.28000443145952597,
          -0.47316418081547024,
          1.1183679273647713,
          0.5531770838513008,
          0.510397106892376,
          0.8396821842077113,
          0.11193850783712242,
          1.5340640502750655,
          0.021240171794083367,
          -0.9880713077949188,
          -0.6483165415061083,
          -0.3232730425399403,
          -0.3962516779122834,
          -0.4889839801990028,
          -0.6958235391363193,
          1.0309874763249955,
          -1.2084742863986977,
          -1.326989784774145,
          0.87219511894707,
          -0.5061261280696431,
          -0.9298406048337552,
          0.3475633689311191,
          -0.4488686768784139,
          0.08110817045384922,
          -0.0762302794889301,
          0.9625165014804028,
          0.8396345494906886,
          -1.80754629237557,
          0.8112661931818693,
          -0.6042239124449605,
          0.12005231709963185,
          -0.1764783558475839,
          1.4807239063761461,
          -1.2889664844008466,
          0.34080712450550255,
          0.5160231621797224
         ]
        },
        {
         "boxpoints": false,
         "line": {
          "width": 1.3
         },
         "marker": {
          "color": "rgba(55, 128, 191, 1.0)"
         },
         "name": "B",
         "orientation": "v",
         "type": "box",
         "y": [
          0.6705648136691061,
          0.7479108416593321,
          0.12376066704020804,
          0.5076865776365572,
          0.27751055021147714,
          -0.03885891767652951,
          -1.1484619773486824,
          0.06228241207836648,
          -1.057573110496256,
          1.135998182104359,
          -1.5268471457059039,
          0.03189578091454026,
          0.22200393733858212,
          0.35923447166256467,
          0.0438455986084191,
          -0.3286116744247036,
          -2.263135223059364,
          -0.4813577542132742,
          -1.3263312412535673,
          -0.49685187273799336,
          0.3715396209386487,
          1.3972487045901876,
          -1.7711776100919718,
          0.5164795444719394,
          -0.4040893207540781,
          -0.233485549950093,
          -1.476540568165758,
          0.28736959359819514,
          -1.828738271205067,
          -0.23033607719013108,
          -0.1716670784386983,
          0.6333589652539582,
          0.24579312524127364,
          -1.0430792092208319,
          -1.3054477184770257,
          -0.377953740083831,
          -1.6893335298772036,
          -0.05613954327924084,
          -0.6487634074366234,
          0.28329949096429036,
          -0.4042017835341697,
          0.032341002346677895,
          0.09703874914253871,
          -1.6933485826179155,
          0.6919740876165209,
          1.6491769080229144,
          -0.5779327269841692,
          -0.368352415642468,
          -1.5547059886995682,
          -1.9347232358061432,
          -0.49457341387009357,
          -1.1431865654017428,
          -0.589440944580983,
          -0.7321925083296308,
          -0.5598495607910404,
          -0.07280153382431334,
          -0.9677078775408386,
          2.110893914463245,
          -1.8007775476818115,
          -0.5492778523321554,
          -0.5153143189722851,
          0.2819410514014495,
          0.6389173365089797,
          -0.03690079064012558,
          0.3154919697960902,
          0.34399013315007754,
          0.8770157732702345,
          1.59051131022073,
          0.7904345189953608,
          0.7311438272766193,
          0.7387973826077535,
          -0.879583440706914,
          0.5868810728835954,
          0.03420631434201392,
          -0.45894188198105734,
          -0.4850085142032951,
          0.15108157763018584,
          0.1416739928211047,
          0.4779585274094298,
          -0.8118140116099221,
          0.5562018187811655,
          -0.24169835421043992,
          -0.5660844805115468,
          -0.49218350172725206,
          -0.61293743048621,
          1.2332793309806727,
          2.1240417997227214,
          1.400322812515332,
          -1.2707703517297577,
          0.04297896308622119,
          -1.1629777976548832,
          -0.527264203119578,
          -1.1036025507929965,
          0.11634484045105915,
          1.4459565634949803,
          -0.19104602555144024,
          1.43788963939247,
          -2.0614461044332733,
          1.6997794796458487,
          0.19527633470967637
         ]
        },
        {
         "boxpoints": false,
         "line": {
          "width": 1.3
         },
         "marker": {
          "color": "rgba(50, 171, 96, 1.0)"
         },
         "name": "C",
         "orientation": "v",
         "type": "box",
         "y": [
          0.07422700527315418,
          0.4130249643103405,
          0.08548858850732852,
          -0.2313907405072228,
          0.37480831038947743,
          -0.5804733866469306,
          -0.6801880384913043,
          1.8022342350275198,
          0.2860197998610701,
          0.44232578447992343,
          -1.5016331070440165,
          -0.17047063909762822,
          0.2969657590242623,
          -0.3938742717666108,
          0.005322578576980963,
          -0.1509403635371195,
          -1.475176645424478,
          -0.6996670204144476,
          0.01040519118246566,
          -0.43008029671786063,
          0.049262896897995734,
          -2.2794486022226317,
          -0.05170995821764871,
          -1.1642223337949063,
          -0.7845961694373157,
          1.7201571256729855,
          -0.1080899951479665,
          1.9172077113769468,
          -1.0291295424930516,
          -0.4830378049493245,
          -3.042769218598791,
          -0.24804905428614898,
          1.0314805119510864,
          -1.404281005575798,
          -0.1379101447202194,
          -0.7195472131915353,
          -0.2735942321860184,
          -1.7388301654248608,
          0.8921268176921588,
          0.015092574704470684,
          -0.017843727398743788,
          -0.023373546868586628,
          0.48356729019745276,
          0.3724710103514023,
          1.008265930319548,
          2.4463710370181833,
          -1.984883419537376,
          0.3580786992700125,
          -1.1542277648532895,
          0.4987945521011533,
          -0.5602989609894605,
          -1.2899859967795375,
          -0.18340439848799506,
          -1.0255585995065564,
          -1.3069786772803889,
          -0.12442852338564153,
          0.9828613424354359,
          -0.5926949048387103,
          -0.7621082270075276,
          -1.5803155758375553,
          -1.5450357781388426,
          -0.6167758224917211,
          1.0960016305928086,
          -0.3660385461050507,
          0.40608765534013885,
          0.061831984060027934,
          -1.5480288983429116,
          2.2488514861594293,
          -0.2471095149706103,
          -1.4855057620299903,
          -0.6967002864504952,
          0.6592024314305059,
          0.7725617098876191,
          -0.008263027740115753,
          -0.6944179983332547,
          1.1526220459892333,
          1.4501439219254952,
          2.1505517700712176,
          -0.3492929750190928,
          0.11094652493428009,
          -0.6108141968900309,
          0.3502143994430392,
          -0.2227433971114668,
          1.678016033517746,
          -0.9382350184164863,
          -0.7751011686520267,
          0.4806329226047449,
          -1.2579044633708636,
          -0.9662571507224871,
          -0.3709616614910942,
          -0.06452441870975577,
          -0.35563498268520916,
          -0.016514764413823962,
          -0.22861270922344848,
          -0.5462410861762043,
          -0.16893452437550166,
          0.4508344021737034,
          -1.1284200562808675,
          0.8783286696936663,
          1.051529015196934
         ]
        },
        {
         "boxpoints": false,
         "line": {
          "width": 1.3
         },
         "marker": {
          "color": "rgba(128, 0, 128, 1.0)"
         },
         "name": "D",
         "orientation": "v",
         "type": "box",
         "y": [
          -0.4265649055030353,
          0.5345753963116453,
          1.2648624239240278,
          -0.5036965328663572,
          1.3839523450361182,
          1.2575049616846319,
          0.4144214395049769,
          -0.5025921390683061,
          0.4646854192098949,
          -1.0187018400737897,
          -0.41604955826801,
          -0.704873422773722,
          0.34012659882708757,
          0.8215859955152438,
          -0.9630212613275814,
          -1.5479364624579965,
          1.262427324095102,
          -0.6314716294991332,
          -0.2948263242881089,
          2.045843585833337,
          0.7779892759515108,
          -2.3374769861385496,
          0.08076847935905539,
          0.9386365422370996,
          1.006813472053596,
          -1.7130081664294843,
          -0.8301818918715494,
          0.40662438561416886,
          0.6184271143243777,
          -1.1171162565881085,
          -0.7259743318271101,
          -0.7894973693297371,
          0.15673300611977514,
          -0.0411443578526938,
          1.8725145576747395,
          0.07417574962603085,
          -2.0476069434418798,
          -0.5231585358294968,
          -1.1450987535161061,
          0.6433542561798411,
          0.01529112076703967,
          -0.48657373270143484,
          1.7052382835670108,
          0.4116424859047016,
          -0.4234715279258913,
          -0.9252985606450924,
          0.4828442783376966,
          1.5942461288472833,
          0.08456822084845338,
          -1.5394659470604126,
          0.5501664509165102,
          0.9454148982132563,
          -0.1261792942872043,
          0.3017002608052505,
          -1.2519565936221715,
          -0.24466158095145318,
          1.1954983324987216,
          -0.3809112557174018,
          1.33923613114652,
          1.3560837868399453,
          0.09661889452534182,
          -1.4880197906360266,
          -0.2827010917022672,
          0.11638639687460929,
          1.4606288990278828,
          -0.724909388940758,
          -0.8292888279027019,
          1.2152792806199297,
          0.9406782217308104,
          -0.2271121287232906,
          -0.6456754382419851,
          0.2246503169045476,
          0.9088534114783418,
          -0.785122627292339,
          -0.43312963489765566,
          -0.6263627891053157,
          -0.8124367069314169,
          -0.0944907864199542,
          -0.19604602013795855,
          1.6082443316810087,
          -0.4009981234549997,
          0.35696227827031496,
          0.08582423282612472,
          0.11139904700992809,
          0.3807598674561099,
          1.7292243256324968,
          0.5402498413873286,
          1.0069502326770607,
          1.7525588986920897,
          -1.0483571007203314,
          0.42820914988334524,
          0.9648945646092203,
          1.4849291082110934,
          -0.6459546098399391,
          -0.11144734102298919,
          0.6220318081645934,
          0.4307143405325117,
          -0.06911151660227972,
          0.18914139541645156,
          -1.3974429546298435
         ]
        }
       ],
       "layout": {
        "legend": {
         "bgcolor": "#F5F6F9",
         "font": {
          "color": "#4D5663"
         }
        },
        "paper_bgcolor": "#F5F6F9",
        "plot_bgcolor": "#F5F6F9",
        "template": {
         "data": {
          "bar": [
           {
            "error_x": {
             "color": "#2a3f5f"
            },
            "error_y": {
             "color": "#2a3f5f"
            },
            "marker": {
             "line": {
              "color": "#E5ECF6",
              "width": 0.5
             },
             "pattern": {
              "fillmode": "overlay",
              "size": 10,
              "solidity": 0.2
             }
            },
            "type": "bar"
           }
          ],
          "barpolar": [
           {
            "marker": {
             "line": {
              "color": "#E5ECF6",
              "width": 0.5
             },
             "pattern": {
              "fillmode": "overlay",
              "size": 10,
              "solidity": 0.2
             }
            },
            "type": "barpolar"
           }
          ],
          "carpet": [
           {
            "aaxis": {
             "endlinecolor": "#2a3f5f",
             "gridcolor": "white",
             "linecolor": "white",
             "minorgridcolor": "white",
             "startlinecolor": "#2a3f5f"
            },
            "baxis": {
             "endlinecolor": "#2a3f5f",
             "gridcolor": "white",
             "linecolor": "white",
             "minorgridcolor": "white",
             "startlinecolor": "#2a3f5f"
            },
            "type": "carpet"
           }
          ],
          "choropleth": [
           {
            "colorbar": {
             "outlinewidth": 0,
             "ticks": ""
            },
            "type": "choropleth"
           }
          ],
          "contour": [
           {
            "colorbar": {
             "outlinewidth": 0,
             "ticks": ""
            },
            "colorscale": [
             [
              0,
              "#0d0887"
             ],
             [
              0.1111111111111111,
              "#46039f"
             ],
             [
              0.2222222222222222,
              "#7201a8"
             ],
             [
              0.3333333333333333,
              "#9c179e"
             ],
             [
              0.4444444444444444,
              "#bd3786"
             ],
             [
              0.5555555555555556,
              "#d8576b"
             ],
             [
              0.6666666666666666,
              "#ed7953"
             ],
             [
              0.7777777777777778,
              "#fb9f3a"
             ],
             [
              0.8888888888888888,
              "#fdca26"
             ],
             [
              1,
              "#f0f921"
             ]
            ],
            "type": "contour"
           }
          ],
          "contourcarpet": [
           {
            "colorbar": {
             "outlinewidth": 0,
             "ticks": ""
            },
            "type": "contourcarpet"
           }
          ],
          "heatmap": [
           {
            "colorbar": {
             "outlinewidth": 0,
             "ticks": ""
            },
            "colorscale": [
             [
              0,
              "#0d0887"
             ],
             [
              0.1111111111111111,
              "#46039f"
             ],
             [
              0.2222222222222222,
              "#7201a8"
             ],
             [
              0.3333333333333333,
              "#9c179e"
             ],
             [
              0.4444444444444444,
              "#bd3786"
             ],
             [
              0.5555555555555556,
              "#d8576b"
             ],
             [
              0.6666666666666666,
              "#ed7953"
             ],
             [
              0.7777777777777778,
              "#fb9f3a"
             ],
             [
              0.8888888888888888,
              "#fdca26"
             ],
             [
              1,
              "#f0f921"
             ]
            ],
            "type": "heatmap"
           }
          ],
          "heatmapgl": [
           {
            "colorbar": {
             "outlinewidth": 0,
             "ticks": ""
            },
            "colorscale": [
             [
              0,
              "#0d0887"
             ],
             [
              0.1111111111111111,
              "#46039f"
             ],
             [
              0.2222222222222222,
              "#7201a8"
             ],
             [
              0.3333333333333333,
              "#9c179e"
             ],
             [
              0.4444444444444444,
              "#bd3786"
             ],
             [
              0.5555555555555556,
              "#d8576b"
             ],
             [
              0.6666666666666666,
              "#ed7953"
             ],
             [
              0.7777777777777778,
              "#fb9f3a"
             ],
             [
              0.8888888888888888,
              "#fdca26"
             ],
             [
              1,
              "#f0f921"
             ]
            ],
            "type": "heatmapgl"
           }
          ],
          "histogram": [
           {
            "marker": {
             "pattern": {
              "fillmode": "overlay",
              "size": 10,
              "solidity": 0.2
             }
            },
            "type": "histogram"
           }
          ],
          "histogram2d": [
           {
            "colorbar": {
             "outlinewidth": 0,
             "ticks": ""
            },
            "colorscale": [
             [
              0,
              "#0d0887"
             ],
             [
              0.1111111111111111,
              "#46039f"
             ],
             [
              0.2222222222222222,
              "#7201a8"
             ],
             [
              0.3333333333333333,
              "#9c179e"
             ],
             [
              0.4444444444444444,
              "#bd3786"
             ],
             [
              0.5555555555555556,
              "#d8576b"
             ],
             [
              0.6666666666666666,
              "#ed7953"
             ],
             [
              0.7777777777777778,
              "#fb9f3a"
             ],
             [
              0.8888888888888888,
              "#fdca26"
             ],
             [
              1,
              "#f0f921"
             ]
            ],
            "type": "histogram2d"
           }
          ],
          "histogram2dcontour": [
           {
            "colorbar": {
             "outlinewidth": 0,
             "ticks": ""
            },
            "colorscale": [
             [
              0,
              "#0d0887"
             ],
             [
              0.1111111111111111,
              "#46039f"
             ],
             [
              0.2222222222222222,
              "#7201a8"
             ],
             [
              0.3333333333333333,
              "#9c179e"
             ],
             [
              0.4444444444444444,
              "#bd3786"
             ],
             [
              0.5555555555555556,
              "#d8576b"
             ],
             [
              0.6666666666666666,
              "#ed7953"
             ],
             [
              0.7777777777777778,
              "#fb9f3a"
             ],
             [
              0.8888888888888888,
              "#fdca26"
             ],
             [
              1,
              "#f0f921"
             ]
            ],
            "type": "histogram2dcontour"
           }
          ],
          "mesh3d": [
           {
            "colorbar": {
             "outlinewidth": 0,
             "ticks": ""
            },
            "type": "mesh3d"
           }
          ],
          "parcoords": [
           {
            "line": {
             "colorbar": {
              "outlinewidth": 0,
              "ticks": ""
             }
            },
            "type": "parcoords"
           }
          ],
          "pie": [
           {
            "automargin": true,
            "type": "pie"
           }
          ],
          "scatter": [
           {
            "marker": {
             "colorbar": {
              "outlinewidth": 0,
              "ticks": ""
             }
            },
            "type": "scatter"
           }
          ],
          "scatter3d": [
           {
            "line": {
             "colorbar": {
              "outlinewidth": 0,
              "ticks": ""
             }
            },
            "marker": {
             "colorbar": {
              "outlinewidth": 0,
              "ticks": ""
             }
            },
            "type": "scatter3d"
           }
          ],
          "scattercarpet": [
           {
            "marker": {
             "colorbar": {
              "outlinewidth": 0,
              "ticks": ""
             }
            },
            "type": "scattercarpet"
           }
          ],
          "scattergeo": [
           {
            "marker": {
             "colorbar": {
              "outlinewidth": 0,
              "ticks": ""
             }
            },
            "type": "scattergeo"
           }
          ],
          "scattergl": [
           {
            "marker": {
             "colorbar": {
              "outlinewidth": 0,
              "ticks": ""
             }
            },
            "type": "scattergl"
           }
          ],
          "scattermapbox": [
           {
            "marker": {
             "colorbar": {
              "outlinewidth": 0,
              "ticks": ""
             }
            },
            "type": "scattermapbox"
           }
          ],
          "scatterpolar": [
           {
            "marker": {
             "colorbar": {
              "outlinewidth": 0,
              "ticks": ""
             }
            },
            "type": "scatterpolar"
           }
          ],
          "scatterpolargl": [
           {
            "marker": {
             "colorbar": {
              "outlinewidth": 0,
              "ticks": ""
             }
            },
            "type": "scatterpolargl"
           }
          ],
          "scatterternary": [
           {
            "marker": {
             "colorbar": {
              "outlinewidth": 0,
              "ticks": ""
             }
            },
            "type": "scatterternary"
           }
          ],
          "surface": [
           {
            "colorbar": {
             "outlinewidth": 0,
             "ticks": ""
            },
            "colorscale": [
             [
              0,
              "#0d0887"
             ],
             [
              0.1111111111111111,
              "#46039f"
             ],
             [
              0.2222222222222222,
              "#7201a8"
             ],
             [
              0.3333333333333333,
              "#9c179e"
             ],
             [
              0.4444444444444444,
              "#bd3786"
             ],
             [
              0.5555555555555556,
              "#d8576b"
             ],
             [
              0.6666666666666666,
              "#ed7953"
             ],
             [
              0.7777777777777778,
              "#fb9f3a"
             ],
             [
              0.8888888888888888,
              "#fdca26"
             ],
             [
              1,
              "#f0f921"
             ]
            ],
            "type": "surface"
           }
          ],
          "table": [
           {
            "cells": {
             "fill": {
              "color": "#EBF0F8"
             },
             "line": {
              "color": "white"
             }
            },
            "header": {
             "fill": {
              "color": "#C8D4E3"
             },
             "line": {
              "color": "white"
             }
            },
            "type": "table"
           }
          ]
         },
         "layout": {
          "annotationdefaults": {
           "arrowcolor": "#2a3f5f",
           "arrowhead": 0,
           "arrowwidth": 1
          },
          "autotypenumbers": "strict",
          "coloraxis": {
           "colorbar": {
            "outlinewidth": 0,
            "ticks": ""
           }
          },
          "colorscale": {
           "diverging": [
            [
             0,
             "#8e0152"
            ],
            [
             0.1,
             "#c51b7d"
            ],
            [
             0.2,
             "#de77ae"
            ],
            [
             0.3,
             "#f1b6da"
            ],
            [
             0.4,
             "#fde0ef"
            ],
            [
             0.5,
             "#f7f7f7"
            ],
            [
             0.6,
             "#e6f5d0"
            ],
            [
             0.7,
             "#b8e186"
            ],
            [
             0.8,
             "#7fbc41"
            ],
            [
             0.9,
             "#4d9221"
            ],
            [
             1,
             "#276419"
            ]
           ],
           "sequential": [
            [
             0,
             "#0d0887"
            ],
            [
             0.1111111111111111,
             "#46039f"
            ],
            [
             0.2222222222222222,
             "#7201a8"
            ],
            [
             0.3333333333333333,
             "#9c179e"
            ],
            [
             0.4444444444444444,
             "#bd3786"
            ],
            [
             0.5555555555555556,
             "#d8576b"
            ],
            [
             0.6666666666666666,
             "#ed7953"
            ],
            [
             0.7777777777777778,
             "#fb9f3a"
            ],
            [
             0.8888888888888888,
             "#fdca26"
            ],
            [
             1,
             "#f0f921"
            ]
           ],
           "sequentialminus": [
            [
             0,
             "#0d0887"
            ],
            [
             0.1111111111111111,
             "#46039f"
            ],
            [
             0.2222222222222222,
             "#7201a8"
            ],
            [
             0.3333333333333333,
             "#9c179e"
            ],
            [
             0.4444444444444444,
             "#bd3786"
            ],
            [
             0.5555555555555556,
             "#d8576b"
            ],
            [
             0.6666666666666666,
             "#ed7953"
            ],
            [
             0.7777777777777778,
             "#fb9f3a"
            ],
            [
             0.8888888888888888,
             "#fdca26"
            ],
            [
             1,
             "#f0f921"
            ]
           ]
          },
          "colorway": [
           "#636efa",
           "#EF553B",
           "#00cc96",
           "#ab63fa",
           "#FFA15A",
           "#19d3f3",
           "#FF6692",
           "#B6E880",
           "#FF97FF",
           "#FECB52"
          ],
          "font": {
           "color": "#2a3f5f"
          },
          "geo": {
           "bgcolor": "white",
           "lakecolor": "white",
           "landcolor": "#E5ECF6",
           "showlakes": true,
           "showland": true,
           "subunitcolor": "white"
          },
          "hoverlabel": {
           "align": "left"
          },
          "hovermode": "closest",
          "mapbox": {
           "style": "light"
          },
          "paper_bgcolor": "white",
          "plot_bgcolor": "#E5ECF6",
          "polar": {
           "angularaxis": {
            "gridcolor": "white",
            "linecolor": "white",
            "ticks": ""
           },
           "bgcolor": "#E5ECF6",
           "radialaxis": {
            "gridcolor": "white",
            "linecolor": "white",
            "ticks": ""
           }
          },
          "scene": {
           "xaxis": {
            "backgroundcolor": "#E5ECF6",
            "gridcolor": "white",
            "gridwidth": 2,
            "linecolor": "white",
            "showbackground": true,
            "ticks": "",
            "zerolinecolor": "white"
           },
           "yaxis": {
            "backgroundcolor": "#E5ECF6",
            "gridcolor": "white",
            "gridwidth": 2,
            "linecolor": "white",
            "showbackground": true,
            "ticks": "",
            "zerolinecolor": "white"
           },
           "zaxis": {
            "backgroundcolor": "#E5ECF6",
            "gridcolor": "white",
            "gridwidth": 2,
            "linecolor": "white",
            "showbackground": true,
            "ticks": "",
            "zerolinecolor": "white"
           }
          },
          "shapedefaults": {
           "line": {
            "color": "#2a3f5f"
           }
          },
          "ternary": {
           "aaxis": {
            "gridcolor": "white",
            "linecolor": "white",
            "ticks": ""
           },
           "baxis": {
            "gridcolor": "white",
            "linecolor": "white",
            "ticks": ""
           },
           "bgcolor": "#E5ECF6",
           "caxis": {
            "gridcolor": "white",
            "linecolor": "white",
            "ticks": ""
           }
          },
          "title": {
           "x": 0.05
          },
          "xaxis": {
           "automargin": true,
           "gridcolor": "white",
           "linecolor": "white",
           "ticks": "",
           "title": {
            "standoff": 15
           },
           "zerolinecolor": "white",
           "zerolinewidth": 2
          },
          "yaxis": {
           "automargin": true,
           "gridcolor": "white",
           "linecolor": "white",
           "ticks": "",
           "title": {
            "standoff": 15
           },
           "zerolinecolor": "white",
           "zerolinewidth": 2
          }
         }
        },
        "title": {
         "font": {
          "color": "#4D5663"
         }
        },
        "xaxis": {
         "gridcolor": "#E1E5ED",
         "showgrid": true,
         "tickfont": {
          "color": "#4D5663"
         },
         "title": {
          "font": {
           "color": "#4D5663"
          },
          "text": ""
         },
         "zerolinecolor": "#E1E5ED"
        },
        "yaxis": {
         "gridcolor": "#E1E5ED",
         "showgrid": true,
         "tickfont": {
          "color": "#4D5663"
         },
         "title": {
          "font": {
           "color": "#4D5663"
          },
          "text": ""
         },
         "zerolinecolor": "#E1E5ED"
        }
       }
      },
      "text/html": [
       "<div>                            <div id=\"7e1e9e79-18e5-4703-96bd-b4fdfc532058\" class=\"plotly-graph-div\" style=\"height:525px; width:100%;\"></div>            <script type=\"text/javascript\">                require([\"plotly\"], function(Plotly) {                    window.PLOTLYENV=window.PLOTLYENV || {};\n",
       "                    window.PLOTLYENV.BASE_URL='https://plot.ly';                                    if (document.getElementById(\"7e1e9e79-18e5-4703-96bd-b4fdfc532058\")) {                    Plotly.newPlot(                        \"7e1e9e79-18e5-4703-96bd-b4fdfc532058\",                        [{\"boxpoints\":false,\"line\":{\"width\":1.3},\"marker\":{\"color\":\"rgba(255, 153, 51, 1.0)\"},\"name\":\"A\",\"orientation\":\"v\",\"type\":\"box\",\"y\":[-0.4203769172138504,-1.7425536061462963,0.889037777019348,-1.0146950303,0.644987085922443,-0.5867545637092614,0.19788543355418084,-0.2730404740189748,-0.9026425523496677,-1.6279069661349634,-1.502814218287029,0.9328022335577573,-0.1647065323106058,0.6098435552056553,0.7157458424489646,-1.8653534653067507,0.04561722455290629,-1.83236922326372,1.2857591028121669,0.970847338623453,0.38469108105725586,-0.40669880244896184,-0.06933498378794453,1.320095941524994,-0.049271141297447224,0.24992502893762825,-1.0468650538432982,0.8544164021291353,0.5427353132690936,-0.6046711968130206,0.268146006228171,-0.8136978787020882,0.5129283434240521,-1.135879355830157,-0.5949835740230749,-0.9991198230270095,-1.6954857308348357,-0.5946797454314954,-0.038096198045322445,-0.597690474040178,-0.91787070032281,0.0049305892151103705,0.3176792336961347,1.8158591736530727,-0.18625555231119253,0.5334916797623348,-1.7790749335164024,-0.4561764528203567,-0.5383765801583805,0.9303974394928215,0.3019654074882458,-0.44691681108686937,1.0528514568643699,-0.8167380173526259,1.2329356705867764,1.5463527728336532,-0.20062580071149355,-0.09651096288571068,0.9154837337810589,-1.116298893230286,-0.12815668411074205,-0.35583474560030715,-0.1451024331637089,-0.015403174313218963,-0.28000443145952597,-0.47316418081547024,1.1183679273647713,0.5531770838513008,0.510397106892376,0.8396821842077113,0.11193850783712242,1.5340640502750655,0.021240171794083367,-0.9880713077949188,-0.6483165415061083,-0.3232730425399403,-0.3962516779122834,-0.4889839801990028,-0.6958235391363193,1.0309874763249955,-1.2084742863986977,-1.326989784774145,0.87219511894707,-0.5061261280696431,-0.9298406048337552,0.3475633689311191,-0.4488686768784139,0.08110817045384922,-0.0762302794889301,0.9625165014804028,0.8396345494906886,-1.80754629237557,0.8112661931818693,-0.6042239124449605,0.12005231709963185,-0.1764783558475839,1.4807239063761461,-1.2889664844008466,0.34080712450550255,0.5160231621797224]},{\"boxpoints\":false,\"line\":{\"width\":1.3},\"marker\":{\"color\":\"rgba(55, 128, 191, 1.0)\"},\"name\":\"B\",\"orientation\":\"v\",\"type\":\"box\",\"y\":[0.6705648136691061,0.7479108416593321,0.12376066704020804,0.5076865776365572,0.27751055021147714,-0.03885891767652951,-1.1484619773486824,0.06228241207836648,-1.057573110496256,1.135998182104359,-1.5268471457059039,0.03189578091454026,0.22200393733858212,0.35923447166256467,0.0438455986084191,-0.3286116744247036,-2.263135223059364,-0.4813577542132742,-1.3263312412535673,-0.49685187273799336,0.3715396209386487,1.3972487045901876,-1.7711776100919718,0.5164795444719394,-0.4040893207540781,-0.233485549950093,-1.476540568165758,0.28736959359819514,-1.828738271205067,-0.23033607719013108,-0.1716670784386983,0.6333589652539582,0.24579312524127364,-1.0430792092208319,-1.3054477184770257,-0.377953740083831,-1.6893335298772036,-0.05613954327924084,-0.6487634074366234,0.28329949096429036,-0.4042017835341697,0.032341002346677895,0.09703874914253871,-1.6933485826179155,0.6919740876165209,1.6491769080229144,-0.5779327269841692,-0.368352415642468,-1.5547059886995682,-1.9347232358061432,-0.49457341387009357,-1.1431865654017428,-0.589440944580983,-0.7321925083296308,-0.5598495607910404,-0.07280153382431334,-0.9677078775408386,2.110893914463245,-1.8007775476818115,-0.5492778523321554,-0.5153143189722851,0.2819410514014495,0.6389173365089797,-0.03690079064012558,0.3154919697960902,0.34399013315007754,0.8770157732702345,1.59051131022073,0.7904345189953608,0.7311438272766193,0.7387973826077535,-0.879583440706914,0.5868810728835954,0.03420631434201392,-0.45894188198105734,-0.4850085142032951,0.15108157763018584,0.1416739928211047,0.4779585274094298,-0.8118140116099221,0.5562018187811655,-0.24169835421043992,-0.5660844805115468,-0.49218350172725206,-0.61293743048621,1.2332793309806727,2.1240417997227214,1.400322812515332,-1.2707703517297577,0.04297896308622119,-1.1629777976548832,-0.527264203119578,-1.1036025507929965,0.11634484045105915,1.4459565634949803,-0.19104602555144024,1.43788963939247,-2.0614461044332733,1.6997794796458487,0.19527633470967637]},{\"boxpoints\":false,\"line\":{\"width\":1.3},\"marker\":{\"color\":\"rgba(50, 171, 96, 1.0)\"},\"name\":\"C\",\"orientation\":\"v\",\"type\":\"box\",\"y\":[0.07422700527315418,0.4130249643103405,0.08548858850732852,-0.2313907405072228,0.37480831038947743,-0.5804733866469306,-0.6801880384913043,1.8022342350275198,0.2860197998610701,0.44232578447992343,-1.5016331070440165,-0.17047063909762822,0.2969657590242623,-0.3938742717666108,0.005322578576980963,-0.1509403635371195,-1.475176645424478,-0.6996670204144476,0.01040519118246566,-0.43008029671786063,0.049262896897995734,-2.2794486022226317,-0.05170995821764871,-1.1642223337949063,-0.7845961694373157,1.7201571256729855,-0.1080899951479665,1.9172077113769468,-1.0291295424930516,-0.4830378049493245,-3.042769218598791,-0.24804905428614898,1.0314805119510864,-1.404281005575798,-0.1379101447202194,-0.7195472131915353,-0.2735942321860184,-1.7388301654248608,0.8921268176921588,0.015092574704470684,-0.017843727398743788,-0.023373546868586628,0.48356729019745276,0.3724710103514023,1.008265930319548,2.4463710370181833,-1.984883419537376,0.3580786992700125,-1.1542277648532895,0.4987945521011533,-0.5602989609894605,-1.2899859967795375,-0.18340439848799506,-1.0255585995065564,-1.3069786772803889,-0.12442852338564153,0.9828613424354359,-0.5926949048387103,-0.7621082270075276,-1.5803155758375553,-1.5450357781388426,-0.6167758224917211,1.0960016305928086,-0.3660385461050507,0.40608765534013885,0.061831984060027934,-1.5480288983429116,2.2488514861594293,-0.2471095149706103,-1.4855057620299903,-0.6967002864504952,0.6592024314305059,0.7725617098876191,-0.008263027740115753,-0.6944179983332547,1.1526220459892333,1.4501439219254952,2.1505517700712176,-0.3492929750190928,0.11094652493428009,-0.6108141968900309,0.3502143994430392,-0.2227433971114668,1.678016033517746,-0.9382350184164863,-0.7751011686520267,0.4806329226047449,-1.2579044633708636,-0.9662571507224871,-0.3709616614910942,-0.06452441870975577,-0.35563498268520916,-0.016514764413823962,-0.22861270922344848,-0.5462410861762043,-0.16893452437550166,0.4508344021737034,-1.1284200562808675,0.8783286696936663,1.051529015196934]},{\"boxpoints\":false,\"line\":{\"width\":1.3},\"marker\":{\"color\":\"rgba(128, 0, 128, 1.0)\"},\"name\":\"D\",\"orientation\":\"v\",\"type\":\"box\",\"y\":[-0.4265649055030353,0.5345753963116453,1.2648624239240278,-0.5036965328663572,1.3839523450361182,1.2575049616846319,0.4144214395049769,-0.5025921390683061,0.4646854192098949,-1.0187018400737897,-0.41604955826801,-0.704873422773722,0.34012659882708757,0.8215859955152438,-0.9630212613275814,-1.5479364624579965,1.262427324095102,-0.6314716294991332,-0.2948263242881089,2.045843585833337,0.7779892759515108,-2.3374769861385496,0.08076847935905539,0.9386365422370996,1.006813472053596,-1.7130081664294843,-0.8301818918715494,0.40662438561416886,0.6184271143243777,-1.1171162565881085,-0.7259743318271101,-0.7894973693297371,0.15673300611977514,-0.0411443578526938,1.8725145576747395,0.07417574962603085,-2.0476069434418798,-0.5231585358294968,-1.1450987535161061,0.6433542561798411,0.01529112076703967,-0.48657373270143484,1.7052382835670108,0.4116424859047016,-0.4234715279258913,-0.9252985606450924,0.4828442783376966,1.5942461288472833,0.08456822084845338,-1.5394659470604126,0.5501664509165102,0.9454148982132563,-0.1261792942872043,0.3017002608052505,-1.2519565936221715,-0.24466158095145318,1.1954983324987216,-0.3809112557174018,1.33923613114652,1.3560837868399453,0.09661889452534182,-1.4880197906360266,-0.2827010917022672,0.11638639687460929,1.4606288990278828,-0.724909388940758,-0.8292888279027019,1.2152792806199297,0.9406782217308104,-0.2271121287232906,-0.6456754382419851,0.2246503169045476,0.9088534114783418,-0.785122627292339,-0.43312963489765566,-0.6263627891053157,-0.8124367069314169,-0.0944907864199542,-0.19604602013795855,1.6082443316810087,-0.4009981234549997,0.35696227827031496,0.08582423282612472,0.11139904700992809,0.3807598674561099,1.7292243256324968,0.5402498413873286,1.0069502326770607,1.7525588986920897,-1.0483571007203314,0.42820914988334524,0.9648945646092203,1.4849291082110934,-0.6459546098399391,-0.11144734102298919,0.6220318081645934,0.4307143405325117,-0.06911151660227972,0.18914139541645156,-1.3974429546298435]}],                        {\"legend\":{\"bgcolor\":\"#F5F6F9\",\"font\":{\"color\":\"#4D5663\"}},\"paper_bgcolor\":\"#F5F6F9\",\"plot_bgcolor\":\"#F5F6F9\",\"template\":{\"data\":{\"bar\":[{\"error_x\":{\"color\":\"#2a3f5f\"},\"error_y\":{\"color\":\"#2a3f5f\"},\"marker\":{\"line\":{\"color\":\"#E5ECF6\",\"width\":0.5},\"pattern\":{\"fillmode\":\"overlay\",\"size\":10,\"solidity\":0.2}},\"type\":\"bar\"}],\"barpolar\":[{\"marker\":{\"line\":{\"color\":\"#E5ECF6\",\"width\":0.5},\"pattern\":{\"fillmode\":\"overlay\",\"size\":10,\"solidity\":0.2}},\"type\":\"barpolar\"}],\"carpet\":[{\"aaxis\":{\"endlinecolor\":\"#2a3f5f\",\"gridcolor\":\"white\",\"linecolor\":\"white\",\"minorgridcolor\":\"white\",\"startlinecolor\":\"#2a3f5f\"},\"baxis\":{\"endlinecolor\":\"#2a3f5f\",\"gridcolor\":\"white\",\"linecolor\":\"white\",\"minorgridcolor\":\"white\",\"startlinecolor\":\"#2a3f5f\"},\"type\":\"carpet\"}],\"choropleth\":[{\"colorbar\":{\"outlinewidth\":0,\"ticks\":\"\"},\"type\":\"choropleth\"}],\"contour\":[{\"colorbar\":{\"outlinewidth\":0,\"ticks\":\"\"},\"colorscale\":[[0.0,\"#0d0887\"],[0.1111111111111111,\"#46039f\"],[0.2222222222222222,\"#7201a8\"],[0.3333333333333333,\"#9c179e\"],[0.4444444444444444,\"#bd3786\"],[0.5555555555555556,\"#d8576b\"],[0.6666666666666666,\"#ed7953\"],[0.7777777777777778,\"#fb9f3a\"],[0.8888888888888888,\"#fdca26\"],[1.0,\"#f0f921\"]],\"type\":\"contour\"}],\"contourcarpet\":[{\"colorbar\":{\"outlinewidth\":0,\"ticks\":\"\"},\"type\":\"contourcarpet\"}],\"heatmap\":[{\"colorbar\":{\"outlinewidth\":0,\"ticks\":\"\"},\"colorscale\":[[0.0,\"#0d0887\"],[0.1111111111111111,\"#46039f\"],[0.2222222222222222,\"#7201a8\"],[0.3333333333333333,\"#9c179e\"],[0.4444444444444444,\"#bd3786\"],[0.5555555555555556,\"#d8576b\"],[0.6666666666666666,\"#ed7953\"],[0.7777777777777778,\"#fb9f3a\"],[0.8888888888888888,\"#fdca26\"],[1.0,\"#f0f921\"]],\"type\":\"heatmap\"}],\"heatmapgl\":[{\"colorbar\":{\"outlinewidth\":0,\"ticks\":\"\"},\"colorscale\":[[0.0,\"#0d0887\"],[0.1111111111111111,\"#46039f\"],[0.2222222222222222,\"#7201a8\"],[0.3333333333333333,\"#9c179e\"],[0.4444444444444444,\"#bd3786\"],[0.5555555555555556,\"#d8576b\"],[0.6666666666666666,\"#ed7953\"],[0.7777777777777778,\"#fb9f3a\"],[0.8888888888888888,\"#fdca26\"],[1.0,\"#f0f921\"]],\"type\":\"heatmapgl\"}],\"histogram\":[{\"marker\":{\"pattern\":{\"fillmode\":\"overlay\",\"size\":10,\"solidity\":0.2}},\"type\":\"histogram\"}],\"histogram2d\":[{\"colorbar\":{\"outlinewidth\":0,\"ticks\":\"\"},\"colorscale\":[[0.0,\"#0d0887\"],[0.1111111111111111,\"#46039f\"],[0.2222222222222222,\"#7201a8\"],[0.3333333333333333,\"#9c179e\"],[0.4444444444444444,\"#bd3786\"],[0.5555555555555556,\"#d8576b\"],[0.6666666666666666,\"#ed7953\"],[0.7777777777777778,\"#fb9f3a\"],[0.8888888888888888,\"#fdca26\"],[1.0,\"#f0f921\"]],\"type\":\"histogram2d\"}],\"histogram2dcontour\":[{\"colorbar\":{\"outlinewidth\":0,\"ticks\":\"\"},\"colorscale\":[[0.0,\"#0d0887\"],[0.1111111111111111,\"#46039f\"],[0.2222222222222222,\"#7201a8\"],[0.3333333333333333,\"#9c179e\"],[0.4444444444444444,\"#bd3786\"],[0.5555555555555556,\"#d8576b\"],[0.6666666666666666,\"#ed7953\"],[0.7777777777777778,\"#fb9f3a\"],[0.8888888888888888,\"#fdca26\"],[1.0,\"#f0f921\"]],\"type\":\"histogram2dcontour\"}],\"mesh3d\":[{\"colorbar\":{\"outlinewidth\":0,\"ticks\":\"\"},\"type\":\"mesh3d\"}],\"parcoords\":[{\"line\":{\"colorbar\":{\"outlinewidth\":0,\"ticks\":\"\"}},\"type\":\"parcoords\"}],\"pie\":[{\"automargin\":true,\"type\":\"pie\"}],\"scatter\":[{\"marker\":{\"colorbar\":{\"outlinewidth\":0,\"ticks\":\"\"}},\"type\":\"scatter\"}],\"scatter3d\":[{\"line\":{\"colorbar\":{\"outlinewidth\":0,\"ticks\":\"\"}},\"marker\":{\"colorbar\":{\"outlinewidth\":0,\"ticks\":\"\"}},\"type\":\"scatter3d\"}],\"scattercarpet\":[{\"marker\":{\"colorbar\":{\"outlinewidth\":0,\"ticks\":\"\"}},\"type\":\"scattercarpet\"}],\"scattergeo\":[{\"marker\":{\"colorbar\":{\"outlinewidth\":0,\"ticks\":\"\"}},\"type\":\"scattergeo\"}],\"scattergl\":[{\"marker\":{\"colorbar\":{\"outlinewidth\":0,\"ticks\":\"\"}},\"type\":\"scattergl\"}],\"scattermapbox\":[{\"marker\":{\"colorbar\":{\"outlinewidth\":0,\"ticks\":\"\"}},\"type\":\"scattermapbox\"}],\"scatterpolar\":[{\"marker\":{\"colorbar\":{\"outlinewidth\":0,\"ticks\":\"\"}},\"type\":\"scatterpolar\"}],\"scatterpolargl\":[{\"marker\":{\"colorbar\":{\"outlinewidth\":0,\"ticks\":\"\"}},\"type\":\"scatterpolargl\"}],\"scatterternary\":[{\"marker\":{\"colorbar\":{\"outlinewidth\":0,\"ticks\":\"\"}},\"type\":\"scatterternary\"}],\"surface\":[{\"colorbar\":{\"outlinewidth\":0,\"ticks\":\"\"},\"colorscale\":[[0.0,\"#0d0887\"],[0.1111111111111111,\"#46039f\"],[0.2222222222222222,\"#7201a8\"],[0.3333333333333333,\"#9c179e\"],[0.4444444444444444,\"#bd3786\"],[0.5555555555555556,\"#d8576b\"],[0.6666666666666666,\"#ed7953\"],[0.7777777777777778,\"#fb9f3a\"],[0.8888888888888888,\"#fdca26\"],[1.0,\"#f0f921\"]],\"type\":\"surface\"}],\"table\":[{\"cells\":{\"fill\":{\"color\":\"#EBF0F8\"},\"line\":{\"color\":\"white\"}},\"header\":{\"fill\":{\"color\":\"#C8D4E3\"},\"line\":{\"color\":\"white\"}},\"type\":\"table\"}]},\"layout\":{\"annotationdefaults\":{\"arrowcolor\":\"#2a3f5f\",\"arrowhead\":0,\"arrowwidth\":1},\"autotypenumbers\":\"strict\",\"coloraxis\":{\"colorbar\":{\"outlinewidth\":0,\"ticks\":\"\"}},\"colorscale\":{\"diverging\":[[0,\"#8e0152\"],[0.1,\"#c51b7d\"],[0.2,\"#de77ae\"],[0.3,\"#f1b6da\"],[0.4,\"#fde0ef\"],[0.5,\"#f7f7f7\"],[0.6,\"#e6f5d0\"],[0.7,\"#b8e186\"],[0.8,\"#7fbc41\"],[0.9,\"#4d9221\"],[1,\"#276419\"]],\"sequential\":[[0.0,\"#0d0887\"],[0.1111111111111111,\"#46039f\"],[0.2222222222222222,\"#7201a8\"],[0.3333333333333333,\"#9c179e\"],[0.4444444444444444,\"#bd3786\"],[0.5555555555555556,\"#d8576b\"],[0.6666666666666666,\"#ed7953\"],[0.7777777777777778,\"#fb9f3a\"],[0.8888888888888888,\"#fdca26\"],[1.0,\"#f0f921\"]],\"sequentialminus\":[[0.0,\"#0d0887\"],[0.1111111111111111,\"#46039f\"],[0.2222222222222222,\"#7201a8\"],[0.3333333333333333,\"#9c179e\"],[0.4444444444444444,\"#bd3786\"],[0.5555555555555556,\"#d8576b\"],[0.6666666666666666,\"#ed7953\"],[0.7777777777777778,\"#fb9f3a\"],[0.8888888888888888,\"#fdca26\"],[1.0,\"#f0f921\"]]},\"colorway\":[\"#636efa\",\"#EF553B\",\"#00cc96\",\"#ab63fa\",\"#FFA15A\",\"#19d3f3\",\"#FF6692\",\"#B6E880\",\"#FF97FF\",\"#FECB52\"],\"font\":{\"color\":\"#2a3f5f\"},\"geo\":{\"bgcolor\":\"white\",\"lakecolor\":\"white\",\"landcolor\":\"#E5ECF6\",\"showlakes\":true,\"showland\":true,\"subunitcolor\":\"white\"},\"hoverlabel\":{\"align\":\"left\"},\"hovermode\":\"closest\",\"mapbox\":{\"style\":\"light\"},\"paper_bgcolor\":\"white\",\"plot_bgcolor\":\"#E5ECF6\",\"polar\":{\"angularaxis\":{\"gridcolor\":\"white\",\"linecolor\":\"white\",\"ticks\":\"\"},\"bgcolor\":\"#E5ECF6\",\"radialaxis\":{\"gridcolor\":\"white\",\"linecolor\":\"white\",\"ticks\":\"\"}},\"scene\":{\"xaxis\":{\"backgroundcolor\":\"#E5ECF6\",\"gridcolor\":\"white\",\"gridwidth\":2,\"linecolor\":\"white\",\"showbackground\":true,\"ticks\":\"\",\"zerolinecolor\":\"white\"},\"yaxis\":{\"backgroundcolor\":\"#E5ECF6\",\"gridcolor\":\"white\",\"gridwidth\":2,\"linecolor\":\"white\",\"showbackground\":true,\"ticks\":\"\",\"zerolinecolor\":\"white\"},\"zaxis\":{\"backgroundcolor\":\"#E5ECF6\",\"gridcolor\":\"white\",\"gridwidth\":2,\"linecolor\":\"white\",\"showbackground\":true,\"ticks\":\"\",\"zerolinecolor\":\"white\"}},\"shapedefaults\":{\"line\":{\"color\":\"#2a3f5f\"}},\"ternary\":{\"aaxis\":{\"gridcolor\":\"white\",\"linecolor\":\"white\",\"ticks\":\"\"},\"baxis\":{\"gridcolor\":\"white\",\"linecolor\":\"white\",\"ticks\":\"\"},\"bgcolor\":\"#E5ECF6\",\"caxis\":{\"gridcolor\":\"white\",\"linecolor\":\"white\",\"ticks\":\"\"}},\"title\":{\"x\":0.05},\"xaxis\":{\"automargin\":true,\"gridcolor\":\"white\",\"linecolor\":\"white\",\"ticks\":\"\",\"title\":{\"standoff\":15},\"zerolinecolor\":\"white\",\"zerolinewidth\":2},\"yaxis\":{\"automargin\":true,\"gridcolor\":\"white\",\"linecolor\":\"white\",\"ticks\":\"\",\"title\":{\"standoff\":15},\"zerolinecolor\":\"white\",\"zerolinewidth\":2}}},\"title\":{\"font\":{\"color\":\"#4D5663\"}},\"xaxis\":{\"gridcolor\":\"#E1E5ED\",\"showgrid\":true,\"tickfont\":{\"color\":\"#4D5663\"},\"title\":{\"font\":{\"color\":\"#4D5663\"},\"text\":\"\"},\"zerolinecolor\":\"#E1E5ED\"},\"yaxis\":{\"gridcolor\":\"#E1E5ED\",\"showgrid\":true,\"tickfont\":{\"color\":\"#4D5663\"},\"title\":{\"font\":{\"color\":\"#4D5663\"},\"text\":\"\"},\"zerolinecolor\":\"#E1E5ED\"}},                        {\"showLink\": true, \"linkText\": \"Export to plot.ly\", \"plotlyServerURL\": \"https://plot.ly\", \"responsive\": true}                    ).then(function(){\n",
       "                            \n",
       "var gd = document.getElementById('7e1e9e79-18e5-4703-96bd-b4fdfc532058');\n",
       "var x = new MutationObserver(function (mutations, observer) {{\n",
       "        var display = window.getComputedStyle(gd).display;\n",
       "        if (!display || display === 'none') {{\n",
       "            console.log([gd, 'removed!']);\n",
       "            Plotly.purge(gd);\n",
       "            observer.disconnect();\n",
       "        }}\n",
       "}});\n",
       "\n",
       "// Listen for the removal of the full notebook cells\n",
       "var notebookContainer = gd.closest('#notebook-container');\n",
       "if (notebookContainer) {{\n",
       "    x.observe(notebookContainer, {childList: true});\n",
       "}}\n",
       "\n",
       "// Listen for the clearing of the current output cell\n",
       "var outputEl = gd.closest('.output');\n",
       "if (outputEl) {{\n",
       "    x.observe(outputEl, {childList: true});\n",
       "}}\n",
       "\n",
       "                        })                };                });            </script>        </div>"
      ]
     },
     "metadata": {},
     "output_type": "display_data"
    }
   ],
   "source": [
    "df.iplot(kind = 'box')"
   ]
  },
  {
   "cell_type": "code",
   "execution_count": 37,
   "id": "777813bf",
   "metadata": {},
   "outputs": [],
   "source": [
    "df3 = pd.DataFrame({'x':[1,2,3,4,5],'y':[10,20,30,20,10],'z':[500,400,300,200,100]})"
   ]
  },
  {
   "cell_type": "code",
   "execution_count": 38,
   "id": "b323327e",
   "metadata": {},
   "outputs": [
    {
     "data": {
      "text/html": [
       "<div>\n",
       "<style scoped>\n",
       "    .dataframe tbody tr th:only-of-type {\n",
       "        vertical-align: middle;\n",
       "    }\n",
       "\n",
       "    .dataframe tbody tr th {\n",
       "        vertical-align: top;\n",
       "    }\n",
       "\n",
       "    .dataframe thead th {\n",
       "        text-align: right;\n",
       "    }\n",
       "</style>\n",
       "<table border=\"1\" class=\"dataframe\">\n",
       "  <thead>\n",
       "    <tr style=\"text-align: right;\">\n",
       "      <th></th>\n",
       "      <th>x</th>\n",
       "      <th>y</th>\n",
       "      <th>z</th>\n",
       "    </tr>\n",
       "  </thead>\n",
       "  <tbody>\n",
       "    <tr>\n",
       "      <th>0</th>\n",
       "      <td>1</td>\n",
       "      <td>10</td>\n",
       "      <td>500</td>\n",
       "    </tr>\n",
       "    <tr>\n",
       "      <th>1</th>\n",
       "      <td>2</td>\n",
       "      <td>20</td>\n",
       "      <td>400</td>\n",
       "    </tr>\n",
       "    <tr>\n",
       "      <th>2</th>\n",
       "      <td>3</td>\n",
       "      <td>30</td>\n",
       "      <td>300</td>\n",
       "    </tr>\n",
       "    <tr>\n",
       "      <th>3</th>\n",
       "      <td>4</td>\n",
       "      <td>20</td>\n",
       "      <td>200</td>\n",
       "    </tr>\n",
       "    <tr>\n",
       "      <th>4</th>\n",
       "      <td>5</td>\n",
       "      <td>10</td>\n",
       "      <td>100</td>\n",
       "    </tr>\n",
       "  </tbody>\n",
       "</table>\n",
       "</div>"
      ],
      "text/plain": [
       "   x   y    z\n",
       "0  1  10  500\n",
       "1  2  20  400\n",
       "2  3  30  300\n",
       "3  4  20  200\n",
       "4  5  10  100"
      ]
     },
     "execution_count": 38,
     "metadata": {},
     "output_type": "execute_result"
    }
   ],
   "source": [
    "df3"
   ]
  },
  {
   "cell_type": "code",
   "execution_count": 39,
   "id": "47d1339c",
   "metadata": {
    "scrolled": true
   },
   "outputs": [
    {
     "data": {
      "application/vnd.plotly.v1+json": {
       "config": {
        "linkText": "Export to plot.ly",
        "plotlyServerURL": "https://plot.ly",
        "showLink": true
       },
       "data": [
        {
         "colorscale": [
          [
           0,
           "rgb(255, 153, 51)"
          ],
          [
           0.1111111111111111,
           "rgb(55, 128, 191)"
          ],
          [
           0.2222222222222222,
           "rgb(50, 171, 96)"
          ],
          [
           0.3333333333333333,
           "rgb(128, 0, 128)"
          ],
          [
           0.4444444444444444,
           "rgb(219, 64, 82)"
          ],
          [
           0.5555555555555556,
           "rgb(0, 128, 128)"
          ],
          [
           0.6666666666666666,
           "rgb(255, 255, 51)"
          ],
          [
           0.7777777777777778,
           "rgb(128, 128, 0)"
          ],
          [
           0.8888888888888888,
           "rgb(251, 128, 114)"
          ],
          [
           1,
           "rgb(128, 177, 211)"
          ]
         ],
         "type": "surface",
         "x": [
          0,
          1,
          2,
          3,
          4
         ],
         "y": [
          "x",
          "y",
          "z"
         ],
         "z": [
          [
           1,
           2,
           3,
           4,
           5
          ],
          [
           10,
           20,
           30,
           20,
           10
          ],
          [
           500,
           400,
           300,
           200,
           100
          ]
         ]
        }
       ],
       "layout": {
        "legend": {
         "bgcolor": "#F5F6F9",
         "font": {
          "color": "#4D5663"
         }
        },
        "paper_bgcolor": "#F5F6F9",
        "plot_bgcolor": "#F5F6F9",
        "template": {
         "data": {
          "bar": [
           {
            "error_x": {
             "color": "#2a3f5f"
            },
            "error_y": {
             "color": "#2a3f5f"
            },
            "marker": {
             "line": {
              "color": "#E5ECF6",
              "width": 0.5
             },
             "pattern": {
              "fillmode": "overlay",
              "size": 10,
              "solidity": 0.2
             }
            },
            "type": "bar"
           }
          ],
          "barpolar": [
           {
            "marker": {
             "line": {
              "color": "#E5ECF6",
              "width": 0.5
             },
             "pattern": {
              "fillmode": "overlay",
              "size": 10,
              "solidity": 0.2
             }
            },
            "type": "barpolar"
           }
          ],
          "carpet": [
           {
            "aaxis": {
             "endlinecolor": "#2a3f5f",
             "gridcolor": "white",
             "linecolor": "white",
             "minorgridcolor": "white",
             "startlinecolor": "#2a3f5f"
            },
            "baxis": {
             "endlinecolor": "#2a3f5f",
             "gridcolor": "white",
             "linecolor": "white",
             "minorgridcolor": "white",
             "startlinecolor": "#2a3f5f"
            },
            "type": "carpet"
           }
          ],
          "choropleth": [
           {
            "colorbar": {
             "outlinewidth": 0,
             "ticks": ""
            },
            "type": "choropleth"
           }
          ],
          "contour": [
           {
            "colorbar": {
             "outlinewidth": 0,
             "ticks": ""
            },
            "colorscale": [
             [
              0,
              "#0d0887"
             ],
             [
              0.1111111111111111,
              "#46039f"
             ],
             [
              0.2222222222222222,
              "#7201a8"
             ],
             [
              0.3333333333333333,
              "#9c179e"
             ],
             [
              0.4444444444444444,
              "#bd3786"
             ],
             [
              0.5555555555555556,
              "#d8576b"
             ],
             [
              0.6666666666666666,
              "#ed7953"
             ],
             [
              0.7777777777777778,
              "#fb9f3a"
             ],
             [
              0.8888888888888888,
              "#fdca26"
             ],
             [
              1,
              "#f0f921"
             ]
            ],
            "type": "contour"
           }
          ],
          "contourcarpet": [
           {
            "colorbar": {
             "outlinewidth": 0,
             "ticks": ""
            },
            "type": "contourcarpet"
           }
          ],
          "heatmap": [
           {
            "colorbar": {
             "outlinewidth": 0,
             "ticks": ""
            },
            "colorscale": [
             [
              0,
              "#0d0887"
             ],
             [
              0.1111111111111111,
              "#46039f"
             ],
             [
              0.2222222222222222,
              "#7201a8"
             ],
             [
              0.3333333333333333,
              "#9c179e"
             ],
             [
              0.4444444444444444,
              "#bd3786"
             ],
             [
              0.5555555555555556,
              "#d8576b"
             ],
             [
              0.6666666666666666,
              "#ed7953"
             ],
             [
              0.7777777777777778,
              "#fb9f3a"
             ],
             [
              0.8888888888888888,
              "#fdca26"
             ],
             [
              1,
              "#f0f921"
             ]
            ],
            "type": "heatmap"
           }
          ],
          "heatmapgl": [
           {
            "colorbar": {
             "outlinewidth": 0,
             "ticks": ""
            },
            "colorscale": [
             [
              0,
              "#0d0887"
             ],
             [
              0.1111111111111111,
              "#46039f"
             ],
             [
              0.2222222222222222,
              "#7201a8"
             ],
             [
              0.3333333333333333,
              "#9c179e"
             ],
             [
              0.4444444444444444,
              "#bd3786"
             ],
             [
              0.5555555555555556,
              "#d8576b"
             ],
             [
              0.6666666666666666,
              "#ed7953"
             ],
             [
              0.7777777777777778,
              "#fb9f3a"
             ],
             [
              0.8888888888888888,
              "#fdca26"
             ],
             [
              1,
              "#f0f921"
             ]
            ],
            "type": "heatmapgl"
           }
          ],
          "histogram": [
           {
            "marker": {
             "pattern": {
              "fillmode": "overlay",
              "size": 10,
              "solidity": 0.2
             }
            },
            "type": "histogram"
           }
          ],
          "histogram2d": [
           {
            "colorbar": {
             "outlinewidth": 0,
             "ticks": ""
            },
            "colorscale": [
             [
              0,
              "#0d0887"
             ],
             [
              0.1111111111111111,
              "#46039f"
             ],
             [
              0.2222222222222222,
              "#7201a8"
             ],
             [
              0.3333333333333333,
              "#9c179e"
             ],
             [
              0.4444444444444444,
              "#bd3786"
             ],
             [
              0.5555555555555556,
              "#d8576b"
             ],
             [
              0.6666666666666666,
              "#ed7953"
             ],
             [
              0.7777777777777778,
              "#fb9f3a"
             ],
             [
              0.8888888888888888,
              "#fdca26"
             ],
             [
              1,
              "#f0f921"
             ]
            ],
            "type": "histogram2d"
           }
          ],
          "histogram2dcontour": [
           {
            "colorbar": {
             "outlinewidth": 0,
             "ticks": ""
            },
            "colorscale": [
             [
              0,
              "#0d0887"
             ],
             [
              0.1111111111111111,
              "#46039f"
             ],
             [
              0.2222222222222222,
              "#7201a8"
             ],
             [
              0.3333333333333333,
              "#9c179e"
             ],
             [
              0.4444444444444444,
              "#bd3786"
             ],
             [
              0.5555555555555556,
              "#d8576b"
             ],
             [
              0.6666666666666666,
              "#ed7953"
             ],
             [
              0.7777777777777778,
              "#fb9f3a"
             ],
             [
              0.8888888888888888,
              "#fdca26"
             ],
             [
              1,
              "#f0f921"
             ]
            ],
            "type": "histogram2dcontour"
           }
          ],
          "mesh3d": [
           {
            "colorbar": {
             "outlinewidth": 0,
             "ticks": ""
            },
            "type": "mesh3d"
           }
          ],
          "parcoords": [
           {
            "line": {
             "colorbar": {
              "outlinewidth": 0,
              "ticks": ""
             }
            },
            "type": "parcoords"
           }
          ],
          "pie": [
           {
            "automargin": true,
            "type": "pie"
           }
          ],
          "scatter": [
           {
            "marker": {
             "colorbar": {
              "outlinewidth": 0,
              "ticks": ""
             }
            },
            "type": "scatter"
           }
          ],
          "scatter3d": [
           {
            "line": {
             "colorbar": {
              "outlinewidth": 0,
              "ticks": ""
             }
            },
            "marker": {
             "colorbar": {
              "outlinewidth": 0,
              "ticks": ""
             }
            },
            "type": "scatter3d"
           }
          ],
          "scattercarpet": [
           {
            "marker": {
             "colorbar": {
              "outlinewidth": 0,
              "ticks": ""
             }
            },
            "type": "scattercarpet"
           }
          ],
          "scattergeo": [
           {
            "marker": {
             "colorbar": {
              "outlinewidth": 0,
              "ticks": ""
             }
            },
            "type": "scattergeo"
           }
          ],
          "scattergl": [
           {
            "marker": {
             "colorbar": {
              "outlinewidth": 0,
              "ticks": ""
             }
            },
            "type": "scattergl"
           }
          ],
          "scattermapbox": [
           {
            "marker": {
             "colorbar": {
              "outlinewidth": 0,
              "ticks": ""
             }
            },
            "type": "scattermapbox"
           }
          ],
          "scatterpolar": [
           {
            "marker": {
             "colorbar": {
              "outlinewidth": 0,
              "ticks": ""
             }
            },
            "type": "scatterpolar"
           }
          ],
          "scatterpolargl": [
           {
            "marker": {
             "colorbar": {
              "outlinewidth": 0,
              "ticks": ""
             }
            },
            "type": "scatterpolargl"
           }
          ],
          "scatterternary": [
           {
            "marker": {
             "colorbar": {
              "outlinewidth": 0,
              "ticks": ""
             }
            },
            "type": "scatterternary"
           }
          ],
          "surface": [
           {
            "colorbar": {
             "outlinewidth": 0,
             "ticks": ""
            },
            "colorscale": [
             [
              0,
              "#0d0887"
             ],
             [
              0.1111111111111111,
              "#46039f"
             ],
             [
              0.2222222222222222,
              "#7201a8"
             ],
             [
              0.3333333333333333,
              "#9c179e"
             ],
             [
              0.4444444444444444,
              "#bd3786"
             ],
             [
              0.5555555555555556,
              "#d8576b"
             ],
             [
              0.6666666666666666,
              "#ed7953"
             ],
             [
              0.7777777777777778,
              "#fb9f3a"
             ],
             [
              0.8888888888888888,
              "#fdca26"
             ],
             [
              1,
              "#f0f921"
             ]
            ],
            "type": "surface"
           }
          ],
          "table": [
           {
            "cells": {
             "fill": {
              "color": "#EBF0F8"
             },
             "line": {
              "color": "white"
             }
            },
            "header": {
             "fill": {
              "color": "#C8D4E3"
             },
             "line": {
              "color": "white"
             }
            },
            "type": "table"
           }
          ]
         },
         "layout": {
          "annotationdefaults": {
           "arrowcolor": "#2a3f5f",
           "arrowhead": 0,
           "arrowwidth": 1
          },
          "autotypenumbers": "strict",
          "coloraxis": {
           "colorbar": {
            "outlinewidth": 0,
            "ticks": ""
           }
          },
          "colorscale": {
           "diverging": [
            [
             0,
             "#8e0152"
            ],
            [
             0.1,
             "#c51b7d"
            ],
            [
             0.2,
             "#de77ae"
            ],
            [
             0.3,
             "#f1b6da"
            ],
            [
             0.4,
             "#fde0ef"
            ],
            [
             0.5,
             "#f7f7f7"
            ],
            [
             0.6,
             "#e6f5d0"
            ],
            [
             0.7,
             "#b8e186"
            ],
            [
             0.8,
             "#7fbc41"
            ],
            [
             0.9,
             "#4d9221"
            ],
            [
             1,
             "#276419"
            ]
           ],
           "sequential": [
            [
             0,
             "#0d0887"
            ],
            [
             0.1111111111111111,
             "#46039f"
            ],
            [
             0.2222222222222222,
             "#7201a8"
            ],
            [
             0.3333333333333333,
             "#9c179e"
            ],
            [
             0.4444444444444444,
             "#bd3786"
            ],
            [
             0.5555555555555556,
             "#d8576b"
            ],
            [
             0.6666666666666666,
             "#ed7953"
            ],
            [
             0.7777777777777778,
             "#fb9f3a"
            ],
            [
             0.8888888888888888,
             "#fdca26"
            ],
            [
             1,
             "#f0f921"
            ]
           ],
           "sequentialminus": [
            [
             0,
             "#0d0887"
            ],
            [
             0.1111111111111111,
             "#46039f"
            ],
            [
             0.2222222222222222,
             "#7201a8"
            ],
            [
             0.3333333333333333,
             "#9c179e"
            ],
            [
             0.4444444444444444,
             "#bd3786"
            ],
            [
             0.5555555555555556,
             "#d8576b"
            ],
            [
             0.6666666666666666,
             "#ed7953"
            ],
            [
             0.7777777777777778,
             "#fb9f3a"
            ],
            [
             0.8888888888888888,
             "#fdca26"
            ],
            [
             1,
             "#f0f921"
            ]
           ]
          },
          "colorway": [
           "#636efa",
           "#EF553B",
           "#00cc96",
           "#ab63fa",
           "#FFA15A",
           "#19d3f3",
           "#FF6692",
           "#B6E880",
           "#FF97FF",
           "#FECB52"
          ],
          "font": {
           "color": "#2a3f5f"
          },
          "geo": {
           "bgcolor": "white",
           "lakecolor": "white",
           "landcolor": "#E5ECF6",
           "showlakes": true,
           "showland": true,
           "subunitcolor": "white"
          },
          "hoverlabel": {
           "align": "left"
          },
          "hovermode": "closest",
          "mapbox": {
           "style": "light"
          },
          "paper_bgcolor": "white",
          "plot_bgcolor": "#E5ECF6",
          "polar": {
           "angularaxis": {
            "gridcolor": "white",
            "linecolor": "white",
            "ticks": ""
           },
           "bgcolor": "#E5ECF6",
           "radialaxis": {
            "gridcolor": "white",
            "linecolor": "white",
            "ticks": ""
           }
          },
          "scene": {
           "xaxis": {
            "backgroundcolor": "#E5ECF6",
            "gridcolor": "white",
            "gridwidth": 2,
            "linecolor": "white",
            "showbackground": true,
            "ticks": "",
            "zerolinecolor": "white"
           },
           "yaxis": {
            "backgroundcolor": "#E5ECF6",
            "gridcolor": "white",
            "gridwidth": 2,
            "linecolor": "white",
            "showbackground": true,
            "ticks": "",
            "zerolinecolor": "white"
           },
           "zaxis": {
            "backgroundcolor": "#E5ECF6",
            "gridcolor": "white",
            "gridwidth": 2,
            "linecolor": "white",
            "showbackground": true,
            "ticks": "",
            "zerolinecolor": "white"
           }
          },
          "shapedefaults": {
           "line": {
            "color": "#2a3f5f"
           }
          },
          "ternary": {
           "aaxis": {
            "gridcolor": "white",
            "linecolor": "white",
            "ticks": ""
           },
           "baxis": {
            "gridcolor": "white",
            "linecolor": "white",
            "ticks": ""
           },
           "bgcolor": "#E5ECF6",
           "caxis": {
            "gridcolor": "white",
            "linecolor": "white",
            "ticks": ""
           }
          },
          "title": {
           "x": 0.05
          },
          "xaxis": {
           "automargin": true,
           "gridcolor": "white",
           "linecolor": "white",
           "ticks": "",
           "title": {
            "standoff": 15
           },
           "zerolinecolor": "white",
           "zerolinewidth": 2
          },
          "yaxis": {
           "automargin": true,
           "gridcolor": "white",
           "linecolor": "white",
           "ticks": "",
           "title": {
            "standoff": 15
           },
           "zerolinecolor": "white",
           "zerolinewidth": 2
          }
         }
        },
        "title": {
         "font": {
          "color": "#4D5663"
         }
        },
        "xaxis": {
         "gridcolor": "#E1E5ED",
         "showgrid": true,
         "tickfont": {
          "color": "#4D5663"
         },
         "title": {
          "font": {
           "color": "#4D5663"
          },
          "text": ""
         },
         "zerolinecolor": "#E1E5ED"
        },
        "yaxis": {
         "gridcolor": "#E1E5ED",
         "showgrid": true,
         "tickfont": {
          "color": "#4D5663"
         },
         "title": {
          "font": {
           "color": "#4D5663"
          },
          "text": ""
         },
         "zerolinecolor": "#E1E5ED"
        }
       }
      },
      "text/html": [
       "<div>                            <div id=\"9154b1c1-ef3f-43fe-995a-3a19865651ca\" class=\"plotly-graph-div\" style=\"height:525px; width:100%;\"></div>            <script type=\"text/javascript\">                require([\"plotly\"], function(Plotly) {                    window.PLOTLYENV=window.PLOTLYENV || {};\n",
       "                    window.PLOTLYENV.BASE_URL='https://plot.ly';                                    if (document.getElementById(\"9154b1c1-ef3f-43fe-995a-3a19865651ca\")) {                    Plotly.newPlot(                        \"9154b1c1-ef3f-43fe-995a-3a19865651ca\",                        [{\"colorscale\":[[0.0,\"rgb(255, 153, 51)\"],[0.1111111111111111,\"rgb(55, 128, 191)\"],[0.2222222222222222,\"rgb(50, 171, 96)\"],[0.3333333333333333,\"rgb(128, 0, 128)\"],[0.4444444444444444,\"rgb(219, 64, 82)\"],[0.5555555555555556,\"rgb(0, 128, 128)\"],[0.6666666666666666,\"rgb(255, 255, 51)\"],[0.7777777777777778,\"rgb(128, 128, 0)\"],[0.8888888888888888,\"rgb(251, 128, 114)\"],[1.0,\"rgb(128, 177, 211)\"]],\"type\":\"surface\",\"x\":[0,1,2,3,4],\"y\":[\"x\",\"y\",\"z\"],\"z\":[[1,2,3,4,5],[10,20,30,20,10],[500,400,300,200,100]]}],                        {\"legend\":{\"bgcolor\":\"#F5F6F9\",\"font\":{\"color\":\"#4D5663\"}},\"paper_bgcolor\":\"#F5F6F9\",\"plot_bgcolor\":\"#F5F6F9\",\"template\":{\"data\":{\"bar\":[{\"error_x\":{\"color\":\"#2a3f5f\"},\"error_y\":{\"color\":\"#2a3f5f\"},\"marker\":{\"line\":{\"color\":\"#E5ECF6\",\"width\":0.5},\"pattern\":{\"fillmode\":\"overlay\",\"size\":10,\"solidity\":0.2}},\"type\":\"bar\"}],\"barpolar\":[{\"marker\":{\"line\":{\"color\":\"#E5ECF6\",\"width\":0.5},\"pattern\":{\"fillmode\":\"overlay\",\"size\":10,\"solidity\":0.2}},\"type\":\"barpolar\"}],\"carpet\":[{\"aaxis\":{\"endlinecolor\":\"#2a3f5f\",\"gridcolor\":\"white\",\"linecolor\":\"white\",\"minorgridcolor\":\"white\",\"startlinecolor\":\"#2a3f5f\"},\"baxis\":{\"endlinecolor\":\"#2a3f5f\",\"gridcolor\":\"white\",\"linecolor\":\"white\",\"minorgridcolor\":\"white\",\"startlinecolor\":\"#2a3f5f\"},\"type\":\"carpet\"}],\"choropleth\":[{\"colorbar\":{\"outlinewidth\":0,\"ticks\":\"\"},\"type\":\"choropleth\"}],\"contour\":[{\"colorbar\":{\"outlinewidth\":0,\"ticks\":\"\"},\"colorscale\":[[0.0,\"#0d0887\"],[0.1111111111111111,\"#46039f\"],[0.2222222222222222,\"#7201a8\"],[0.3333333333333333,\"#9c179e\"],[0.4444444444444444,\"#bd3786\"],[0.5555555555555556,\"#d8576b\"],[0.6666666666666666,\"#ed7953\"],[0.7777777777777778,\"#fb9f3a\"],[0.8888888888888888,\"#fdca26\"],[1.0,\"#f0f921\"]],\"type\":\"contour\"}],\"contourcarpet\":[{\"colorbar\":{\"outlinewidth\":0,\"ticks\":\"\"},\"type\":\"contourcarpet\"}],\"heatmap\":[{\"colorbar\":{\"outlinewidth\":0,\"ticks\":\"\"},\"colorscale\":[[0.0,\"#0d0887\"],[0.1111111111111111,\"#46039f\"],[0.2222222222222222,\"#7201a8\"],[0.3333333333333333,\"#9c179e\"],[0.4444444444444444,\"#bd3786\"],[0.5555555555555556,\"#d8576b\"],[0.6666666666666666,\"#ed7953\"],[0.7777777777777778,\"#fb9f3a\"],[0.8888888888888888,\"#fdca26\"],[1.0,\"#f0f921\"]],\"type\":\"heatmap\"}],\"heatmapgl\":[{\"colorbar\":{\"outlinewidth\":0,\"ticks\":\"\"},\"colorscale\":[[0.0,\"#0d0887\"],[0.1111111111111111,\"#46039f\"],[0.2222222222222222,\"#7201a8\"],[0.3333333333333333,\"#9c179e\"],[0.4444444444444444,\"#bd3786\"],[0.5555555555555556,\"#d8576b\"],[0.6666666666666666,\"#ed7953\"],[0.7777777777777778,\"#fb9f3a\"],[0.8888888888888888,\"#fdca26\"],[1.0,\"#f0f921\"]],\"type\":\"heatmapgl\"}],\"histogram\":[{\"marker\":{\"pattern\":{\"fillmode\":\"overlay\",\"size\":10,\"solidity\":0.2}},\"type\":\"histogram\"}],\"histogram2d\":[{\"colorbar\":{\"outlinewidth\":0,\"ticks\":\"\"},\"colorscale\":[[0.0,\"#0d0887\"],[0.1111111111111111,\"#46039f\"],[0.2222222222222222,\"#7201a8\"],[0.3333333333333333,\"#9c179e\"],[0.4444444444444444,\"#bd3786\"],[0.5555555555555556,\"#d8576b\"],[0.6666666666666666,\"#ed7953\"],[0.7777777777777778,\"#fb9f3a\"],[0.8888888888888888,\"#fdca26\"],[1.0,\"#f0f921\"]],\"type\":\"histogram2d\"}],\"histogram2dcontour\":[{\"colorbar\":{\"outlinewidth\":0,\"ticks\":\"\"},\"colorscale\":[[0.0,\"#0d0887\"],[0.1111111111111111,\"#46039f\"],[0.2222222222222222,\"#7201a8\"],[0.3333333333333333,\"#9c179e\"],[0.4444444444444444,\"#bd3786\"],[0.5555555555555556,\"#d8576b\"],[0.6666666666666666,\"#ed7953\"],[0.7777777777777778,\"#fb9f3a\"],[0.8888888888888888,\"#fdca26\"],[1.0,\"#f0f921\"]],\"type\":\"histogram2dcontour\"}],\"mesh3d\":[{\"colorbar\":{\"outlinewidth\":0,\"ticks\":\"\"},\"type\":\"mesh3d\"}],\"parcoords\":[{\"line\":{\"colorbar\":{\"outlinewidth\":0,\"ticks\":\"\"}},\"type\":\"parcoords\"}],\"pie\":[{\"automargin\":true,\"type\":\"pie\"}],\"scatter\":[{\"marker\":{\"colorbar\":{\"outlinewidth\":0,\"ticks\":\"\"}},\"type\":\"scatter\"}],\"scatter3d\":[{\"line\":{\"colorbar\":{\"outlinewidth\":0,\"ticks\":\"\"}},\"marker\":{\"colorbar\":{\"outlinewidth\":0,\"ticks\":\"\"}},\"type\":\"scatter3d\"}],\"scattercarpet\":[{\"marker\":{\"colorbar\":{\"outlinewidth\":0,\"ticks\":\"\"}},\"type\":\"scattercarpet\"}],\"scattergeo\":[{\"marker\":{\"colorbar\":{\"outlinewidth\":0,\"ticks\":\"\"}},\"type\":\"scattergeo\"}],\"scattergl\":[{\"marker\":{\"colorbar\":{\"outlinewidth\":0,\"ticks\":\"\"}},\"type\":\"scattergl\"}],\"scattermapbox\":[{\"marker\":{\"colorbar\":{\"outlinewidth\":0,\"ticks\":\"\"}},\"type\":\"scattermapbox\"}],\"scatterpolar\":[{\"marker\":{\"colorbar\":{\"outlinewidth\":0,\"ticks\":\"\"}},\"type\":\"scatterpolar\"}],\"scatterpolargl\":[{\"marker\":{\"colorbar\":{\"outlinewidth\":0,\"ticks\":\"\"}},\"type\":\"scatterpolargl\"}],\"scatterternary\":[{\"marker\":{\"colorbar\":{\"outlinewidth\":0,\"ticks\":\"\"}},\"type\":\"scatterternary\"}],\"surface\":[{\"colorbar\":{\"outlinewidth\":0,\"ticks\":\"\"},\"colorscale\":[[0.0,\"#0d0887\"],[0.1111111111111111,\"#46039f\"],[0.2222222222222222,\"#7201a8\"],[0.3333333333333333,\"#9c179e\"],[0.4444444444444444,\"#bd3786\"],[0.5555555555555556,\"#d8576b\"],[0.6666666666666666,\"#ed7953\"],[0.7777777777777778,\"#fb9f3a\"],[0.8888888888888888,\"#fdca26\"],[1.0,\"#f0f921\"]],\"type\":\"surface\"}],\"table\":[{\"cells\":{\"fill\":{\"color\":\"#EBF0F8\"},\"line\":{\"color\":\"white\"}},\"header\":{\"fill\":{\"color\":\"#C8D4E3\"},\"line\":{\"color\":\"white\"}},\"type\":\"table\"}]},\"layout\":{\"annotationdefaults\":{\"arrowcolor\":\"#2a3f5f\",\"arrowhead\":0,\"arrowwidth\":1},\"autotypenumbers\":\"strict\",\"coloraxis\":{\"colorbar\":{\"outlinewidth\":0,\"ticks\":\"\"}},\"colorscale\":{\"diverging\":[[0,\"#8e0152\"],[0.1,\"#c51b7d\"],[0.2,\"#de77ae\"],[0.3,\"#f1b6da\"],[0.4,\"#fde0ef\"],[0.5,\"#f7f7f7\"],[0.6,\"#e6f5d0\"],[0.7,\"#b8e186\"],[0.8,\"#7fbc41\"],[0.9,\"#4d9221\"],[1,\"#276419\"]],\"sequential\":[[0.0,\"#0d0887\"],[0.1111111111111111,\"#46039f\"],[0.2222222222222222,\"#7201a8\"],[0.3333333333333333,\"#9c179e\"],[0.4444444444444444,\"#bd3786\"],[0.5555555555555556,\"#d8576b\"],[0.6666666666666666,\"#ed7953\"],[0.7777777777777778,\"#fb9f3a\"],[0.8888888888888888,\"#fdca26\"],[1.0,\"#f0f921\"]],\"sequentialminus\":[[0.0,\"#0d0887\"],[0.1111111111111111,\"#46039f\"],[0.2222222222222222,\"#7201a8\"],[0.3333333333333333,\"#9c179e\"],[0.4444444444444444,\"#bd3786\"],[0.5555555555555556,\"#d8576b\"],[0.6666666666666666,\"#ed7953\"],[0.7777777777777778,\"#fb9f3a\"],[0.8888888888888888,\"#fdca26\"],[1.0,\"#f0f921\"]]},\"colorway\":[\"#636efa\",\"#EF553B\",\"#00cc96\",\"#ab63fa\",\"#FFA15A\",\"#19d3f3\",\"#FF6692\",\"#B6E880\",\"#FF97FF\",\"#FECB52\"],\"font\":{\"color\":\"#2a3f5f\"},\"geo\":{\"bgcolor\":\"white\",\"lakecolor\":\"white\",\"landcolor\":\"#E5ECF6\",\"showlakes\":true,\"showland\":true,\"subunitcolor\":\"white\"},\"hoverlabel\":{\"align\":\"left\"},\"hovermode\":\"closest\",\"mapbox\":{\"style\":\"light\"},\"paper_bgcolor\":\"white\",\"plot_bgcolor\":\"#E5ECF6\",\"polar\":{\"angularaxis\":{\"gridcolor\":\"white\",\"linecolor\":\"white\",\"ticks\":\"\"},\"bgcolor\":\"#E5ECF6\",\"radialaxis\":{\"gridcolor\":\"white\",\"linecolor\":\"white\",\"ticks\":\"\"}},\"scene\":{\"xaxis\":{\"backgroundcolor\":\"#E5ECF6\",\"gridcolor\":\"white\",\"gridwidth\":2,\"linecolor\":\"white\",\"showbackground\":true,\"ticks\":\"\",\"zerolinecolor\":\"white\"},\"yaxis\":{\"backgroundcolor\":\"#E5ECF6\",\"gridcolor\":\"white\",\"gridwidth\":2,\"linecolor\":\"white\",\"showbackground\":true,\"ticks\":\"\",\"zerolinecolor\":\"white\"},\"zaxis\":{\"backgroundcolor\":\"#E5ECF6\",\"gridcolor\":\"white\",\"gridwidth\":2,\"linecolor\":\"white\",\"showbackground\":true,\"ticks\":\"\",\"zerolinecolor\":\"white\"}},\"shapedefaults\":{\"line\":{\"color\":\"#2a3f5f\"}},\"ternary\":{\"aaxis\":{\"gridcolor\":\"white\",\"linecolor\":\"white\",\"ticks\":\"\"},\"baxis\":{\"gridcolor\":\"white\",\"linecolor\":\"white\",\"ticks\":\"\"},\"bgcolor\":\"#E5ECF6\",\"caxis\":{\"gridcolor\":\"white\",\"linecolor\":\"white\",\"ticks\":\"\"}},\"title\":{\"x\":0.05},\"xaxis\":{\"automargin\":true,\"gridcolor\":\"white\",\"linecolor\":\"white\",\"ticks\":\"\",\"title\":{\"standoff\":15},\"zerolinecolor\":\"white\",\"zerolinewidth\":2},\"yaxis\":{\"automargin\":true,\"gridcolor\":\"white\",\"linecolor\":\"white\",\"ticks\":\"\",\"title\":{\"standoff\":15},\"zerolinecolor\":\"white\",\"zerolinewidth\":2}}},\"title\":{\"font\":{\"color\":\"#4D5663\"}},\"xaxis\":{\"gridcolor\":\"#E1E5ED\",\"showgrid\":true,\"tickfont\":{\"color\":\"#4D5663\"},\"title\":{\"font\":{\"color\":\"#4D5663\"},\"text\":\"\"},\"zerolinecolor\":\"#E1E5ED\"},\"yaxis\":{\"gridcolor\":\"#E1E5ED\",\"showgrid\":true,\"tickfont\":{\"color\":\"#4D5663\"},\"title\":{\"font\":{\"color\":\"#4D5663\"},\"text\":\"\"},\"zerolinecolor\":\"#E1E5ED\"}},                        {\"showLink\": true, \"linkText\": \"Export to plot.ly\", \"plotlyServerURL\": \"https://plot.ly\", \"responsive\": true}                    ).then(function(){\n",
       "                            \n",
       "var gd = document.getElementById('9154b1c1-ef3f-43fe-995a-3a19865651ca');\n",
       "var x = new MutationObserver(function (mutations, observer) {{\n",
       "        var display = window.getComputedStyle(gd).display;\n",
       "        if (!display || display === 'none') {{\n",
       "            console.log([gd, 'removed!']);\n",
       "            Plotly.purge(gd);\n",
       "            observer.disconnect();\n",
       "        }}\n",
       "}});\n",
       "\n",
       "// Listen for the removal of the full notebook cells\n",
       "var notebookContainer = gd.closest('#notebook-container');\n",
       "if (notebookContainer) {{\n",
       "    x.observe(notebookContainer, {childList: true});\n",
       "}}\n",
       "\n",
       "// Listen for the clearing of the current output cell\n",
       "var outputEl = gd.closest('.output');\n",
       "if (outputEl) {{\n",
       "    x.observe(outputEl, {childList: true});\n",
       "}}\n",
       "\n",
       "                        })                };                });            </script>        </div>"
      ]
     },
     "metadata": {},
     "output_type": "display_data"
    }
   ],
   "source": [
    "df3.iplot(kind='surface')"
   ]
  },
  {
   "cell_type": "code",
   "execution_count": 40,
   "id": "279c034f",
   "metadata": {},
   "outputs": [],
   "source": [
    "df4 = pd.DataFrame({'x':[1,2,3,4,5],'y':[10,20,30,20,10],'z':[5,4,3,2,1]})"
   ]
  },
  {
   "cell_type": "code",
   "execution_count": 48,
   "id": "84eabf5c",
   "metadata": {
    "scrolled": false
   },
   "outputs": [
    {
     "data": {
      "application/vnd.plotly.v1+json": {
       "config": {
        "linkText": "Export to plot.ly",
        "plotlyServerURL": "https://plot.ly",
        "showLink": true
       },
       "data": [
        {
         "colorscale": [
          [
           0,
           "rgb(165,0,38)"
          ],
          [
           0.1,
           "rgb(215,48,39)"
          ],
          [
           0.2,
           "rgb(244,109,67)"
          ],
          [
           0.3,
           "rgb(253,174,97)"
          ],
          [
           0.4,
           "rgb(254,224,144)"
          ],
          [
           0.5,
           "rgb(255,255,191)"
          ],
          [
           0.6,
           "rgb(224,243,248)"
          ],
          [
           0.7,
           "rgb(171,217,233)"
          ],
          [
           0.8,
           "rgb(116,173,209)"
          ],
          [
           0.9,
           "rgb(69,117,180)"
          ],
          [
           1,
           "rgb(49,54,149)"
          ]
         ],
         "type": "surface",
         "x": [
          0,
          1,
          2,
          3,
          4
         ],
         "y": [
          "x",
          "y",
          "z"
         ],
         "z": [
          [
           1,
           2,
           3,
           4,
           5
          ],
          [
           10,
           20,
           30,
           20,
           10
          ],
          [
           5,
           4,
           3,
           2,
           1
          ]
         ]
        }
       ],
       "layout": {
        "legend": {
         "bgcolor": "#F5F6F9",
         "font": {
          "color": "#4D5663"
         }
        },
        "paper_bgcolor": "#F5F6F9",
        "plot_bgcolor": "#F5F6F9",
        "template": {
         "data": {
          "bar": [
           {
            "error_x": {
             "color": "#2a3f5f"
            },
            "error_y": {
             "color": "#2a3f5f"
            },
            "marker": {
             "line": {
              "color": "#E5ECF6",
              "width": 0.5
             },
             "pattern": {
              "fillmode": "overlay",
              "size": 10,
              "solidity": 0.2
             }
            },
            "type": "bar"
           }
          ],
          "barpolar": [
           {
            "marker": {
             "line": {
              "color": "#E5ECF6",
              "width": 0.5
             },
             "pattern": {
              "fillmode": "overlay",
              "size": 10,
              "solidity": 0.2
             }
            },
            "type": "barpolar"
           }
          ],
          "carpet": [
           {
            "aaxis": {
             "endlinecolor": "#2a3f5f",
             "gridcolor": "white",
             "linecolor": "white",
             "minorgridcolor": "white",
             "startlinecolor": "#2a3f5f"
            },
            "baxis": {
             "endlinecolor": "#2a3f5f",
             "gridcolor": "white",
             "linecolor": "white",
             "minorgridcolor": "white",
             "startlinecolor": "#2a3f5f"
            },
            "type": "carpet"
           }
          ],
          "choropleth": [
           {
            "colorbar": {
             "outlinewidth": 0,
             "ticks": ""
            },
            "type": "choropleth"
           }
          ],
          "contour": [
           {
            "colorbar": {
             "outlinewidth": 0,
             "ticks": ""
            },
            "colorscale": [
             [
              0,
              "#0d0887"
             ],
             [
              0.1111111111111111,
              "#46039f"
             ],
             [
              0.2222222222222222,
              "#7201a8"
             ],
             [
              0.3333333333333333,
              "#9c179e"
             ],
             [
              0.4444444444444444,
              "#bd3786"
             ],
             [
              0.5555555555555556,
              "#d8576b"
             ],
             [
              0.6666666666666666,
              "#ed7953"
             ],
             [
              0.7777777777777778,
              "#fb9f3a"
             ],
             [
              0.8888888888888888,
              "#fdca26"
             ],
             [
              1,
              "#f0f921"
             ]
            ],
            "type": "contour"
           }
          ],
          "contourcarpet": [
           {
            "colorbar": {
             "outlinewidth": 0,
             "ticks": ""
            },
            "type": "contourcarpet"
           }
          ],
          "heatmap": [
           {
            "colorbar": {
             "outlinewidth": 0,
             "ticks": ""
            },
            "colorscale": [
             [
              0,
              "#0d0887"
             ],
             [
              0.1111111111111111,
              "#46039f"
             ],
             [
              0.2222222222222222,
              "#7201a8"
             ],
             [
              0.3333333333333333,
              "#9c179e"
             ],
             [
              0.4444444444444444,
              "#bd3786"
             ],
             [
              0.5555555555555556,
              "#d8576b"
             ],
             [
              0.6666666666666666,
              "#ed7953"
             ],
             [
              0.7777777777777778,
              "#fb9f3a"
             ],
             [
              0.8888888888888888,
              "#fdca26"
             ],
             [
              1,
              "#f0f921"
             ]
            ],
            "type": "heatmap"
           }
          ],
          "heatmapgl": [
           {
            "colorbar": {
             "outlinewidth": 0,
             "ticks": ""
            },
            "colorscale": [
             [
              0,
              "#0d0887"
             ],
             [
              0.1111111111111111,
              "#46039f"
             ],
             [
              0.2222222222222222,
              "#7201a8"
             ],
             [
              0.3333333333333333,
              "#9c179e"
             ],
             [
              0.4444444444444444,
              "#bd3786"
             ],
             [
              0.5555555555555556,
              "#d8576b"
             ],
             [
              0.6666666666666666,
              "#ed7953"
             ],
             [
              0.7777777777777778,
              "#fb9f3a"
             ],
             [
              0.8888888888888888,
              "#fdca26"
             ],
             [
              1,
              "#f0f921"
             ]
            ],
            "type": "heatmapgl"
           }
          ],
          "histogram": [
           {
            "marker": {
             "pattern": {
              "fillmode": "overlay",
              "size": 10,
              "solidity": 0.2
             }
            },
            "type": "histogram"
           }
          ],
          "histogram2d": [
           {
            "colorbar": {
             "outlinewidth": 0,
             "ticks": ""
            },
            "colorscale": [
             [
              0,
              "#0d0887"
             ],
             [
              0.1111111111111111,
              "#46039f"
             ],
             [
              0.2222222222222222,
              "#7201a8"
             ],
             [
              0.3333333333333333,
              "#9c179e"
             ],
             [
              0.4444444444444444,
              "#bd3786"
             ],
             [
              0.5555555555555556,
              "#d8576b"
             ],
             [
              0.6666666666666666,
              "#ed7953"
             ],
             [
              0.7777777777777778,
              "#fb9f3a"
             ],
             [
              0.8888888888888888,
              "#fdca26"
             ],
             [
              1,
              "#f0f921"
             ]
            ],
            "type": "histogram2d"
           }
          ],
          "histogram2dcontour": [
           {
            "colorbar": {
             "outlinewidth": 0,
             "ticks": ""
            },
            "colorscale": [
             [
              0,
              "#0d0887"
             ],
             [
              0.1111111111111111,
              "#46039f"
             ],
             [
              0.2222222222222222,
              "#7201a8"
             ],
             [
              0.3333333333333333,
              "#9c179e"
             ],
             [
              0.4444444444444444,
              "#bd3786"
             ],
             [
              0.5555555555555556,
              "#d8576b"
             ],
             [
              0.6666666666666666,
              "#ed7953"
             ],
             [
              0.7777777777777778,
              "#fb9f3a"
             ],
             [
              0.8888888888888888,
              "#fdca26"
             ],
             [
              1,
              "#f0f921"
             ]
            ],
            "type": "histogram2dcontour"
           }
          ],
          "mesh3d": [
           {
            "colorbar": {
             "outlinewidth": 0,
             "ticks": ""
            },
            "type": "mesh3d"
           }
          ],
          "parcoords": [
           {
            "line": {
             "colorbar": {
              "outlinewidth": 0,
              "ticks": ""
             }
            },
            "type": "parcoords"
           }
          ],
          "pie": [
           {
            "automargin": true,
            "type": "pie"
           }
          ],
          "scatter": [
           {
            "marker": {
             "colorbar": {
              "outlinewidth": 0,
              "ticks": ""
             }
            },
            "type": "scatter"
           }
          ],
          "scatter3d": [
           {
            "line": {
             "colorbar": {
              "outlinewidth": 0,
              "ticks": ""
             }
            },
            "marker": {
             "colorbar": {
              "outlinewidth": 0,
              "ticks": ""
             }
            },
            "type": "scatter3d"
           }
          ],
          "scattercarpet": [
           {
            "marker": {
             "colorbar": {
              "outlinewidth": 0,
              "ticks": ""
             }
            },
            "type": "scattercarpet"
           }
          ],
          "scattergeo": [
           {
            "marker": {
             "colorbar": {
              "outlinewidth": 0,
              "ticks": ""
             }
            },
            "type": "scattergeo"
           }
          ],
          "scattergl": [
           {
            "marker": {
             "colorbar": {
              "outlinewidth": 0,
              "ticks": ""
             }
            },
            "type": "scattergl"
           }
          ],
          "scattermapbox": [
           {
            "marker": {
             "colorbar": {
              "outlinewidth": 0,
              "ticks": ""
             }
            },
            "type": "scattermapbox"
           }
          ],
          "scatterpolar": [
           {
            "marker": {
             "colorbar": {
              "outlinewidth": 0,
              "ticks": ""
             }
            },
            "type": "scatterpolar"
           }
          ],
          "scatterpolargl": [
           {
            "marker": {
             "colorbar": {
              "outlinewidth": 0,
              "ticks": ""
             }
            },
            "type": "scatterpolargl"
           }
          ],
          "scatterternary": [
           {
            "marker": {
             "colorbar": {
              "outlinewidth": 0,
              "ticks": ""
             }
            },
            "type": "scatterternary"
           }
          ],
          "surface": [
           {
            "colorbar": {
             "outlinewidth": 0,
             "ticks": ""
            },
            "colorscale": [
             [
              0,
              "#0d0887"
             ],
             [
              0.1111111111111111,
              "#46039f"
             ],
             [
              0.2222222222222222,
              "#7201a8"
             ],
             [
              0.3333333333333333,
              "#9c179e"
             ],
             [
              0.4444444444444444,
              "#bd3786"
             ],
             [
              0.5555555555555556,
              "#d8576b"
             ],
             [
              0.6666666666666666,
              "#ed7953"
             ],
             [
              0.7777777777777778,
              "#fb9f3a"
             ],
             [
              0.8888888888888888,
              "#fdca26"
             ],
             [
              1,
              "#f0f921"
             ]
            ],
            "type": "surface"
           }
          ],
          "table": [
           {
            "cells": {
             "fill": {
              "color": "#EBF0F8"
             },
             "line": {
              "color": "white"
             }
            },
            "header": {
             "fill": {
              "color": "#C8D4E3"
             },
             "line": {
              "color": "white"
             }
            },
            "type": "table"
           }
          ]
         },
         "layout": {
          "annotationdefaults": {
           "arrowcolor": "#2a3f5f",
           "arrowhead": 0,
           "arrowwidth": 1
          },
          "autotypenumbers": "strict",
          "coloraxis": {
           "colorbar": {
            "outlinewidth": 0,
            "ticks": ""
           }
          },
          "colorscale": {
           "diverging": [
            [
             0,
             "#8e0152"
            ],
            [
             0.1,
             "#c51b7d"
            ],
            [
             0.2,
             "#de77ae"
            ],
            [
             0.3,
             "#f1b6da"
            ],
            [
             0.4,
             "#fde0ef"
            ],
            [
             0.5,
             "#f7f7f7"
            ],
            [
             0.6,
             "#e6f5d0"
            ],
            [
             0.7,
             "#b8e186"
            ],
            [
             0.8,
             "#7fbc41"
            ],
            [
             0.9,
             "#4d9221"
            ],
            [
             1,
             "#276419"
            ]
           ],
           "sequential": [
            [
             0,
             "#0d0887"
            ],
            [
             0.1111111111111111,
             "#46039f"
            ],
            [
             0.2222222222222222,
             "#7201a8"
            ],
            [
             0.3333333333333333,
             "#9c179e"
            ],
            [
             0.4444444444444444,
             "#bd3786"
            ],
            [
             0.5555555555555556,
             "#d8576b"
            ],
            [
             0.6666666666666666,
             "#ed7953"
            ],
            [
             0.7777777777777778,
             "#fb9f3a"
            ],
            [
             0.8888888888888888,
             "#fdca26"
            ],
            [
             1,
             "#f0f921"
            ]
           ],
           "sequentialminus": [
            [
             0,
             "#0d0887"
            ],
            [
             0.1111111111111111,
             "#46039f"
            ],
            [
             0.2222222222222222,
             "#7201a8"
            ],
            [
             0.3333333333333333,
             "#9c179e"
            ],
            [
             0.4444444444444444,
             "#bd3786"
            ],
            [
             0.5555555555555556,
             "#d8576b"
            ],
            [
             0.6666666666666666,
             "#ed7953"
            ],
            [
             0.7777777777777778,
             "#fb9f3a"
            ],
            [
             0.8888888888888888,
             "#fdca26"
            ],
            [
             1,
             "#f0f921"
            ]
           ]
          },
          "colorway": [
           "#636efa",
           "#EF553B",
           "#00cc96",
           "#ab63fa",
           "#FFA15A",
           "#19d3f3",
           "#FF6692",
           "#B6E880",
           "#FF97FF",
           "#FECB52"
          ],
          "font": {
           "color": "#2a3f5f"
          },
          "geo": {
           "bgcolor": "white",
           "lakecolor": "white",
           "landcolor": "#E5ECF6",
           "showlakes": true,
           "showland": true,
           "subunitcolor": "white"
          },
          "hoverlabel": {
           "align": "left"
          },
          "hovermode": "closest",
          "mapbox": {
           "style": "light"
          },
          "paper_bgcolor": "white",
          "plot_bgcolor": "#E5ECF6",
          "polar": {
           "angularaxis": {
            "gridcolor": "white",
            "linecolor": "white",
            "ticks": ""
           },
           "bgcolor": "#E5ECF6",
           "radialaxis": {
            "gridcolor": "white",
            "linecolor": "white",
            "ticks": ""
           }
          },
          "scene": {
           "xaxis": {
            "backgroundcolor": "#E5ECF6",
            "gridcolor": "white",
            "gridwidth": 2,
            "linecolor": "white",
            "showbackground": true,
            "ticks": "",
            "zerolinecolor": "white"
           },
           "yaxis": {
            "backgroundcolor": "#E5ECF6",
            "gridcolor": "white",
            "gridwidth": 2,
            "linecolor": "white",
            "showbackground": true,
            "ticks": "",
            "zerolinecolor": "white"
           },
           "zaxis": {
            "backgroundcolor": "#E5ECF6",
            "gridcolor": "white",
            "gridwidth": 2,
            "linecolor": "white",
            "showbackground": true,
            "ticks": "",
            "zerolinecolor": "white"
           }
          },
          "shapedefaults": {
           "line": {
            "color": "#2a3f5f"
           }
          },
          "ternary": {
           "aaxis": {
            "gridcolor": "white",
            "linecolor": "white",
            "ticks": ""
           },
           "baxis": {
            "gridcolor": "white",
            "linecolor": "white",
            "ticks": ""
           },
           "bgcolor": "#E5ECF6",
           "caxis": {
            "gridcolor": "white",
            "linecolor": "white",
            "ticks": ""
           }
          },
          "title": {
           "x": 0.05
          },
          "xaxis": {
           "automargin": true,
           "gridcolor": "white",
           "linecolor": "white",
           "ticks": "",
           "title": {
            "standoff": 15
           },
           "zerolinecolor": "white",
           "zerolinewidth": 2
          },
          "yaxis": {
           "automargin": true,
           "gridcolor": "white",
           "linecolor": "white",
           "ticks": "",
           "title": {
            "standoff": 15
           },
           "zerolinecolor": "white",
           "zerolinewidth": 2
          }
         }
        },
        "title": {
         "font": {
          "color": "#4D5663"
         }
        },
        "xaxis": {
         "gridcolor": "#E1E5ED",
         "showgrid": true,
         "tickfont": {
          "color": "#4D5663"
         },
         "title": {
          "font": {
           "color": "#4D5663"
          },
          "text": ""
         },
         "zerolinecolor": "#E1E5ED"
        },
        "yaxis": {
         "gridcolor": "#E1E5ED",
         "showgrid": true,
         "tickfont": {
          "color": "#4D5663"
         },
         "title": {
          "font": {
           "color": "#4D5663"
          },
          "text": ""
         },
         "zerolinecolor": "#E1E5ED"
        }
       }
      },
      "text/html": [
       "<div>                            <div id=\"eed19735-1706-458e-9711-6c7825d500c7\" class=\"plotly-graph-div\" style=\"height:525px; width:100%;\"></div>            <script type=\"text/javascript\">                require([\"plotly\"], function(Plotly) {                    window.PLOTLYENV=window.PLOTLYENV || {};\n",
       "                    window.PLOTLYENV.BASE_URL='https://plot.ly';                                    if (document.getElementById(\"eed19735-1706-458e-9711-6c7825d500c7\")) {                    Plotly.newPlot(                        \"eed19735-1706-458e-9711-6c7825d500c7\",                        [{\"colorscale\":[[0.0,\"rgb(165,0,38)\"],[0.1,\"rgb(215,48,39)\"],[0.2,\"rgb(244,109,67)\"],[0.3,\"rgb(253,174,97)\"],[0.4,\"rgb(254,224,144)\"],[0.5,\"rgb(255,255,191)\"],[0.6,\"rgb(224,243,248)\"],[0.7,\"rgb(171,217,233)\"],[0.8,\"rgb(116,173,209)\"],[0.9,\"rgb(69,117,180)\"],[1.0,\"rgb(49,54,149)\"]],\"type\":\"surface\",\"x\":[0,1,2,3,4],\"y\":[\"x\",\"y\",\"z\"],\"z\":[[1,2,3,4,5],[10,20,30,20,10],[5,4,3,2,1]]}],                        {\"legend\":{\"bgcolor\":\"#F5F6F9\",\"font\":{\"color\":\"#4D5663\"}},\"paper_bgcolor\":\"#F5F6F9\",\"plot_bgcolor\":\"#F5F6F9\",\"template\":{\"data\":{\"bar\":[{\"error_x\":{\"color\":\"#2a3f5f\"},\"error_y\":{\"color\":\"#2a3f5f\"},\"marker\":{\"line\":{\"color\":\"#E5ECF6\",\"width\":0.5},\"pattern\":{\"fillmode\":\"overlay\",\"size\":10,\"solidity\":0.2}},\"type\":\"bar\"}],\"barpolar\":[{\"marker\":{\"line\":{\"color\":\"#E5ECF6\",\"width\":0.5},\"pattern\":{\"fillmode\":\"overlay\",\"size\":10,\"solidity\":0.2}},\"type\":\"barpolar\"}],\"carpet\":[{\"aaxis\":{\"endlinecolor\":\"#2a3f5f\",\"gridcolor\":\"white\",\"linecolor\":\"white\",\"minorgridcolor\":\"white\",\"startlinecolor\":\"#2a3f5f\"},\"baxis\":{\"endlinecolor\":\"#2a3f5f\",\"gridcolor\":\"white\",\"linecolor\":\"white\",\"minorgridcolor\":\"white\",\"startlinecolor\":\"#2a3f5f\"},\"type\":\"carpet\"}],\"choropleth\":[{\"colorbar\":{\"outlinewidth\":0,\"ticks\":\"\"},\"type\":\"choropleth\"}],\"contour\":[{\"colorbar\":{\"outlinewidth\":0,\"ticks\":\"\"},\"colorscale\":[[0.0,\"#0d0887\"],[0.1111111111111111,\"#46039f\"],[0.2222222222222222,\"#7201a8\"],[0.3333333333333333,\"#9c179e\"],[0.4444444444444444,\"#bd3786\"],[0.5555555555555556,\"#d8576b\"],[0.6666666666666666,\"#ed7953\"],[0.7777777777777778,\"#fb9f3a\"],[0.8888888888888888,\"#fdca26\"],[1.0,\"#f0f921\"]],\"type\":\"contour\"}],\"contourcarpet\":[{\"colorbar\":{\"outlinewidth\":0,\"ticks\":\"\"},\"type\":\"contourcarpet\"}],\"heatmap\":[{\"colorbar\":{\"outlinewidth\":0,\"ticks\":\"\"},\"colorscale\":[[0.0,\"#0d0887\"],[0.1111111111111111,\"#46039f\"],[0.2222222222222222,\"#7201a8\"],[0.3333333333333333,\"#9c179e\"],[0.4444444444444444,\"#bd3786\"],[0.5555555555555556,\"#d8576b\"],[0.6666666666666666,\"#ed7953\"],[0.7777777777777778,\"#fb9f3a\"],[0.8888888888888888,\"#fdca26\"],[1.0,\"#f0f921\"]],\"type\":\"heatmap\"}],\"heatmapgl\":[{\"colorbar\":{\"outlinewidth\":0,\"ticks\":\"\"},\"colorscale\":[[0.0,\"#0d0887\"],[0.1111111111111111,\"#46039f\"],[0.2222222222222222,\"#7201a8\"],[0.3333333333333333,\"#9c179e\"],[0.4444444444444444,\"#bd3786\"],[0.5555555555555556,\"#d8576b\"],[0.6666666666666666,\"#ed7953\"],[0.7777777777777778,\"#fb9f3a\"],[0.8888888888888888,\"#fdca26\"],[1.0,\"#f0f921\"]],\"type\":\"heatmapgl\"}],\"histogram\":[{\"marker\":{\"pattern\":{\"fillmode\":\"overlay\",\"size\":10,\"solidity\":0.2}},\"type\":\"histogram\"}],\"histogram2d\":[{\"colorbar\":{\"outlinewidth\":0,\"ticks\":\"\"},\"colorscale\":[[0.0,\"#0d0887\"],[0.1111111111111111,\"#46039f\"],[0.2222222222222222,\"#7201a8\"],[0.3333333333333333,\"#9c179e\"],[0.4444444444444444,\"#bd3786\"],[0.5555555555555556,\"#d8576b\"],[0.6666666666666666,\"#ed7953\"],[0.7777777777777778,\"#fb9f3a\"],[0.8888888888888888,\"#fdca26\"],[1.0,\"#f0f921\"]],\"type\":\"histogram2d\"}],\"histogram2dcontour\":[{\"colorbar\":{\"outlinewidth\":0,\"ticks\":\"\"},\"colorscale\":[[0.0,\"#0d0887\"],[0.1111111111111111,\"#46039f\"],[0.2222222222222222,\"#7201a8\"],[0.3333333333333333,\"#9c179e\"],[0.4444444444444444,\"#bd3786\"],[0.5555555555555556,\"#d8576b\"],[0.6666666666666666,\"#ed7953\"],[0.7777777777777778,\"#fb9f3a\"],[0.8888888888888888,\"#fdca26\"],[1.0,\"#f0f921\"]],\"type\":\"histogram2dcontour\"}],\"mesh3d\":[{\"colorbar\":{\"outlinewidth\":0,\"ticks\":\"\"},\"type\":\"mesh3d\"}],\"parcoords\":[{\"line\":{\"colorbar\":{\"outlinewidth\":0,\"ticks\":\"\"}},\"type\":\"parcoords\"}],\"pie\":[{\"automargin\":true,\"type\":\"pie\"}],\"scatter\":[{\"marker\":{\"colorbar\":{\"outlinewidth\":0,\"ticks\":\"\"}},\"type\":\"scatter\"}],\"scatter3d\":[{\"line\":{\"colorbar\":{\"outlinewidth\":0,\"ticks\":\"\"}},\"marker\":{\"colorbar\":{\"outlinewidth\":0,\"ticks\":\"\"}},\"type\":\"scatter3d\"}],\"scattercarpet\":[{\"marker\":{\"colorbar\":{\"outlinewidth\":0,\"ticks\":\"\"}},\"type\":\"scattercarpet\"}],\"scattergeo\":[{\"marker\":{\"colorbar\":{\"outlinewidth\":0,\"ticks\":\"\"}},\"type\":\"scattergeo\"}],\"scattergl\":[{\"marker\":{\"colorbar\":{\"outlinewidth\":0,\"ticks\":\"\"}},\"type\":\"scattergl\"}],\"scattermapbox\":[{\"marker\":{\"colorbar\":{\"outlinewidth\":0,\"ticks\":\"\"}},\"type\":\"scattermapbox\"}],\"scatterpolar\":[{\"marker\":{\"colorbar\":{\"outlinewidth\":0,\"ticks\":\"\"}},\"type\":\"scatterpolar\"}],\"scatterpolargl\":[{\"marker\":{\"colorbar\":{\"outlinewidth\":0,\"ticks\":\"\"}},\"type\":\"scatterpolargl\"}],\"scatterternary\":[{\"marker\":{\"colorbar\":{\"outlinewidth\":0,\"ticks\":\"\"}},\"type\":\"scatterternary\"}],\"surface\":[{\"colorbar\":{\"outlinewidth\":0,\"ticks\":\"\"},\"colorscale\":[[0.0,\"#0d0887\"],[0.1111111111111111,\"#46039f\"],[0.2222222222222222,\"#7201a8\"],[0.3333333333333333,\"#9c179e\"],[0.4444444444444444,\"#bd3786\"],[0.5555555555555556,\"#d8576b\"],[0.6666666666666666,\"#ed7953\"],[0.7777777777777778,\"#fb9f3a\"],[0.8888888888888888,\"#fdca26\"],[1.0,\"#f0f921\"]],\"type\":\"surface\"}],\"table\":[{\"cells\":{\"fill\":{\"color\":\"#EBF0F8\"},\"line\":{\"color\":\"white\"}},\"header\":{\"fill\":{\"color\":\"#C8D4E3\"},\"line\":{\"color\":\"white\"}},\"type\":\"table\"}]},\"layout\":{\"annotationdefaults\":{\"arrowcolor\":\"#2a3f5f\",\"arrowhead\":0,\"arrowwidth\":1},\"autotypenumbers\":\"strict\",\"coloraxis\":{\"colorbar\":{\"outlinewidth\":0,\"ticks\":\"\"}},\"colorscale\":{\"diverging\":[[0,\"#8e0152\"],[0.1,\"#c51b7d\"],[0.2,\"#de77ae\"],[0.3,\"#f1b6da\"],[0.4,\"#fde0ef\"],[0.5,\"#f7f7f7\"],[0.6,\"#e6f5d0\"],[0.7,\"#b8e186\"],[0.8,\"#7fbc41\"],[0.9,\"#4d9221\"],[1,\"#276419\"]],\"sequential\":[[0.0,\"#0d0887\"],[0.1111111111111111,\"#46039f\"],[0.2222222222222222,\"#7201a8\"],[0.3333333333333333,\"#9c179e\"],[0.4444444444444444,\"#bd3786\"],[0.5555555555555556,\"#d8576b\"],[0.6666666666666666,\"#ed7953\"],[0.7777777777777778,\"#fb9f3a\"],[0.8888888888888888,\"#fdca26\"],[1.0,\"#f0f921\"]],\"sequentialminus\":[[0.0,\"#0d0887\"],[0.1111111111111111,\"#46039f\"],[0.2222222222222222,\"#7201a8\"],[0.3333333333333333,\"#9c179e\"],[0.4444444444444444,\"#bd3786\"],[0.5555555555555556,\"#d8576b\"],[0.6666666666666666,\"#ed7953\"],[0.7777777777777778,\"#fb9f3a\"],[0.8888888888888888,\"#fdca26\"],[1.0,\"#f0f921\"]]},\"colorway\":[\"#636efa\",\"#EF553B\",\"#00cc96\",\"#ab63fa\",\"#FFA15A\",\"#19d3f3\",\"#FF6692\",\"#B6E880\",\"#FF97FF\",\"#FECB52\"],\"font\":{\"color\":\"#2a3f5f\"},\"geo\":{\"bgcolor\":\"white\",\"lakecolor\":\"white\",\"landcolor\":\"#E5ECF6\",\"showlakes\":true,\"showland\":true,\"subunitcolor\":\"white\"},\"hoverlabel\":{\"align\":\"left\"},\"hovermode\":\"closest\",\"mapbox\":{\"style\":\"light\"},\"paper_bgcolor\":\"white\",\"plot_bgcolor\":\"#E5ECF6\",\"polar\":{\"angularaxis\":{\"gridcolor\":\"white\",\"linecolor\":\"white\",\"ticks\":\"\"},\"bgcolor\":\"#E5ECF6\",\"radialaxis\":{\"gridcolor\":\"white\",\"linecolor\":\"white\",\"ticks\":\"\"}},\"scene\":{\"xaxis\":{\"backgroundcolor\":\"#E5ECF6\",\"gridcolor\":\"white\",\"gridwidth\":2,\"linecolor\":\"white\",\"showbackground\":true,\"ticks\":\"\",\"zerolinecolor\":\"white\"},\"yaxis\":{\"backgroundcolor\":\"#E5ECF6\",\"gridcolor\":\"white\",\"gridwidth\":2,\"linecolor\":\"white\",\"showbackground\":true,\"ticks\":\"\",\"zerolinecolor\":\"white\"},\"zaxis\":{\"backgroundcolor\":\"#E5ECF6\",\"gridcolor\":\"white\",\"gridwidth\":2,\"linecolor\":\"white\",\"showbackground\":true,\"ticks\":\"\",\"zerolinecolor\":\"white\"}},\"shapedefaults\":{\"line\":{\"color\":\"#2a3f5f\"}},\"ternary\":{\"aaxis\":{\"gridcolor\":\"white\",\"linecolor\":\"white\",\"ticks\":\"\"},\"baxis\":{\"gridcolor\":\"white\",\"linecolor\":\"white\",\"ticks\":\"\"},\"bgcolor\":\"#E5ECF6\",\"caxis\":{\"gridcolor\":\"white\",\"linecolor\":\"white\",\"ticks\":\"\"}},\"title\":{\"x\":0.05},\"xaxis\":{\"automargin\":true,\"gridcolor\":\"white\",\"linecolor\":\"white\",\"ticks\":\"\",\"title\":{\"standoff\":15},\"zerolinecolor\":\"white\",\"zerolinewidth\":2},\"yaxis\":{\"automargin\":true,\"gridcolor\":\"white\",\"linecolor\":\"white\",\"ticks\":\"\",\"title\":{\"standoff\":15},\"zerolinecolor\":\"white\",\"zerolinewidth\":2}}},\"title\":{\"font\":{\"color\":\"#4D5663\"}},\"xaxis\":{\"gridcolor\":\"#E1E5ED\",\"showgrid\":true,\"tickfont\":{\"color\":\"#4D5663\"},\"title\":{\"font\":{\"color\":\"#4D5663\"},\"text\":\"\"},\"zerolinecolor\":\"#E1E5ED\"},\"yaxis\":{\"gridcolor\":\"#E1E5ED\",\"showgrid\":true,\"tickfont\":{\"color\":\"#4D5663\"},\"title\":{\"font\":{\"color\":\"#4D5663\"},\"text\":\"\"},\"zerolinecolor\":\"#E1E5ED\"}},                        {\"showLink\": true, \"linkText\": \"Export to plot.ly\", \"plotlyServerURL\": \"https://plot.ly\", \"responsive\": true}                    ).then(function(){\n",
       "                            \n",
       "var gd = document.getElementById('eed19735-1706-458e-9711-6c7825d500c7');\n",
       "var x = new MutationObserver(function (mutations, observer) {{\n",
       "        var display = window.getComputedStyle(gd).display;\n",
       "        if (!display || display === 'none') {{\n",
       "            console.log([gd, 'removed!']);\n",
       "            Plotly.purge(gd);\n",
       "            observer.disconnect();\n",
       "        }}\n",
       "}});\n",
       "\n",
       "// Listen for the removal of the full notebook cells\n",
       "var notebookContainer = gd.closest('#notebook-container');\n",
       "if (notebookContainer) {{\n",
       "    x.observe(notebookContainer, {childList: true});\n",
       "}}\n",
       "\n",
       "// Listen for the clearing of the current output cell\n",
       "var outputEl = gd.closest('.output');\n",
       "if (outputEl) {{\n",
       "    x.observe(outputEl, {childList: true});\n",
       "}}\n",
       "\n",
       "                        })                };                });            </script>        </div>"
      ]
     },
     "metadata": {},
     "output_type": "display_data"
    }
   ],
   "source": [
    "df4.iplot(kind='surface',colorscale='rdylbu')"
   ]
  },
  {
   "cell_type": "code",
   "execution_count": 50,
   "id": "9c9c0bc7",
   "metadata": {},
   "outputs": [
    {
     "data": {
      "application/vnd.plotly.v1+json": {
       "config": {
        "linkText": "Export to plot.ly",
        "plotlyServerURL": "https://plot.ly",
        "showLink": true
       },
       "data": [
        {
         "histfunc": "count",
         "histnorm": "",
         "marker": {
          "color": "rgba(255, 153, 51, 1.0)",
          "line": {
           "color": "#4D5663",
           "width": 1.3
          }
         },
         "name": "A",
         "nbinsx": 25,
         "opacity": 0.8,
         "orientation": "v",
         "type": "histogram",
         "x": [
          -0.4203769172138504,
          -1.7425536061462963,
          0.889037777019348,
          -1.0146950303,
          0.644987085922443,
          -0.5867545637092614,
          0.19788543355418084,
          -0.2730404740189748,
          -0.9026425523496677,
          -1.6279069661349634,
          -1.502814218287029,
          0.9328022335577573,
          -0.1647065323106058,
          0.6098435552056553,
          0.7157458424489646,
          -1.8653534653067507,
          0.04561722455290629,
          -1.83236922326372,
          1.2857591028121669,
          0.970847338623453,
          0.38469108105725586,
          -0.40669880244896184,
          -0.06933498378794453,
          1.320095941524994,
          -0.049271141297447224,
          0.24992502893762825,
          -1.0468650538432982,
          0.8544164021291353,
          0.5427353132690936,
          -0.6046711968130206,
          0.268146006228171,
          -0.8136978787020882,
          0.5129283434240521,
          -1.135879355830157,
          -0.5949835740230749,
          -0.9991198230270095,
          -1.6954857308348357,
          -0.5946797454314954,
          -0.038096198045322445,
          -0.597690474040178,
          -0.91787070032281,
          0.0049305892151103705,
          0.3176792336961347,
          1.8158591736530727,
          -0.18625555231119253,
          0.5334916797623348,
          -1.7790749335164024,
          -0.4561764528203567,
          -0.5383765801583805,
          0.9303974394928215,
          0.3019654074882458,
          -0.44691681108686937,
          1.0528514568643699,
          -0.8167380173526259,
          1.2329356705867764,
          1.5463527728336532,
          -0.20062580071149355,
          -0.09651096288571068,
          0.9154837337810589,
          -1.116298893230286,
          -0.12815668411074205,
          -0.35583474560030715,
          -0.1451024331637089,
          -0.015403174313218963,
          -0.28000443145952597,
          -0.47316418081547024,
          1.1183679273647713,
          0.5531770838513008,
          0.510397106892376,
          0.8396821842077113,
          0.11193850783712242,
          1.5340640502750655,
          0.021240171794083367,
          -0.9880713077949188,
          -0.6483165415061083,
          -0.3232730425399403,
          -0.3962516779122834,
          -0.4889839801990028,
          -0.6958235391363193,
          1.0309874763249955,
          -1.2084742863986977,
          -1.326989784774145,
          0.87219511894707,
          -0.5061261280696431,
          -0.9298406048337552,
          0.3475633689311191,
          -0.4488686768784139,
          0.08110817045384922,
          -0.0762302794889301,
          0.9625165014804028,
          0.8396345494906886,
          -1.80754629237557,
          0.8112661931818693,
          -0.6042239124449605,
          0.12005231709963185,
          -0.1764783558475839,
          1.4807239063761461,
          -1.2889664844008466,
          0.34080712450550255,
          0.5160231621797224
         ]
        },
        {
         "histfunc": "count",
         "histnorm": "",
         "marker": {
          "color": "rgba(55, 128, 191, 1.0)",
          "line": {
           "color": "#4D5663",
           "width": 1.3
          }
         },
         "name": "B",
         "nbinsx": 25,
         "opacity": 0.8,
         "orientation": "v",
         "type": "histogram",
         "x": [
          0.6705648136691061,
          0.7479108416593321,
          0.12376066704020804,
          0.5076865776365572,
          0.27751055021147714,
          -0.03885891767652951,
          -1.1484619773486824,
          0.06228241207836648,
          -1.057573110496256,
          1.135998182104359,
          -1.5268471457059039,
          0.03189578091454026,
          0.22200393733858212,
          0.35923447166256467,
          0.0438455986084191,
          -0.3286116744247036,
          -2.263135223059364,
          -0.4813577542132742,
          -1.3263312412535673,
          -0.49685187273799336,
          0.3715396209386487,
          1.3972487045901876,
          -1.7711776100919718,
          0.5164795444719394,
          -0.4040893207540781,
          -0.233485549950093,
          -1.476540568165758,
          0.28736959359819514,
          -1.828738271205067,
          -0.23033607719013108,
          -0.1716670784386983,
          0.6333589652539582,
          0.24579312524127364,
          -1.0430792092208319,
          -1.3054477184770257,
          -0.377953740083831,
          -1.6893335298772036,
          -0.05613954327924084,
          -0.6487634074366234,
          0.28329949096429036,
          -0.4042017835341697,
          0.032341002346677895,
          0.09703874914253871,
          -1.6933485826179155,
          0.6919740876165209,
          1.6491769080229144,
          -0.5779327269841692,
          -0.368352415642468,
          -1.5547059886995682,
          -1.9347232358061432,
          -0.49457341387009357,
          -1.1431865654017428,
          -0.589440944580983,
          -0.7321925083296308,
          -0.5598495607910404,
          -0.07280153382431334,
          -0.9677078775408386,
          2.110893914463245,
          -1.8007775476818115,
          -0.5492778523321554,
          -0.5153143189722851,
          0.2819410514014495,
          0.6389173365089797,
          -0.03690079064012558,
          0.3154919697960902,
          0.34399013315007754,
          0.8770157732702345,
          1.59051131022073,
          0.7904345189953608,
          0.7311438272766193,
          0.7387973826077535,
          -0.879583440706914,
          0.5868810728835954,
          0.03420631434201392,
          -0.45894188198105734,
          -0.4850085142032951,
          0.15108157763018584,
          0.1416739928211047,
          0.4779585274094298,
          -0.8118140116099221,
          0.5562018187811655,
          -0.24169835421043992,
          -0.5660844805115468,
          -0.49218350172725206,
          -0.61293743048621,
          1.2332793309806727,
          2.1240417997227214,
          1.400322812515332,
          -1.2707703517297577,
          0.04297896308622119,
          -1.1629777976548832,
          -0.527264203119578,
          -1.1036025507929965,
          0.11634484045105915,
          1.4459565634949803,
          -0.19104602555144024,
          1.43788963939247,
          -2.0614461044332733,
          1.6997794796458487,
          0.19527633470967637
         ]
        },
        {
         "histfunc": "count",
         "histnorm": "",
         "marker": {
          "color": "rgba(50, 171, 96, 1.0)",
          "line": {
           "color": "#4D5663",
           "width": 1.3
          }
         },
         "name": "C",
         "nbinsx": 25,
         "opacity": 0.8,
         "orientation": "v",
         "type": "histogram",
         "x": [
          0.07422700527315418,
          0.4130249643103405,
          0.08548858850732852,
          -0.2313907405072228,
          0.37480831038947743,
          -0.5804733866469306,
          -0.6801880384913043,
          1.8022342350275198,
          0.2860197998610701,
          0.44232578447992343,
          -1.5016331070440165,
          -0.17047063909762822,
          0.2969657590242623,
          -0.3938742717666108,
          0.005322578576980963,
          -0.1509403635371195,
          -1.475176645424478,
          -0.6996670204144476,
          0.01040519118246566,
          -0.43008029671786063,
          0.049262896897995734,
          -2.2794486022226317,
          -0.05170995821764871,
          -1.1642223337949063,
          -0.7845961694373157,
          1.7201571256729855,
          -0.1080899951479665,
          1.9172077113769468,
          -1.0291295424930516,
          -0.4830378049493245,
          -3.042769218598791,
          -0.24804905428614898,
          1.0314805119510864,
          -1.404281005575798,
          -0.1379101447202194,
          -0.7195472131915353,
          -0.2735942321860184,
          -1.7388301654248608,
          0.8921268176921588,
          0.015092574704470684,
          -0.017843727398743788,
          -0.023373546868586628,
          0.48356729019745276,
          0.3724710103514023,
          1.008265930319548,
          2.4463710370181833,
          -1.984883419537376,
          0.3580786992700125,
          -1.1542277648532895,
          0.4987945521011533,
          -0.5602989609894605,
          -1.2899859967795375,
          -0.18340439848799506,
          -1.0255585995065564,
          -1.3069786772803889,
          -0.12442852338564153,
          0.9828613424354359,
          -0.5926949048387103,
          -0.7621082270075276,
          -1.5803155758375553,
          -1.5450357781388426,
          -0.6167758224917211,
          1.0960016305928086,
          -0.3660385461050507,
          0.40608765534013885,
          0.061831984060027934,
          -1.5480288983429116,
          2.2488514861594293,
          -0.2471095149706103,
          -1.4855057620299903,
          -0.6967002864504952,
          0.6592024314305059,
          0.7725617098876191,
          -0.008263027740115753,
          -0.6944179983332547,
          1.1526220459892333,
          1.4501439219254952,
          2.1505517700712176,
          -0.3492929750190928,
          0.11094652493428009,
          -0.6108141968900309,
          0.3502143994430392,
          -0.2227433971114668,
          1.678016033517746,
          -0.9382350184164863,
          -0.7751011686520267,
          0.4806329226047449,
          -1.2579044633708636,
          -0.9662571507224871,
          -0.3709616614910942,
          -0.06452441870975577,
          -0.35563498268520916,
          -0.016514764413823962,
          -0.22861270922344848,
          -0.5462410861762043,
          -0.16893452437550166,
          0.4508344021737034,
          -1.1284200562808675,
          0.8783286696936663,
          1.051529015196934
         ]
        },
        {
         "histfunc": "count",
         "histnorm": "",
         "marker": {
          "color": "rgba(128, 0, 128, 1.0)",
          "line": {
           "color": "#4D5663",
           "width": 1.3
          }
         },
         "name": "D",
         "nbinsx": 25,
         "opacity": 0.8,
         "orientation": "v",
         "type": "histogram",
         "x": [
          -0.4265649055030353,
          0.5345753963116453,
          1.2648624239240278,
          -0.5036965328663572,
          1.3839523450361182,
          1.2575049616846319,
          0.4144214395049769,
          -0.5025921390683061,
          0.4646854192098949,
          -1.0187018400737897,
          -0.41604955826801,
          -0.704873422773722,
          0.34012659882708757,
          0.8215859955152438,
          -0.9630212613275814,
          -1.5479364624579965,
          1.262427324095102,
          -0.6314716294991332,
          -0.2948263242881089,
          2.045843585833337,
          0.7779892759515108,
          -2.3374769861385496,
          0.08076847935905539,
          0.9386365422370996,
          1.006813472053596,
          -1.7130081664294843,
          -0.8301818918715494,
          0.40662438561416886,
          0.6184271143243777,
          -1.1171162565881085,
          -0.7259743318271101,
          -0.7894973693297371,
          0.15673300611977514,
          -0.0411443578526938,
          1.8725145576747395,
          0.07417574962603085,
          -2.0476069434418798,
          -0.5231585358294968,
          -1.1450987535161061,
          0.6433542561798411,
          0.01529112076703967,
          -0.48657373270143484,
          1.7052382835670108,
          0.4116424859047016,
          -0.4234715279258913,
          -0.9252985606450924,
          0.4828442783376966,
          1.5942461288472833,
          0.08456822084845338,
          -1.5394659470604126,
          0.5501664509165102,
          0.9454148982132563,
          -0.1261792942872043,
          0.3017002608052505,
          -1.2519565936221715,
          -0.24466158095145318,
          1.1954983324987216,
          -0.3809112557174018,
          1.33923613114652,
          1.3560837868399453,
          0.09661889452534182,
          -1.4880197906360266,
          -0.2827010917022672,
          0.11638639687460929,
          1.4606288990278828,
          -0.724909388940758,
          -0.8292888279027019,
          1.2152792806199297,
          0.9406782217308104,
          -0.2271121287232906,
          -0.6456754382419851,
          0.2246503169045476,
          0.9088534114783418,
          -0.785122627292339,
          -0.43312963489765566,
          -0.6263627891053157,
          -0.8124367069314169,
          -0.0944907864199542,
          -0.19604602013795855,
          1.6082443316810087,
          -0.4009981234549997,
          0.35696227827031496,
          0.08582423282612472,
          0.11139904700992809,
          0.3807598674561099,
          1.7292243256324968,
          0.5402498413873286,
          1.0069502326770607,
          1.7525588986920897,
          -1.0483571007203314,
          0.42820914988334524,
          0.9648945646092203,
          1.4849291082110934,
          -0.6459546098399391,
          -0.11144734102298919,
          0.6220318081645934,
          0.4307143405325117,
          -0.06911151660227972,
          0.18914139541645156,
          -1.3974429546298435
         ]
        }
       ],
       "layout": {
        "barmode": "overlay",
        "legend": {
         "bgcolor": "#F5F6F9",
         "font": {
          "color": "#4D5663"
         }
        },
        "paper_bgcolor": "#F5F6F9",
        "plot_bgcolor": "#F5F6F9",
        "template": {
         "data": {
          "bar": [
           {
            "error_x": {
             "color": "#2a3f5f"
            },
            "error_y": {
             "color": "#2a3f5f"
            },
            "marker": {
             "line": {
              "color": "#E5ECF6",
              "width": 0.5
             },
             "pattern": {
              "fillmode": "overlay",
              "size": 10,
              "solidity": 0.2
             }
            },
            "type": "bar"
           }
          ],
          "barpolar": [
           {
            "marker": {
             "line": {
              "color": "#E5ECF6",
              "width": 0.5
             },
             "pattern": {
              "fillmode": "overlay",
              "size": 10,
              "solidity": 0.2
             }
            },
            "type": "barpolar"
           }
          ],
          "carpet": [
           {
            "aaxis": {
             "endlinecolor": "#2a3f5f",
             "gridcolor": "white",
             "linecolor": "white",
             "minorgridcolor": "white",
             "startlinecolor": "#2a3f5f"
            },
            "baxis": {
             "endlinecolor": "#2a3f5f",
             "gridcolor": "white",
             "linecolor": "white",
             "minorgridcolor": "white",
             "startlinecolor": "#2a3f5f"
            },
            "type": "carpet"
           }
          ],
          "choropleth": [
           {
            "colorbar": {
             "outlinewidth": 0,
             "ticks": ""
            },
            "type": "choropleth"
           }
          ],
          "contour": [
           {
            "colorbar": {
             "outlinewidth": 0,
             "ticks": ""
            },
            "colorscale": [
             [
              0,
              "#0d0887"
             ],
             [
              0.1111111111111111,
              "#46039f"
             ],
             [
              0.2222222222222222,
              "#7201a8"
             ],
             [
              0.3333333333333333,
              "#9c179e"
             ],
             [
              0.4444444444444444,
              "#bd3786"
             ],
             [
              0.5555555555555556,
              "#d8576b"
             ],
             [
              0.6666666666666666,
              "#ed7953"
             ],
             [
              0.7777777777777778,
              "#fb9f3a"
             ],
             [
              0.8888888888888888,
              "#fdca26"
             ],
             [
              1,
              "#f0f921"
             ]
            ],
            "type": "contour"
           }
          ],
          "contourcarpet": [
           {
            "colorbar": {
             "outlinewidth": 0,
             "ticks": ""
            },
            "type": "contourcarpet"
           }
          ],
          "heatmap": [
           {
            "colorbar": {
             "outlinewidth": 0,
             "ticks": ""
            },
            "colorscale": [
             [
              0,
              "#0d0887"
             ],
             [
              0.1111111111111111,
              "#46039f"
             ],
             [
              0.2222222222222222,
              "#7201a8"
             ],
             [
              0.3333333333333333,
              "#9c179e"
             ],
             [
              0.4444444444444444,
              "#bd3786"
             ],
             [
              0.5555555555555556,
              "#d8576b"
             ],
             [
              0.6666666666666666,
              "#ed7953"
             ],
             [
              0.7777777777777778,
              "#fb9f3a"
             ],
             [
              0.8888888888888888,
              "#fdca26"
             ],
             [
              1,
              "#f0f921"
             ]
            ],
            "type": "heatmap"
           }
          ],
          "heatmapgl": [
           {
            "colorbar": {
             "outlinewidth": 0,
             "ticks": ""
            },
            "colorscale": [
             [
              0,
              "#0d0887"
             ],
             [
              0.1111111111111111,
              "#46039f"
             ],
             [
              0.2222222222222222,
              "#7201a8"
             ],
             [
              0.3333333333333333,
              "#9c179e"
             ],
             [
              0.4444444444444444,
              "#bd3786"
             ],
             [
              0.5555555555555556,
              "#d8576b"
             ],
             [
              0.6666666666666666,
              "#ed7953"
             ],
             [
              0.7777777777777778,
              "#fb9f3a"
             ],
             [
              0.8888888888888888,
              "#fdca26"
             ],
             [
              1,
              "#f0f921"
             ]
            ],
            "type": "heatmapgl"
           }
          ],
          "histogram": [
           {
            "marker": {
             "pattern": {
              "fillmode": "overlay",
              "size": 10,
              "solidity": 0.2
             }
            },
            "type": "histogram"
           }
          ],
          "histogram2d": [
           {
            "colorbar": {
             "outlinewidth": 0,
             "ticks": ""
            },
            "colorscale": [
             [
              0,
              "#0d0887"
             ],
             [
              0.1111111111111111,
              "#46039f"
             ],
             [
              0.2222222222222222,
              "#7201a8"
             ],
             [
              0.3333333333333333,
              "#9c179e"
             ],
             [
              0.4444444444444444,
              "#bd3786"
             ],
             [
              0.5555555555555556,
              "#d8576b"
             ],
             [
              0.6666666666666666,
              "#ed7953"
             ],
             [
              0.7777777777777778,
              "#fb9f3a"
             ],
             [
              0.8888888888888888,
              "#fdca26"
             ],
             [
              1,
              "#f0f921"
             ]
            ],
            "type": "histogram2d"
           }
          ],
          "histogram2dcontour": [
           {
            "colorbar": {
             "outlinewidth": 0,
             "ticks": ""
            },
            "colorscale": [
             [
              0,
              "#0d0887"
             ],
             [
              0.1111111111111111,
              "#46039f"
             ],
             [
              0.2222222222222222,
              "#7201a8"
             ],
             [
              0.3333333333333333,
              "#9c179e"
             ],
             [
              0.4444444444444444,
              "#bd3786"
             ],
             [
              0.5555555555555556,
              "#d8576b"
             ],
             [
              0.6666666666666666,
              "#ed7953"
             ],
             [
              0.7777777777777778,
              "#fb9f3a"
             ],
             [
              0.8888888888888888,
              "#fdca26"
             ],
             [
              1,
              "#f0f921"
             ]
            ],
            "type": "histogram2dcontour"
           }
          ],
          "mesh3d": [
           {
            "colorbar": {
             "outlinewidth": 0,
             "ticks": ""
            },
            "type": "mesh3d"
           }
          ],
          "parcoords": [
           {
            "line": {
             "colorbar": {
              "outlinewidth": 0,
              "ticks": ""
             }
            },
            "type": "parcoords"
           }
          ],
          "pie": [
           {
            "automargin": true,
            "type": "pie"
           }
          ],
          "scatter": [
           {
            "marker": {
             "colorbar": {
              "outlinewidth": 0,
              "ticks": ""
             }
            },
            "type": "scatter"
           }
          ],
          "scatter3d": [
           {
            "line": {
             "colorbar": {
              "outlinewidth": 0,
              "ticks": ""
             }
            },
            "marker": {
             "colorbar": {
              "outlinewidth": 0,
              "ticks": ""
             }
            },
            "type": "scatter3d"
           }
          ],
          "scattercarpet": [
           {
            "marker": {
             "colorbar": {
              "outlinewidth": 0,
              "ticks": ""
             }
            },
            "type": "scattercarpet"
           }
          ],
          "scattergeo": [
           {
            "marker": {
             "colorbar": {
              "outlinewidth": 0,
              "ticks": ""
             }
            },
            "type": "scattergeo"
           }
          ],
          "scattergl": [
           {
            "marker": {
             "colorbar": {
              "outlinewidth": 0,
              "ticks": ""
             }
            },
            "type": "scattergl"
           }
          ],
          "scattermapbox": [
           {
            "marker": {
             "colorbar": {
              "outlinewidth": 0,
              "ticks": ""
             }
            },
            "type": "scattermapbox"
           }
          ],
          "scatterpolar": [
           {
            "marker": {
             "colorbar": {
              "outlinewidth": 0,
              "ticks": ""
             }
            },
            "type": "scatterpolar"
           }
          ],
          "scatterpolargl": [
           {
            "marker": {
             "colorbar": {
              "outlinewidth": 0,
              "ticks": ""
             }
            },
            "type": "scatterpolargl"
           }
          ],
          "scatterternary": [
           {
            "marker": {
             "colorbar": {
              "outlinewidth": 0,
              "ticks": ""
             }
            },
            "type": "scatterternary"
           }
          ],
          "surface": [
           {
            "colorbar": {
             "outlinewidth": 0,
             "ticks": ""
            },
            "colorscale": [
             [
              0,
              "#0d0887"
             ],
             [
              0.1111111111111111,
              "#46039f"
             ],
             [
              0.2222222222222222,
              "#7201a8"
             ],
             [
              0.3333333333333333,
              "#9c179e"
             ],
             [
              0.4444444444444444,
              "#bd3786"
             ],
             [
              0.5555555555555556,
              "#d8576b"
             ],
             [
              0.6666666666666666,
              "#ed7953"
             ],
             [
              0.7777777777777778,
              "#fb9f3a"
             ],
             [
              0.8888888888888888,
              "#fdca26"
             ],
             [
              1,
              "#f0f921"
             ]
            ],
            "type": "surface"
           }
          ],
          "table": [
           {
            "cells": {
             "fill": {
              "color": "#EBF0F8"
             },
             "line": {
              "color": "white"
             }
            },
            "header": {
             "fill": {
              "color": "#C8D4E3"
             },
             "line": {
              "color": "white"
             }
            },
            "type": "table"
           }
          ]
         },
         "layout": {
          "annotationdefaults": {
           "arrowcolor": "#2a3f5f",
           "arrowhead": 0,
           "arrowwidth": 1
          },
          "autotypenumbers": "strict",
          "coloraxis": {
           "colorbar": {
            "outlinewidth": 0,
            "ticks": ""
           }
          },
          "colorscale": {
           "diverging": [
            [
             0,
             "#8e0152"
            ],
            [
             0.1,
             "#c51b7d"
            ],
            [
             0.2,
             "#de77ae"
            ],
            [
             0.3,
             "#f1b6da"
            ],
            [
             0.4,
             "#fde0ef"
            ],
            [
             0.5,
             "#f7f7f7"
            ],
            [
             0.6,
             "#e6f5d0"
            ],
            [
             0.7,
             "#b8e186"
            ],
            [
             0.8,
             "#7fbc41"
            ],
            [
             0.9,
             "#4d9221"
            ],
            [
             1,
             "#276419"
            ]
           ],
           "sequential": [
            [
             0,
             "#0d0887"
            ],
            [
             0.1111111111111111,
             "#46039f"
            ],
            [
             0.2222222222222222,
             "#7201a8"
            ],
            [
             0.3333333333333333,
             "#9c179e"
            ],
            [
             0.4444444444444444,
             "#bd3786"
            ],
            [
             0.5555555555555556,
             "#d8576b"
            ],
            [
             0.6666666666666666,
             "#ed7953"
            ],
            [
             0.7777777777777778,
             "#fb9f3a"
            ],
            [
             0.8888888888888888,
             "#fdca26"
            ],
            [
             1,
             "#f0f921"
            ]
           ],
           "sequentialminus": [
            [
             0,
             "#0d0887"
            ],
            [
             0.1111111111111111,
             "#46039f"
            ],
            [
             0.2222222222222222,
             "#7201a8"
            ],
            [
             0.3333333333333333,
             "#9c179e"
            ],
            [
             0.4444444444444444,
             "#bd3786"
            ],
            [
             0.5555555555555556,
             "#d8576b"
            ],
            [
             0.6666666666666666,
             "#ed7953"
            ],
            [
             0.7777777777777778,
             "#fb9f3a"
            ],
            [
             0.8888888888888888,
             "#fdca26"
            ],
            [
             1,
             "#f0f921"
            ]
           ]
          },
          "colorway": [
           "#636efa",
           "#EF553B",
           "#00cc96",
           "#ab63fa",
           "#FFA15A",
           "#19d3f3",
           "#FF6692",
           "#B6E880",
           "#FF97FF",
           "#FECB52"
          ],
          "font": {
           "color": "#2a3f5f"
          },
          "geo": {
           "bgcolor": "white",
           "lakecolor": "white",
           "landcolor": "#E5ECF6",
           "showlakes": true,
           "showland": true,
           "subunitcolor": "white"
          },
          "hoverlabel": {
           "align": "left"
          },
          "hovermode": "closest",
          "mapbox": {
           "style": "light"
          },
          "paper_bgcolor": "white",
          "plot_bgcolor": "#E5ECF6",
          "polar": {
           "angularaxis": {
            "gridcolor": "white",
            "linecolor": "white",
            "ticks": ""
           },
           "bgcolor": "#E5ECF6",
           "radialaxis": {
            "gridcolor": "white",
            "linecolor": "white",
            "ticks": ""
           }
          },
          "scene": {
           "xaxis": {
            "backgroundcolor": "#E5ECF6",
            "gridcolor": "white",
            "gridwidth": 2,
            "linecolor": "white",
            "showbackground": true,
            "ticks": "",
            "zerolinecolor": "white"
           },
           "yaxis": {
            "backgroundcolor": "#E5ECF6",
            "gridcolor": "white",
            "gridwidth": 2,
            "linecolor": "white",
            "showbackground": true,
            "ticks": "",
            "zerolinecolor": "white"
           },
           "zaxis": {
            "backgroundcolor": "#E5ECF6",
            "gridcolor": "white",
            "gridwidth": 2,
            "linecolor": "white",
            "showbackground": true,
            "ticks": "",
            "zerolinecolor": "white"
           }
          },
          "shapedefaults": {
           "line": {
            "color": "#2a3f5f"
           }
          },
          "ternary": {
           "aaxis": {
            "gridcolor": "white",
            "linecolor": "white",
            "ticks": ""
           },
           "baxis": {
            "gridcolor": "white",
            "linecolor": "white",
            "ticks": ""
           },
           "bgcolor": "#E5ECF6",
           "caxis": {
            "gridcolor": "white",
            "linecolor": "white",
            "ticks": ""
           }
          },
          "title": {
           "x": 0.05
          },
          "xaxis": {
           "automargin": true,
           "gridcolor": "white",
           "linecolor": "white",
           "ticks": "",
           "title": {
            "standoff": 15
           },
           "zerolinecolor": "white",
           "zerolinewidth": 2
          },
          "yaxis": {
           "automargin": true,
           "gridcolor": "white",
           "linecolor": "white",
           "ticks": "",
           "title": {
            "standoff": 15
           },
           "zerolinecolor": "white",
           "zerolinewidth": 2
          }
         }
        },
        "title": {
         "font": {
          "color": "#4D5663"
         }
        },
        "xaxis": {
         "gridcolor": "#E1E5ED",
         "showgrid": true,
         "tickfont": {
          "color": "#4D5663"
         },
         "title": {
          "font": {
           "color": "#4D5663"
          },
          "text": ""
         },
         "zerolinecolor": "#E1E5ED"
        },
        "yaxis": {
         "gridcolor": "#E1E5ED",
         "showgrid": true,
         "tickfont": {
          "color": "#4D5663"
         },
         "title": {
          "font": {
           "color": "#4D5663"
          },
          "text": ""
         },
         "zerolinecolor": "#E1E5ED"
        }
       }
      },
      "text/html": [
       "<div>                            <div id=\"503988a5-a479-4634-9424-8a0d69d8325b\" class=\"plotly-graph-div\" style=\"height:525px; width:100%;\"></div>            <script type=\"text/javascript\">                require([\"plotly\"], function(Plotly) {                    window.PLOTLYENV=window.PLOTLYENV || {};\n",
       "                    window.PLOTLYENV.BASE_URL='https://plot.ly';                                    if (document.getElementById(\"503988a5-a479-4634-9424-8a0d69d8325b\")) {                    Plotly.newPlot(                        \"503988a5-a479-4634-9424-8a0d69d8325b\",                        [{\"histfunc\":\"count\",\"histnorm\":\"\",\"marker\":{\"color\":\"rgba(255, 153, 51, 1.0)\",\"line\":{\"color\":\"#4D5663\",\"width\":1.3}},\"name\":\"A\",\"nbinsx\":25,\"opacity\":0.8,\"orientation\":\"v\",\"type\":\"histogram\",\"x\":[-0.4203769172138504,-1.7425536061462963,0.889037777019348,-1.0146950303,0.644987085922443,-0.5867545637092614,0.19788543355418084,-0.2730404740189748,-0.9026425523496677,-1.6279069661349634,-1.502814218287029,0.9328022335577573,-0.1647065323106058,0.6098435552056553,0.7157458424489646,-1.8653534653067507,0.04561722455290629,-1.83236922326372,1.2857591028121669,0.970847338623453,0.38469108105725586,-0.40669880244896184,-0.06933498378794453,1.320095941524994,-0.049271141297447224,0.24992502893762825,-1.0468650538432982,0.8544164021291353,0.5427353132690936,-0.6046711968130206,0.268146006228171,-0.8136978787020882,0.5129283434240521,-1.135879355830157,-0.5949835740230749,-0.9991198230270095,-1.6954857308348357,-0.5946797454314954,-0.038096198045322445,-0.597690474040178,-0.91787070032281,0.0049305892151103705,0.3176792336961347,1.8158591736530727,-0.18625555231119253,0.5334916797623348,-1.7790749335164024,-0.4561764528203567,-0.5383765801583805,0.9303974394928215,0.3019654074882458,-0.44691681108686937,1.0528514568643699,-0.8167380173526259,1.2329356705867764,1.5463527728336532,-0.20062580071149355,-0.09651096288571068,0.9154837337810589,-1.116298893230286,-0.12815668411074205,-0.35583474560030715,-0.1451024331637089,-0.015403174313218963,-0.28000443145952597,-0.47316418081547024,1.1183679273647713,0.5531770838513008,0.510397106892376,0.8396821842077113,0.11193850783712242,1.5340640502750655,0.021240171794083367,-0.9880713077949188,-0.6483165415061083,-0.3232730425399403,-0.3962516779122834,-0.4889839801990028,-0.6958235391363193,1.0309874763249955,-1.2084742863986977,-1.326989784774145,0.87219511894707,-0.5061261280696431,-0.9298406048337552,0.3475633689311191,-0.4488686768784139,0.08110817045384922,-0.0762302794889301,0.9625165014804028,0.8396345494906886,-1.80754629237557,0.8112661931818693,-0.6042239124449605,0.12005231709963185,-0.1764783558475839,1.4807239063761461,-1.2889664844008466,0.34080712450550255,0.5160231621797224]},{\"histfunc\":\"count\",\"histnorm\":\"\",\"marker\":{\"color\":\"rgba(55, 128, 191, 1.0)\",\"line\":{\"color\":\"#4D5663\",\"width\":1.3}},\"name\":\"B\",\"nbinsx\":25,\"opacity\":0.8,\"orientation\":\"v\",\"type\":\"histogram\",\"x\":[0.6705648136691061,0.7479108416593321,0.12376066704020804,0.5076865776365572,0.27751055021147714,-0.03885891767652951,-1.1484619773486824,0.06228241207836648,-1.057573110496256,1.135998182104359,-1.5268471457059039,0.03189578091454026,0.22200393733858212,0.35923447166256467,0.0438455986084191,-0.3286116744247036,-2.263135223059364,-0.4813577542132742,-1.3263312412535673,-0.49685187273799336,0.3715396209386487,1.3972487045901876,-1.7711776100919718,0.5164795444719394,-0.4040893207540781,-0.233485549950093,-1.476540568165758,0.28736959359819514,-1.828738271205067,-0.23033607719013108,-0.1716670784386983,0.6333589652539582,0.24579312524127364,-1.0430792092208319,-1.3054477184770257,-0.377953740083831,-1.6893335298772036,-0.05613954327924084,-0.6487634074366234,0.28329949096429036,-0.4042017835341697,0.032341002346677895,0.09703874914253871,-1.6933485826179155,0.6919740876165209,1.6491769080229144,-0.5779327269841692,-0.368352415642468,-1.5547059886995682,-1.9347232358061432,-0.49457341387009357,-1.1431865654017428,-0.589440944580983,-0.7321925083296308,-0.5598495607910404,-0.07280153382431334,-0.9677078775408386,2.110893914463245,-1.8007775476818115,-0.5492778523321554,-0.5153143189722851,0.2819410514014495,0.6389173365089797,-0.03690079064012558,0.3154919697960902,0.34399013315007754,0.8770157732702345,1.59051131022073,0.7904345189953608,0.7311438272766193,0.7387973826077535,-0.879583440706914,0.5868810728835954,0.03420631434201392,-0.45894188198105734,-0.4850085142032951,0.15108157763018584,0.1416739928211047,0.4779585274094298,-0.8118140116099221,0.5562018187811655,-0.24169835421043992,-0.5660844805115468,-0.49218350172725206,-0.61293743048621,1.2332793309806727,2.1240417997227214,1.400322812515332,-1.2707703517297577,0.04297896308622119,-1.1629777976548832,-0.527264203119578,-1.1036025507929965,0.11634484045105915,1.4459565634949803,-0.19104602555144024,1.43788963939247,-2.0614461044332733,1.6997794796458487,0.19527633470967637]},{\"histfunc\":\"count\",\"histnorm\":\"\",\"marker\":{\"color\":\"rgba(50, 171, 96, 1.0)\",\"line\":{\"color\":\"#4D5663\",\"width\":1.3}},\"name\":\"C\",\"nbinsx\":25,\"opacity\":0.8,\"orientation\":\"v\",\"type\":\"histogram\",\"x\":[0.07422700527315418,0.4130249643103405,0.08548858850732852,-0.2313907405072228,0.37480831038947743,-0.5804733866469306,-0.6801880384913043,1.8022342350275198,0.2860197998610701,0.44232578447992343,-1.5016331070440165,-0.17047063909762822,0.2969657590242623,-0.3938742717666108,0.005322578576980963,-0.1509403635371195,-1.475176645424478,-0.6996670204144476,0.01040519118246566,-0.43008029671786063,0.049262896897995734,-2.2794486022226317,-0.05170995821764871,-1.1642223337949063,-0.7845961694373157,1.7201571256729855,-0.1080899951479665,1.9172077113769468,-1.0291295424930516,-0.4830378049493245,-3.042769218598791,-0.24804905428614898,1.0314805119510864,-1.404281005575798,-0.1379101447202194,-0.7195472131915353,-0.2735942321860184,-1.7388301654248608,0.8921268176921588,0.015092574704470684,-0.017843727398743788,-0.023373546868586628,0.48356729019745276,0.3724710103514023,1.008265930319548,2.4463710370181833,-1.984883419537376,0.3580786992700125,-1.1542277648532895,0.4987945521011533,-0.5602989609894605,-1.2899859967795375,-0.18340439848799506,-1.0255585995065564,-1.3069786772803889,-0.12442852338564153,0.9828613424354359,-0.5926949048387103,-0.7621082270075276,-1.5803155758375553,-1.5450357781388426,-0.6167758224917211,1.0960016305928086,-0.3660385461050507,0.40608765534013885,0.061831984060027934,-1.5480288983429116,2.2488514861594293,-0.2471095149706103,-1.4855057620299903,-0.6967002864504952,0.6592024314305059,0.7725617098876191,-0.008263027740115753,-0.6944179983332547,1.1526220459892333,1.4501439219254952,2.1505517700712176,-0.3492929750190928,0.11094652493428009,-0.6108141968900309,0.3502143994430392,-0.2227433971114668,1.678016033517746,-0.9382350184164863,-0.7751011686520267,0.4806329226047449,-1.2579044633708636,-0.9662571507224871,-0.3709616614910942,-0.06452441870975577,-0.35563498268520916,-0.016514764413823962,-0.22861270922344848,-0.5462410861762043,-0.16893452437550166,0.4508344021737034,-1.1284200562808675,0.8783286696936663,1.051529015196934]},{\"histfunc\":\"count\",\"histnorm\":\"\",\"marker\":{\"color\":\"rgba(128, 0, 128, 1.0)\",\"line\":{\"color\":\"#4D5663\",\"width\":1.3}},\"name\":\"D\",\"nbinsx\":25,\"opacity\":0.8,\"orientation\":\"v\",\"type\":\"histogram\",\"x\":[-0.4265649055030353,0.5345753963116453,1.2648624239240278,-0.5036965328663572,1.3839523450361182,1.2575049616846319,0.4144214395049769,-0.5025921390683061,0.4646854192098949,-1.0187018400737897,-0.41604955826801,-0.704873422773722,0.34012659882708757,0.8215859955152438,-0.9630212613275814,-1.5479364624579965,1.262427324095102,-0.6314716294991332,-0.2948263242881089,2.045843585833337,0.7779892759515108,-2.3374769861385496,0.08076847935905539,0.9386365422370996,1.006813472053596,-1.7130081664294843,-0.8301818918715494,0.40662438561416886,0.6184271143243777,-1.1171162565881085,-0.7259743318271101,-0.7894973693297371,0.15673300611977514,-0.0411443578526938,1.8725145576747395,0.07417574962603085,-2.0476069434418798,-0.5231585358294968,-1.1450987535161061,0.6433542561798411,0.01529112076703967,-0.48657373270143484,1.7052382835670108,0.4116424859047016,-0.4234715279258913,-0.9252985606450924,0.4828442783376966,1.5942461288472833,0.08456822084845338,-1.5394659470604126,0.5501664509165102,0.9454148982132563,-0.1261792942872043,0.3017002608052505,-1.2519565936221715,-0.24466158095145318,1.1954983324987216,-0.3809112557174018,1.33923613114652,1.3560837868399453,0.09661889452534182,-1.4880197906360266,-0.2827010917022672,0.11638639687460929,1.4606288990278828,-0.724909388940758,-0.8292888279027019,1.2152792806199297,0.9406782217308104,-0.2271121287232906,-0.6456754382419851,0.2246503169045476,0.9088534114783418,-0.785122627292339,-0.43312963489765566,-0.6263627891053157,-0.8124367069314169,-0.0944907864199542,-0.19604602013795855,1.6082443316810087,-0.4009981234549997,0.35696227827031496,0.08582423282612472,0.11139904700992809,0.3807598674561099,1.7292243256324968,0.5402498413873286,1.0069502326770607,1.7525588986920897,-1.0483571007203314,0.42820914988334524,0.9648945646092203,1.4849291082110934,-0.6459546098399391,-0.11144734102298919,0.6220318081645934,0.4307143405325117,-0.06911151660227972,0.18914139541645156,-1.3974429546298435]}],                        {\"barmode\":\"overlay\",\"legend\":{\"bgcolor\":\"#F5F6F9\",\"font\":{\"color\":\"#4D5663\"}},\"paper_bgcolor\":\"#F5F6F9\",\"plot_bgcolor\":\"#F5F6F9\",\"template\":{\"data\":{\"bar\":[{\"error_x\":{\"color\":\"#2a3f5f\"},\"error_y\":{\"color\":\"#2a3f5f\"},\"marker\":{\"line\":{\"color\":\"#E5ECF6\",\"width\":0.5},\"pattern\":{\"fillmode\":\"overlay\",\"size\":10,\"solidity\":0.2}},\"type\":\"bar\"}],\"barpolar\":[{\"marker\":{\"line\":{\"color\":\"#E5ECF6\",\"width\":0.5},\"pattern\":{\"fillmode\":\"overlay\",\"size\":10,\"solidity\":0.2}},\"type\":\"barpolar\"}],\"carpet\":[{\"aaxis\":{\"endlinecolor\":\"#2a3f5f\",\"gridcolor\":\"white\",\"linecolor\":\"white\",\"minorgridcolor\":\"white\",\"startlinecolor\":\"#2a3f5f\"},\"baxis\":{\"endlinecolor\":\"#2a3f5f\",\"gridcolor\":\"white\",\"linecolor\":\"white\",\"minorgridcolor\":\"white\",\"startlinecolor\":\"#2a3f5f\"},\"type\":\"carpet\"}],\"choropleth\":[{\"colorbar\":{\"outlinewidth\":0,\"ticks\":\"\"},\"type\":\"choropleth\"}],\"contour\":[{\"colorbar\":{\"outlinewidth\":0,\"ticks\":\"\"},\"colorscale\":[[0.0,\"#0d0887\"],[0.1111111111111111,\"#46039f\"],[0.2222222222222222,\"#7201a8\"],[0.3333333333333333,\"#9c179e\"],[0.4444444444444444,\"#bd3786\"],[0.5555555555555556,\"#d8576b\"],[0.6666666666666666,\"#ed7953\"],[0.7777777777777778,\"#fb9f3a\"],[0.8888888888888888,\"#fdca26\"],[1.0,\"#f0f921\"]],\"type\":\"contour\"}],\"contourcarpet\":[{\"colorbar\":{\"outlinewidth\":0,\"ticks\":\"\"},\"type\":\"contourcarpet\"}],\"heatmap\":[{\"colorbar\":{\"outlinewidth\":0,\"ticks\":\"\"},\"colorscale\":[[0.0,\"#0d0887\"],[0.1111111111111111,\"#46039f\"],[0.2222222222222222,\"#7201a8\"],[0.3333333333333333,\"#9c179e\"],[0.4444444444444444,\"#bd3786\"],[0.5555555555555556,\"#d8576b\"],[0.6666666666666666,\"#ed7953\"],[0.7777777777777778,\"#fb9f3a\"],[0.8888888888888888,\"#fdca26\"],[1.0,\"#f0f921\"]],\"type\":\"heatmap\"}],\"heatmapgl\":[{\"colorbar\":{\"outlinewidth\":0,\"ticks\":\"\"},\"colorscale\":[[0.0,\"#0d0887\"],[0.1111111111111111,\"#46039f\"],[0.2222222222222222,\"#7201a8\"],[0.3333333333333333,\"#9c179e\"],[0.4444444444444444,\"#bd3786\"],[0.5555555555555556,\"#d8576b\"],[0.6666666666666666,\"#ed7953\"],[0.7777777777777778,\"#fb9f3a\"],[0.8888888888888888,\"#fdca26\"],[1.0,\"#f0f921\"]],\"type\":\"heatmapgl\"}],\"histogram\":[{\"marker\":{\"pattern\":{\"fillmode\":\"overlay\",\"size\":10,\"solidity\":0.2}},\"type\":\"histogram\"}],\"histogram2d\":[{\"colorbar\":{\"outlinewidth\":0,\"ticks\":\"\"},\"colorscale\":[[0.0,\"#0d0887\"],[0.1111111111111111,\"#46039f\"],[0.2222222222222222,\"#7201a8\"],[0.3333333333333333,\"#9c179e\"],[0.4444444444444444,\"#bd3786\"],[0.5555555555555556,\"#d8576b\"],[0.6666666666666666,\"#ed7953\"],[0.7777777777777778,\"#fb9f3a\"],[0.8888888888888888,\"#fdca26\"],[1.0,\"#f0f921\"]],\"type\":\"histogram2d\"}],\"histogram2dcontour\":[{\"colorbar\":{\"outlinewidth\":0,\"ticks\":\"\"},\"colorscale\":[[0.0,\"#0d0887\"],[0.1111111111111111,\"#46039f\"],[0.2222222222222222,\"#7201a8\"],[0.3333333333333333,\"#9c179e\"],[0.4444444444444444,\"#bd3786\"],[0.5555555555555556,\"#d8576b\"],[0.6666666666666666,\"#ed7953\"],[0.7777777777777778,\"#fb9f3a\"],[0.8888888888888888,\"#fdca26\"],[1.0,\"#f0f921\"]],\"type\":\"histogram2dcontour\"}],\"mesh3d\":[{\"colorbar\":{\"outlinewidth\":0,\"ticks\":\"\"},\"type\":\"mesh3d\"}],\"parcoords\":[{\"line\":{\"colorbar\":{\"outlinewidth\":0,\"ticks\":\"\"}},\"type\":\"parcoords\"}],\"pie\":[{\"automargin\":true,\"type\":\"pie\"}],\"scatter\":[{\"marker\":{\"colorbar\":{\"outlinewidth\":0,\"ticks\":\"\"}},\"type\":\"scatter\"}],\"scatter3d\":[{\"line\":{\"colorbar\":{\"outlinewidth\":0,\"ticks\":\"\"}},\"marker\":{\"colorbar\":{\"outlinewidth\":0,\"ticks\":\"\"}},\"type\":\"scatter3d\"}],\"scattercarpet\":[{\"marker\":{\"colorbar\":{\"outlinewidth\":0,\"ticks\":\"\"}},\"type\":\"scattercarpet\"}],\"scattergeo\":[{\"marker\":{\"colorbar\":{\"outlinewidth\":0,\"ticks\":\"\"}},\"type\":\"scattergeo\"}],\"scattergl\":[{\"marker\":{\"colorbar\":{\"outlinewidth\":0,\"ticks\":\"\"}},\"type\":\"scattergl\"}],\"scattermapbox\":[{\"marker\":{\"colorbar\":{\"outlinewidth\":0,\"ticks\":\"\"}},\"type\":\"scattermapbox\"}],\"scatterpolar\":[{\"marker\":{\"colorbar\":{\"outlinewidth\":0,\"ticks\":\"\"}},\"type\":\"scatterpolar\"}],\"scatterpolargl\":[{\"marker\":{\"colorbar\":{\"outlinewidth\":0,\"ticks\":\"\"}},\"type\":\"scatterpolargl\"}],\"scatterternary\":[{\"marker\":{\"colorbar\":{\"outlinewidth\":0,\"ticks\":\"\"}},\"type\":\"scatterternary\"}],\"surface\":[{\"colorbar\":{\"outlinewidth\":0,\"ticks\":\"\"},\"colorscale\":[[0.0,\"#0d0887\"],[0.1111111111111111,\"#46039f\"],[0.2222222222222222,\"#7201a8\"],[0.3333333333333333,\"#9c179e\"],[0.4444444444444444,\"#bd3786\"],[0.5555555555555556,\"#d8576b\"],[0.6666666666666666,\"#ed7953\"],[0.7777777777777778,\"#fb9f3a\"],[0.8888888888888888,\"#fdca26\"],[1.0,\"#f0f921\"]],\"type\":\"surface\"}],\"table\":[{\"cells\":{\"fill\":{\"color\":\"#EBF0F8\"},\"line\":{\"color\":\"white\"}},\"header\":{\"fill\":{\"color\":\"#C8D4E3\"},\"line\":{\"color\":\"white\"}},\"type\":\"table\"}]},\"layout\":{\"annotationdefaults\":{\"arrowcolor\":\"#2a3f5f\",\"arrowhead\":0,\"arrowwidth\":1},\"autotypenumbers\":\"strict\",\"coloraxis\":{\"colorbar\":{\"outlinewidth\":0,\"ticks\":\"\"}},\"colorscale\":{\"diverging\":[[0,\"#8e0152\"],[0.1,\"#c51b7d\"],[0.2,\"#de77ae\"],[0.3,\"#f1b6da\"],[0.4,\"#fde0ef\"],[0.5,\"#f7f7f7\"],[0.6,\"#e6f5d0\"],[0.7,\"#b8e186\"],[0.8,\"#7fbc41\"],[0.9,\"#4d9221\"],[1,\"#276419\"]],\"sequential\":[[0.0,\"#0d0887\"],[0.1111111111111111,\"#46039f\"],[0.2222222222222222,\"#7201a8\"],[0.3333333333333333,\"#9c179e\"],[0.4444444444444444,\"#bd3786\"],[0.5555555555555556,\"#d8576b\"],[0.6666666666666666,\"#ed7953\"],[0.7777777777777778,\"#fb9f3a\"],[0.8888888888888888,\"#fdca26\"],[1.0,\"#f0f921\"]],\"sequentialminus\":[[0.0,\"#0d0887\"],[0.1111111111111111,\"#46039f\"],[0.2222222222222222,\"#7201a8\"],[0.3333333333333333,\"#9c179e\"],[0.4444444444444444,\"#bd3786\"],[0.5555555555555556,\"#d8576b\"],[0.6666666666666666,\"#ed7953\"],[0.7777777777777778,\"#fb9f3a\"],[0.8888888888888888,\"#fdca26\"],[1.0,\"#f0f921\"]]},\"colorway\":[\"#636efa\",\"#EF553B\",\"#00cc96\",\"#ab63fa\",\"#FFA15A\",\"#19d3f3\",\"#FF6692\",\"#B6E880\",\"#FF97FF\",\"#FECB52\"],\"font\":{\"color\":\"#2a3f5f\"},\"geo\":{\"bgcolor\":\"white\",\"lakecolor\":\"white\",\"landcolor\":\"#E5ECF6\",\"showlakes\":true,\"showland\":true,\"subunitcolor\":\"white\"},\"hoverlabel\":{\"align\":\"left\"},\"hovermode\":\"closest\",\"mapbox\":{\"style\":\"light\"},\"paper_bgcolor\":\"white\",\"plot_bgcolor\":\"#E5ECF6\",\"polar\":{\"angularaxis\":{\"gridcolor\":\"white\",\"linecolor\":\"white\",\"ticks\":\"\"},\"bgcolor\":\"#E5ECF6\",\"radialaxis\":{\"gridcolor\":\"white\",\"linecolor\":\"white\",\"ticks\":\"\"}},\"scene\":{\"xaxis\":{\"backgroundcolor\":\"#E5ECF6\",\"gridcolor\":\"white\",\"gridwidth\":2,\"linecolor\":\"white\",\"showbackground\":true,\"ticks\":\"\",\"zerolinecolor\":\"white\"},\"yaxis\":{\"backgroundcolor\":\"#E5ECF6\",\"gridcolor\":\"white\",\"gridwidth\":2,\"linecolor\":\"white\",\"showbackground\":true,\"ticks\":\"\",\"zerolinecolor\":\"white\"},\"zaxis\":{\"backgroundcolor\":\"#E5ECF6\",\"gridcolor\":\"white\",\"gridwidth\":2,\"linecolor\":\"white\",\"showbackground\":true,\"ticks\":\"\",\"zerolinecolor\":\"white\"}},\"shapedefaults\":{\"line\":{\"color\":\"#2a3f5f\"}},\"ternary\":{\"aaxis\":{\"gridcolor\":\"white\",\"linecolor\":\"white\",\"ticks\":\"\"},\"baxis\":{\"gridcolor\":\"white\",\"linecolor\":\"white\",\"ticks\":\"\"},\"bgcolor\":\"#E5ECF6\",\"caxis\":{\"gridcolor\":\"white\",\"linecolor\":\"white\",\"ticks\":\"\"}},\"title\":{\"x\":0.05},\"xaxis\":{\"automargin\":true,\"gridcolor\":\"white\",\"linecolor\":\"white\",\"ticks\":\"\",\"title\":{\"standoff\":15},\"zerolinecolor\":\"white\",\"zerolinewidth\":2},\"yaxis\":{\"automargin\":true,\"gridcolor\":\"white\",\"linecolor\":\"white\",\"ticks\":\"\",\"title\":{\"standoff\":15},\"zerolinecolor\":\"white\",\"zerolinewidth\":2}}},\"title\":{\"font\":{\"color\":\"#4D5663\"}},\"xaxis\":{\"gridcolor\":\"#E1E5ED\",\"showgrid\":true,\"tickfont\":{\"color\":\"#4D5663\"},\"title\":{\"font\":{\"color\":\"#4D5663\"},\"text\":\"\"},\"zerolinecolor\":\"#E1E5ED\"},\"yaxis\":{\"gridcolor\":\"#E1E5ED\",\"showgrid\":true,\"tickfont\":{\"color\":\"#4D5663\"},\"title\":{\"font\":{\"color\":\"#4D5663\"},\"text\":\"\"},\"zerolinecolor\":\"#E1E5ED\"}},                        {\"showLink\": true, \"linkText\": \"Export to plot.ly\", \"plotlyServerURL\": \"https://plot.ly\", \"responsive\": true}                    ).then(function(){\n",
       "                            \n",
       "var gd = document.getElementById('503988a5-a479-4634-9424-8a0d69d8325b');\n",
       "var x = new MutationObserver(function (mutations, observer) {{\n",
       "        var display = window.getComputedStyle(gd).display;\n",
       "        if (!display || display === 'none') {{\n",
       "            console.log([gd, 'removed!']);\n",
       "            Plotly.purge(gd);\n",
       "            observer.disconnect();\n",
       "        }}\n",
       "}});\n",
       "\n",
       "// Listen for the removal of the full notebook cells\n",
       "var notebookContainer = gd.closest('#notebook-container');\n",
       "if (notebookContainer) {{\n",
       "    x.observe(notebookContainer, {childList: true});\n",
       "}}\n",
       "\n",
       "// Listen for the clearing of the current output cell\n",
       "var outputEl = gd.closest('.output');\n",
       "if (outputEl) {{\n",
       "    x.observe(outputEl, {childList: true});\n",
       "}}\n",
       "\n",
       "                        })                };                });            </script>        </div>"
      ]
     },
     "metadata": {},
     "output_type": "display_data"
    }
   ],
   "source": [
    "df.iplot(kind='hist',bins=25)"
   ]
  },
  {
   "cell_type": "code",
   "execution_count": 51,
   "id": "ab4b7346",
   "metadata": {},
   "outputs": [
    {
     "data": {
      "application/vnd.plotly.v1+json": {
       "config": {
        "linkText": "Export to plot.ly",
        "plotlyServerURL": "https://plot.ly",
        "showLink": true
       },
       "data": [
        {
         "histfunc": "count",
         "histnorm": "",
         "marker": {
          "color": "rgba(255, 153, 51, 1.0)",
          "line": {
           "color": "#4D5663",
           "width": 1.3
          }
         },
         "name": "A",
         "nbinsx": 35,
         "opacity": 0.8,
         "orientation": "v",
         "type": "histogram",
         "x": [
          -0.4203769172138504,
          -1.7425536061462963,
          0.889037777019348,
          -1.0146950303,
          0.644987085922443,
          -0.5867545637092614,
          0.19788543355418084,
          -0.2730404740189748,
          -0.9026425523496677,
          -1.6279069661349634,
          -1.502814218287029,
          0.9328022335577573,
          -0.1647065323106058,
          0.6098435552056553,
          0.7157458424489646,
          -1.8653534653067507,
          0.04561722455290629,
          -1.83236922326372,
          1.2857591028121669,
          0.970847338623453,
          0.38469108105725586,
          -0.40669880244896184,
          -0.06933498378794453,
          1.320095941524994,
          -0.049271141297447224,
          0.24992502893762825,
          -1.0468650538432982,
          0.8544164021291353,
          0.5427353132690936,
          -0.6046711968130206,
          0.268146006228171,
          -0.8136978787020882,
          0.5129283434240521,
          -1.135879355830157,
          -0.5949835740230749,
          -0.9991198230270095,
          -1.6954857308348357,
          -0.5946797454314954,
          -0.038096198045322445,
          -0.597690474040178,
          -0.91787070032281,
          0.0049305892151103705,
          0.3176792336961347,
          1.8158591736530727,
          -0.18625555231119253,
          0.5334916797623348,
          -1.7790749335164024,
          -0.4561764528203567,
          -0.5383765801583805,
          0.9303974394928215,
          0.3019654074882458,
          -0.44691681108686937,
          1.0528514568643699,
          -0.8167380173526259,
          1.2329356705867764,
          1.5463527728336532,
          -0.20062580071149355,
          -0.09651096288571068,
          0.9154837337810589,
          -1.116298893230286,
          -0.12815668411074205,
          -0.35583474560030715,
          -0.1451024331637089,
          -0.015403174313218963,
          -0.28000443145952597,
          -0.47316418081547024,
          1.1183679273647713,
          0.5531770838513008,
          0.510397106892376,
          0.8396821842077113,
          0.11193850783712242,
          1.5340640502750655,
          0.021240171794083367,
          -0.9880713077949188,
          -0.6483165415061083,
          -0.3232730425399403,
          -0.3962516779122834,
          -0.4889839801990028,
          -0.6958235391363193,
          1.0309874763249955,
          -1.2084742863986977,
          -1.326989784774145,
          0.87219511894707,
          -0.5061261280696431,
          -0.9298406048337552,
          0.3475633689311191,
          -0.4488686768784139,
          0.08110817045384922,
          -0.0762302794889301,
          0.9625165014804028,
          0.8396345494906886,
          -1.80754629237557,
          0.8112661931818693,
          -0.6042239124449605,
          0.12005231709963185,
          -0.1764783558475839,
          1.4807239063761461,
          -1.2889664844008466,
          0.34080712450550255,
          0.5160231621797224
         ]
        }
       ],
       "layout": {
        "barmode": "overlay",
        "legend": {
         "bgcolor": "#F5F6F9",
         "font": {
          "color": "#4D5663"
         }
        },
        "paper_bgcolor": "#F5F6F9",
        "plot_bgcolor": "#F5F6F9",
        "template": {
         "data": {
          "bar": [
           {
            "error_x": {
             "color": "#2a3f5f"
            },
            "error_y": {
             "color": "#2a3f5f"
            },
            "marker": {
             "line": {
              "color": "#E5ECF6",
              "width": 0.5
             },
             "pattern": {
              "fillmode": "overlay",
              "size": 10,
              "solidity": 0.2
             }
            },
            "type": "bar"
           }
          ],
          "barpolar": [
           {
            "marker": {
             "line": {
              "color": "#E5ECF6",
              "width": 0.5
             },
             "pattern": {
              "fillmode": "overlay",
              "size": 10,
              "solidity": 0.2
             }
            },
            "type": "barpolar"
           }
          ],
          "carpet": [
           {
            "aaxis": {
             "endlinecolor": "#2a3f5f",
             "gridcolor": "white",
             "linecolor": "white",
             "minorgridcolor": "white",
             "startlinecolor": "#2a3f5f"
            },
            "baxis": {
             "endlinecolor": "#2a3f5f",
             "gridcolor": "white",
             "linecolor": "white",
             "minorgridcolor": "white",
             "startlinecolor": "#2a3f5f"
            },
            "type": "carpet"
           }
          ],
          "choropleth": [
           {
            "colorbar": {
             "outlinewidth": 0,
             "ticks": ""
            },
            "type": "choropleth"
           }
          ],
          "contour": [
           {
            "colorbar": {
             "outlinewidth": 0,
             "ticks": ""
            },
            "colorscale": [
             [
              0,
              "#0d0887"
             ],
             [
              0.1111111111111111,
              "#46039f"
             ],
             [
              0.2222222222222222,
              "#7201a8"
             ],
             [
              0.3333333333333333,
              "#9c179e"
             ],
             [
              0.4444444444444444,
              "#bd3786"
             ],
             [
              0.5555555555555556,
              "#d8576b"
             ],
             [
              0.6666666666666666,
              "#ed7953"
             ],
             [
              0.7777777777777778,
              "#fb9f3a"
             ],
             [
              0.8888888888888888,
              "#fdca26"
             ],
             [
              1,
              "#f0f921"
             ]
            ],
            "type": "contour"
           }
          ],
          "contourcarpet": [
           {
            "colorbar": {
             "outlinewidth": 0,
             "ticks": ""
            },
            "type": "contourcarpet"
           }
          ],
          "heatmap": [
           {
            "colorbar": {
             "outlinewidth": 0,
             "ticks": ""
            },
            "colorscale": [
             [
              0,
              "#0d0887"
             ],
             [
              0.1111111111111111,
              "#46039f"
             ],
             [
              0.2222222222222222,
              "#7201a8"
             ],
             [
              0.3333333333333333,
              "#9c179e"
             ],
             [
              0.4444444444444444,
              "#bd3786"
             ],
             [
              0.5555555555555556,
              "#d8576b"
             ],
             [
              0.6666666666666666,
              "#ed7953"
             ],
             [
              0.7777777777777778,
              "#fb9f3a"
             ],
             [
              0.8888888888888888,
              "#fdca26"
             ],
             [
              1,
              "#f0f921"
             ]
            ],
            "type": "heatmap"
           }
          ],
          "heatmapgl": [
           {
            "colorbar": {
             "outlinewidth": 0,
             "ticks": ""
            },
            "colorscale": [
             [
              0,
              "#0d0887"
             ],
             [
              0.1111111111111111,
              "#46039f"
             ],
             [
              0.2222222222222222,
              "#7201a8"
             ],
             [
              0.3333333333333333,
              "#9c179e"
             ],
             [
              0.4444444444444444,
              "#bd3786"
             ],
             [
              0.5555555555555556,
              "#d8576b"
             ],
             [
              0.6666666666666666,
              "#ed7953"
             ],
             [
              0.7777777777777778,
              "#fb9f3a"
             ],
             [
              0.8888888888888888,
              "#fdca26"
             ],
             [
              1,
              "#f0f921"
             ]
            ],
            "type": "heatmapgl"
           }
          ],
          "histogram": [
           {
            "marker": {
             "pattern": {
              "fillmode": "overlay",
              "size": 10,
              "solidity": 0.2
             }
            },
            "type": "histogram"
           }
          ],
          "histogram2d": [
           {
            "colorbar": {
             "outlinewidth": 0,
             "ticks": ""
            },
            "colorscale": [
             [
              0,
              "#0d0887"
             ],
             [
              0.1111111111111111,
              "#46039f"
             ],
             [
              0.2222222222222222,
              "#7201a8"
             ],
             [
              0.3333333333333333,
              "#9c179e"
             ],
             [
              0.4444444444444444,
              "#bd3786"
             ],
             [
              0.5555555555555556,
              "#d8576b"
             ],
             [
              0.6666666666666666,
              "#ed7953"
             ],
             [
              0.7777777777777778,
              "#fb9f3a"
             ],
             [
              0.8888888888888888,
              "#fdca26"
             ],
             [
              1,
              "#f0f921"
             ]
            ],
            "type": "histogram2d"
           }
          ],
          "histogram2dcontour": [
           {
            "colorbar": {
             "outlinewidth": 0,
             "ticks": ""
            },
            "colorscale": [
             [
              0,
              "#0d0887"
             ],
             [
              0.1111111111111111,
              "#46039f"
             ],
             [
              0.2222222222222222,
              "#7201a8"
             ],
             [
              0.3333333333333333,
              "#9c179e"
             ],
             [
              0.4444444444444444,
              "#bd3786"
             ],
             [
              0.5555555555555556,
              "#d8576b"
             ],
             [
              0.6666666666666666,
              "#ed7953"
             ],
             [
              0.7777777777777778,
              "#fb9f3a"
             ],
             [
              0.8888888888888888,
              "#fdca26"
             ],
             [
              1,
              "#f0f921"
             ]
            ],
            "type": "histogram2dcontour"
           }
          ],
          "mesh3d": [
           {
            "colorbar": {
             "outlinewidth": 0,
             "ticks": ""
            },
            "type": "mesh3d"
           }
          ],
          "parcoords": [
           {
            "line": {
             "colorbar": {
              "outlinewidth": 0,
              "ticks": ""
             }
            },
            "type": "parcoords"
           }
          ],
          "pie": [
           {
            "automargin": true,
            "type": "pie"
           }
          ],
          "scatter": [
           {
            "marker": {
             "colorbar": {
              "outlinewidth": 0,
              "ticks": ""
             }
            },
            "type": "scatter"
           }
          ],
          "scatter3d": [
           {
            "line": {
             "colorbar": {
              "outlinewidth": 0,
              "ticks": ""
             }
            },
            "marker": {
             "colorbar": {
              "outlinewidth": 0,
              "ticks": ""
             }
            },
            "type": "scatter3d"
           }
          ],
          "scattercarpet": [
           {
            "marker": {
             "colorbar": {
              "outlinewidth": 0,
              "ticks": ""
             }
            },
            "type": "scattercarpet"
           }
          ],
          "scattergeo": [
           {
            "marker": {
             "colorbar": {
              "outlinewidth": 0,
              "ticks": ""
             }
            },
            "type": "scattergeo"
           }
          ],
          "scattergl": [
           {
            "marker": {
             "colorbar": {
              "outlinewidth": 0,
              "ticks": ""
             }
            },
            "type": "scattergl"
           }
          ],
          "scattermapbox": [
           {
            "marker": {
             "colorbar": {
              "outlinewidth": 0,
              "ticks": ""
             }
            },
            "type": "scattermapbox"
           }
          ],
          "scatterpolar": [
           {
            "marker": {
             "colorbar": {
              "outlinewidth": 0,
              "ticks": ""
             }
            },
            "type": "scatterpolar"
           }
          ],
          "scatterpolargl": [
           {
            "marker": {
             "colorbar": {
              "outlinewidth": 0,
              "ticks": ""
             }
            },
            "type": "scatterpolargl"
           }
          ],
          "scatterternary": [
           {
            "marker": {
             "colorbar": {
              "outlinewidth": 0,
              "ticks": ""
             }
            },
            "type": "scatterternary"
           }
          ],
          "surface": [
           {
            "colorbar": {
             "outlinewidth": 0,
             "ticks": ""
            },
            "colorscale": [
             [
              0,
              "#0d0887"
             ],
             [
              0.1111111111111111,
              "#46039f"
             ],
             [
              0.2222222222222222,
              "#7201a8"
             ],
             [
              0.3333333333333333,
              "#9c179e"
             ],
             [
              0.4444444444444444,
              "#bd3786"
             ],
             [
              0.5555555555555556,
              "#d8576b"
             ],
             [
              0.6666666666666666,
              "#ed7953"
             ],
             [
              0.7777777777777778,
              "#fb9f3a"
             ],
             [
              0.8888888888888888,
              "#fdca26"
             ],
             [
              1,
              "#f0f921"
             ]
            ],
            "type": "surface"
           }
          ],
          "table": [
           {
            "cells": {
             "fill": {
              "color": "#EBF0F8"
             },
             "line": {
              "color": "white"
             }
            },
            "header": {
             "fill": {
              "color": "#C8D4E3"
             },
             "line": {
              "color": "white"
             }
            },
            "type": "table"
           }
          ]
         },
         "layout": {
          "annotationdefaults": {
           "arrowcolor": "#2a3f5f",
           "arrowhead": 0,
           "arrowwidth": 1
          },
          "autotypenumbers": "strict",
          "coloraxis": {
           "colorbar": {
            "outlinewidth": 0,
            "ticks": ""
           }
          },
          "colorscale": {
           "diverging": [
            [
             0,
             "#8e0152"
            ],
            [
             0.1,
             "#c51b7d"
            ],
            [
             0.2,
             "#de77ae"
            ],
            [
             0.3,
             "#f1b6da"
            ],
            [
             0.4,
             "#fde0ef"
            ],
            [
             0.5,
             "#f7f7f7"
            ],
            [
             0.6,
             "#e6f5d0"
            ],
            [
             0.7,
             "#b8e186"
            ],
            [
             0.8,
             "#7fbc41"
            ],
            [
             0.9,
             "#4d9221"
            ],
            [
             1,
             "#276419"
            ]
           ],
           "sequential": [
            [
             0,
             "#0d0887"
            ],
            [
             0.1111111111111111,
             "#46039f"
            ],
            [
             0.2222222222222222,
             "#7201a8"
            ],
            [
             0.3333333333333333,
             "#9c179e"
            ],
            [
             0.4444444444444444,
             "#bd3786"
            ],
            [
             0.5555555555555556,
             "#d8576b"
            ],
            [
             0.6666666666666666,
             "#ed7953"
            ],
            [
             0.7777777777777778,
             "#fb9f3a"
            ],
            [
             0.8888888888888888,
             "#fdca26"
            ],
            [
             1,
             "#f0f921"
            ]
           ],
           "sequentialminus": [
            [
             0,
             "#0d0887"
            ],
            [
             0.1111111111111111,
             "#46039f"
            ],
            [
             0.2222222222222222,
             "#7201a8"
            ],
            [
             0.3333333333333333,
             "#9c179e"
            ],
            [
             0.4444444444444444,
             "#bd3786"
            ],
            [
             0.5555555555555556,
             "#d8576b"
            ],
            [
             0.6666666666666666,
             "#ed7953"
            ],
            [
             0.7777777777777778,
             "#fb9f3a"
            ],
            [
             0.8888888888888888,
             "#fdca26"
            ],
            [
             1,
             "#f0f921"
            ]
           ]
          },
          "colorway": [
           "#636efa",
           "#EF553B",
           "#00cc96",
           "#ab63fa",
           "#FFA15A",
           "#19d3f3",
           "#FF6692",
           "#B6E880",
           "#FF97FF",
           "#FECB52"
          ],
          "font": {
           "color": "#2a3f5f"
          },
          "geo": {
           "bgcolor": "white",
           "lakecolor": "white",
           "landcolor": "#E5ECF6",
           "showlakes": true,
           "showland": true,
           "subunitcolor": "white"
          },
          "hoverlabel": {
           "align": "left"
          },
          "hovermode": "closest",
          "mapbox": {
           "style": "light"
          },
          "paper_bgcolor": "white",
          "plot_bgcolor": "#E5ECF6",
          "polar": {
           "angularaxis": {
            "gridcolor": "white",
            "linecolor": "white",
            "ticks": ""
           },
           "bgcolor": "#E5ECF6",
           "radialaxis": {
            "gridcolor": "white",
            "linecolor": "white",
            "ticks": ""
           }
          },
          "scene": {
           "xaxis": {
            "backgroundcolor": "#E5ECF6",
            "gridcolor": "white",
            "gridwidth": 2,
            "linecolor": "white",
            "showbackground": true,
            "ticks": "",
            "zerolinecolor": "white"
           },
           "yaxis": {
            "backgroundcolor": "#E5ECF6",
            "gridcolor": "white",
            "gridwidth": 2,
            "linecolor": "white",
            "showbackground": true,
            "ticks": "",
            "zerolinecolor": "white"
           },
           "zaxis": {
            "backgroundcolor": "#E5ECF6",
            "gridcolor": "white",
            "gridwidth": 2,
            "linecolor": "white",
            "showbackground": true,
            "ticks": "",
            "zerolinecolor": "white"
           }
          },
          "shapedefaults": {
           "line": {
            "color": "#2a3f5f"
           }
          },
          "ternary": {
           "aaxis": {
            "gridcolor": "white",
            "linecolor": "white",
            "ticks": ""
           },
           "baxis": {
            "gridcolor": "white",
            "linecolor": "white",
            "ticks": ""
           },
           "bgcolor": "#E5ECF6",
           "caxis": {
            "gridcolor": "white",
            "linecolor": "white",
            "ticks": ""
           }
          },
          "title": {
           "x": 0.05
          },
          "xaxis": {
           "automargin": true,
           "gridcolor": "white",
           "linecolor": "white",
           "ticks": "",
           "title": {
            "standoff": 15
           },
           "zerolinecolor": "white",
           "zerolinewidth": 2
          },
          "yaxis": {
           "automargin": true,
           "gridcolor": "white",
           "linecolor": "white",
           "ticks": "",
           "title": {
            "standoff": 15
           },
           "zerolinecolor": "white",
           "zerolinewidth": 2
          }
         }
        },
        "title": {
         "font": {
          "color": "#4D5663"
         }
        },
        "xaxis": {
         "gridcolor": "#E1E5ED",
         "showgrid": true,
         "tickfont": {
          "color": "#4D5663"
         },
         "title": {
          "font": {
           "color": "#4D5663"
          },
          "text": ""
         },
         "zerolinecolor": "#E1E5ED"
        },
        "yaxis": {
         "gridcolor": "#E1E5ED",
         "showgrid": true,
         "tickfont": {
          "color": "#4D5663"
         },
         "title": {
          "font": {
           "color": "#4D5663"
          },
          "text": ""
         },
         "zerolinecolor": "#E1E5ED"
        }
       }
      },
      "text/html": [
       "<div>                            <div id=\"3a594079-9c4f-48c9-88a1-deab4b756727\" class=\"plotly-graph-div\" style=\"height:525px; width:100%;\"></div>            <script type=\"text/javascript\">                require([\"plotly\"], function(Plotly) {                    window.PLOTLYENV=window.PLOTLYENV || {};\n",
       "                    window.PLOTLYENV.BASE_URL='https://plot.ly';                                    if (document.getElementById(\"3a594079-9c4f-48c9-88a1-deab4b756727\")) {                    Plotly.newPlot(                        \"3a594079-9c4f-48c9-88a1-deab4b756727\",                        [{\"histfunc\":\"count\",\"histnorm\":\"\",\"marker\":{\"color\":\"rgba(255, 153, 51, 1.0)\",\"line\":{\"color\":\"#4D5663\",\"width\":1.3}},\"name\":\"A\",\"nbinsx\":35,\"opacity\":0.8,\"orientation\":\"v\",\"type\":\"histogram\",\"x\":[-0.4203769172138504,-1.7425536061462963,0.889037777019348,-1.0146950303,0.644987085922443,-0.5867545637092614,0.19788543355418084,-0.2730404740189748,-0.9026425523496677,-1.6279069661349634,-1.502814218287029,0.9328022335577573,-0.1647065323106058,0.6098435552056553,0.7157458424489646,-1.8653534653067507,0.04561722455290629,-1.83236922326372,1.2857591028121669,0.970847338623453,0.38469108105725586,-0.40669880244896184,-0.06933498378794453,1.320095941524994,-0.049271141297447224,0.24992502893762825,-1.0468650538432982,0.8544164021291353,0.5427353132690936,-0.6046711968130206,0.268146006228171,-0.8136978787020882,0.5129283434240521,-1.135879355830157,-0.5949835740230749,-0.9991198230270095,-1.6954857308348357,-0.5946797454314954,-0.038096198045322445,-0.597690474040178,-0.91787070032281,0.0049305892151103705,0.3176792336961347,1.8158591736530727,-0.18625555231119253,0.5334916797623348,-1.7790749335164024,-0.4561764528203567,-0.5383765801583805,0.9303974394928215,0.3019654074882458,-0.44691681108686937,1.0528514568643699,-0.8167380173526259,1.2329356705867764,1.5463527728336532,-0.20062580071149355,-0.09651096288571068,0.9154837337810589,-1.116298893230286,-0.12815668411074205,-0.35583474560030715,-0.1451024331637089,-0.015403174313218963,-0.28000443145952597,-0.47316418081547024,1.1183679273647713,0.5531770838513008,0.510397106892376,0.8396821842077113,0.11193850783712242,1.5340640502750655,0.021240171794083367,-0.9880713077949188,-0.6483165415061083,-0.3232730425399403,-0.3962516779122834,-0.4889839801990028,-0.6958235391363193,1.0309874763249955,-1.2084742863986977,-1.326989784774145,0.87219511894707,-0.5061261280696431,-0.9298406048337552,0.3475633689311191,-0.4488686768784139,0.08110817045384922,-0.0762302794889301,0.9625165014804028,0.8396345494906886,-1.80754629237557,0.8112661931818693,-0.6042239124449605,0.12005231709963185,-0.1764783558475839,1.4807239063761461,-1.2889664844008466,0.34080712450550255,0.5160231621797224]}],                        {\"barmode\":\"overlay\",\"legend\":{\"bgcolor\":\"#F5F6F9\",\"font\":{\"color\":\"#4D5663\"}},\"paper_bgcolor\":\"#F5F6F9\",\"plot_bgcolor\":\"#F5F6F9\",\"template\":{\"data\":{\"bar\":[{\"error_x\":{\"color\":\"#2a3f5f\"},\"error_y\":{\"color\":\"#2a3f5f\"},\"marker\":{\"line\":{\"color\":\"#E5ECF6\",\"width\":0.5},\"pattern\":{\"fillmode\":\"overlay\",\"size\":10,\"solidity\":0.2}},\"type\":\"bar\"}],\"barpolar\":[{\"marker\":{\"line\":{\"color\":\"#E5ECF6\",\"width\":0.5},\"pattern\":{\"fillmode\":\"overlay\",\"size\":10,\"solidity\":0.2}},\"type\":\"barpolar\"}],\"carpet\":[{\"aaxis\":{\"endlinecolor\":\"#2a3f5f\",\"gridcolor\":\"white\",\"linecolor\":\"white\",\"minorgridcolor\":\"white\",\"startlinecolor\":\"#2a3f5f\"},\"baxis\":{\"endlinecolor\":\"#2a3f5f\",\"gridcolor\":\"white\",\"linecolor\":\"white\",\"minorgridcolor\":\"white\",\"startlinecolor\":\"#2a3f5f\"},\"type\":\"carpet\"}],\"choropleth\":[{\"colorbar\":{\"outlinewidth\":0,\"ticks\":\"\"},\"type\":\"choropleth\"}],\"contour\":[{\"colorbar\":{\"outlinewidth\":0,\"ticks\":\"\"},\"colorscale\":[[0.0,\"#0d0887\"],[0.1111111111111111,\"#46039f\"],[0.2222222222222222,\"#7201a8\"],[0.3333333333333333,\"#9c179e\"],[0.4444444444444444,\"#bd3786\"],[0.5555555555555556,\"#d8576b\"],[0.6666666666666666,\"#ed7953\"],[0.7777777777777778,\"#fb9f3a\"],[0.8888888888888888,\"#fdca26\"],[1.0,\"#f0f921\"]],\"type\":\"contour\"}],\"contourcarpet\":[{\"colorbar\":{\"outlinewidth\":0,\"ticks\":\"\"},\"type\":\"contourcarpet\"}],\"heatmap\":[{\"colorbar\":{\"outlinewidth\":0,\"ticks\":\"\"},\"colorscale\":[[0.0,\"#0d0887\"],[0.1111111111111111,\"#46039f\"],[0.2222222222222222,\"#7201a8\"],[0.3333333333333333,\"#9c179e\"],[0.4444444444444444,\"#bd3786\"],[0.5555555555555556,\"#d8576b\"],[0.6666666666666666,\"#ed7953\"],[0.7777777777777778,\"#fb9f3a\"],[0.8888888888888888,\"#fdca26\"],[1.0,\"#f0f921\"]],\"type\":\"heatmap\"}],\"heatmapgl\":[{\"colorbar\":{\"outlinewidth\":0,\"ticks\":\"\"},\"colorscale\":[[0.0,\"#0d0887\"],[0.1111111111111111,\"#46039f\"],[0.2222222222222222,\"#7201a8\"],[0.3333333333333333,\"#9c179e\"],[0.4444444444444444,\"#bd3786\"],[0.5555555555555556,\"#d8576b\"],[0.6666666666666666,\"#ed7953\"],[0.7777777777777778,\"#fb9f3a\"],[0.8888888888888888,\"#fdca26\"],[1.0,\"#f0f921\"]],\"type\":\"heatmapgl\"}],\"histogram\":[{\"marker\":{\"pattern\":{\"fillmode\":\"overlay\",\"size\":10,\"solidity\":0.2}},\"type\":\"histogram\"}],\"histogram2d\":[{\"colorbar\":{\"outlinewidth\":0,\"ticks\":\"\"},\"colorscale\":[[0.0,\"#0d0887\"],[0.1111111111111111,\"#46039f\"],[0.2222222222222222,\"#7201a8\"],[0.3333333333333333,\"#9c179e\"],[0.4444444444444444,\"#bd3786\"],[0.5555555555555556,\"#d8576b\"],[0.6666666666666666,\"#ed7953\"],[0.7777777777777778,\"#fb9f3a\"],[0.8888888888888888,\"#fdca26\"],[1.0,\"#f0f921\"]],\"type\":\"histogram2d\"}],\"histogram2dcontour\":[{\"colorbar\":{\"outlinewidth\":0,\"ticks\":\"\"},\"colorscale\":[[0.0,\"#0d0887\"],[0.1111111111111111,\"#46039f\"],[0.2222222222222222,\"#7201a8\"],[0.3333333333333333,\"#9c179e\"],[0.4444444444444444,\"#bd3786\"],[0.5555555555555556,\"#d8576b\"],[0.6666666666666666,\"#ed7953\"],[0.7777777777777778,\"#fb9f3a\"],[0.8888888888888888,\"#fdca26\"],[1.0,\"#f0f921\"]],\"type\":\"histogram2dcontour\"}],\"mesh3d\":[{\"colorbar\":{\"outlinewidth\":0,\"ticks\":\"\"},\"type\":\"mesh3d\"}],\"parcoords\":[{\"line\":{\"colorbar\":{\"outlinewidth\":0,\"ticks\":\"\"}},\"type\":\"parcoords\"}],\"pie\":[{\"automargin\":true,\"type\":\"pie\"}],\"scatter\":[{\"marker\":{\"colorbar\":{\"outlinewidth\":0,\"ticks\":\"\"}},\"type\":\"scatter\"}],\"scatter3d\":[{\"line\":{\"colorbar\":{\"outlinewidth\":0,\"ticks\":\"\"}},\"marker\":{\"colorbar\":{\"outlinewidth\":0,\"ticks\":\"\"}},\"type\":\"scatter3d\"}],\"scattercarpet\":[{\"marker\":{\"colorbar\":{\"outlinewidth\":0,\"ticks\":\"\"}},\"type\":\"scattercarpet\"}],\"scattergeo\":[{\"marker\":{\"colorbar\":{\"outlinewidth\":0,\"ticks\":\"\"}},\"type\":\"scattergeo\"}],\"scattergl\":[{\"marker\":{\"colorbar\":{\"outlinewidth\":0,\"ticks\":\"\"}},\"type\":\"scattergl\"}],\"scattermapbox\":[{\"marker\":{\"colorbar\":{\"outlinewidth\":0,\"ticks\":\"\"}},\"type\":\"scattermapbox\"}],\"scatterpolar\":[{\"marker\":{\"colorbar\":{\"outlinewidth\":0,\"ticks\":\"\"}},\"type\":\"scatterpolar\"}],\"scatterpolargl\":[{\"marker\":{\"colorbar\":{\"outlinewidth\":0,\"ticks\":\"\"}},\"type\":\"scatterpolargl\"}],\"scatterternary\":[{\"marker\":{\"colorbar\":{\"outlinewidth\":0,\"ticks\":\"\"}},\"type\":\"scatterternary\"}],\"surface\":[{\"colorbar\":{\"outlinewidth\":0,\"ticks\":\"\"},\"colorscale\":[[0.0,\"#0d0887\"],[0.1111111111111111,\"#46039f\"],[0.2222222222222222,\"#7201a8\"],[0.3333333333333333,\"#9c179e\"],[0.4444444444444444,\"#bd3786\"],[0.5555555555555556,\"#d8576b\"],[0.6666666666666666,\"#ed7953\"],[0.7777777777777778,\"#fb9f3a\"],[0.8888888888888888,\"#fdca26\"],[1.0,\"#f0f921\"]],\"type\":\"surface\"}],\"table\":[{\"cells\":{\"fill\":{\"color\":\"#EBF0F8\"},\"line\":{\"color\":\"white\"}},\"header\":{\"fill\":{\"color\":\"#C8D4E3\"},\"line\":{\"color\":\"white\"}},\"type\":\"table\"}]},\"layout\":{\"annotationdefaults\":{\"arrowcolor\":\"#2a3f5f\",\"arrowhead\":0,\"arrowwidth\":1},\"autotypenumbers\":\"strict\",\"coloraxis\":{\"colorbar\":{\"outlinewidth\":0,\"ticks\":\"\"}},\"colorscale\":{\"diverging\":[[0,\"#8e0152\"],[0.1,\"#c51b7d\"],[0.2,\"#de77ae\"],[0.3,\"#f1b6da\"],[0.4,\"#fde0ef\"],[0.5,\"#f7f7f7\"],[0.6,\"#e6f5d0\"],[0.7,\"#b8e186\"],[0.8,\"#7fbc41\"],[0.9,\"#4d9221\"],[1,\"#276419\"]],\"sequential\":[[0.0,\"#0d0887\"],[0.1111111111111111,\"#46039f\"],[0.2222222222222222,\"#7201a8\"],[0.3333333333333333,\"#9c179e\"],[0.4444444444444444,\"#bd3786\"],[0.5555555555555556,\"#d8576b\"],[0.6666666666666666,\"#ed7953\"],[0.7777777777777778,\"#fb9f3a\"],[0.8888888888888888,\"#fdca26\"],[1.0,\"#f0f921\"]],\"sequentialminus\":[[0.0,\"#0d0887\"],[0.1111111111111111,\"#46039f\"],[0.2222222222222222,\"#7201a8\"],[0.3333333333333333,\"#9c179e\"],[0.4444444444444444,\"#bd3786\"],[0.5555555555555556,\"#d8576b\"],[0.6666666666666666,\"#ed7953\"],[0.7777777777777778,\"#fb9f3a\"],[0.8888888888888888,\"#fdca26\"],[1.0,\"#f0f921\"]]},\"colorway\":[\"#636efa\",\"#EF553B\",\"#00cc96\",\"#ab63fa\",\"#FFA15A\",\"#19d3f3\",\"#FF6692\",\"#B6E880\",\"#FF97FF\",\"#FECB52\"],\"font\":{\"color\":\"#2a3f5f\"},\"geo\":{\"bgcolor\":\"white\",\"lakecolor\":\"white\",\"landcolor\":\"#E5ECF6\",\"showlakes\":true,\"showland\":true,\"subunitcolor\":\"white\"},\"hoverlabel\":{\"align\":\"left\"},\"hovermode\":\"closest\",\"mapbox\":{\"style\":\"light\"},\"paper_bgcolor\":\"white\",\"plot_bgcolor\":\"#E5ECF6\",\"polar\":{\"angularaxis\":{\"gridcolor\":\"white\",\"linecolor\":\"white\",\"ticks\":\"\"},\"bgcolor\":\"#E5ECF6\",\"radialaxis\":{\"gridcolor\":\"white\",\"linecolor\":\"white\",\"ticks\":\"\"}},\"scene\":{\"xaxis\":{\"backgroundcolor\":\"#E5ECF6\",\"gridcolor\":\"white\",\"gridwidth\":2,\"linecolor\":\"white\",\"showbackground\":true,\"ticks\":\"\",\"zerolinecolor\":\"white\"},\"yaxis\":{\"backgroundcolor\":\"#E5ECF6\",\"gridcolor\":\"white\",\"gridwidth\":2,\"linecolor\":\"white\",\"showbackground\":true,\"ticks\":\"\",\"zerolinecolor\":\"white\"},\"zaxis\":{\"backgroundcolor\":\"#E5ECF6\",\"gridcolor\":\"white\",\"gridwidth\":2,\"linecolor\":\"white\",\"showbackground\":true,\"ticks\":\"\",\"zerolinecolor\":\"white\"}},\"shapedefaults\":{\"line\":{\"color\":\"#2a3f5f\"}},\"ternary\":{\"aaxis\":{\"gridcolor\":\"white\",\"linecolor\":\"white\",\"ticks\":\"\"},\"baxis\":{\"gridcolor\":\"white\",\"linecolor\":\"white\",\"ticks\":\"\"},\"bgcolor\":\"#E5ECF6\",\"caxis\":{\"gridcolor\":\"white\",\"linecolor\":\"white\",\"ticks\":\"\"}},\"title\":{\"x\":0.05},\"xaxis\":{\"automargin\":true,\"gridcolor\":\"white\",\"linecolor\":\"white\",\"ticks\":\"\",\"title\":{\"standoff\":15},\"zerolinecolor\":\"white\",\"zerolinewidth\":2},\"yaxis\":{\"automargin\":true,\"gridcolor\":\"white\",\"linecolor\":\"white\",\"ticks\":\"\",\"title\":{\"standoff\":15},\"zerolinecolor\":\"white\",\"zerolinewidth\":2}}},\"title\":{\"font\":{\"color\":\"#4D5663\"}},\"xaxis\":{\"gridcolor\":\"#E1E5ED\",\"showgrid\":true,\"tickfont\":{\"color\":\"#4D5663\"},\"title\":{\"font\":{\"color\":\"#4D5663\"},\"text\":\"\"},\"zerolinecolor\":\"#E1E5ED\"},\"yaxis\":{\"gridcolor\":\"#E1E5ED\",\"showgrid\":true,\"tickfont\":{\"color\":\"#4D5663\"},\"title\":{\"font\":{\"color\":\"#4D5663\"},\"text\":\"\"},\"zerolinecolor\":\"#E1E5ED\"}},                        {\"showLink\": true, \"linkText\": \"Export to plot.ly\", \"plotlyServerURL\": \"https://plot.ly\", \"responsive\": true}                    ).then(function(){\n",
       "                            \n",
       "var gd = document.getElementById('3a594079-9c4f-48c9-88a1-deab4b756727');\n",
       "var x = new MutationObserver(function (mutations, observer) {{\n",
       "        var display = window.getComputedStyle(gd).display;\n",
       "        if (!display || display === 'none') {{\n",
       "            console.log([gd, 'removed!']);\n",
       "            Plotly.purge(gd);\n",
       "            observer.disconnect();\n",
       "        }}\n",
       "}});\n",
       "\n",
       "// Listen for the removal of the full notebook cells\n",
       "var notebookContainer = gd.closest('#notebook-container');\n",
       "if (notebookContainer) {{\n",
       "    x.observe(notebookContainer, {childList: true});\n",
       "}}\n",
       "\n",
       "// Listen for the clearing of the current output cell\n",
       "var outputEl = gd.closest('.output');\n",
       "if (outputEl) {{\n",
       "    x.observe(outputEl, {childList: true});\n",
       "}}\n",
       "\n",
       "                        })                };                });            </script>        </div>"
      ]
     },
     "metadata": {},
     "output_type": "display_data"
    }
   ],
   "source": [
    "df['A'].iplot(kind='hist',bins=35)"
   ]
  },
  {
   "cell_type": "code",
   "execution_count": 55,
   "id": "cf252eed",
   "metadata": {},
   "outputs": [
    {
     "data": {
      "application/vnd.plotly.v1+json": {
       "config": {
        "linkText": "Export to plot.ly",
        "plotlyServerURL": "https://plot.ly",
        "showLink": true
       },
       "data": [
        {
         "line": {
          "color": "rgba(255, 153, 51, 1.0)",
          "dash": "solid",
          "shape": "linear",
          "width": 1.3
         },
         "mode": "lines",
         "name": "A",
         "text": "",
         "type": "scatter",
         "x": [
          0,
          1,
          2,
          3,
          4,
          5,
          6,
          7,
          8,
          9,
          10,
          11,
          12,
          13,
          14,
          15,
          16,
          17,
          18,
          19,
          20,
          21,
          22,
          23,
          24,
          25,
          26,
          27,
          28,
          29,
          30,
          31,
          32,
          33,
          34,
          35,
          36,
          37,
          38,
          39,
          40,
          41,
          42,
          43,
          44,
          45,
          46,
          47,
          48,
          49,
          50,
          51,
          52,
          53,
          54,
          55,
          56,
          57,
          58,
          59,
          60,
          61,
          62,
          63,
          64,
          65,
          66,
          67,
          68,
          69,
          70,
          71,
          72,
          73,
          74,
          75,
          76,
          77,
          78,
          79,
          80,
          81,
          82,
          83,
          84,
          85,
          86,
          87,
          88,
          89,
          90,
          91,
          92,
          93,
          94,
          95,
          96,
          97,
          98,
          99
         ],
         "y": [
          -0.4203769172138504,
          -1.7425536061462963,
          0.889037777019348,
          -1.0146950303,
          0.644987085922443,
          -0.5867545637092614,
          0.19788543355418084,
          -0.2730404740189748,
          -0.9026425523496677,
          -1.6279069661349634,
          -1.502814218287029,
          0.9328022335577573,
          -0.1647065323106058,
          0.6098435552056553,
          0.7157458424489646,
          -1.8653534653067507,
          0.04561722455290629,
          -1.83236922326372,
          1.2857591028121669,
          0.970847338623453,
          0.38469108105725586,
          -0.40669880244896184,
          -0.06933498378794453,
          1.320095941524994,
          -0.049271141297447224,
          0.24992502893762825,
          -1.0468650538432982,
          0.8544164021291353,
          0.5427353132690936,
          -0.6046711968130206,
          0.268146006228171,
          -0.8136978787020882,
          0.5129283434240521,
          -1.135879355830157,
          -0.5949835740230749,
          -0.9991198230270095,
          -1.6954857308348357,
          -0.5946797454314954,
          -0.038096198045322445,
          -0.597690474040178,
          -0.91787070032281,
          0.0049305892151103705,
          0.3176792336961347,
          1.8158591736530727,
          -0.18625555231119253,
          0.5334916797623348,
          -1.7790749335164024,
          -0.4561764528203567,
          -0.5383765801583805,
          0.9303974394928215,
          0.3019654074882458,
          -0.44691681108686937,
          1.0528514568643699,
          -0.8167380173526259,
          1.2329356705867764,
          1.5463527728336532,
          -0.20062580071149355,
          -0.09651096288571068,
          0.9154837337810589,
          -1.116298893230286,
          -0.12815668411074205,
          -0.35583474560030715,
          -0.1451024331637089,
          -0.015403174313218963,
          -0.28000443145952597,
          -0.47316418081547024,
          1.1183679273647713,
          0.5531770838513008,
          0.510397106892376,
          0.8396821842077113,
          0.11193850783712242,
          1.5340640502750655,
          0.021240171794083367,
          -0.9880713077949188,
          -0.6483165415061083,
          -0.3232730425399403,
          -0.3962516779122834,
          -0.4889839801990028,
          -0.6958235391363193,
          1.0309874763249955,
          -1.2084742863986977,
          -1.326989784774145,
          0.87219511894707,
          -0.5061261280696431,
          -0.9298406048337552,
          0.3475633689311191,
          -0.4488686768784139,
          0.08110817045384922,
          -0.0762302794889301,
          0.9625165014804028,
          0.8396345494906886,
          -1.80754629237557,
          0.8112661931818693,
          -0.6042239124449605,
          0.12005231709963185,
          -0.1764783558475839,
          1.4807239063761461,
          -1.2889664844008466,
          0.34080712450550255,
          0.5160231621797224
         ]
        },
        {
         "line": {
          "color": "rgba(55, 128, 191, 1.0)",
          "dash": "solid",
          "shape": "linear",
          "width": 1.3
         },
         "mode": "lines",
         "name": "B",
         "text": "",
         "type": "scatter",
         "x": [
          0,
          1,
          2,
          3,
          4,
          5,
          6,
          7,
          8,
          9,
          10,
          11,
          12,
          13,
          14,
          15,
          16,
          17,
          18,
          19,
          20,
          21,
          22,
          23,
          24,
          25,
          26,
          27,
          28,
          29,
          30,
          31,
          32,
          33,
          34,
          35,
          36,
          37,
          38,
          39,
          40,
          41,
          42,
          43,
          44,
          45,
          46,
          47,
          48,
          49,
          50,
          51,
          52,
          53,
          54,
          55,
          56,
          57,
          58,
          59,
          60,
          61,
          62,
          63,
          64,
          65,
          66,
          67,
          68,
          69,
          70,
          71,
          72,
          73,
          74,
          75,
          76,
          77,
          78,
          79,
          80,
          81,
          82,
          83,
          84,
          85,
          86,
          87,
          88,
          89,
          90,
          91,
          92,
          93,
          94,
          95,
          96,
          97,
          98,
          99
         ],
         "y": [
          0.6705648136691061,
          0.7479108416593321,
          0.12376066704020804,
          0.5076865776365572,
          0.27751055021147714,
          -0.03885891767652951,
          -1.1484619773486824,
          0.06228241207836648,
          -1.057573110496256,
          1.135998182104359,
          -1.5268471457059039,
          0.03189578091454026,
          0.22200393733858212,
          0.35923447166256467,
          0.0438455986084191,
          -0.3286116744247036,
          -2.263135223059364,
          -0.4813577542132742,
          -1.3263312412535673,
          -0.49685187273799336,
          0.3715396209386487,
          1.3972487045901876,
          -1.7711776100919718,
          0.5164795444719394,
          -0.4040893207540781,
          -0.233485549950093,
          -1.476540568165758,
          0.28736959359819514,
          -1.828738271205067,
          -0.23033607719013108,
          -0.1716670784386983,
          0.6333589652539582,
          0.24579312524127364,
          -1.0430792092208319,
          -1.3054477184770257,
          -0.377953740083831,
          -1.6893335298772036,
          -0.05613954327924084,
          -0.6487634074366234,
          0.28329949096429036,
          -0.4042017835341697,
          0.032341002346677895,
          0.09703874914253871,
          -1.6933485826179155,
          0.6919740876165209,
          1.6491769080229144,
          -0.5779327269841692,
          -0.368352415642468,
          -1.5547059886995682,
          -1.9347232358061432,
          -0.49457341387009357,
          -1.1431865654017428,
          -0.589440944580983,
          -0.7321925083296308,
          -0.5598495607910404,
          -0.07280153382431334,
          -0.9677078775408386,
          2.110893914463245,
          -1.8007775476818115,
          -0.5492778523321554,
          -0.5153143189722851,
          0.2819410514014495,
          0.6389173365089797,
          -0.03690079064012558,
          0.3154919697960902,
          0.34399013315007754,
          0.8770157732702345,
          1.59051131022073,
          0.7904345189953608,
          0.7311438272766193,
          0.7387973826077535,
          -0.879583440706914,
          0.5868810728835954,
          0.03420631434201392,
          -0.45894188198105734,
          -0.4850085142032951,
          0.15108157763018584,
          0.1416739928211047,
          0.4779585274094298,
          -0.8118140116099221,
          0.5562018187811655,
          -0.24169835421043992,
          -0.5660844805115468,
          -0.49218350172725206,
          -0.61293743048621,
          1.2332793309806727,
          2.1240417997227214,
          1.400322812515332,
          -1.2707703517297577,
          0.04297896308622119,
          -1.1629777976548832,
          -0.527264203119578,
          -1.1036025507929965,
          0.11634484045105915,
          1.4459565634949803,
          -0.19104602555144024,
          1.43788963939247,
          -2.0614461044332733,
          1.6997794796458487,
          0.19527633470967637
         ]
        },
        {
         "connectgaps": false,
         "fill": "tozeroy",
         "line": {
          "color": "green",
          "dash": "solid",
          "shape": "linear",
          "width": 0.5
         },
         "mode": "lines",
         "name": "Spread",
         "showlegend": false,
         "type": "scatter",
         "x": [
          0,
          1,
          2,
          3,
          4,
          5,
          6,
          7,
          8,
          9,
          10,
          11,
          12,
          13,
          14,
          15,
          16,
          17,
          18,
          19,
          20,
          21,
          22,
          23,
          24,
          25,
          26,
          27,
          28,
          29,
          30,
          31,
          32,
          33,
          34,
          35,
          36,
          37,
          38,
          39,
          40,
          41,
          42,
          43,
          44,
          45,
          46,
          47,
          48,
          49,
          50,
          51,
          52,
          53,
          54,
          55,
          56,
          57,
          58,
          59,
          60,
          61,
          62,
          63,
          64,
          65,
          66,
          67,
          68,
          69,
          70,
          71,
          72,
          73,
          74,
          75,
          76,
          77,
          78,
          79,
          80,
          81,
          82,
          83,
          84,
          85,
          86,
          87,
          88,
          89,
          90,
          91,
          92,
          93,
          94,
          95,
          96,
          97,
          98,
          99
         ],
         "xaxis": "x2",
         "y": [
          "",
          "",
          0.76527710997914,
          "",
          0.3674765357109659,
          "",
          1.3463474109028633,
          "",
          0.1549305581465883,
          "",
          0.02403292741887486,
          0.900906452643217,
          "",
          0.2506090835430906,
          0.6719002438405455,
          "",
          2.30875244761227,
          "",
          2.6120903440657344,
          1.4676992113614462,
          0.013151460118607183,
          "",
          1.7018426263040274,
          0.8036163970530545,
          0.35481817945663086,
          0.4834105788877212,
          0.42967551432245976,
          0.5670468085309401,
          2.3714735844741606,
          "",
          0.4398130846668693,
          "",
          0.2671352181827785,
          "",
          0.7104641444539508,
          "",
          "",
          "",
          0.6106672093913009,
          "",
          "",
          "",
          0.220640484553596,
          3.509207756270988,
          "",
          "",
          "",
          "",
          1.0163294085411878,
          2.865120675298965,
          0.7965388213583393,
          0.6962697543148735,
          1.6422924014453528,
          "",
          1.7927852313778168,
          1.6191543066579666,
          0.7670820768293451,
          "",
          2.71626128146287,
          "",
          0.38715763486154303,
          "",
          "",
          0.021497616326906617,
          "",
          "",
          0.2413521540945368,
          "",
          "",
          0.10853835693109204,
          "",
          2.4136474909819796,
          "",
          "",
          "",
          0.16173547166335478,
          "",
          "",
          "",
          1.8428014879349175,
          "",
          "",
          1.4382795994586168,
          "",
          "",
          "",
          "",
          "",
          1.1945400722408277,
          0.9195375383941816,
          2.002612347145572,
          "",
          1.914868743974866,
          "",
          "",
          0.01456766970385634,
          0.042834266983676095,
          0.7724796200324267,
          "",
          0.32074682747004607
         ],
         "yaxis": "y2"
        },
        {
         "connectgaps": false,
         "fill": "tozeroy",
         "line": {
          "color": "red",
          "dash": "solid",
          "shape": "linear",
          "width": 0.5
         },
         "mode": "lines",
         "name": "Spread",
         "showlegend": false,
         "type": "scatter",
         "x": [
          0,
          1,
          2,
          3,
          4,
          5,
          6,
          7,
          8,
          9,
          10,
          11,
          12,
          13,
          14,
          15,
          16,
          17,
          18,
          19,
          20,
          21,
          22,
          23,
          24,
          25,
          26,
          27,
          28,
          29,
          30,
          31,
          32,
          33,
          34,
          35,
          36,
          37,
          38,
          39,
          40,
          41,
          42,
          43,
          44,
          45,
          46,
          47,
          48,
          49,
          50,
          51,
          52,
          53,
          54,
          55,
          56,
          57,
          58,
          59,
          60,
          61,
          62,
          63,
          64,
          65,
          66,
          67,
          68,
          69,
          70,
          71,
          72,
          73,
          74,
          75,
          76,
          77,
          78,
          79,
          80,
          81,
          82,
          83,
          84,
          85,
          86,
          87,
          88,
          89,
          90,
          91,
          92,
          93,
          94,
          95,
          96,
          97,
          98,
          99
         ],
         "xaxis": "x2",
         "y": [
          -1.0909417308829565,
          -2.4904644478056284,
          "",
          -1.5223816079365573,
          "",
          -0.5478956460327319,
          "",
          -0.3353228860973413,
          "",
          -2.7639051482393224,
          "",
          "",
          -0.3867104696491879,
          "",
          "",
          -1.536741790882047,
          "",
          -1.3510114690504458,
          "",
          "",
          "",
          -1.8039475070391493,
          "",
          "",
          "",
          "",
          "",
          "",
          "",
          -0.37433511962288957,
          "",
          -1.4470568439560463,
          "",
          -0.09280014660932512,
          "",
          -0.6211660829431785,
          -0.006152200957632026,
          -0.5385402021522545,
          "",
          -0.8809899650044684,
          -0.5136689167886404,
          -0.027410413131567526,
          "",
          "",
          -0.8782296399277134,
          -1.1156852282605796,
          -1.2011422065322332,
          -0.08782403717788867,
          "",
          "",
          "",
          "",
          "",
          -0.08454550902299507,
          "",
          "",
          "",
          -2.2074048773489556,
          "",
          -0.5670210408981305,
          "",
          -0.6377757970017566,
          -0.7840197696726887,
          "",
          -0.5954964012556161,
          -0.8171543139655477,
          "",
          -1.0373342263694292,
          -0.2800374121029847,
          "",
          -0.6268588747706311,
          "",
          -0.565640901089512,
          -1.0222776221369327,
          -0.18937465952505095,
          "",
          -0.5473332555424693,
          -0.6306579730201075,
          -1.173782066545749,
          "",
          -1.7646761051798632,
          -1.0852914305637051,
          "",
          -0.013942626342391018,
          -0.3169031743475452,
          -0.8857159620495536,
          -2.5729104766011353,
          -1.3192146420614828,
          "",
          "",
          "",
          -1.280282089255992,
          "",
          -0.7205687528960197,
          -1.3259042463953483,
          "",
          "",
          "",
          -1.358972355140346,
          ""
         ],
         "yaxis": "y2"
        }
       ],
       "layout": {
        "hovermode": "x",
        "legend": {
         "bgcolor": "#F5F6F9",
         "font": {
          "color": "#4D5663"
         }
        },
        "paper_bgcolor": "#F5F6F9",
        "plot_bgcolor": "#F5F6F9",
        "template": {
         "data": {
          "bar": [
           {
            "error_x": {
             "color": "#2a3f5f"
            },
            "error_y": {
             "color": "#2a3f5f"
            },
            "marker": {
             "line": {
              "color": "#E5ECF6",
              "width": 0.5
             },
             "pattern": {
              "fillmode": "overlay",
              "size": 10,
              "solidity": 0.2
             }
            },
            "type": "bar"
           }
          ],
          "barpolar": [
           {
            "marker": {
             "line": {
              "color": "#E5ECF6",
              "width": 0.5
             },
             "pattern": {
              "fillmode": "overlay",
              "size": 10,
              "solidity": 0.2
             }
            },
            "type": "barpolar"
           }
          ],
          "carpet": [
           {
            "aaxis": {
             "endlinecolor": "#2a3f5f",
             "gridcolor": "white",
             "linecolor": "white",
             "minorgridcolor": "white",
             "startlinecolor": "#2a3f5f"
            },
            "baxis": {
             "endlinecolor": "#2a3f5f",
             "gridcolor": "white",
             "linecolor": "white",
             "minorgridcolor": "white",
             "startlinecolor": "#2a3f5f"
            },
            "type": "carpet"
           }
          ],
          "choropleth": [
           {
            "colorbar": {
             "outlinewidth": 0,
             "ticks": ""
            },
            "type": "choropleth"
           }
          ],
          "contour": [
           {
            "colorbar": {
             "outlinewidth": 0,
             "ticks": ""
            },
            "colorscale": [
             [
              0,
              "#0d0887"
             ],
             [
              0.1111111111111111,
              "#46039f"
             ],
             [
              0.2222222222222222,
              "#7201a8"
             ],
             [
              0.3333333333333333,
              "#9c179e"
             ],
             [
              0.4444444444444444,
              "#bd3786"
             ],
             [
              0.5555555555555556,
              "#d8576b"
             ],
             [
              0.6666666666666666,
              "#ed7953"
             ],
             [
              0.7777777777777778,
              "#fb9f3a"
             ],
             [
              0.8888888888888888,
              "#fdca26"
             ],
             [
              1,
              "#f0f921"
             ]
            ],
            "type": "contour"
           }
          ],
          "contourcarpet": [
           {
            "colorbar": {
             "outlinewidth": 0,
             "ticks": ""
            },
            "type": "contourcarpet"
           }
          ],
          "heatmap": [
           {
            "colorbar": {
             "outlinewidth": 0,
             "ticks": ""
            },
            "colorscale": [
             [
              0,
              "#0d0887"
             ],
             [
              0.1111111111111111,
              "#46039f"
             ],
             [
              0.2222222222222222,
              "#7201a8"
             ],
             [
              0.3333333333333333,
              "#9c179e"
             ],
             [
              0.4444444444444444,
              "#bd3786"
             ],
             [
              0.5555555555555556,
              "#d8576b"
             ],
             [
              0.6666666666666666,
              "#ed7953"
             ],
             [
              0.7777777777777778,
              "#fb9f3a"
             ],
             [
              0.8888888888888888,
              "#fdca26"
             ],
             [
              1,
              "#f0f921"
             ]
            ],
            "type": "heatmap"
           }
          ],
          "heatmapgl": [
           {
            "colorbar": {
             "outlinewidth": 0,
             "ticks": ""
            },
            "colorscale": [
             [
              0,
              "#0d0887"
             ],
             [
              0.1111111111111111,
              "#46039f"
             ],
             [
              0.2222222222222222,
              "#7201a8"
             ],
             [
              0.3333333333333333,
              "#9c179e"
             ],
             [
              0.4444444444444444,
              "#bd3786"
             ],
             [
              0.5555555555555556,
              "#d8576b"
             ],
             [
              0.6666666666666666,
              "#ed7953"
             ],
             [
              0.7777777777777778,
              "#fb9f3a"
             ],
             [
              0.8888888888888888,
              "#fdca26"
             ],
             [
              1,
              "#f0f921"
             ]
            ],
            "type": "heatmapgl"
           }
          ],
          "histogram": [
           {
            "marker": {
             "pattern": {
              "fillmode": "overlay",
              "size": 10,
              "solidity": 0.2
             }
            },
            "type": "histogram"
           }
          ],
          "histogram2d": [
           {
            "colorbar": {
             "outlinewidth": 0,
             "ticks": ""
            },
            "colorscale": [
             [
              0,
              "#0d0887"
             ],
             [
              0.1111111111111111,
              "#46039f"
             ],
             [
              0.2222222222222222,
              "#7201a8"
             ],
             [
              0.3333333333333333,
              "#9c179e"
             ],
             [
              0.4444444444444444,
              "#bd3786"
             ],
             [
              0.5555555555555556,
              "#d8576b"
             ],
             [
              0.6666666666666666,
              "#ed7953"
             ],
             [
              0.7777777777777778,
              "#fb9f3a"
             ],
             [
              0.8888888888888888,
              "#fdca26"
             ],
             [
              1,
              "#f0f921"
             ]
            ],
            "type": "histogram2d"
           }
          ],
          "histogram2dcontour": [
           {
            "colorbar": {
             "outlinewidth": 0,
             "ticks": ""
            },
            "colorscale": [
             [
              0,
              "#0d0887"
             ],
             [
              0.1111111111111111,
              "#46039f"
             ],
             [
              0.2222222222222222,
              "#7201a8"
             ],
             [
              0.3333333333333333,
              "#9c179e"
             ],
             [
              0.4444444444444444,
              "#bd3786"
             ],
             [
              0.5555555555555556,
              "#d8576b"
             ],
             [
              0.6666666666666666,
              "#ed7953"
             ],
             [
              0.7777777777777778,
              "#fb9f3a"
             ],
             [
              0.8888888888888888,
              "#fdca26"
             ],
             [
              1,
              "#f0f921"
             ]
            ],
            "type": "histogram2dcontour"
           }
          ],
          "mesh3d": [
           {
            "colorbar": {
             "outlinewidth": 0,
             "ticks": ""
            },
            "type": "mesh3d"
           }
          ],
          "parcoords": [
           {
            "line": {
             "colorbar": {
              "outlinewidth": 0,
              "ticks": ""
             }
            },
            "type": "parcoords"
           }
          ],
          "pie": [
           {
            "automargin": true,
            "type": "pie"
           }
          ],
          "scatter": [
           {
            "marker": {
             "colorbar": {
              "outlinewidth": 0,
              "ticks": ""
             }
            },
            "type": "scatter"
           }
          ],
          "scatter3d": [
           {
            "line": {
             "colorbar": {
              "outlinewidth": 0,
              "ticks": ""
             }
            },
            "marker": {
             "colorbar": {
              "outlinewidth": 0,
              "ticks": ""
             }
            },
            "type": "scatter3d"
           }
          ],
          "scattercarpet": [
           {
            "marker": {
             "colorbar": {
              "outlinewidth": 0,
              "ticks": ""
             }
            },
            "type": "scattercarpet"
           }
          ],
          "scattergeo": [
           {
            "marker": {
             "colorbar": {
              "outlinewidth": 0,
              "ticks": ""
             }
            },
            "type": "scattergeo"
           }
          ],
          "scattergl": [
           {
            "marker": {
             "colorbar": {
              "outlinewidth": 0,
              "ticks": ""
             }
            },
            "type": "scattergl"
           }
          ],
          "scattermapbox": [
           {
            "marker": {
             "colorbar": {
              "outlinewidth": 0,
              "ticks": ""
             }
            },
            "type": "scattermapbox"
           }
          ],
          "scatterpolar": [
           {
            "marker": {
             "colorbar": {
              "outlinewidth": 0,
              "ticks": ""
             }
            },
            "type": "scatterpolar"
           }
          ],
          "scatterpolargl": [
           {
            "marker": {
             "colorbar": {
              "outlinewidth": 0,
              "ticks": ""
             }
            },
            "type": "scatterpolargl"
           }
          ],
          "scatterternary": [
           {
            "marker": {
             "colorbar": {
              "outlinewidth": 0,
              "ticks": ""
             }
            },
            "type": "scatterternary"
           }
          ],
          "surface": [
           {
            "colorbar": {
             "outlinewidth": 0,
             "ticks": ""
            },
            "colorscale": [
             [
              0,
              "#0d0887"
             ],
             [
              0.1111111111111111,
              "#46039f"
             ],
             [
              0.2222222222222222,
              "#7201a8"
             ],
             [
              0.3333333333333333,
              "#9c179e"
             ],
             [
              0.4444444444444444,
              "#bd3786"
             ],
             [
              0.5555555555555556,
              "#d8576b"
             ],
             [
              0.6666666666666666,
              "#ed7953"
             ],
             [
              0.7777777777777778,
              "#fb9f3a"
             ],
             [
              0.8888888888888888,
              "#fdca26"
             ],
             [
              1,
              "#f0f921"
             ]
            ],
            "type": "surface"
           }
          ],
          "table": [
           {
            "cells": {
             "fill": {
              "color": "#EBF0F8"
             },
             "line": {
              "color": "white"
             }
            },
            "header": {
             "fill": {
              "color": "#C8D4E3"
             },
             "line": {
              "color": "white"
             }
            },
            "type": "table"
           }
          ]
         },
         "layout": {
          "annotationdefaults": {
           "arrowcolor": "#2a3f5f",
           "arrowhead": 0,
           "arrowwidth": 1
          },
          "autotypenumbers": "strict",
          "coloraxis": {
           "colorbar": {
            "outlinewidth": 0,
            "ticks": ""
           }
          },
          "colorscale": {
           "diverging": [
            [
             0,
             "#8e0152"
            ],
            [
             0.1,
             "#c51b7d"
            ],
            [
             0.2,
             "#de77ae"
            ],
            [
             0.3,
             "#f1b6da"
            ],
            [
             0.4,
             "#fde0ef"
            ],
            [
             0.5,
             "#f7f7f7"
            ],
            [
             0.6,
             "#e6f5d0"
            ],
            [
             0.7,
             "#b8e186"
            ],
            [
             0.8,
             "#7fbc41"
            ],
            [
             0.9,
             "#4d9221"
            ],
            [
             1,
             "#276419"
            ]
           ],
           "sequential": [
            [
             0,
             "#0d0887"
            ],
            [
             0.1111111111111111,
             "#46039f"
            ],
            [
             0.2222222222222222,
             "#7201a8"
            ],
            [
             0.3333333333333333,
             "#9c179e"
            ],
            [
             0.4444444444444444,
             "#bd3786"
            ],
            [
             0.5555555555555556,
             "#d8576b"
            ],
            [
             0.6666666666666666,
             "#ed7953"
            ],
            [
             0.7777777777777778,
             "#fb9f3a"
            ],
            [
             0.8888888888888888,
             "#fdca26"
            ],
            [
             1,
             "#f0f921"
            ]
           ],
           "sequentialminus": [
            [
             0,
             "#0d0887"
            ],
            [
             0.1111111111111111,
             "#46039f"
            ],
            [
             0.2222222222222222,
             "#7201a8"
            ],
            [
             0.3333333333333333,
             "#9c179e"
            ],
            [
             0.4444444444444444,
             "#bd3786"
            ],
            [
             0.5555555555555556,
             "#d8576b"
            ],
            [
             0.6666666666666666,
             "#ed7953"
            ],
            [
             0.7777777777777778,
             "#fb9f3a"
            ],
            [
             0.8888888888888888,
             "#fdca26"
            ],
            [
             1,
             "#f0f921"
            ]
           ]
          },
          "colorway": [
           "#636efa",
           "#EF553B",
           "#00cc96",
           "#ab63fa",
           "#FFA15A",
           "#19d3f3",
           "#FF6692",
           "#B6E880",
           "#FF97FF",
           "#FECB52"
          ],
          "font": {
           "color": "#2a3f5f"
          },
          "geo": {
           "bgcolor": "white",
           "lakecolor": "white",
           "landcolor": "#E5ECF6",
           "showlakes": true,
           "showland": true,
           "subunitcolor": "white"
          },
          "hoverlabel": {
           "align": "left"
          },
          "hovermode": "closest",
          "mapbox": {
           "style": "light"
          },
          "paper_bgcolor": "white",
          "plot_bgcolor": "#E5ECF6",
          "polar": {
           "angularaxis": {
            "gridcolor": "white",
            "linecolor": "white",
            "ticks": ""
           },
           "bgcolor": "#E5ECF6",
           "radialaxis": {
            "gridcolor": "white",
            "linecolor": "white",
            "ticks": ""
           }
          },
          "scene": {
           "xaxis": {
            "backgroundcolor": "#E5ECF6",
            "gridcolor": "white",
            "gridwidth": 2,
            "linecolor": "white",
            "showbackground": true,
            "ticks": "",
            "zerolinecolor": "white"
           },
           "yaxis": {
            "backgroundcolor": "#E5ECF6",
            "gridcolor": "white",
            "gridwidth": 2,
            "linecolor": "white",
            "showbackground": true,
            "ticks": "",
            "zerolinecolor": "white"
           },
           "zaxis": {
            "backgroundcolor": "#E5ECF6",
            "gridcolor": "white",
            "gridwidth": 2,
            "linecolor": "white",
            "showbackground": true,
            "ticks": "",
            "zerolinecolor": "white"
           }
          },
          "shapedefaults": {
           "line": {
            "color": "#2a3f5f"
           }
          },
          "ternary": {
           "aaxis": {
            "gridcolor": "white",
            "linecolor": "white",
            "ticks": ""
           },
           "baxis": {
            "gridcolor": "white",
            "linecolor": "white",
            "ticks": ""
           },
           "bgcolor": "#E5ECF6",
           "caxis": {
            "gridcolor": "white",
            "linecolor": "white",
            "ticks": ""
           }
          },
          "title": {
           "x": 0.05
          },
          "xaxis": {
           "automargin": true,
           "gridcolor": "white",
           "linecolor": "white",
           "ticks": "",
           "title": {
            "standoff": 15
           },
           "zerolinecolor": "white",
           "zerolinewidth": 2
          },
          "yaxis": {
           "automargin": true,
           "gridcolor": "white",
           "linecolor": "white",
           "ticks": "",
           "title": {
            "standoff": 15
           },
           "zerolinecolor": "white",
           "zerolinewidth": 2
          }
         }
        },
        "title": {
         "font": {
          "color": "#4D5663"
         }
        },
        "xaxis": {
         "gridcolor": "#E1E5ED",
         "showgrid": true,
         "tickfont": {
          "color": "#4D5663"
         },
         "title": {
          "font": {
           "color": "#4D5663"
          },
          "text": ""
         },
         "zerolinecolor": "#E1E5ED"
        },
        "xaxis2": {
         "anchor": "y2",
         "gridcolor": "#E1E5ED",
         "showgrid": true,
         "showticklabels": false,
         "tickfont": {
          "color": "#4D5663"
         },
         "title": {
          "font": {
           "color": "#4D5663"
          },
          "text": ""
         },
         "zerolinecolor": "#E1E5ED"
        },
        "yaxis": {
         "domain": [
          0.3,
          1
         ],
         "gridcolor": "#E1E5ED",
         "showgrid": true,
         "tickfont": {
          "color": "#4D5663"
         },
         "title": {
          "font": {
           "color": "#4D5663"
          },
          "text": ""
         },
         "zerolinecolor": "#E1E5ED"
        },
        "yaxis2": {
         "domain": [
          0,
          0.25
         ],
         "gridcolor": "#E1E5ED",
         "showgrid": true,
         "tickfont": {
          "color": "#4D5663"
         },
         "title": {
          "font": {
           "color": "#4D5663"
          },
          "text": "Spread"
         },
         "zerolinecolor": "#E1E5ED"
        }
       }
      },
      "text/html": [
       "<div>                            <div id=\"302c4902-8d3d-415c-aa54-f36f419965bb\" class=\"plotly-graph-div\" style=\"height:525px; width:100%;\"></div>            <script type=\"text/javascript\">                require([\"plotly\"], function(Plotly) {                    window.PLOTLYENV=window.PLOTLYENV || {};\n",
       "                    window.PLOTLYENV.BASE_URL='https://plot.ly';                                    if (document.getElementById(\"302c4902-8d3d-415c-aa54-f36f419965bb\")) {                    Plotly.newPlot(                        \"302c4902-8d3d-415c-aa54-f36f419965bb\",                        [{\"line\":{\"color\":\"rgba(255, 153, 51, 1.0)\",\"dash\":\"solid\",\"shape\":\"linear\",\"width\":1.3},\"mode\":\"lines\",\"name\":\"A\",\"text\":\"\",\"type\":\"scatter\",\"x\":[0,1,2,3,4,5,6,7,8,9,10,11,12,13,14,15,16,17,18,19,20,21,22,23,24,25,26,27,28,29,30,31,32,33,34,35,36,37,38,39,40,41,42,43,44,45,46,47,48,49,50,51,52,53,54,55,56,57,58,59,60,61,62,63,64,65,66,67,68,69,70,71,72,73,74,75,76,77,78,79,80,81,82,83,84,85,86,87,88,89,90,91,92,93,94,95,96,97,98,99],\"y\":[-0.4203769172138504,-1.7425536061462963,0.889037777019348,-1.0146950303,0.644987085922443,-0.5867545637092614,0.19788543355418084,-0.2730404740189748,-0.9026425523496677,-1.6279069661349634,-1.502814218287029,0.9328022335577573,-0.1647065323106058,0.6098435552056553,0.7157458424489646,-1.8653534653067507,0.04561722455290629,-1.83236922326372,1.2857591028121669,0.970847338623453,0.38469108105725586,-0.40669880244896184,-0.06933498378794453,1.320095941524994,-0.049271141297447224,0.24992502893762825,-1.0468650538432982,0.8544164021291353,0.5427353132690936,-0.6046711968130206,0.268146006228171,-0.8136978787020882,0.5129283434240521,-1.135879355830157,-0.5949835740230749,-0.9991198230270095,-1.6954857308348357,-0.5946797454314954,-0.038096198045322445,-0.597690474040178,-0.91787070032281,0.0049305892151103705,0.3176792336961347,1.8158591736530727,-0.18625555231119253,0.5334916797623348,-1.7790749335164024,-0.4561764528203567,-0.5383765801583805,0.9303974394928215,0.3019654074882458,-0.44691681108686937,1.0528514568643699,-0.8167380173526259,1.2329356705867764,1.5463527728336532,-0.20062580071149355,-0.09651096288571068,0.9154837337810589,-1.116298893230286,-0.12815668411074205,-0.35583474560030715,-0.1451024331637089,-0.015403174313218963,-0.28000443145952597,-0.47316418081547024,1.1183679273647713,0.5531770838513008,0.510397106892376,0.8396821842077113,0.11193850783712242,1.5340640502750655,0.021240171794083367,-0.9880713077949188,-0.6483165415061083,-0.3232730425399403,-0.3962516779122834,-0.4889839801990028,-0.6958235391363193,1.0309874763249955,-1.2084742863986977,-1.326989784774145,0.87219511894707,-0.5061261280696431,-0.9298406048337552,0.3475633689311191,-0.4488686768784139,0.08110817045384922,-0.0762302794889301,0.9625165014804028,0.8396345494906886,-1.80754629237557,0.8112661931818693,-0.6042239124449605,0.12005231709963185,-0.1764783558475839,1.4807239063761461,-1.2889664844008466,0.34080712450550255,0.5160231621797224]},{\"line\":{\"color\":\"rgba(55, 128, 191, 1.0)\",\"dash\":\"solid\",\"shape\":\"linear\",\"width\":1.3},\"mode\":\"lines\",\"name\":\"B\",\"text\":\"\",\"type\":\"scatter\",\"x\":[0,1,2,3,4,5,6,7,8,9,10,11,12,13,14,15,16,17,18,19,20,21,22,23,24,25,26,27,28,29,30,31,32,33,34,35,36,37,38,39,40,41,42,43,44,45,46,47,48,49,50,51,52,53,54,55,56,57,58,59,60,61,62,63,64,65,66,67,68,69,70,71,72,73,74,75,76,77,78,79,80,81,82,83,84,85,86,87,88,89,90,91,92,93,94,95,96,97,98,99],\"y\":[0.6705648136691061,0.7479108416593321,0.12376066704020804,0.5076865776365572,0.27751055021147714,-0.03885891767652951,-1.1484619773486824,0.06228241207836648,-1.057573110496256,1.135998182104359,-1.5268471457059039,0.03189578091454026,0.22200393733858212,0.35923447166256467,0.0438455986084191,-0.3286116744247036,-2.263135223059364,-0.4813577542132742,-1.3263312412535673,-0.49685187273799336,0.3715396209386487,1.3972487045901876,-1.7711776100919718,0.5164795444719394,-0.4040893207540781,-0.233485549950093,-1.476540568165758,0.28736959359819514,-1.828738271205067,-0.23033607719013108,-0.1716670784386983,0.6333589652539582,0.24579312524127364,-1.0430792092208319,-1.3054477184770257,-0.377953740083831,-1.6893335298772036,-0.05613954327924084,-0.6487634074366234,0.28329949096429036,-0.4042017835341697,0.032341002346677895,0.09703874914253871,-1.6933485826179155,0.6919740876165209,1.6491769080229144,-0.5779327269841692,-0.368352415642468,-1.5547059886995682,-1.9347232358061432,-0.49457341387009357,-1.1431865654017428,-0.589440944580983,-0.7321925083296308,-0.5598495607910404,-0.07280153382431334,-0.9677078775408386,2.110893914463245,-1.8007775476818115,-0.5492778523321554,-0.5153143189722851,0.2819410514014495,0.6389173365089797,-0.03690079064012558,0.3154919697960902,0.34399013315007754,0.8770157732702345,1.59051131022073,0.7904345189953608,0.7311438272766193,0.7387973826077535,-0.879583440706914,0.5868810728835954,0.03420631434201392,-0.45894188198105734,-0.4850085142032951,0.15108157763018584,0.1416739928211047,0.4779585274094298,-0.8118140116099221,0.5562018187811655,-0.24169835421043992,-0.5660844805115468,-0.49218350172725206,-0.61293743048621,1.2332793309806727,2.1240417997227214,1.400322812515332,-1.2707703517297577,0.04297896308622119,-1.1629777976548832,-0.527264203119578,-1.1036025507929965,0.11634484045105915,1.4459565634949803,-0.19104602555144024,1.43788963939247,-2.0614461044332733,1.6997794796458487,0.19527633470967637]},{\"connectgaps\":false,\"fill\":\"tozeroy\",\"line\":{\"color\":\"green\",\"dash\":\"solid\",\"shape\":\"linear\",\"width\":0.5},\"mode\":\"lines\",\"name\":\"Spread\",\"showlegend\":false,\"type\":\"scatter\",\"x\":[0,1,2,3,4,5,6,7,8,9,10,11,12,13,14,15,16,17,18,19,20,21,22,23,24,25,26,27,28,29,30,31,32,33,34,35,36,37,38,39,40,41,42,43,44,45,46,47,48,49,50,51,52,53,54,55,56,57,58,59,60,61,62,63,64,65,66,67,68,69,70,71,72,73,74,75,76,77,78,79,80,81,82,83,84,85,86,87,88,89,90,91,92,93,94,95,96,97,98,99],\"xaxis\":\"x2\",\"y\":[\"\",\"\",0.76527710997914,\"\",0.3674765357109659,\"\",1.3463474109028633,\"\",0.1549305581465883,\"\",0.02403292741887486,0.900906452643217,\"\",0.2506090835430906,0.6719002438405455,\"\",2.30875244761227,\"\",2.6120903440657344,1.4676992113614462,0.013151460118607183,\"\",1.7018426263040274,0.8036163970530545,0.35481817945663086,0.4834105788877212,0.42967551432245976,0.5670468085309401,2.3714735844741606,\"\",0.4398130846668693,\"\",0.2671352181827785,\"\",0.7104641444539508,\"\",\"\",\"\",0.6106672093913009,\"\",\"\",\"\",0.220640484553596,3.509207756270988,\"\",\"\",\"\",\"\",1.0163294085411878,2.865120675298965,0.7965388213583393,0.6962697543148735,1.6422924014453528,\"\",1.7927852313778168,1.6191543066579666,0.7670820768293451,\"\",2.71626128146287,\"\",0.38715763486154303,\"\",\"\",0.021497616326906617,\"\",\"\",0.2413521540945368,\"\",\"\",0.10853835693109204,\"\",2.4136474909819796,\"\",\"\",\"\",0.16173547166335478,\"\",\"\",\"\",1.8428014879349175,\"\",\"\",1.4382795994586168,\"\",\"\",\"\",\"\",\"\",1.1945400722408277,0.9195375383941816,2.002612347145572,\"\",1.914868743974866,\"\",\"\",0.01456766970385634,0.042834266983676095,0.7724796200324267,\"\",0.32074682747004607],\"yaxis\":\"y2\"},{\"connectgaps\":false,\"fill\":\"tozeroy\",\"line\":{\"color\":\"red\",\"dash\":\"solid\",\"shape\":\"linear\",\"width\":0.5},\"mode\":\"lines\",\"name\":\"Spread\",\"showlegend\":false,\"type\":\"scatter\",\"x\":[0,1,2,3,4,5,6,7,8,9,10,11,12,13,14,15,16,17,18,19,20,21,22,23,24,25,26,27,28,29,30,31,32,33,34,35,36,37,38,39,40,41,42,43,44,45,46,47,48,49,50,51,52,53,54,55,56,57,58,59,60,61,62,63,64,65,66,67,68,69,70,71,72,73,74,75,76,77,78,79,80,81,82,83,84,85,86,87,88,89,90,91,92,93,94,95,96,97,98,99],\"xaxis\":\"x2\",\"y\":[-1.0909417308829565,-2.4904644478056284,\"\",-1.5223816079365573,\"\",-0.5478956460327319,\"\",-0.3353228860973413,\"\",-2.7639051482393224,\"\",\"\",-0.3867104696491879,\"\",\"\",-1.536741790882047,\"\",-1.3510114690504458,\"\",\"\",\"\",-1.8039475070391493,\"\",\"\",\"\",\"\",\"\",\"\",\"\",-0.37433511962288957,\"\",-1.4470568439560463,\"\",-0.09280014660932512,\"\",-0.6211660829431785,-0.006152200957632026,-0.5385402021522545,\"\",-0.8809899650044684,-0.5136689167886404,-0.027410413131567526,\"\",\"\",-0.8782296399277134,-1.1156852282605796,-1.2011422065322332,-0.08782403717788867,\"\",\"\",\"\",\"\",\"\",-0.08454550902299507,\"\",\"\",\"\",-2.2074048773489556,\"\",-0.5670210408981305,\"\",-0.6377757970017566,-0.7840197696726887,\"\",-0.5954964012556161,-0.8171543139655477,\"\",-1.0373342263694292,-0.2800374121029847,\"\",-0.6268588747706311,\"\",-0.565640901089512,-1.0222776221369327,-0.18937465952505095,\"\",-0.5473332555424693,-0.6306579730201075,-1.173782066545749,\"\",-1.7646761051798632,-1.0852914305637051,\"\",-0.013942626342391018,-0.3169031743475452,-0.8857159620495536,-2.5729104766011353,-1.3192146420614828,\"\",\"\",\"\",-1.280282089255992,\"\",-0.7205687528960197,-1.3259042463953483,\"\",\"\",\"\",-1.358972355140346,\"\"],\"yaxis\":\"y2\"}],                        {\"hovermode\":\"x\",\"legend\":{\"bgcolor\":\"#F5F6F9\",\"font\":{\"color\":\"#4D5663\"}},\"paper_bgcolor\":\"#F5F6F9\",\"plot_bgcolor\":\"#F5F6F9\",\"template\":{\"data\":{\"bar\":[{\"error_x\":{\"color\":\"#2a3f5f\"},\"error_y\":{\"color\":\"#2a3f5f\"},\"marker\":{\"line\":{\"color\":\"#E5ECF6\",\"width\":0.5},\"pattern\":{\"fillmode\":\"overlay\",\"size\":10,\"solidity\":0.2}},\"type\":\"bar\"}],\"barpolar\":[{\"marker\":{\"line\":{\"color\":\"#E5ECF6\",\"width\":0.5},\"pattern\":{\"fillmode\":\"overlay\",\"size\":10,\"solidity\":0.2}},\"type\":\"barpolar\"}],\"carpet\":[{\"aaxis\":{\"endlinecolor\":\"#2a3f5f\",\"gridcolor\":\"white\",\"linecolor\":\"white\",\"minorgridcolor\":\"white\",\"startlinecolor\":\"#2a3f5f\"},\"baxis\":{\"endlinecolor\":\"#2a3f5f\",\"gridcolor\":\"white\",\"linecolor\":\"white\",\"minorgridcolor\":\"white\",\"startlinecolor\":\"#2a3f5f\"},\"type\":\"carpet\"}],\"choropleth\":[{\"colorbar\":{\"outlinewidth\":0,\"ticks\":\"\"},\"type\":\"choropleth\"}],\"contour\":[{\"colorbar\":{\"outlinewidth\":0,\"ticks\":\"\"},\"colorscale\":[[0.0,\"#0d0887\"],[0.1111111111111111,\"#46039f\"],[0.2222222222222222,\"#7201a8\"],[0.3333333333333333,\"#9c179e\"],[0.4444444444444444,\"#bd3786\"],[0.5555555555555556,\"#d8576b\"],[0.6666666666666666,\"#ed7953\"],[0.7777777777777778,\"#fb9f3a\"],[0.8888888888888888,\"#fdca26\"],[1.0,\"#f0f921\"]],\"type\":\"contour\"}],\"contourcarpet\":[{\"colorbar\":{\"outlinewidth\":0,\"ticks\":\"\"},\"type\":\"contourcarpet\"}],\"heatmap\":[{\"colorbar\":{\"outlinewidth\":0,\"ticks\":\"\"},\"colorscale\":[[0.0,\"#0d0887\"],[0.1111111111111111,\"#46039f\"],[0.2222222222222222,\"#7201a8\"],[0.3333333333333333,\"#9c179e\"],[0.4444444444444444,\"#bd3786\"],[0.5555555555555556,\"#d8576b\"],[0.6666666666666666,\"#ed7953\"],[0.7777777777777778,\"#fb9f3a\"],[0.8888888888888888,\"#fdca26\"],[1.0,\"#f0f921\"]],\"type\":\"heatmap\"}],\"heatmapgl\":[{\"colorbar\":{\"outlinewidth\":0,\"ticks\":\"\"},\"colorscale\":[[0.0,\"#0d0887\"],[0.1111111111111111,\"#46039f\"],[0.2222222222222222,\"#7201a8\"],[0.3333333333333333,\"#9c179e\"],[0.4444444444444444,\"#bd3786\"],[0.5555555555555556,\"#d8576b\"],[0.6666666666666666,\"#ed7953\"],[0.7777777777777778,\"#fb9f3a\"],[0.8888888888888888,\"#fdca26\"],[1.0,\"#f0f921\"]],\"type\":\"heatmapgl\"}],\"histogram\":[{\"marker\":{\"pattern\":{\"fillmode\":\"overlay\",\"size\":10,\"solidity\":0.2}},\"type\":\"histogram\"}],\"histogram2d\":[{\"colorbar\":{\"outlinewidth\":0,\"ticks\":\"\"},\"colorscale\":[[0.0,\"#0d0887\"],[0.1111111111111111,\"#46039f\"],[0.2222222222222222,\"#7201a8\"],[0.3333333333333333,\"#9c179e\"],[0.4444444444444444,\"#bd3786\"],[0.5555555555555556,\"#d8576b\"],[0.6666666666666666,\"#ed7953\"],[0.7777777777777778,\"#fb9f3a\"],[0.8888888888888888,\"#fdca26\"],[1.0,\"#f0f921\"]],\"type\":\"histogram2d\"}],\"histogram2dcontour\":[{\"colorbar\":{\"outlinewidth\":0,\"ticks\":\"\"},\"colorscale\":[[0.0,\"#0d0887\"],[0.1111111111111111,\"#46039f\"],[0.2222222222222222,\"#7201a8\"],[0.3333333333333333,\"#9c179e\"],[0.4444444444444444,\"#bd3786\"],[0.5555555555555556,\"#d8576b\"],[0.6666666666666666,\"#ed7953\"],[0.7777777777777778,\"#fb9f3a\"],[0.8888888888888888,\"#fdca26\"],[1.0,\"#f0f921\"]],\"type\":\"histogram2dcontour\"}],\"mesh3d\":[{\"colorbar\":{\"outlinewidth\":0,\"ticks\":\"\"},\"type\":\"mesh3d\"}],\"parcoords\":[{\"line\":{\"colorbar\":{\"outlinewidth\":0,\"ticks\":\"\"}},\"type\":\"parcoords\"}],\"pie\":[{\"automargin\":true,\"type\":\"pie\"}],\"scatter\":[{\"marker\":{\"colorbar\":{\"outlinewidth\":0,\"ticks\":\"\"}},\"type\":\"scatter\"}],\"scatter3d\":[{\"line\":{\"colorbar\":{\"outlinewidth\":0,\"ticks\":\"\"}},\"marker\":{\"colorbar\":{\"outlinewidth\":0,\"ticks\":\"\"}},\"type\":\"scatter3d\"}],\"scattercarpet\":[{\"marker\":{\"colorbar\":{\"outlinewidth\":0,\"ticks\":\"\"}},\"type\":\"scattercarpet\"}],\"scattergeo\":[{\"marker\":{\"colorbar\":{\"outlinewidth\":0,\"ticks\":\"\"}},\"type\":\"scattergeo\"}],\"scattergl\":[{\"marker\":{\"colorbar\":{\"outlinewidth\":0,\"ticks\":\"\"}},\"type\":\"scattergl\"}],\"scattermapbox\":[{\"marker\":{\"colorbar\":{\"outlinewidth\":0,\"ticks\":\"\"}},\"type\":\"scattermapbox\"}],\"scatterpolar\":[{\"marker\":{\"colorbar\":{\"outlinewidth\":0,\"ticks\":\"\"}},\"type\":\"scatterpolar\"}],\"scatterpolargl\":[{\"marker\":{\"colorbar\":{\"outlinewidth\":0,\"ticks\":\"\"}},\"type\":\"scatterpolargl\"}],\"scatterternary\":[{\"marker\":{\"colorbar\":{\"outlinewidth\":0,\"ticks\":\"\"}},\"type\":\"scatterternary\"}],\"surface\":[{\"colorbar\":{\"outlinewidth\":0,\"ticks\":\"\"},\"colorscale\":[[0.0,\"#0d0887\"],[0.1111111111111111,\"#46039f\"],[0.2222222222222222,\"#7201a8\"],[0.3333333333333333,\"#9c179e\"],[0.4444444444444444,\"#bd3786\"],[0.5555555555555556,\"#d8576b\"],[0.6666666666666666,\"#ed7953\"],[0.7777777777777778,\"#fb9f3a\"],[0.8888888888888888,\"#fdca26\"],[1.0,\"#f0f921\"]],\"type\":\"surface\"}],\"table\":[{\"cells\":{\"fill\":{\"color\":\"#EBF0F8\"},\"line\":{\"color\":\"white\"}},\"header\":{\"fill\":{\"color\":\"#C8D4E3\"},\"line\":{\"color\":\"white\"}},\"type\":\"table\"}]},\"layout\":{\"annotationdefaults\":{\"arrowcolor\":\"#2a3f5f\",\"arrowhead\":0,\"arrowwidth\":1},\"autotypenumbers\":\"strict\",\"coloraxis\":{\"colorbar\":{\"outlinewidth\":0,\"ticks\":\"\"}},\"colorscale\":{\"diverging\":[[0,\"#8e0152\"],[0.1,\"#c51b7d\"],[0.2,\"#de77ae\"],[0.3,\"#f1b6da\"],[0.4,\"#fde0ef\"],[0.5,\"#f7f7f7\"],[0.6,\"#e6f5d0\"],[0.7,\"#b8e186\"],[0.8,\"#7fbc41\"],[0.9,\"#4d9221\"],[1,\"#276419\"]],\"sequential\":[[0.0,\"#0d0887\"],[0.1111111111111111,\"#46039f\"],[0.2222222222222222,\"#7201a8\"],[0.3333333333333333,\"#9c179e\"],[0.4444444444444444,\"#bd3786\"],[0.5555555555555556,\"#d8576b\"],[0.6666666666666666,\"#ed7953\"],[0.7777777777777778,\"#fb9f3a\"],[0.8888888888888888,\"#fdca26\"],[1.0,\"#f0f921\"]],\"sequentialminus\":[[0.0,\"#0d0887\"],[0.1111111111111111,\"#46039f\"],[0.2222222222222222,\"#7201a8\"],[0.3333333333333333,\"#9c179e\"],[0.4444444444444444,\"#bd3786\"],[0.5555555555555556,\"#d8576b\"],[0.6666666666666666,\"#ed7953\"],[0.7777777777777778,\"#fb9f3a\"],[0.8888888888888888,\"#fdca26\"],[1.0,\"#f0f921\"]]},\"colorway\":[\"#636efa\",\"#EF553B\",\"#00cc96\",\"#ab63fa\",\"#FFA15A\",\"#19d3f3\",\"#FF6692\",\"#B6E880\",\"#FF97FF\",\"#FECB52\"],\"font\":{\"color\":\"#2a3f5f\"},\"geo\":{\"bgcolor\":\"white\",\"lakecolor\":\"white\",\"landcolor\":\"#E5ECF6\",\"showlakes\":true,\"showland\":true,\"subunitcolor\":\"white\"},\"hoverlabel\":{\"align\":\"left\"},\"hovermode\":\"closest\",\"mapbox\":{\"style\":\"light\"},\"paper_bgcolor\":\"white\",\"plot_bgcolor\":\"#E5ECF6\",\"polar\":{\"angularaxis\":{\"gridcolor\":\"white\",\"linecolor\":\"white\",\"ticks\":\"\"},\"bgcolor\":\"#E5ECF6\",\"radialaxis\":{\"gridcolor\":\"white\",\"linecolor\":\"white\",\"ticks\":\"\"}},\"scene\":{\"xaxis\":{\"backgroundcolor\":\"#E5ECF6\",\"gridcolor\":\"white\",\"gridwidth\":2,\"linecolor\":\"white\",\"showbackground\":true,\"ticks\":\"\",\"zerolinecolor\":\"white\"},\"yaxis\":{\"backgroundcolor\":\"#E5ECF6\",\"gridcolor\":\"white\",\"gridwidth\":2,\"linecolor\":\"white\",\"showbackground\":true,\"ticks\":\"\",\"zerolinecolor\":\"white\"},\"zaxis\":{\"backgroundcolor\":\"#E5ECF6\",\"gridcolor\":\"white\",\"gridwidth\":2,\"linecolor\":\"white\",\"showbackground\":true,\"ticks\":\"\",\"zerolinecolor\":\"white\"}},\"shapedefaults\":{\"line\":{\"color\":\"#2a3f5f\"}},\"ternary\":{\"aaxis\":{\"gridcolor\":\"white\",\"linecolor\":\"white\",\"ticks\":\"\"},\"baxis\":{\"gridcolor\":\"white\",\"linecolor\":\"white\",\"ticks\":\"\"},\"bgcolor\":\"#E5ECF6\",\"caxis\":{\"gridcolor\":\"white\",\"linecolor\":\"white\",\"ticks\":\"\"}},\"title\":{\"x\":0.05},\"xaxis\":{\"automargin\":true,\"gridcolor\":\"white\",\"linecolor\":\"white\",\"ticks\":\"\",\"title\":{\"standoff\":15},\"zerolinecolor\":\"white\",\"zerolinewidth\":2},\"yaxis\":{\"automargin\":true,\"gridcolor\":\"white\",\"linecolor\":\"white\",\"ticks\":\"\",\"title\":{\"standoff\":15},\"zerolinecolor\":\"white\",\"zerolinewidth\":2}}},\"title\":{\"font\":{\"color\":\"#4D5663\"}},\"xaxis\":{\"gridcolor\":\"#E1E5ED\",\"showgrid\":true,\"tickfont\":{\"color\":\"#4D5663\"},\"title\":{\"font\":{\"color\":\"#4D5663\"},\"text\":\"\"},\"zerolinecolor\":\"#E1E5ED\"},\"xaxis2\":{\"anchor\":\"y2\",\"gridcolor\":\"#E1E5ED\",\"showgrid\":true,\"showticklabels\":false,\"tickfont\":{\"color\":\"#4D5663\"},\"title\":{\"font\":{\"color\":\"#4D5663\"},\"text\":\"\"},\"zerolinecolor\":\"#E1E5ED\"},\"yaxis\":{\"domain\":[0.3,1],\"gridcolor\":\"#E1E5ED\",\"showgrid\":true,\"tickfont\":{\"color\":\"#4D5663\"},\"title\":{\"font\":{\"color\":\"#4D5663\"},\"text\":\"\"},\"zerolinecolor\":\"#E1E5ED\"},\"yaxis2\":{\"domain\":[0,0.25],\"gridcolor\":\"#E1E5ED\",\"showgrid\":true,\"tickfont\":{\"color\":\"#4D5663\"},\"title\":{\"font\":{\"color\":\"#4D5663\"},\"text\":\"Spread\"},\"zerolinecolor\":\"#E1E5ED\"}},                        {\"showLink\": true, \"linkText\": \"Export to plot.ly\", \"plotlyServerURL\": \"https://plot.ly\", \"responsive\": true}                    ).then(function(){\n",
       "                            \n",
       "var gd = document.getElementById('302c4902-8d3d-415c-aa54-f36f419965bb');\n",
       "var x = new MutationObserver(function (mutations, observer) {{\n",
       "        var display = window.getComputedStyle(gd).display;\n",
       "        if (!display || display === 'none') {{\n",
       "            console.log([gd, 'removed!']);\n",
       "            Plotly.purge(gd);\n",
       "            observer.disconnect();\n",
       "        }}\n",
       "}});\n",
       "\n",
       "// Listen for the removal of the full notebook cells\n",
       "var notebookContainer = gd.closest('#notebook-container');\n",
       "if (notebookContainer) {{\n",
       "    x.observe(notebookContainer, {childList: true});\n",
       "}}\n",
       "\n",
       "// Listen for the clearing of the current output cell\n",
       "var outputEl = gd.closest('.output');\n",
       "if (outputEl) {{\n",
       "    x.observe(outputEl, {childList: true});\n",
       "}}\n",
       "\n",
       "                        })                };                });            </script>        </div>"
      ]
     },
     "metadata": {},
     "output_type": "display_data"
    }
   ],
   "source": [
    "df[['A','B']].iplot(kind='spread')"
   ]
  },
  {
   "cell_type": "code",
   "execution_count": 59,
   "id": "04784339",
   "metadata": {},
   "outputs": [
    {
     "data": {
      "application/vnd.plotly.v1+json": {
       "config": {
        "linkText": "Export to plot.ly",
        "plotlyServerURL": "https://plot.ly",
        "showLink": true
       },
       "data": [
        {
         "marker": {
          "color": [
           "rgb(255, 153, 51)",
           "rgb(55, 128, 191)",
           "rgb(50, 171, 96)",
           "rgb(128, 0, 128)",
           "rgb(219, 64, 82)",
           "rgb(0, 128, 128)",
           "rgb(255, 255, 51)",
           "rgb(128, 128, 0)",
           "rgb(251, 128, 114)",
           "rgb(128, 177, 211)"
          ],
          "line": {
           "width": 1.3
          },
          "size": [
           68,
           74,
           68,
           63,
           74,
           56,
           55,
           100,
           72,
           75,
           40,
           64,
           72,
           60,
           67,
           64,
           40,
           54,
           67,
           59,
           68,
           25,
           66,
           46,
           53,
           98,
           65,
           102,
           48,
           58,
           12,
           62,
           86,
           41,
           64,
           54,
           62,
           35,
           83,
           67,
           67,
           67,
           76,
           74,
           85,
           112,
           31,
           73,
           46,
           76,
           57,
           43,
           64,
           48,
           43,
           65,
           85,
           56,
           53,
           38,
           39,
           56,
           87,
           60,
           74,
           68,
           39,
           108,
           62,
           40,
           54,
           79,
           81,
           67,
           54,
           88,
           93,
           106,
           61,
           69,
           56,
           73,
           63,
           98,
           50,
           53,
           76,
           44,
           49,
           60,
           66,
           60,
           67,
           63,
           57,
           64,
           75,
           46,
           83,
           86
          ],
          "symbol": "circle"
         },
         "mode": "markers",
         "text": "",
         "type": "scatter",
         "x": [
          -0.4203769172138504,
          -1.7425536061462963,
          0.889037777019348,
          -1.0146950303,
          0.644987085922443,
          -0.5867545637092614,
          0.19788543355418084,
          -0.2730404740189748,
          -0.9026425523496677,
          -1.6279069661349634,
          -1.502814218287029,
          0.9328022335577573,
          -0.1647065323106058,
          0.6098435552056553,
          0.7157458424489646,
          -1.8653534653067507,
          0.04561722455290629,
          -1.83236922326372,
          1.2857591028121669,
          0.970847338623453,
          0.38469108105725586,
          -0.40669880244896184,
          -0.06933498378794453,
          1.320095941524994,
          -0.049271141297447224,
          0.24992502893762825,
          -1.0468650538432982,
          0.8544164021291353,
          0.5427353132690936,
          -0.6046711968130206,
          0.268146006228171,
          -0.8136978787020882,
          0.5129283434240521,
          -1.135879355830157,
          -0.5949835740230749,
          -0.9991198230270095,
          -1.6954857308348357,
          -0.5946797454314954,
          -0.038096198045322445,
          -0.597690474040178,
          -0.91787070032281,
          0.0049305892151103705,
          0.3176792336961347,
          1.8158591736530727,
          -0.18625555231119253,
          0.5334916797623348,
          -1.7790749335164024,
          -0.4561764528203567,
          -0.5383765801583805,
          0.9303974394928215,
          0.3019654074882458,
          -0.44691681108686937,
          1.0528514568643699,
          -0.8167380173526259,
          1.2329356705867764,
          1.5463527728336532,
          -0.20062580071149355,
          -0.09651096288571068,
          0.9154837337810589,
          -1.116298893230286,
          -0.12815668411074205,
          -0.35583474560030715,
          -0.1451024331637089,
          -0.015403174313218963,
          -0.28000443145952597,
          -0.47316418081547024,
          1.1183679273647713,
          0.5531770838513008,
          0.510397106892376,
          0.8396821842077113,
          0.11193850783712242,
          1.5340640502750655,
          0.021240171794083367,
          -0.9880713077949188,
          -0.6483165415061083,
          -0.3232730425399403,
          -0.3962516779122834,
          -0.4889839801990028,
          -0.6958235391363193,
          1.0309874763249955,
          -1.2084742863986977,
          -1.326989784774145,
          0.87219511894707,
          -0.5061261280696431,
          -0.9298406048337552,
          0.3475633689311191,
          -0.4488686768784139,
          0.08110817045384922,
          -0.0762302794889301,
          0.9625165014804028,
          0.8396345494906886,
          -1.80754629237557,
          0.8112661931818693,
          -0.6042239124449605,
          0.12005231709963185,
          -0.1764783558475839,
          1.4807239063761461,
          -1.2889664844008466,
          0.34080712450550255,
          0.5160231621797224
         ],
         "y": [
          0.6705648136691061,
          0.7479108416593321,
          0.12376066704020804,
          0.5076865776365572,
          0.27751055021147714,
          -0.03885891767652951,
          -1.1484619773486824,
          0.06228241207836648,
          -1.057573110496256,
          1.135998182104359,
          -1.5268471457059039,
          0.03189578091454026,
          0.22200393733858212,
          0.35923447166256467,
          0.0438455986084191,
          -0.3286116744247036,
          -2.263135223059364,
          -0.4813577542132742,
          -1.3263312412535673,
          -0.49685187273799336,
          0.3715396209386487,
          1.3972487045901876,
          -1.7711776100919718,
          0.5164795444719394,
          -0.4040893207540781,
          -0.233485549950093,
          -1.476540568165758,
          0.28736959359819514,
          -1.828738271205067,
          -0.23033607719013108,
          -0.1716670784386983,
          0.6333589652539582,
          0.24579312524127364,
          -1.0430792092208319,
          -1.3054477184770257,
          -0.377953740083831,
          -1.6893335298772036,
          -0.05613954327924084,
          -0.6487634074366234,
          0.28329949096429036,
          -0.4042017835341697,
          0.032341002346677895,
          0.09703874914253871,
          -1.6933485826179155,
          0.6919740876165209,
          1.6491769080229144,
          -0.5779327269841692,
          -0.368352415642468,
          -1.5547059886995682,
          -1.9347232358061432,
          -0.49457341387009357,
          -1.1431865654017428,
          -0.589440944580983,
          -0.7321925083296308,
          -0.5598495607910404,
          -0.07280153382431334,
          -0.9677078775408386,
          2.110893914463245,
          -1.8007775476818115,
          -0.5492778523321554,
          -0.5153143189722851,
          0.2819410514014495,
          0.6389173365089797,
          -0.03690079064012558,
          0.3154919697960902,
          0.34399013315007754,
          0.8770157732702345,
          1.59051131022073,
          0.7904345189953608,
          0.7311438272766193,
          0.7387973826077535,
          -0.879583440706914,
          0.5868810728835954,
          0.03420631434201392,
          -0.45894188198105734,
          -0.4850085142032951,
          0.15108157763018584,
          0.1416739928211047,
          0.4779585274094298,
          -0.8118140116099221,
          0.5562018187811655,
          -0.24169835421043992,
          -0.5660844805115468,
          -0.49218350172725206,
          -0.61293743048621,
          1.2332793309806727,
          2.1240417997227214,
          1.400322812515332,
          -1.2707703517297577,
          0.04297896308622119,
          -1.1629777976548832,
          -0.527264203119578,
          -1.1036025507929965,
          0.11634484045105915,
          1.4459565634949803,
          -0.19104602555144024,
          1.43788963939247,
          -2.0614461044332733,
          1.6997794796458487,
          0.19527633470967637
         ]
        }
       ],
       "layout": {
        "legend": {
         "bgcolor": "#F5F6F9",
         "font": {
          "color": "#4D5663"
         }
        },
        "paper_bgcolor": "#F5F6F9",
        "plot_bgcolor": "#F5F6F9",
        "template": {
         "data": {
          "bar": [
           {
            "error_x": {
             "color": "#2a3f5f"
            },
            "error_y": {
             "color": "#2a3f5f"
            },
            "marker": {
             "line": {
              "color": "#E5ECF6",
              "width": 0.5
             },
             "pattern": {
              "fillmode": "overlay",
              "size": 10,
              "solidity": 0.2
             }
            },
            "type": "bar"
           }
          ],
          "barpolar": [
           {
            "marker": {
             "line": {
              "color": "#E5ECF6",
              "width": 0.5
             },
             "pattern": {
              "fillmode": "overlay",
              "size": 10,
              "solidity": 0.2
             }
            },
            "type": "barpolar"
           }
          ],
          "carpet": [
           {
            "aaxis": {
             "endlinecolor": "#2a3f5f",
             "gridcolor": "white",
             "linecolor": "white",
             "minorgridcolor": "white",
             "startlinecolor": "#2a3f5f"
            },
            "baxis": {
             "endlinecolor": "#2a3f5f",
             "gridcolor": "white",
             "linecolor": "white",
             "minorgridcolor": "white",
             "startlinecolor": "#2a3f5f"
            },
            "type": "carpet"
           }
          ],
          "choropleth": [
           {
            "colorbar": {
             "outlinewidth": 0,
             "ticks": ""
            },
            "type": "choropleth"
           }
          ],
          "contour": [
           {
            "colorbar": {
             "outlinewidth": 0,
             "ticks": ""
            },
            "colorscale": [
             [
              0,
              "#0d0887"
             ],
             [
              0.1111111111111111,
              "#46039f"
             ],
             [
              0.2222222222222222,
              "#7201a8"
             ],
             [
              0.3333333333333333,
              "#9c179e"
             ],
             [
              0.4444444444444444,
              "#bd3786"
             ],
             [
              0.5555555555555556,
              "#d8576b"
             ],
             [
              0.6666666666666666,
              "#ed7953"
             ],
             [
              0.7777777777777778,
              "#fb9f3a"
             ],
             [
              0.8888888888888888,
              "#fdca26"
             ],
             [
              1,
              "#f0f921"
             ]
            ],
            "type": "contour"
           }
          ],
          "contourcarpet": [
           {
            "colorbar": {
             "outlinewidth": 0,
             "ticks": ""
            },
            "type": "contourcarpet"
           }
          ],
          "heatmap": [
           {
            "colorbar": {
             "outlinewidth": 0,
             "ticks": ""
            },
            "colorscale": [
             [
              0,
              "#0d0887"
             ],
             [
              0.1111111111111111,
              "#46039f"
             ],
             [
              0.2222222222222222,
              "#7201a8"
             ],
             [
              0.3333333333333333,
              "#9c179e"
             ],
             [
              0.4444444444444444,
              "#bd3786"
             ],
             [
              0.5555555555555556,
              "#d8576b"
             ],
             [
              0.6666666666666666,
              "#ed7953"
             ],
             [
              0.7777777777777778,
              "#fb9f3a"
             ],
             [
              0.8888888888888888,
              "#fdca26"
             ],
             [
              1,
              "#f0f921"
             ]
            ],
            "type": "heatmap"
           }
          ],
          "heatmapgl": [
           {
            "colorbar": {
             "outlinewidth": 0,
             "ticks": ""
            },
            "colorscale": [
             [
              0,
              "#0d0887"
             ],
             [
              0.1111111111111111,
              "#46039f"
             ],
             [
              0.2222222222222222,
              "#7201a8"
             ],
             [
              0.3333333333333333,
              "#9c179e"
             ],
             [
              0.4444444444444444,
              "#bd3786"
             ],
             [
              0.5555555555555556,
              "#d8576b"
             ],
             [
              0.6666666666666666,
              "#ed7953"
             ],
             [
              0.7777777777777778,
              "#fb9f3a"
             ],
             [
              0.8888888888888888,
              "#fdca26"
             ],
             [
              1,
              "#f0f921"
             ]
            ],
            "type": "heatmapgl"
           }
          ],
          "histogram": [
           {
            "marker": {
             "pattern": {
              "fillmode": "overlay",
              "size": 10,
              "solidity": 0.2
             }
            },
            "type": "histogram"
           }
          ],
          "histogram2d": [
           {
            "colorbar": {
             "outlinewidth": 0,
             "ticks": ""
            },
            "colorscale": [
             [
              0,
              "#0d0887"
             ],
             [
              0.1111111111111111,
              "#46039f"
             ],
             [
              0.2222222222222222,
              "#7201a8"
             ],
             [
              0.3333333333333333,
              "#9c179e"
             ],
             [
              0.4444444444444444,
              "#bd3786"
             ],
             [
              0.5555555555555556,
              "#d8576b"
             ],
             [
              0.6666666666666666,
              "#ed7953"
             ],
             [
              0.7777777777777778,
              "#fb9f3a"
             ],
             [
              0.8888888888888888,
              "#fdca26"
             ],
             [
              1,
              "#f0f921"
             ]
            ],
            "type": "histogram2d"
           }
          ],
          "histogram2dcontour": [
           {
            "colorbar": {
             "outlinewidth": 0,
             "ticks": ""
            },
            "colorscale": [
             [
              0,
              "#0d0887"
             ],
             [
              0.1111111111111111,
              "#46039f"
             ],
             [
              0.2222222222222222,
              "#7201a8"
             ],
             [
              0.3333333333333333,
              "#9c179e"
             ],
             [
              0.4444444444444444,
              "#bd3786"
             ],
             [
              0.5555555555555556,
              "#d8576b"
             ],
             [
              0.6666666666666666,
              "#ed7953"
             ],
             [
              0.7777777777777778,
              "#fb9f3a"
             ],
             [
              0.8888888888888888,
              "#fdca26"
             ],
             [
              1,
              "#f0f921"
             ]
            ],
            "type": "histogram2dcontour"
           }
          ],
          "mesh3d": [
           {
            "colorbar": {
             "outlinewidth": 0,
             "ticks": ""
            },
            "type": "mesh3d"
           }
          ],
          "parcoords": [
           {
            "line": {
             "colorbar": {
              "outlinewidth": 0,
              "ticks": ""
             }
            },
            "type": "parcoords"
           }
          ],
          "pie": [
           {
            "automargin": true,
            "type": "pie"
           }
          ],
          "scatter": [
           {
            "marker": {
             "colorbar": {
              "outlinewidth": 0,
              "ticks": ""
             }
            },
            "type": "scatter"
           }
          ],
          "scatter3d": [
           {
            "line": {
             "colorbar": {
              "outlinewidth": 0,
              "ticks": ""
             }
            },
            "marker": {
             "colorbar": {
              "outlinewidth": 0,
              "ticks": ""
             }
            },
            "type": "scatter3d"
           }
          ],
          "scattercarpet": [
           {
            "marker": {
             "colorbar": {
              "outlinewidth": 0,
              "ticks": ""
             }
            },
            "type": "scattercarpet"
           }
          ],
          "scattergeo": [
           {
            "marker": {
             "colorbar": {
              "outlinewidth": 0,
              "ticks": ""
             }
            },
            "type": "scattergeo"
           }
          ],
          "scattergl": [
           {
            "marker": {
             "colorbar": {
              "outlinewidth": 0,
              "ticks": ""
             }
            },
            "type": "scattergl"
           }
          ],
          "scattermapbox": [
           {
            "marker": {
             "colorbar": {
              "outlinewidth": 0,
              "ticks": ""
             }
            },
            "type": "scattermapbox"
           }
          ],
          "scatterpolar": [
           {
            "marker": {
             "colorbar": {
              "outlinewidth": 0,
              "ticks": ""
             }
            },
            "type": "scatterpolar"
           }
          ],
          "scatterpolargl": [
           {
            "marker": {
             "colorbar": {
              "outlinewidth": 0,
              "ticks": ""
             }
            },
            "type": "scatterpolargl"
           }
          ],
          "scatterternary": [
           {
            "marker": {
             "colorbar": {
              "outlinewidth": 0,
              "ticks": ""
             }
            },
            "type": "scatterternary"
           }
          ],
          "surface": [
           {
            "colorbar": {
             "outlinewidth": 0,
             "ticks": ""
            },
            "colorscale": [
             [
              0,
              "#0d0887"
             ],
             [
              0.1111111111111111,
              "#46039f"
             ],
             [
              0.2222222222222222,
              "#7201a8"
             ],
             [
              0.3333333333333333,
              "#9c179e"
             ],
             [
              0.4444444444444444,
              "#bd3786"
             ],
             [
              0.5555555555555556,
              "#d8576b"
             ],
             [
              0.6666666666666666,
              "#ed7953"
             ],
             [
              0.7777777777777778,
              "#fb9f3a"
             ],
             [
              0.8888888888888888,
              "#fdca26"
             ],
             [
              1,
              "#f0f921"
             ]
            ],
            "type": "surface"
           }
          ],
          "table": [
           {
            "cells": {
             "fill": {
              "color": "#EBF0F8"
             },
             "line": {
              "color": "white"
             }
            },
            "header": {
             "fill": {
              "color": "#C8D4E3"
             },
             "line": {
              "color": "white"
             }
            },
            "type": "table"
           }
          ]
         },
         "layout": {
          "annotationdefaults": {
           "arrowcolor": "#2a3f5f",
           "arrowhead": 0,
           "arrowwidth": 1
          },
          "autotypenumbers": "strict",
          "coloraxis": {
           "colorbar": {
            "outlinewidth": 0,
            "ticks": ""
           }
          },
          "colorscale": {
           "diverging": [
            [
             0,
             "#8e0152"
            ],
            [
             0.1,
             "#c51b7d"
            ],
            [
             0.2,
             "#de77ae"
            ],
            [
             0.3,
             "#f1b6da"
            ],
            [
             0.4,
             "#fde0ef"
            ],
            [
             0.5,
             "#f7f7f7"
            ],
            [
             0.6,
             "#e6f5d0"
            ],
            [
             0.7,
             "#b8e186"
            ],
            [
             0.8,
             "#7fbc41"
            ],
            [
             0.9,
             "#4d9221"
            ],
            [
             1,
             "#276419"
            ]
           ],
           "sequential": [
            [
             0,
             "#0d0887"
            ],
            [
             0.1111111111111111,
             "#46039f"
            ],
            [
             0.2222222222222222,
             "#7201a8"
            ],
            [
             0.3333333333333333,
             "#9c179e"
            ],
            [
             0.4444444444444444,
             "#bd3786"
            ],
            [
             0.5555555555555556,
             "#d8576b"
            ],
            [
             0.6666666666666666,
             "#ed7953"
            ],
            [
             0.7777777777777778,
             "#fb9f3a"
            ],
            [
             0.8888888888888888,
             "#fdca26"
            ],
            [
             1,
             "#f0f921"
            ]
           ],
           "sequentialminus": [
            [
             0,
             "#0d0887"
            ],
            [
             0.1111111111111111,
             "#46039f"
            ],
            [
             0.2222222222222222,
             "#7201a8"
            ],
            [
             0.3333333333333333,
             "#9c179e"
            ],
            [
             0.4444444444444444,
             "#bd3786"
            ],
            [
             0.5555555555555556,
             "#d8576b"
            ],
            [
             0.6666666666666666,
             "#ed7953"
            ],
            [
             0.7777777777777778,
             "#fb9f3a"
            ],
            [
             0.8888888888888888,
             "#fdca26"
            ],
            [
             1,
             "#f0f921"
            ]
           ]
          },
          "colorway": [
           "#636efa",
           "#EF553B",
           "#00cc96",
           "#ab63fa",
           "#FFA15A",
           "#19d3f3",
           "#FF6692",
           "#B6E880",
           "#FF97FF",
           "#FECB52"
          ],
          "font": {
           "color": "#2a3f5f"
          },
          "geo": {
           "bgcolor": "white",
           "lakecolor": "white",
           "landcolor": "#E5ECF6",
           "showlakes": true,
           "showland": true,
           "subunitcolor": "white"
          },
          "hoverlabel": {
           "align": "left"
          },
          "hovermode": "closest",
          "mapbox": {
           "style": "light"
          },
          "paper_bgcolor": "white",
          "plot_bgcolor": "#E5ECF6",
          "polar": {
           "angularaxis": {
            "gridcolor": "white",
            "linecolor": "white",
            "ticks": ""
           },
           "bgcolor": "#E5ECF6",
           "radialaxis": {
            "gridcolor": "white",
            "linecolor": "white",
            "ticks": ""
           }
          },
          "scene": {
           "xaxis": {
            "backgroundcolor": "#E5ECF6",
            "gridcolor": "white",
            "gridwidth": 2,
            "linecolor": "white",
            "showbackground": true,
            "ticks": "",
            "zerolinecolor": "white"
           },
           "yaxis": {
            "backgroundcolor": "#E5ECF6",
            "gridcolor": "white",
            "gridwidth": 2,
            "linecolor": "white",
            "showbackground": true,
            "ticks": "",
            "zerolinecolor": "white"
           },
           "zaxis": {
            "backgroundcolor": "#E5ECF6",
            "gridcolor": "white",
            "gridwidth": 2,
            "linecolor": "white",
            "showbackground": true,
            "ticks": "",
            "zerolinecolor": "white"
           }
          },
          "shapedefaults": {
           "line": {
            "color": "#2a3f5f"
           }
          },
          "ternary": {
           "aaxis": {
            "gridcolor": "white",
            "linecolor": "white",
            "ticks": ""
           },
           "baxis": {
            "gridcolor": "white",
            "linecolor": "white",
            "ticks": ""
           },
           "bgcolor": "#E5ECF6",
           "caxis": {
            "gridcolor": "white",
            "linecolor": "white",
            "ticks": ""
           }
          },
          "title": {
           "x": 0.05
          },
          "xaxis": {
           "automargin": true,
           "gridcolor": "white",
           "linecolor": "white",
           "ticks": "",
           "title": {
            "standoff": 15
           },
           "zerolinecolor": "white",
           "zerolinewidth": 2
          },
          "yaxis": {
           "automargin": true,
           "gridcolor": "white",
           "linecolor": "white",
           "ticks": "",
           "title": {
            "standoff": 15
           },
           "zerolinecolor": "white",
           "zerolinewidth": 2
          }
         }
        },
        "title": {
         "font": {
          "color": "#4D5663"
         }
        },
        "xaxis": {
         "gridcolor": "#E1E5ED",
         "showgrid": true,
         "tickfont": {
          "color": "#4D5663"
         },
         "title": {
          "font": {
           "color": "#4D5663"
          },
          "text": ""
         },
         "zerolinecolor": "#E1E5ED"
        },
        "yaxis": {
         "gridcolor": "#E1E5ED",
         "showgrid": true,
         "tickfont": {
          "color": "#4D5663"
         },
         "title": {
          "font": {
           "color": "#4D5663"
          },
          "text": ""
         },
         "zerolinecolor": "#E1E5ED"
        }
       }
      },
      "text/html": [
       "<div>                            <div id=\"80597e0e-cbf8-4626-8df5-01e441746240\" class=\"plotly-graph-div\" style=\"height:525px; width:100%;\"></div>            <script type=\"text/javascript\">                require([\"plotly\"], function(Plotly) {                    window.PLOTLYENV=window.PLOTLYENV || {};\n",
       "                    window.PLOTLYENV.BASE_URL='https://plot.ly';                                    if (document.getElementById(\"80597e0e-cbf8-4626-8df5-01e441746240\")) {                    Plotly.newPlot(                        \"80597e0e-cbf8-4626-8df5-01e441746240\",                        [{\"marker\":{\"color\":[\"rgb(255, 153, 51)\",\"rgb(55, 128, 191)\",\"rgb(50, 171, 96)\",\"rgb(128, 0, 128)\",\"rgb(219, 64, 82)\",\"rgb(0, 128, 128)\",\"rgb(255, 255, 51)\",\"rgb(128, 128, 0)\",\"rgb(251, 128, 114)\",\"rgb(128, 177, 211)\"],\"line\":{\"width\":1.3},\"size\":[68,74,68,63,74,56,55,100,72,75,40,64,72,60,67,64,40,54,67,59,68,25,66,46,53,98,65,102,48,58,12,62,86,41,64,54,62,35,83,67,67,67,76,74,85,112,31,73,46,76,57,43,64,48,43,65,85,56,53,38,39,56,87,60,74,68,39,108,62,40,54,79,81,67,54,88,93,106,61,69,56,73,63,98,50,53,76,44,49,60,66,60,67,63,57,64,75,46,83,86],\"symbol\":\"circle\"},\"mode\":\"markers\",\"text\":\"\",\"type\":\"scatter\",\"x\":[-0.4203769172138504,-1.7425536061462963,0.889037777019348,-1.0146950303,0.644987085922443,-0.5867545637092614,0.19788543355418084,-0.2730404740189748,-0.9026425523496677,-1.6279069661349634,-1.502814218287029,0.9328022335577573,-0.1647065323106058,0.6098435552056553,0.7157458424489646,-1.8653534653067507,0.04561722455290629,-1.83236922326372,1.2857591028121669,0.970847338623453,0.38469108105725586,-0.40669880244896184,-0.06933498378794453,1.320095941524994,-0.049271141297447224,0.24992502893762825,-1.0468650538432982,0.8544164021291353,0.5427353132690936,-0.6046711968130206,0.268146006228171,-0.8136978787020882,0.5129283434240521,-1.135879355830157,-0.5949835740230749,-0.9991198230270095,-1.6954857308348357,-0.5946797454314954,-0.038096198045322445,-0.597690474040178,-0.91787070032281,0.0049305892151103705,0.3176792336961347,1.8158591736530727,-0.18625555231119253,0.5334916797623348,-1.7790749335164024,-0.4561764528203567,-0.5383765801583805,0.9303974394928215,0.3019654074882458,-0.44691681108686937,1.0528514568643699,-0.8167380173526259,1.2329356705867764,1.5463527728336532,-0.20062580071149355,-0.09651096288571068,0.9154837337810589,-1.116298893230286,-0.12815668411074205,-0.35583474560030715,-0.1451024331637089,-0.015403174313218963,-0.28000443145952597,-0.47316418081547024,1.1183679273647713,0.5531770838513008,0.510397106892376,0.8396821842077113,0.11193850783712242,1.5340640502750655,0.021240171794083367,-0.9880713077949188,-0.6483165415061083,-0.3232730425399403,-0.3962516779122834,-0.4889839801990028,-0.6958235391363193,1.0309874763249955,-1.2084742863986977,-1.326989784774145,0.87219511894707,-0.5061261280696431,-0.9298406048337552,0.3475633689311191,-0.4488686768784139,0.08110817045384922,-0.0762302794889301,0.9625165014804028,0.8396345494906886,-1.80754629237557,0.8112661931818693,-0.6042239124449605,0.12005231709963185,-0.1764783558475839,1.4807239063761461,-1.2889664844008466,0.34080712450550255,0.5160231621797224],\"y\":[0.6705648136691061,0.7479108416593321,0.12376066704020804,0.5076865776365572,0.27751055021147714,-0.03885891767652951,-1.1484619773486824,0.06228241207836648,-1.057573110496256,1.135998182104359,-1.5268471457059039,0.03189578091454026,0.22200393733858212,0.35923447166256467,0.0438455986084191,-0.3286116744247036,-2.263135223059364,-0.4813577542132742,-1.3263312412535673,-0.49685187273799336,0.3715396209386487,1.3972487045901876,-1.7711776100919718,0.5164795444719394,-0.4040893207540781,-0.233485549950093,-1.476540568165758,0.28736959359819514,-1.828738271205067,-0.23033607719013108,-0.1716670784386983,0.6333589652539582,0.24579312524127364,-1.0430792092208319,-1.3054477184770257,-0.377953740083831,-1.6893335298772036,-0.05613954327924084,-0.6487634074366234,0.28329949096429036,-0.4042017835341697,0.032341002346677895,0.09703874914253871,-1.6933485826179155,0.6919740876165209,1.6491769080229144,-0.5779327269841692,-0.368352415642468,-1.5547059886995682,-1.9347232358061432,-0.49457341387009357,-1.1431865654017428,-0.589440944580983,-0.7321925083296308,-0.5598495607910404,-0.07280153382431334,-0.9677078775408386,2.110893914463245,-1.8007775476818115,-0.5492778523321554,-0.5153143189722851,0.2819410514014495,0.6389173365089797,-0.03690079064012558,0.3154919697960902,0.34399013315007754,0.8770157732702345,1.59051131022073,0.7904345189953608,0.7311438272766193,0.7387973826077535,-0.879583440706914,0.5868810728835954,0.03420631434201392,-0.45894188198105734,-0.4850085142032951,0.15108157763018584,0.1416739928211047,0.4779585274094298,-0.8118140116099221,0.5562018187811655,-0.24169835421043992,-0.5660844805115468,-0.49218350172725206,-0.61293743048621,1.2332793309806727,2.1240417997227214,1.400322812515332,-1.2707703517297577,0.04297896308622119,-1.1629777976548832,-0.527264203119578,-1.1036025507929965,0.11634484045105915,1.4459565634949803,-0.19104602555144024,1.43788963939247,-2.0614461044332733,1.6997794796458487,0.19527633470967637]}],                        {\"legend\":{\"bgcolor\":\"#F5F6F9\",\"font\":{\"color\":\"#4D5663\"}},\"paper_bgcolor\":\"#F5F6F9\",\"plot_bgcolor\":\"#F5F6F9\",\"template\":{\"data\":{\"bar\":[{\"error_x\":{\"color\":\"#2a3f5f\"},\"error_y\":{\"color\":\"#2a3f5f\"},\"marker\":{\"line\":{\"color\":\"#E5ECF6\",\"width\":0.5},\"pattern\":{\"fillmode\":\"overlay\",\"size\":10,\"solidity\":0.2}},\"type\":\"bar\"}],\"barpolar\":[{\"marker\":{\"line\":{\"color\":\"#E5ECF6\",\"width\":0.5},\"pattern\":{\"fillmode\":\"overlay\",\"size\":10,\"solidity\":0.2}},\"type\":\"barpolar\"}],\"carpet\":[{\"aaxis\":{\"endlinecolor\":\"#2a3f5f\",\"gridcolor\":\"white\",\"linecolor\":\"white\",\"minorgridcolor\":\"white\",\"startlinecolor\":\"#2a3f5f\"},\"baxis\":{\"endlinecolor\":\"#2a3f5f\",\"gridcolor\":\"white\",\"linecolor\":\"white\",\"minorgridcolor\":\"white\",\"startlinecolor\":\"#2a3f5f\"},\"type\":\"carpet\"}],\"choropleth\":[{\"colorbar\":{\"outlinewidth\":0,\"ticks\":\"\"},\"type\":\"choropleth\"}],\"contour\":[{\"colorbar\":{\"outlinewidth\":0,\"ticks\":\"\"},\"colorscale\":[[0.0,\"#0d0887\"],[0.1111111111111111,\"#46039f\"],[0.2222222222222222,\"#7201a8\"],[0.3333333333333333,\"#9c179e\"],[0.4444444444444444,\"#bd3786\"],[0.5555555555555556,\"#d8576b\"],[0.6666666666666666,\"#ed7953\"],[0.7777777777777778,\"#fb9f3a\"],[0.8888888888888888,\"#fdca26\"],[1.0,\"#f0f921\"]],\"type\":\"contour\"}],\"contourcarpet\":[{\"colorbar\":{\"outlinewidth\":0,\"ticks\":\"\"},\"type\":\"contourcarpet\"}],\"heatmap\":[{\"colorbar\":{\"outlinewidth\":0,\"ticks\":\"\"},\"colorscale\":[[0.0,\"#0d0887\"],[0.1111111111111111,\"#46039f\"],[0.2222222222222222,\"#7201a8\"],[0.3333333333333333,\"#9c179e\"],[0.4444444444444444,\"#bd3786\"],[0.5555555555555556,\"#d8576b\"],[0.6666666666666666,\"#ed7953\"],[0.7777777777777778,\"#fb9f3a\"],[0.8888888888888888,\"#fdca26\"],[1.0,\"#f0f921\"]],\"type\":\"heatmap\"}],\"heatmapgl\":[{\"colorbar\":{\"outlinewidth\":0,\"ticks\":\"\"},\"colorscale\":[[0.0,\"#0d0887\"],[0.1111111111111111,\"#46039f\"],[0.2222222222222222,\"#7201a8\"],[0.3333333333333333,\"#9c179e\"],[0.4444444444444444,\"#bd3786\"],[0.5555555555555556,\"#d8576b\"],[0.6666666666666666,\"#ed7953\"],[0.7777777777777778,\"#fb9f3a\"],[0.8888888888888888,\"#fdca26\"],[1.0,\"#f0f921\"]],\"type\":\"heatmapgl\"}],\"histogram\":[{\"marker\":{\"pattern\":{\"fillmode\":\"overlay\",\"size\":10,\"solidity\":0.2}},\"type\":\"histogram\"}],\"histogram2d\":[{\"colorbar\":{\"outlinewidth\":0,\"ticks\":\"\"},\"colorscale\":[[0.0,\"#0d0887\"],[0.1111111111111111,\"#46039f\"],[0.2222222222222222,\"#7201a8\"],[0.3333333333333333,\"#9c179e\"],[0.4444444444444444,\"#bd3786\"],[0.5555555555555556,\"#d8576b\"],[0.6666666666666666,\"#ed7953\"],[0.7777777777777778,\"#fb9f3a\"],[0.8888888888888888,\"#fdca26\"],[1.0,\"#f0f921\"]],\"type\":\"histogram2d\"}],\"histogram2dcontour\":[{\"colorbar\":{\"outlinewidth\":0,\"ticks\":\"\"},\"colorscale\":[[0.0,\"#0d0887\"],[0.1111111111111111,\"#46039f\"],[0.2222222222222222,\"#7201a8\"],[0.3333333333333333,\"#9c179e\"],[0.4444444444444444,\"#bd3786\"],[0.5555555555555556,\"#d8576b\"],[0.6666666666666666,\"#ed7953\"],[0.7777777777777778,\"#fb9f3a\"],[0.8888888888888888,\"#fdca26\"],[1.0,\"#f0f921\"]],\"type\":\"histogram2dcontour\"}],\"mesh3d\":[{\"colorbar\":{\"outlinewidth\":0,\"ticks\":\"\"},\"type\":\"mesh3d\"}],\"parcoords\":[{\"line\":{\"colorbar\":{\"outlinewidth\":0,\"ticks\":\"\"}},\"type\":\"parcoords\"}],\"pie\":[{\"automargin\":true,\"type\":\"pie\"}],\"scatter\":[{\"marker\":{\"colorbar\":{\"outlinewidth\":0,\"ticks\":\"\"}},\"type\":\"scatter\"}],\"scatter3d\":[{\"line\":{\"colorbar\":{\"outlinewidth\":0,\"ticks\":\"\"}},\"marker\":{\"colorbar\":{\"outlinewidth\":0,\"ticks\":\"\"}},\"type\":\"scatter3d\"}],\"scattercarpet\":[{\"marker\":{\"colorbar\":{\"outlinewidth\":0,\"ticks\":\"\"}},\"type\":\"scattercarpet\"}],\"scattergeo\":[{\"marker\":{\"colorbar\":{\"outlinewidth\":0,\"ticks\":\"\"}},\"type\":\"scattergeo\"}],\"scattergl\":[{\"marker\":{\"colorbar\":{\"outlinewidth\":0,\"ticks\":\"\"}},\"type\":\"scattergl\"}],\"scattermapbox\":[{\"marker\":{\"colorbar\":{\"outlinewidth\":0,\"ticks\":\"\"}},\"type\":\"scattermapbox\"}],\"scatterpolar\":[{\"marker\":{\"colorbar\":{\"outlinewidth\":0,\"ticks\":\"\"}},\"type\":\"scatterpolar\"}],\"scatterpolargl\":[{\"marker\":{\"colorbar\":{\"outlinewidth\":0,\"ticks\":\"\"}},\"type\":\"scatterpolargl\"}],\"scatterternary\":[{\"marker\":{\"colorbar\":{\"outlinewidth\":0,\"ticks\":\"\"}},\"type\":\"scatterternary\"}],\"surface\":[{\"colorbar\":{\"outlinewidth\":0,\"ticks\":\"\"},\"colorscale\":[[0.0,\"#0d0887\"],[0.1111111111111111,\"#46039f\"],[0.2222222222222222,\"#7201a8\"],[0.3333333333333333,\"#9c179e\"],[0.4444444444444444,\"#bd3786\"],[0.5555555555555556,\"#d8576b\"],[0.6666666666666666,\"#ed7953\"],[0.7777777777777778,\"#fb9f3a\"],[0.8888888888888888,\"#fdca26\"],[1.0,\"#f0f921\"]],\"type\":\"surface\"}],\"table\":[{\"cells\":{\"fill\":{\"color\":\"#EBF0F8\"},\"line\":{\"color\":\"white\"}},\"header\":{\"fill\":{\"color\":\"#C8D4E3\"},\"line\":{\"color\":\"white\"}},\"type\":\"table\"}]},\"layout\":{\"annotationdefaults\":{\"arrowcolor\":\"#2a3f5f\",\"arrowhead\":0,\"arrowwidth\":1},\"autotypenumbers\":\"strict\",\"coloraxis\":{\"colorbar\":{\"outlinewidth\":0,\"ticks\":\"\"}},\"colorscale\":{\"diverging\":[[0,\"#8e0152\"],[0.1,\"#c51b7d\"],[0.2,\"#de77ae\"],[0.3,\"#f1b6da\"],[0.4,\"#fde0ef\"],[0.5,\"#f7f7f7\"],[0.6,\"#e6f5d0\"],[0.7,\"#b8e186\"],[0.8,\"#7fbc41\"],[0.9,\"#4d9221\"],[1,\"#276419\"]],\"sequential\":[[0.0,\"#0d0887\"],[0.1111111111111111,\"#46039f\"],[0.2222222222222222,\"#7201a8\"],[0.3333333333333333,\"#9c179e\"],[0.4444444444444444,\"#bd3786\"],[0.5555555555555556,\"#d8576b\"],[0.6666666666666666,\"#ed7953\"],[0.7777777777777778,\"#fb9f3a\"],[0.8888888888888888,\"#fdca26\"],[1.0,\"#f0f921\"]],\"sequentialminus\":[[0.0,\"#0d0887\"],[0.1111111111111111,\"#46039f\"],[0.2222222222222222,\"#7201a8\"],[0.3333333333333333,\"#9c179e\"],[0.4444444444444444,\"#bd3786\"],[0.5555555555555556,\"#d8576b\"],[0.6666666666666666,\"#ed7953\"],[0.7777777777777778,\"#fb9f3a\"],[0.8888888888888888,\"#fdca26\"],[1.0,\"#f0f921\"]]},\"colorway\":[\"#636efa\",\"#EF553B\",\"#00cc96\",\"#ab63fa\",\"#FFA15A\",\"#19d3f3\",\"#FF6692\",\"#B6E880\",\"#FF97FF\",\"#FECB52\"],\"font\":{\"color\":\"#2a3f5f\"},\"geo\":{\"bgcolor\":\"white\",\"lakecolor\":\"white\",\"landcolor\":\"#E5ECF6\",\"showlakes\":true,\"showland\":true,\"subunitcolor\":\"white\"},\"hoverlabel\":{\"align\":\"left\"},\"hovermode\":\"closest\",\"mapbox\":{\"style\":\"light\"},\"paper_bgcolor\":\"white\",\"plot_bgcolor\":\"#E5ECF6\",\"polar\":{\"angularaxis\":{\"gridcolor\":\"white\",\"linecolor\":\"white\",\"ticks\":\"\"},\"bgcolor\":\"#E5ECF6\",\"radialaxis\":{\"gridcolor\":\"white\",\"linecolor\":\"white\",\"ticks\":\"\"}},\"scene\":{\"xaxis\":{\"backgroundcolor\":\"#E5ECF6\",\"gridcolor\":\"white\",\"gridwidth\":2,\"linecolor\":\"white\",\"showbackground\":true,\"ticks\":\"\",\"zerolinecolor\":\"white\"},\"yaxis\":{\"backgroundcolor\":\"#E5ECF6\",\"gridcolor\":\"white\",\"gridwidth\":2,\"linecolor\":\"white\",\"showbackground\":true,\"ticks\":\"\",\"zerolinecolor\":\"white\"},\"zaxis\":{\"backgroundcolor\":\"#E5ECF6\",\"gridcolor\":\"white\",\"gridwidth\":2,\"linecolor\":\"white\",\"showbackground\":true,\"ticks\":\"\",\"zerolinecolor\":\"white\"}},\"shapedefaults\":{\"line\":{\"color\":\"#2a3f5f\"}},\"ternary\":{\"aaxis\":{\"gridcolor\":\"white\",\"linecolor\":\"white\",\"ticks\":\"\"},\"baxis\":{\"gridcolor\":\"white\",\"linecolor\":\"white\",\"ticks\":\"\"},\"bgcolor\":\"#E5ECF6\",\"caxis\":{\"gridcolor\":\"white\",\"linecolor\":\"white\",\"ticks\":\"\"}},\"title\":{\"x\":0.05},\"xaxis\":{\"automargin\":true,\"gridcolor\":\"white\",\"linecolor\":\"white\",\"ticks\":\"\",\"title\":{\"standoff\":15},\"zerolinecolor\":\"white\",\"zerolinewidth\":2},\"yaxis\":{\"automargin\":true,\"gridcolor\":\"white\",\"linecolor\":\"white\",\"ticks\":\"\",\"title\":{\"standoff\":15},\"zerolinecolor\":\"white\",\"zerolinewidth\":2}}},\"title\":{\"font\":{\"color\":\"#4D5663\"}},\"xaxis\":{\"gridcolor\":\"#E1E5ED\",\"showgrid\":true,\"tickfont\":{\"color\":\"#4D5663\"},\"title\":{\"font\":{\"color\":\"#4D5663\"},\"text\":\"\"},\"zerolinecolor\":\"#E1E5ED\"},\"yaxis\":{\"gridcolor\":\"#E1E5ED\",\"showgrid\":true,\"tickfont\":{\"color\":\"#4D5663\"},\"title\":{\"font\":{\"color\":\"#4D5663\"},\"text\":\"\"},\"zerolinecolor\":\"#E1E5ED\"}},                        {\"showLink\": true, \"linkText\": \"Export to plot.ly\", \"plotlyServerURL\": \"https://plot.ly\", \"responsive\": true}                    ).then(function(){\n",
       "                            \n",
       "var gd = document.getElementById('80597e0e-cbf8-4626-8df5-01e441746240');\n",
       "var x = new MutationObserver(function (mutations, observer) {{\n",
       "        var display = window.getComputedStyle(gd).display;\n",
       "        if (!display || display === 'none') {{\n",
       "            console.log([gd, 'removed!']);\n",
       "            Plotly.purge(gd);\n",
       "            observer.disconnect();\n",
       "        }}\n",
       "}});\n",
       "\n",
       "// Listen for the removal of the full notebook cells\n",
       "var notebookContainer = gd.closest('#notebook-container');\n",
       "if (notebookContainer) {{\n",
       "    x.observe(notebookContainer, {childList: true});\n",
       "}}\n",
       "\n",
       "// Listen for the clearing of the current output cell\n",
       "var outputEl = gd.closest('.output');\n",
       "if (outputEl) {{\n",
       "    x.observe(outputEl, {childList: true});\n",
       "}}\n",
       "\n",
       "                        })                };                });            </script>        </div>"
      ]
     },
     "metadata": {},
     "output_type": "display_data"
    }
   ],
   "source": [
    "df.iplot(kind='bubble',x='A',y='B',size='C')"
   ]
  },
  {
   "cell_type": "code",
   "execution_count": 60,
   "id": "a0263417",
   "metadata": {},
   "outputs": [
    {
     "data": {
      "application/vnd.plotly.v1+json": {
       "config": {
        "linkText": "Export to plot.ly",
        "plotlyServerURL": "https://plot.ly",
        "showLink": true
       },
       "data": [
        {
         "histfunc": "count",
         "histnorm": "",
         "marker": {
          "color": "rgba(255, 153, 51, 1.0)",
          "line": {
           "color": "#4D5663",
           "width": 1.3
          }
         },
         "name": "A",
         "nbinsx": 10,
         "opacity": 0.8,
         "orientation": "v",
         "type": "histogram",
         "x": [
          -0.4203769172138504,
          -1.7425536061462963,
          0.889037777019348,
          -1.0146950303,
          0.644987085922443,
          -0.5867545637092614,
          0.19788543355418084,
          -0.2730404740189748,
          -0.9026425523496677,
          -1.6279069661349634,
          -1.502814218287029,
          0.9328022335577573,
          -0.1647065323106058,
          0.6098435552056553,
          0.7157458424489646,
          -1.8653534653067507,
          0.04561722455290629,
          -1.83236922326372,
          1.2857591028121669,
          0.970847338623453,
          0.38469108105725586,
          -0.40669880244896184,
          -0.06933498378794453,
          1.320095941524994,
          -0.049271141297447224,
          0.24992502893762825,
          -1.0468650538432982,
          0.8544164021291353,
          0.5427353132690936,
          -0.6046711968130206,
          0.268146006228171,
          -0.8136978787020882,
          0.5129283434240521,
          -1.135879355830157,
          -0.5949835740230749,
          -0.9991198230270095,
          -1.6954857308348357,
          -0.5946797454314954,
          -0.038096198045322445,
          -0.597690474040178,
          -0.91787070032281,
          0.0049305892151103705,
          0.3176792336961347,
          1.8158591736530727,
          -0.18625555231119253,
          0.5334916797623348,
          -1.7790749335164024,
          -0.4561764528203567,
          -0.5383765801583805,
          0.9303974394928215,
          0.3019654074882458,
          -0.44691681108686937,
          1.0528514568643699,
          -0.8167380173526259,
          1.2329356705867764,
          1.5463527728336532,
          -0.20062580071149355,
          -0.09651096288571068,
          0.9154837337810589,
          -1.116298893230286,
          -0.12815668411074205,
          -0.35583474560030715,
          -0.1451024331637089,
          -0.015403174313218963,
          -0.28000443145952597,
          -0.47316418081547024,
          1.1183679273647713,
          0.5531770838513008,
          0.510397106892376,
          0.8396821842077113,
          0.11193850783712242,
          1.5340640502750655,
          0.021240171794083367,
          -0.9880713077949188,
          -0.6483165415061083,
          -0.3232730425399403,
          -0.3962516779122834,
          -0.4889839801990028,
          -0.6958235391363193,
          1.0309874763249955,
          -1.2084742863986977,
          -1.326989784774145,
          0.87219511894707,
          -0.5061261280696431,
          -0.9298406048337552,
          0.3475633689311191,
          -0.4488686768784139,
          0.08110817045384922,
          -0.0762302794889301,
          0.9625165014804028,
          0.8396345494906886,
          -1.80754629237557,
          0.8112661931818693,
          -0.6042239124449605,
          0.12005231709963185,
          -0.1764783558475839,
          1.4807239063761461,
          -1.2889664844008466,
          0.34080712450550255,
          0.5160231621797224
         ],
         "xaxis": "x",
         "yaxis": "y"
        },
        {
         "line": {
          "color": "rgba(128, 128, 128, 1.0)",
          "dash": "solid",
          "shape": "linear",
          "width": 1.3
         },
         "marker": {
          "size": 2,
          "symbol": "circle"
         },
         "mode": "markers",
         "name": "A",
         "text": "",
         "type": "scatter",
         "x": [
          0.6705648136691061,
          0.7479108416593321,
          0.12376066704020804,
          0.5076865776365572,
          0.27751055021147714,
          -0.03885891767652951,
          -1.1484619773486824,
          0.06228241207836648,
          -1.057573110496256,
          1.135998182104359,
          -1.5268471457059039,
          0.03189578091454026,
          0.22200393733858212,
          0.35923447166256467,
          0.0438455986084191,
          -0.3286116744247036,
          -2.263135223059364,
          -0.4813577542132742,
          -1.3263312412535673,
          -0.49685187273799336,
          0.3715396209386487,
          1.3972487045901876,
          -1.7711776100919718,
          0.5164795444719394,
          -0.4040893207540781,
          -0.233485549950093,
          -1.476540568165758,
          0.28736959359819514,
          -1.828738271205067,
          -0.23033607719013108,
          -0.1716670784386983,
          0.6333589652539582,
          0.24579312524127364,
          -1.0430792092208319,
          -1.3054477184770257,
          -0.377953740083831,
          -1.6893335298772036,
          -0.05613954327924084,
          -0.6487634074366234,
          0.28329949096429036,
          -0.4042017835341697,
          0.032341002346677895,
          0.09703874914253871,
          -1.6933485826179155,
          0.6919740876165209,
          1.6491769080229144,
          -0.5779327269841692,
          -0.368352415642468,
          -1.5547059886995682,
          -1.9347232358061432,
          -0.49457341387009357,
          -1.1431865654017428,
          -0.589440944580983,
          -0.7321925083296308,
          -0.5598495607910404,
          -0.07280153382431334,
          -0.9677078775408386,
          2.110893914463245,
          -1.8007775476818115,
          -0.5492778523321554,
          -0.5153143189722851,
          0.2819410514014495,
          0.6389173365089797,
          -0.03690079064012558,
          0.3154919697960902,
          0.34399013315007754,
          0.8770157732702345,
          1.59051131022073,
          0.7904345189953608,
          0.7311438272766193,
          0.7387973826077535,
          -0.879583440706914,
          0.5868810728835954,
          0.03420631434201392,
          -0.45894188198105734,
          -0.4850085142032951,
          0.15108157763018584,
          0.1416739928211047,
          0.4779585274094298,
          -0.8118140116099221,
          0.5562018187811655,
          -0.24169835421043992,
          -0.5660844805115468,
          -0.49218350172725206,
          -0.61293743048621,
          1.2332793309806727,
          2.1240417997227214,
          1.400322812515332,
          -1.2707703517297577,
          0.04297896308622119,
          -1.1629777976548832,
          -0.527264203119578,
          -1.1036025507929965,
          0.11634484045105915,
          1.4459565634949803,
          -0.19104602555144024,
          1.43788963939247,
          -2.0614461044332733,
          1.6997794796458487,
          0.19527633470967637
         ],
         "xaxis": "x2",
         "y": [
          -0.4203769172138504,
          -1.7425536061462963,
          0.889037777019348,
          -1.0146950303,
          0.644987085922443,
          -0.5867545637092614,
          0.19788543355418084,
          -0.2730404740189748,
          -0.9026425523496677,
          -1.6279069661349634,
          -1.502814218287029,
          0.9328022335577573,
          -0.1647065323106058,
          0.6098435552056553,
          0.7157458424489646,
          -1.8653534653067507,
          0.04561722455290629,
          -1.83236922326372,
          1.2857591028121669,
          0.970847338623453,
          0.38469108105725586,
          -0.40669880244896184,
          -0.06933498378794453,
          1.320095941524994,
          -0.049271141297447224,
          0.24992502893762825,
          -1.0468650538432982,
          0.8544164021291353,
          0.5427353132690936,
          -0.6046711968130206,
          0.268146006228171,
          -0.8136978787020882,
          0.5129283434240521,
          -1.135879355830157,
          -0.5949835740230749,
          -0.9991198230270095,
          -1.6954857308348357,
          -0.5946797454314954,
          -0.038096198045322445,
          -0.597690474040178,
          -0.91787070032281,
          0.0049305892151103705,
          0.3176792336961347,
          1.8158591736530727,
          -0.18625555231119253,
          0.5334916797623348,
          -1.7790749335164024,
          -0.4561764528203567,
          -0.5383765801583805,
          0.9303974394928215,
          0.3019654074882458,
          -0.44691681108686937,
          1.0528514568643699,
          -0.8167380173526259,
          1.2329356705867764,
          1.5463527728336532,
          -0.20062580071149355,
          -0.09651096288571068,
          0.9154837337810589,
          -1.116298893230286,
          -0.12815668411074205,
          -0.35583474560030715,
          -0.1451024331637089,
          -0.015403174313218963,
          -0.28000443145952597,
          -0.47316418081547024,
          1.1183679273647713,
          0.5531770838513008,
          0.510397106892376,
          0.8396821842077113,
          0.11193850783712242,
          1.5340640502750655,
          0.021240171794083367,
          -0.9880713077949188,
          -0.6483165415061083,
          -0.3232730425399403,
          -0.3962516779122834,
          -0.4889839801990028,
          -0.6958235391363193,
          1.0309874763249955,
          -1.2084742863986977,
          -1.326989784774145,
          0.87219511894707,
          -0.5061261280696431,
          -0.9298406048337552,
          0.3475633689311191,
          -0.4488686768784139,
          0.08110817045384922,
          -0.0762302794889301,
          0.9625165014804028,
          0.8396345494906886,
          -1.80754629237557,
          0.8112661931818693,
          -0.6042239124449605,
          0.12005231709963185,
          -0.1764783558475839,
          1.4807239063761461,
          -1.2889664844008466,
          0.34080712450550255,
          0.5160231621797224
         ],
         "yaxis": "y2"
        },
        {
         "line": {
          "color": "rgba(128, 128, 128, 1.0)",
          "dash": "solid",
          "shape": "linear",
          "width": 1.3
         },
         "marker": {
          "size": 2,
          "symbol": "circle"
         },
         "mode": "markers",
         "name": "A",
         "text": "",
         "type": "scatter",
         "x": [
          0.07422700527315418,
          0.4130249643103405,
          0.08548858850732852,
          -0.2313907405072228,
          0.37480831038947743,
          -0.5804733866469306,
          -0.6801880384913043,
          1.8022342350275198,
          0.2860197998610701,
          0.44232578447992343,
          -1.5016331070440165,
          -0.17047063909762822,
          0.2969657590242623,
          -0.3938742717666108,
          0.005322578576980963,
          -0.1509403635371195,
          -1.475176645424478,
          -0.6996670204144476,
          0.01040519118246566,
          -0.43008029671786063,
          0.049262896897995734,
          -2.2794486022226317,
          -0.05170995821764871,
          -1.1642223337949063,
          -0.7845961694373157,
          1.7201571256729855,
          -0.1080899951479665,
          1.9172077113769468,
          -1.0291295424930516,
          -0.4830378049493245,
          -3.042769218598791,
          -0.24804905428614898,
          1.0314805119510864,
          -1.404281005575798,
          -0.1379101447202194,
          -0.7195472131915353,
          -0.2735942321860184,
          -1.7388301654248608,
          0.8921268176921588,
          0.015092574704470684,
          -0.017843727398743788,
          -0.023373546868586628,
          0.48356729019745276,
          0.3724710103514023,
          1.008265930319548,
          2.4463710370181833,
          -1.984883419537376,
          0.3580786992700125,
          -1.1542277648532895,
          0.4987945521011533,
          -0.5602989609894605,
          -1.2899859967795375,
          -0.18340439848799506,
          -1.0255585995065564,
          -1.3069786772803889,
          -0.12442852338564153,
          0.9828613424354359,
          -0.5926949048387103,
          -0.7621082270075276,
          -1.5803155758375553,
          -1.5450357781388426,
          -0.6167758224917211,
          1.0960016305928086,
          -0.3660385461050507,
          0.40608765534013885,
          0.061831984060027934,
          -1.5480288983429116,
          2.2488514861594293,
          -0.2471095149706103,
          -1.4855057620299903,
          -0.6967002864504952,
          0.6592024314305059,
          0.7725617098876191,
          -0.008263027740115753,
          -0.6944179983332547,
          1.1526220459892333,
          1.4501439219254952,
          2.1505517700712176,
          -0.3492929750190928,
          0.11094652493428009,
          -0.6108141968900309,
          0.3502143994430392,
          -0.2227433971114668,
          1.678016033517746,
          -0.9382350184164863,
          -0.7751011686520267,
          0.4806329226047449,
          -1.2579044633708636,
          -0.9662571507224871,
          -0.3709616614910942,
          -0.06452441870975577,
          -0.35563498268520916,
          -0.016514764413823962,
          -0.22861270922344848,
          -0.5462410861762043,
          -0.16893452437550166,
          0.4508344021737034,
          -1.1284200562808675,
          0.8783286696936663,
          1.051529015196934
         ],
         "xaxis": "x3",
         "y": [
          -0.4203769172138504,
          -1.7425536061462963,
          0.889037777019348,
          -1.0146950303,
          0.644987085922443,
          -0.5867545637092614,
          0.19788543355418084,
          -0.2730404740189748,
          -0.9026425523496677,
          -1.6279069661349634,
          -1.502814218287029,
          0.9328022335577573,
          -0.1647065323106058,
          0.6098435552056553,
          0.7157458424489646,
          -1.8653534653067507,
          0.04561722455290629,
          -1.83236922326372,
          1.2857591028121669,
          0.970847338623453,
          0.38469108105725586,
          -0.40669880244896184,
          -0.06933498378794453,
          1.320095941524994,
          -0.049271141297447224,
          0.24992502893762825,
          -1.0468650538432982,
          0.8544164021291353,
          0.5427353132690936,
          -0.6046711968130206,
          0.268146006228171,
          -0.8136978787020882,
          0.5129283434240521,
          -1.135879355830157,
          -0.5949835740230749,
          -0.9991198230270095,
          -1.6954857308348357,
          -0.5946797454314954,
          -0.038096198045322445,
          -0.597690474040178,
          -0.91787070032281,
          0.0049305892151103705,
          0.3176792336961347,
          1.8158591736530727,
          -0.18625555231119253,
          0.5334916797623348,
          -1.7790749335164024,
          -0.4561764528203567,
          -0.5383765801583805,
          0.9303974394928215,
          0.3019654074882458,
          -0.44691681108686937,
          1.0528514568643699,
          -0.8167380173526259,
          1.2329356705867764,
          1.5463527728336532,
          -0.20062580071149355,
          -0.09651096288571068,
          0.9154837337810589,
          -1.116298893230286,
          -0.12815668411074205,
          -0.35583474560030715,
          -0.1451024331637089,
          -0.015403174313218963,
          -0.28000443145952597,
          -0.47316418081547024,
          1.1183679273647713,
          0.5531770838513008,
          0.510397106892376,
          0.8396821842077113,
          0.11193850783712242,
          1.5340640502750655,
          0.021240171794083367,
          -0.9880713077949188,
          -0.6483165415061083,
          -0.3232730425399403,
          -0.3962516779122834,
          -0.4889839801990028,
          -0.6958235391363193,
          1.0309874763249955,
          -1.2084742863986977,
          -1.326989784774145,
          0.87219511894707,
          -0.5061261280696431,
          -0.9298406048337552,
          0.3475633689311191,
          -0.4488686768784139,
          0.08110817045384922,
          -0.0762302794889301,
          0.9625165014804028,
          0.8396345494906886,
          -1.80754629237557,
          0.8112661931818693,
          -0.6042239124449605,
          0.12005231709963185,
          -0.1764783558475839,
          1.4807239063761461,
          -1.2889664844008466,
          0.34080712450550255,
          0.5160231621797224
         ],
         "yaxis": "y3"
        },
        {
         "line": {
          "color": "rgba(128, 128, 128, 1.0)",
          "dash": "solid",
          "shape": "linear",
          "width": 1.3
         },
         "marker": {
          "size": 2,
          "symbol": "circle"
         },
         "mode": "markers",
         "name": "A",
         "text": "",
         "type": "scatter",
         "x": [
          -0.4265649055030353,
          0.5345753963116453,
          1.2648624239240278,
          -0.5036965328663572,
          1.3839523450361182,
          1.2575049616846319,
          0.4144214395049769,
          -0.5025921390683061,
          0.4646854192098949,
          -1.0187018400737897,
          -0.41604955826801,
          -0.704873422773722,
          0.34012659882708757,
          0.8215859955152438,
          -0.9630212613275814,
          -1.5479364624579965,
          1.262427324095102,
          -0.6314716294991332,
          -0.2948263242881089,
          2.045843585833337,
          0.7779892759515108,
          -2.3374769861385496,
          0.08076847935905539,
          0.9386365422370996,
          1.006813472053596,
          -1.7130081664294843,
          -0.8301818918715494,
          0.40662438561416886,
          0.6184271143243777,
          -1.1171162565881085,
          -0.7259743318271101,
          -0.7894973693297371,
          0.15673300611977514,
          -0.0411443578526938,
          1.8725145576747395,
          0.07417574962603085,
          -2.0476069434418798,
          -0.5231585358294968,
          -1.1450987535161061,
          0.6433542561798411,
          0.01529112076703967,
          -0.48657373270143484,
          1.7052382835670108,
          0.4116424859047016,
          -0.4234715279258913,
          -0.9252985606450924,
          0.4828442783376966,
          1.5942461288472833,
          0.08456822084845338,
          -1.5394659470604126,
          0.5501664509165102,
          0.9454148982132563,
          -0.1261792942872043,
          0.3017002608052505,
          -1.2519565936221715,
          -0.24466158095145318,
          1.1954983324987216,
          -0.3809112557174018,
          1.33923613114652,
          1.3560837868399453,
          0.09661889452534182,
          -1.4880197906360266,
          -0.2827010917022672,
          0.11638639687460929,
          1.4606288990278828,
          -0.724909388940758,
          -0.8292888279027019,
          1.2152792806199297,
          0.9406782217308104,
          -0.2271121287232906,
          -0.6456754382419851,
          0.2246503169045476,
          0.9088534114783418,
          -0.785122627292339,
          -0.43312963489765566,
          -0.6263627891053157,
          -0.8124367069314169,
          -0.0944907864199542,
          -0.19604602013795855,
          1.6082443316810087,
          -0.4009981234549997,
          0.35696227827031496,
          0.08582423282612472,
          0.11139904700992809,
          0.3807598674561099,
          1.7292243256324968,
          0.5402498413873286,
          1.0069502326770607,
          1.7525588986920897,
          -1.0483571007203314,
          0.42820914988334524,
          0.9648945646092203,
          1.4849291082110934,
          -0.6459546098399391,
          -0.11144734102298919,
          0.6220318081645934,
          0.4307143405325117,
          -0.06911151660227972,
          0.18914139541645156,
          -1.3974429546298435
         ],
         "xaxis": "x4",
         "y": [
          -0.4203769172138504,
          -1.7425536061462963,
          0.889037777019348,
          -1.0146950303,
          0.644987085922443,
          -0.5867545637092614,
          0.19788543355418084,
          -0.2730404740189748,
          -0.9026425523496677,
          -1.6279069661349634,
          -1.502814218287029,
          0.9328022335577573,
          -0.1647065323106058,
          0.6098435552056553,
          0.7157458424489646,
          -1.8653534653067507,
          0.04561722455290629,
          -1.83236922326372,
          1.2857591028121669,
          0.970847338623453,
          0.38469108105725586,
          -0.40669880244896184,
          -0.06933498378794453,
          1.320095941524994,
          -0.049271141297447224,
          0.24992502893762825,
          -1.0468650538432982,
          0.8544164021291353,
          0.5427353132690936,
          -0.6046711968130206,
          0.268146006228171,
          -0.8136978787020882,
          0.5129283434240521,
          -1.135879355830157,
          -0.5949835740230749,
          -0.9991198230270095,
          -1.6954857308348357,
          -0.5946797454314954,
          -0.038096198045322445,
          -0.597690474040178,
          -0.91787070032281,
          0.0049305892151103705,
          0.3176792336961347,
          1.8158591736530727,
          -0.18625555231119253,
          0.5334916797623348,
          -1.7790749335164024,
          -0.4561764528203567,
          -0.5383765801583805,
          0.9303974394928215,
          0.3019654074882458,
          -0.44691681108686937,
          1.0528514568643699,
          -0.8167380173526259,
          1.2329356705867764,
          1.5463527728336532,
          -0.20062580071149355,
          -0.09651096288571068,
          0.9154837337810589,
          -1.116298893230286,
          -0.12815668411074205,
          -0.35583474560030715,
          -0.1451024331637089,
          -0.015403174313218963,
          -0.28000443145952597,
          -0.47316418081547024,
          1.1183679273647713,
          0.5531770838513008,
          0.510397106892376,
          0.8396821842077113,
          0.11193850783712242,
          1.5340640502750655,
          0.021240171794083367,
          -0.9880713077949188,
          -0.6483165415061083,
          -0.3232730425399403,
          -0.3962516779122834,
          -0.4889839801990028,
          -0.6958235391363193,
          1.0309874763249955,
          -1.2084742863986977,
          -1.326989784774145,
          0.87219511894707,
          -0.5061261280696431,
          -0.9298406048337552,
          0.3475633689311191,
          -0.4488686768784139,
          0.08110817045384922,
          -0.0762302794889301,
          0.9625165014804028,
          0.8396345494906886,
          -1.80754629237557,
          0.8112661931818693,
          -0.6042239124449605,
          0.12005231709963185,
          -0.1764783558475839,
          1.4807239063761461,
          -1.2889664844008466,
          0.34080712450550255,
          0.5160231621797224
         ],
         "yaxis": "y4"
        },
        {
         "line": {
          "color": "rgba(128, 128, 128, 1.0)",
          "dash": "solid",
          "shape": "linear",
          "width": 1.3
         },
         "marker": {
          "size": 2,
          "symbol": "circle"
         },
         "mode": "markers",
         "name": "B",
         "text": "",
         "type": "scatter",
         "x": [
          -0.4203769172138504,
          -1.7425536061462963,
          0.889037777019348,
          -1.0146950303,
          0.644987085922443,
          -0.5867545637092614,
          0.19788543355418084,
          -0.2730404740189748,
          -0.9026425523496677,
          -1.6279069661349634,
          -1.502814218287029,
          0.9328022335577573,
          -0.1647065323106058,
          0.6098435552056553,
          0.7157458424489646,
          -1.8653534653067507,
          0.04561722455290629,
          -1.83236922326372,
          1.2857591028121669,
          0.970847338623453,
          0.38469108105725586,
          -0.40669880244896184,
          -0.06933498378794453,
          1.320095941524994,
          -0.049271141297447224,
          0.24992502893762825,
          -1.0468650538432982,
          0.8544164021291353,
          0.5427353132690936,
          -0.6046711968130206,
          0.268146006228171,
          -0.8136978787020882,
          0.5129283434240521,
          -1.135879355830157,
          -0.5949835740230749,
          -0.9991198230270095,
          -1.6954857308348357,
          -0.5946797454314954,
          -0.038096198045322445,
          -0.597690474040178,
          -0.91787070032281,
          0.0049305892151103705,
          0.3176792336961347,
          1.8158591736530727,
          -0.18625555231119253,
          0.5334916797623348,
          -1.7790749335164024,
          -0.4561764528203567,
          -0.5383765801583805,
          0.9303974394928215,
          0.3019654074882458,
          -0.44691681108686937,
          1.0528514568643699,
          -0.8167380173526259,
          1.2329356705867764,
          1.5463527728336532,
          -0.20062580071149355,
          -0.09651096288571068,
          0.9154837337810589,
          -1.116298893230286,
          -0.12815668411074205,
          -0.35583474560030715,
          -0.1451024331637089,
          -0.015403174313218963,
          -0.28000443145952597,
          -0.47316418081547024,
          1.1183679273647713,
          0.5531770838513008,
          0.510397106892376,
          0.8396821842077113,
          0.11193850783712242,
          1.5340640502750655,
          0.021240171794083367,
          -0.9880713077949188,
          -0.6483165415061083,
          -0.3232730425399403,
          -0.3962516779122834,
          -0.4889839801990028,
          -0.6958235391363193,
          1.0309874763249955,
          -1.2084742863986977,
          -1.326989784774145,
          0.87219511894707,
          -0.5061261280696431,
          -0.9298406048337552,
          0.3475633689311191,
          -0.4488686768784139,
          0.08110817045384922,
          -0.0762302794889301,
          0.9625165014804028,
          0.8396345494906886,
          -1.80754629237557,
          0.8112661931818693,
          -0.6042239124449605,
          0.12005231709963185,
          -0.1764783558475839,
          1.4807239063761461,
          -1.2889664844008466,
          0.34080712450550255,
          0.5160231621797224
         ],
         "xaxis": "x5",
         "y": [
          0.6705648136691061,
          0.7479108416593321,
          0.12376066704020804,
          0.5076865776365572,
          0.27751055021147714,
          -0.03885891767652951,
          -1.1484619773486824,
          0.06228241207836648,
          -1.057573110496256,
          1.135998182104359,
          -1.5268471457059039,
          0.03189578091454026,
          0.22200393733858212,
          0.35923447166256467,
          0.0438455986084191,
          -0.3286116744247036,
          -2.263135223059364,
          -0.4813577542132742,
          -1.3263312412535673,
          -0.49685187273799336,
          0.3715396209386487,
          1.3972487045901876,
          -1.7711776100919718,
          0.5164795444719394,
          -0.4040893207540781,
          -0.233485549950093,
          -1.476540568165758,
          0.28736959359819514,
          -1.828738271205067,
          -0.23033607719013108,
          -0.1716670784386983,
          0.6333589652539582,
          0.24579312524127364,
          -1.0430792092208319,
          -1.3054477184770257,
          -0.377953740083831,
          -1.6893335298772036,
          -0.05613954327924084,
          -0.6487634074366234,
          0.28329949096429036,
          -0.4042017835341697,
          0.032341002346677895,
          0.09703874914253871,
          -1.6933485826179155,
          0.6919740876165209,
          1.6491769080229144,
          -0.5779327269841692,
          -0.368352415642468,
          -1.5547059886995682,
          -1.9347232358061432,
          -0.49457341387009357,
          -1.1431865654017428,
          -0.589440944580983,
          -0.7321925083296308,
          -0.5598495607910404,
          -0.07280153382431334,
          -0.9677078775408386,
          2.110893914463245,
          -1.8007775476818115,
          -0.5492778523321554,
          -0.5153143189722851,
          0.2819410514014495,
          0.6389173365089797,
          -0.03690079064012558,
          0.3154919697960902,
          0.34399013315007754,
          0.8770157732702345,
          1.59051131022073,
          0.7904345189953608,
          0.7311438272766193,
          0.7387973826077535,
          -0.879583440706914,
          0.5868810728835954,
          0.03420631434201392,
          -0.45894188198105734,
          -0.4850085142032951,
          0.15108157763018584,
          0.1416739928211047,
          0.4779585274094298,
          -0.8118140116099221,
          0.5562018187811655,
          -0.24169835421043992,
          -0.5660844805115468,
          -0.49218350172725206,
          -0.61293743048621,
          1.2332793309806727,
          2.1240417997227214,
          1.400322812515332,
          -1.2707703517297577,
          0.04297896308622119,
          -1.1629777976548832,
          -0.527264203119578,
          -1.1036025507929965,
          0.11634484045105915,
          1.4459565634949803,
          -0.19104602555144024,
          1.43788963939247,
          -2.0614461044332733,
          1.6997794796458487,
          0.19527633470967637
         ],
         "yaxis": "y5"
        },
        {
         "histfunc": "count",
         "histnorm": "",
         "marker": {
          "color": "rgba(55, 128, 191, 1.0)",
          "line": {
           "color": "#4D5663",
           "width": 1.3
          }
         },
         "name": "B",
         "nbinsx": 10,
         "opacity": 0.8,
         "orientation": "v",
         "type": "histogram",
         "x": [
          0.6705648136691061,
          0.7479108416593321,
          0.12376066704020804,
          0.5076865776365572,
          0.27751055021147714,
          -0.03885891767652951,
          -1.1484619773486824,
          0.06228241207836648,
          -1.057573110496256,
          1.135998182104359,
          -1.5268471457059039,
          0.03189578091454026,
          0.22200393733858212,
          0.35923447166256467,
          0.0438455986084191,
          -0.3286116744247036,
          -2.263135223059364,
          -0.4813577542132742,
          -1.3263312412535673,
          -0.49685187273799336,
          0.3715396209386487,
          1.3972487045901876,
          -1.7711776100919718,
          0.5164795444719394,
          -0.4040893207540781,
          -0.233485549950093,
          -1.476540568165758,
          0.28736959359819514,
          -1.828738271205067,
          -0.23033607719013108,
          -0.1716670784386983,
          0.6333589652539582,
          0.24579312524127364,
          -1.0430792092208319,
          -1.3054477184770257,
          -0.377953740083831,
          -1.6893335298772036,
          -0.05613954327924084,
          -0.6487634074366234,
          0.28329949096429036,
          -0.4042017835341697,
          0.032341002346677895,
          0.09703874914253871,
          -1.6933485826179155,
          0.6919740876165209,
          1.6491769080229144,
          -0.5779327269841692,
          -0.368352415642468,
          -1.5547059886995682,
          -1.9347232358061432,
          -0.49457341387009357,
          -1.1431865654017428,
          -0.589440944580983,
          -0.7321925083296308,
          -0.5598495607910404,
          -0.07280153382431334,
          -0.9677078775408386,
          2.110893914463245,
          -1.8007775476818115,
          -0.5492778523321554,
          -0.5153143189722851,
          0.2819410514014495,
          0.6389173365089797,
          -0.03690079064012558,
          0.3154919697960902,
          0.34399013315007754,
          0.8770157732702345,
          1.59051131022073,
          0.7904345189953608,
          0.7311438272766193,
          0.7387973826077535,
          -0.879583440706914,
          0.5868810728835954,
          0.03420631434201392,
          -0.45894188198105734,
          -0.4850085142032951,
          0.15108157763018584,
          0.1416739928211047,
          0.4779585274094298,
          -0.8118140116099221,
          0.5562018187811655,
          -0.24169835421043992,
          -0.5660844805115468,
          -0.49218350172725206,
          -0.61293743048621,
          1.2332793309806727,
          2.1240417997227214,
          1.400322812515332,
          -1.2707703517297577,
          0.04297896308622119,
          -1.1629777976548832,
          -0.527264203119578,
          -1.1036025507929965,
          0.11634484045105915,
          1.4459565634949803,
          -0.19104602555144024,
          1.43788963939247,
          -2.0614461044332733,
          1.6997794796458487,
          0.19527633470967637
         ],
         "xaxis": "x6",
         "yaxis": "y6"
        },
        {
         "line": {
          "color": "rgba(128, 128, 128, 1.0)",
          "dash": "solid",
          "shape": "linear",
          "width": 1.3
         },
         "marker": {
          "size": 2,
          "symbol": "circle"
         },
         "mode": "markers",
         "name": "B",
         "text": "",
         "type": "scatter",
         "x": [
          0.07422700527315418,
          0.4130249643103405,
          0.08548858850732852,
          -0.2313907405072228,
          0.37480831038947743,
          -0.5804733866469306,
          -0.6801880384913043,
          1.8022342350275198,
          0.2860197998610701,
          0.44232578447992343,
          -1.5016331070440165,
          -0.17047063909762822,
          0.2969657590242623,
          -0.3938742717666108,
          0.005322578576980963,
          -0.1509403635371195,
          -1.475176645424478,
          -0.6996670204144476,
          0.01040519118246566,
          -0.43008029671786063,
          0.049262896897995734,
          -2.2794486022226317,
          -0.05170995821764871,
          -1.1642223337949063,
          -0.7845961694373157,
          1.7201571256729855,
          -0.1080899951479665,
          1.9172077113769468,
          -1.0291295424930516,
          -0.4830378049493245,
          -3.042769218598791,
          -0.24804905428614898,
          1.0314805119510864,
          -1.404281005575798,
          -0.1379101447202194,
          -0.7195472131915353,
          -0.2735942321860184,
          -1.7388301654248608,
          0.8921268176921588,
          0.015092574704470684,
          -0.017843727398743788,
          -0.023373546868586628,
          0.48356729019745276,
          0.3724710103514023,
          1.008265930319548,
          2.4463710370181833,
          -1.984883419537376,
          0.3580786992700125,
          -1.1542277648532895,
          0.4987945521011533,
          -0.5602989609894605,
          -1.2899859967795375,
          -0.18340439848799506,
          -1.0255585995065564,
          -1.3069786772803889,
          -0.12442852338564153,
          0.9828613424354359,
          -0.5926949048387103,
          -0.7621082270075276,
          -1.5803155758375553,
          -1.5450357781388426,
          -0.6167758224917211,
          1.0960016305928086,
          -0.3660385461050507,
          0.40608765534013885,
          0.061831984060027934,
          -1.5480288983429116,
          2.2488514861594293,
          -0.2471095149706103,
          -1.4855057620299903,
          -0.6967002864504952,
          0.6592024314305059,
          0.7725617098876191,
          -0.008263027740115753,
          -0.6944179983332547,
          1.1526220459892333,
          1.4501439219254952,
          2.1505517700712176,
          -0.3492929750190928,
          0.11094652493428009,
          -0.6108141968900309,
          0.3502143994430392,
          -0.2227433971114668,
          1.678016033517746,
          -0.9382350184164863,
          -0.7751011686520267,
          0.4806329226047449,
          -1.2579044633708636,
          -0.9662571507224871,
          -0.3709616614910942,
          -0.06452441870975577,
          -0.35563498268520916,
          -0.016514764413823962,
          -0.22861270922344848,
          -0.5462410861762043,
          -0.16893452437550166,
          0.4508344021737034,
          -1.1284200562808675,
          0.8783286696936663,
          1.051529015196934
         ],
         "xaxis": "x7",
         "y": [
          0.6705648136691061,
          0.7479108416593321,
          0.12376066704020804,
          0.5076865776365572,
          0.27751055021147714,
          -0.03885891767652951,
          -1.1484619773486824,
          0.06228241207836648,
          -1.057573110496256,
          1.135998182104359,
          -1.5268471457059039,
          0.03189578091454026,
          0.22200393733858212,
          0.35923447166256467,
          0.0438455986084191,
          -0.3286116744247036,
          -2.263135223059364,
          -0.4813577542132742,
          -1.3263312412535673,
          -0.49685187273799336,
          0.3715396209386487,
          1.3972487045901876,
          -1.7711776100919718,
          0.5164795444719394,
          -0.4040893207540781,
          -0.233485549950093,
          -1.476540568165758,
          0.28736959359819514,
          -1.828738271205067,
          -0.23033607719013108,
          -0.1716670784386983,
          0.6333589652539582,
          0.24579312524127364,
          -1.0430792092208319,
          -1.3054477184770257,
          -0.377953740083831,
          -1.6893335298772036,
          -0.05613954327924084,
          -0.6487634074366234,
          0.28329949096429036,
          -0.4042017835341697,
          0.032341002346677895,
          0.09703874914253871,
          -1.6933485826179155,
          0.6919740876165209,
          1.6491769080229144,
          -0.5779327269841692,
          -0.368352415642468,
          -1.5547059886995682,
          -1.9347232358061432,
          -0.49457341387009357,
          -1.1431865654017428,
          -0.589440944580983,
          -0.7321925083296308,
          -0.5598495607910404,
          -0.07280153382431334,
          -0.9677078775408386,
          2.110893914463245,
          -1.8007775476818115,
          -0.5492778523321554,
          -0.5153143189722851,
          0.2819410514014495,
          0.6389173365089797,
          -0.03690079064012558,
          0.3154919697960902,
          0.34399013315007754,
          0.8770157732702345,
          1.59051131022073,
          0.7904345189953608,
          0.7311438272766193,
          0.7387973826077535,
          -0.879583440706914,
          0.5868810728835954,
          0.03420631434201392,
          -0.45894188198105734,
          -0.4850085142032951,
          0.15108157763018584,
          0.1416739928211047,
          0.4779585274094298,
          -0.8118140116099221,
          0.5562018187811655,
          -0.24169835421043992,
          -0.5660844805115468,
          -0.49218350172725206,
          -0.61293743048621,
          1.2332793309806727,
          2.1240417997227214,
          1.400322812515332,
          -1.2707703517297577,
          0.04297896308622119,
          -1.1629777976548832,
          -0.527264203119578,
          -1.1036025507929965,
          0.11634484045105915,
          1.4459565634949803,
          -0.19104602555144024,
          1.43788963939247,
          -2.0614461044332733,
          1.6997794796458487,
          0.19527633470967637
         ],
         "yaxis": "y7"
        },
        {
         "line": {
          "color": "rgba(128, 128, 128, 1.0)",
          "dash": "solid",
          "shape": "linear",
          "width": 1.3
         },
         "marker": {
          "size": 2,
          "symbol": "circle"
         },
         "mode": "markers",
         "name": "B",
         "text": "",
         "type": "scatter",
         "x": [
          -0.4265649055030353,
          0.5345753963116453,
          1.2648624239240278,
          -0.5036965328663572,
          1.3839523450361182,
          1.2575049616846319,
          0.4144214395049769,
          -0.5025921390683061,
          0.4646854192098949,
          -1.0187018400737897,
          -0.41604955826801,
          -0.704873422773722,
          0.34012659882708757,
          0.8215859955152438,
          -0.9630212613275814,
          -1.5479364624579965,
          1.262427324095102,
          -0.6314716294991332,
          -0.2948263242881089,
          2.045843585833337,
          0.7779892759515108,
          -2.3374769861385496,
          0.08076847935905539,
          0.9386365422370996,
          1.006813472053596,
          -1.7130081664294843,
          -0.8301818918715494,
          0.40662438561416886,
          0.6184271143243777,
          -1.1171162565881085,
          -0.7259743318271101,
          -0.7894973693297371,
          0.15673300611977514,
          -0.0411443578526938,
          1.8725145576747395,
          0.07417574962603085,
          -2.0476069434418798,
          -0.5231585358294968,
          -1.1450987535161061,
          0.6433542561798411,
          0.01529112076703967,
          -0.48657373270143484,
          1.7052382835670108,
          0.4116424859047016,
          -0.4234715279258913,
          -0.9252985606450924,
          0.4828442783376966,
          1.5942461288472833,
          0.08456822084845338,
          -1.5394659470604126,
          0.5501664509165102,
          0.9454148982132563,
          -0.1261792942872043,
          0.3017002608052505,
          -1.2519565936221715,
          -0.24466158095145318,
          1.1954983324987216,
          -0.3809112557174018,
          1.33923613114652,
          1.3560837868399453,
          0.09661889452534182,
          -1.4880197906360266,
          -0.2827010917022672,
          0.11638639687460929,
          1.4606288990278828,
          -0.724909388940758,
          -0.8292888279027019,
          1.2152792806199297,
          0.9406782217308104,
          -0.2271121287232906,
          -0.6456754382419851,
          0.2246503169045476,
          0.9088534114783418,
          -0.785122627292339,
          -0.43312963489765566,
          -0.6263627891053157,
          -0.8124367069314169,
          -0.0944907864199542,
          -0.19604602013795855,
          1.6082443316810087,
          -0.4009981234549997,
          0.35696227827031496,
          0.08582423282612472,
          0.11139904700992809,
          0.3807598674561099,
          1.7292243256324968,
          0.5402498413873286,
          1.0069502326770607,
          1.7525588986920897,
          -1.0483571007203314,
          0.42820914988334524,
          0.9648945646092203,
          1.4849291082110934,
          -0.6459546098399391,
          -0.11144734102298919,
          0.6220318081645934,
          0.4307143405325117,
          -0.06911151660227972,
          0.18914139541645156,
          -1.3974429546298435
         ],
         "xaxis": "x8",
         "y": [
          0.6705648136691061,
          0.7479108416593321,
          0.12376066704020804,
          0.5076865776365572,
          0.27751055021147714,
          -0.03885891767652951,
          -1.1484619773486824,
          0.06228241207836648,
          -1.057573110496256,
          1.135998182104359,
          -1.5268471457059039,
          0.03189578091454026,
          0.22200393733858212,
          0.35923447166256467,
          0.0438455986084191,
          -0.3286116744247036,
          -2.263135223059364,
          -0.4813577542132742,
          -1.3263312412535673,
          -0.49685187273799336,
          0.3715396209386487,
          1.3972487045901876,
          -1.7711776100919718,
          0.5164795444719394,
          -0.4040893207540781,
          -0.233485549950093,
          -1.476540568165758,
          0.28736959359819514,
          -1.828738271205067,
          -0.23033607719013108,
          -0.1716670784386983,
          0.6333589652539582,
          0.24579312524127364,
          -1.0430792092208319,
          -1.3054477184770257,
          -0.377953740083831,
          -1.6893335298772036,
          -0.05613954327924084,
          -0.6487634074366234,
          0.28329949096429036,
          -0.4042017835341697,
          0.032341002346677895,
          0.09703874914253871,
          -1.6933485826179155,
          0.6919740876165209,
          1.6491769080229144,
          -0.5779327269841692,
          -0.368352415642468,
          -1.5547059886995682,
          -1.9347232358061432,
          -0.49457341387009357,
          -1.1431865654017428,
          -0.589440944580983,
          -0.7321925083296308,
          -0.5598495607910404,
          -0.07280153382431334,
          -0.9677078775408386,
          2.110893914463245,
          -1.8007775476818115,
          -0.5492778523321554,
          -0.5153143189722851,
          0.2819410514014495,
          0.6389173365089797,
          -0.03690079064012558,
          0.3154919697960902,
          0.34399013315007754,
          0.8770157732702345,
          1.59051131022073,
          0.7904345189953608,
          0.7311438272766193,
          0.7387973826077535,
          -0.879583440706914,
          0.5868810728835954,
          0.03420631434201392,
          -0.45894188198105734,
          -0.4850085142032951,
          0.15108157763018584,
          0.1416739928211047,
          0.4779585274094298,
          -0.8118140116099221,
          0.5562018187811655,
          -0.24169835421043992,
          -0.5660844805115468,
          -0.49218350172725206,
          -0.61293743048621,
          1.2332793309806727,
          2.1240417997227214,
          1.400322812515332,
          -1.2707703517297577,
          0.04297896308622119,
          -1.1629777976548832,
          -0.527264203119578,
          -1.1036025507929965,
          0.11634484045105915,
          1.4459565634949803,
          -0.19104602555144024,
          1.43788963939247,
          -2.0614461044332733,
          1.6997794796458487,
          0.19527633470967637
         ],
         "yaxis": "y8"
        },
        {
         "line": {
          "color": "rgba(128, 128, 128, 1.0)",
          "dash": "solid",
          "shape": "linear",
          "width": 1.3
         },
         "marker": {
          "size": 2,
          "symbol": "circle"
         },
         "mode": "markers",
         "name": "C",
         "text": "",
         "type": "scatter",
         "x": [
          -0.4203769172138504,
          -1.7425536061462963,
          0.889037777019348,
          -1.0146950303,
          0.644987085922443,
          -0.5867545637092614,
          0.19788543355418084,
          -0.2730404740189748,
          -0.9026425523496677,
          -1.6279069661349634,
          -1.502814218287029,
          0.9328022335577573,
          -0.1647065323106058,
          0.6098435552056553,
          0.7157458424489646,
          -1.8653534653067507,
          0.04561722455290629,
          -1.83236922326372,
          1.2857591028121669,
          0.970847338623453,
          0.38469108105725586,
          -0.40669880244896184,
          -0.06933498378794453,
          1.320095941524994,
          -0.049271141297447224,
          0.24992502893762825,
          -1.0468650538432982,
          0.8544164021291353,
          0.5427353132690936,
          -0.6046711968130206,
          0.268146006228171,
          -0.8136978787020882,
          0.5129283434240521,
          -1.135879355830157,
          -0.5949835740230749,
          -0.9991198230270095,
          -1.6954857308348357,
          -0.5946797454314954,
          -0.038096198045322445,
          -0.597690474040178,
          -0.91787070032281,
          0.0049305892151103705,
          0.3176792336961347,
          1.8158591736530727,
          -0.18625555231119253,
          0.5334916797623348,
          -1.7790749335164024,
          -0.4561764528203567,
          -0.5383765801583805,
          0.9303974394928215,
          0.3019654074882458,
          -0.44691681108686937,
          1.0528514568643699,
          -0.8167380173526259,
          1.2329356705867764,
          1.5463527728336532,
          -0.20062580071149355,
          -0.09651096288571068,
          0.9154837337810589,
          -1.116298893230286,
          -0.12815668411074205,
          -0.35583474560030715,
          -0.1451024331637089,
          -0.015403174313218963,
          -0.28000443145952597,
          -0.47316418081547024,
          1.1183679273647713,
          0.5531770838513008,
          0.510397106892376,
          0.8396821842077113,
          0.11193850783712242,
          1.5340640502750655,
          0.021240171794083367,
          -0.9880713077949188,
          -0.6483165415061083,
          -0.3232730425399403,
          -0.3962516779122834,
          -0.4889839801990028,
          -0.6958235391363193,
          1.0309874763249955,
          -1.2084742863986977,
          -1.326989784774145,
          0.87219511894707,
          -0.5061261280696431,
          -0.9298406048337552,
          0.3475633689311191,
          -0.4488686768784139,
          0.08110817045384922,
          -0.0762302794889301,
          0.9625165014804028,
          0.8396345494906886,
          -1.80754629237557,
          0.8112661931818693,
          -0.6042239124449605,
          0.12005231709963185,
          -0.1764783558475839,
          1.4807239063761461,
          -1.2889664844008466,
          0.34080712450550255,
          0.5160231621797224
         ],
         "xaxis": "x9",
         "y": [
          0.07422700527315418,
          0.4130249643103405,
          0.08548858850732852,
          -0.2313907405072228,
          0.37480831038947743,
          -0.5804733866469306,
          -0.6801880384913043,
          1.8022342350275198,
          0.2860197998610701,
          0.44232578447992343,
          -1.5016331070440165,
          -0.17047063909762822,
          0.2969657590242623,
          -0.3938742717666108,
          0.005322578576980963,
          -0.1509403635371195,
          -1.475176645424478,
          -0.6996670204144476,
          0.01040519118246566,
          -0.43008029671786063,
          0.049262896897995734,
          -2.2794486022226317,
          -0.05170995821764871,
          -1.1642223337949063,
          -0.7845961694373157,
          1.7201571256729855,
          -0.1080899951479665,
          1.9172077113769468,
          -1.0291295424930516,
          -0.4830378049493245,
          -3.042769218598791,
          -0.24804905428614898,
          1.0314805119510864,
          -1.404281005575798,
          -0.1379101447202194,
          -0.7195472131915353,
          -0.2735942321860184,
          -1.7388301654248608,
          0.8921268176921588,
          0.015092574704470684,
          -0.017843727398743788,
          -0.023373546868586628,
          0.48356729019745276,
          0.3724710103514023,
          1.008265930319548,
          2.4463710370181833,
          -1.984883419537376,
          0.3580786992700125,
          -1.1542277648532895,
          0.4987945521011533,
          -0.5602989609894605,
          -1.2899859967795375,
          -0.18340439848799506,
          -1.0255585995065564,
          -1.3069786772803889,
          -0.12442852338564153,
          0.9828613424354359,
          -0.5926949048387103,
          -0.7621082270075276,
          -1.5803155758375553,
          -1.5450357781388426,
          -0.6167758224917211,
          1.0960016305928086,
          -0.3660385461050507,
          0.40608765534013885,
          0.061831984060027934,
          -1.5480288983429116,
          2.2488514861594293,
          -0.2471095149706103,
          -1.4855057620299903,
          -0.6967002864504952,
          0.6592024314305059,
          0.7725617098876191,
          -0.008263027740115753,
          -0.6944179983332547,
          1.1526220459892333,
          1.4501439219254952,
          2.1505517700712176,
          -0.3492929750190928,
          0.11094652493428009,
          -0.6108141968900309,
          0.3502143994430392,
          -0.2227433971114668,
          1.678016033517746,
          -0.9382350184164863,
          -0.7751011686520267,
          0.4806329226047449,
          -1.2579044633708636,
          -0.9662571507224871,
          -0.3709616614910942,
          -0.06452441870975577,
          -0.35563498268520916,
          -0.016514764413823962,
          -0.22861270922344848,
          -0.5462410861762043,
          -0.16893452437550166,
          0.4508344021737034,
          -1.1284200562808675,
          0.8783286696936663,
          1.051529015196934
         ],
         "yaxis": "y9"
        },
        {
         "line": {
          "color": "rgba(128, 128, 128, 1.0)",
          "dash": "solid",
          "shape": "linear",
          "width": 1.3
         },
         "marker": {
          "size": 2,
          "symbol": "circle"
         },
         "mode": "markers",
         "name": "C",
         "text": "",
         "type": "scatter",
         "x": [
          0.6705648136691061,
          0.7479108416593321,
          0.12376066704020804,
          0.5076865776365572,
          0.27751055021147714,
          -0.03885891767652951,
          -1.1484619773486824,
          0.06228241207836648,
          -1.057573110496256,
          1.135998182104359,
          -1.5268471457059039,
          0.03189578091454026,
          0.22200393733858212,
          0.35923447166256467,
          0.0438455986084191,
          -0.3286116744247036,
          -2.263135223059364,
          -0.4813577542132742,
          -1.3263312412535673,
          -0.49685187273799336,
          0.3715396209386487,
          1.3972487045901876,
          -1.7711776100919718,
          0.5164795444719394,
          -0.4040893207540781,
          -0.233485549950093,
          -1.476540568165758,
          0.28736959359819514,
          -1.828738271205067,
          -0.23033607719013108,
          -0.1716670784386983,
          0.6333589652539582,
          0.24579312524127364,
          -1.0430792092208319,
          -1.3054477184770257,
          -0.377953740083831,
          -1.6893335298772036,
          -0.05613954327924084,
          -0.6487634074366234,
          0.28329949096429036,
          -0.4042017835341697,
          0.032341002346677895,
          0.09703874914253871,
          -1.6933485826179155,
          0.6919740876165209,
          1.6491769080229144,
          -0.5779327269841692,
          -0.368352415642468,
          -1.5547059886995682,
          -1.9347232358061432,
          -0.49457341387009357,
          -1.1431865654017428,
          -0.589440944580983,
          -0.7321925083296308,
          -0.5598495607910404,
          -0.07280153382431334,
          -0.9677078775408386,
          2.110893914463245,
          -1.8007775476818115,
          -0.5492778523321554,
          -0.5153143189722851,
          0.2819410514014495,
          0.6389173365089797,
          -0.03690079064012558,
          0.3154919697960902,
          0.34399013315007754,
          0.8770157732702345,
          1.59051131022073,
          0.7904345189953608,
          0.7311438272766193,
          0.7387973826077535,
          -0.879583440706914,
          0.5868810728835954,
          0.03420631434201392,
          -0.45894188198105734,
          -0.4850085142032951,
          0.15108157763018584,
          0.1416739928211047,
          0.4779585274094298,
          -0.8118140116099221,
          0.5562018187811655,
          -0.24169835421043992,
          -0.5660844805115468,
          -0.49218350172725206,
          -0.61293743048621,
          1.2332793309806727,
          2.1240417997227214,
          1.400322812515332,
          -1.2707703517297577,
          0.04297896308622119,
          -1.1629777976548832,
          -0.527264203119578,
          -1.1036025507929965,
          0.11634484045105915,
          1.4459565634949803,
          -0.19104602555144024,
          1.43788963939247,
          -2.0614461044332733,
          1.6997794796458487,
          0.19527633470967637
         ],
         "xaxis": "x10",
         "y": [
          0.07422700527315418,
          0.4130249643103405,
          0.08548858850732852,
          -0.2313907405072228,
          0.37480831038947743,
          -0.5804733866469306,
          -0.6801880384913043,
          1.8022342350275198,
          0.2860197998610701,
          0.44232578447992343,
          -1.5016331070440165,
          -0.17047063909762822,
          0.2969657590242623,
          -0.3938742717666108,
          0.005322578576980963,
          -0.1509403635371195,
          -1.475176645424478,
          -0.6996670204144476,
          0.01040519118246566,
          -0.43008029671786063,
          0.049262896897995734,
          -2.2794486022226317,
          -0.05170995821764871,
          -1.1642223337949063,
          -0.7845961694373157,
          1.7201571256729855,
          -0.1080899951479665,
          1.9172077113769468,
          -1.0291295424930516,
          -0.4830378049493245,
          -3.042769218598791,
          -0.24804905428614898,
          1.0314805119510864,
          -1.404281005575798,
          -0.1379101447202194,
          -0.7195472131915353,
          -0.2735942321860184,
          -1.7388301654248608,
          0.8921268176921588,
          0.015092574704470684,
          -0.017843727398743788,
          -0.023373546868586628,
          0.48356729019745276,
          0.3724710103514023,
          1.008265930319548,
          2.4463710370181833,
          -1.984883419537376,
          0.3580786992700125,
          -1.1542277648532895,
          0.4987945521011533,
          -0.5602989609894605,
          -1.2899859967795375,
          -0.18340439848799506,
          -1.0255585995065564,
          -1.3069786772803889,
          -0.12442852338564153,
          0.9828613424354359,
          -0.5926949048387103,
          -0.7621082270075276,
          -1.5803155758375553,
          -1.5450357781388426,
          -0.6167758224917211,
          1.0960016305928086,
          -0.3660385461050507,
          0.40608765534013885,
          0.061831984060027934,
          -1.5480288983429116,
          2.2488514861594293,
          -0.2471095149706103,
          -1.4855057620299903,
          -0.6967002864504952,
          0.6592024314305059,
          0.7725617098876191,
          -0.008263027740115753,
          -0.6944179983332547,
          1.1526220459892333,
          1.4501439219254952,
          2.1505517700712176,
          -0.3492929750190928,
          0.11094652493428009,
          -0.6108141968900309,
          0.3502143994430392,
          -0.2227433971114668,
          1.678016033517746,
          -0.9382350184164863,
          -0.7751011686520267,
          0.4806329226047449,
          -1.2579044633708636,
          -0.9662571507224871,
          -0.3709616614910942,
          -0.06452441870975577,
          -0.35563498268520916,
          -0.016514764413823962,
          -0.22861270922344848,
          -0.5462410861762043,
          -0.16893452437550166,
          0.4508344021737034,
          -1.1284200562808675,
          0.8783286696936663,
          1.051529015196934
         ],
         "yaxis": "y10"
        },
        {
         "histfunc": "count",
         "histnorm": "",
         "marker": {
          "color": "rgba(50, 171, 96, 1.0)",
          "line": {
           "color": "#4D5663",
           "width": 1.3
          }
         },
         "name": "C",
         "nbinsx": 10,
         "opacity": 0.8,
         "orientation": "v",
         "type": "histogram",
         "x": [
          0.07422700527315418,
          0.4130249643103405,
          0.08548858850732852,
          -0.2313907405072228,
          0.37480831038947743,
          -0.5804733866469306,
          -0.6801880384913043,
          1.8022342350275198,
          0.2860197998610701,
          0.44232578447992343,
          -1.5016331070440165,
          -0.17047063909762822,
          0.2969657590242623,
          -0.3938742717666108,
          0.005322578576980963,
          -0.1509403635371195,
          -1.475176645424478,
          -0.6996670204144476,
          0.01040519118246566,
          -0.43008029671786063,
          0.049262896897995734,
          -2.2794486022226317,
          -0.05170995821764871,
          -1.1642223337949063,
          -0.7845961694373157,
          1.7201571256729855,
          -0.1080899951479665,
          1.9172077113769468,
          -1.0291295424930516,
          -0.4830378049493245,
          -3.042769218598791,
          -0.24804905428614898,
          1.0314805119510864,
          -1.404281005575798,
          -0.1379101447202194,
          -0.7195472131915353,
          -0.2735942321860184,
          -1.7388301654248608,
          0.8921268176921588,
          0.015092574704470684,
          -0.017843727398743788,
          -0.023373546868586628,
          0.48356729019745276,
          0.3724710103514023,
          1.008265930319548,
          2.4463710370181833,
          -1.984883419537376,
          0.3580786992700125,
          -1.1542277648532895,
          0.4987945521011533,
          -0.5602989609894605,
          -1.2899859967795375,
          -0.18340439848799506,
          -1.0255585995065564,
          -1.3069786772803889,
          -0.12442852338564153,
          0.9828613424354359,
          -0.5926949048387103,
          -0.7621082270075276,
          -1.5803155758375553,
          -1.5450357781388426,
          -0.6167758224917211,
          1.0960016305928086,
          -0.3660385461050507,
          0.40608765534013885,
          0.061831984060027934,
          -1.5480288983429116,
          2.2488514861594293,
          -0.2471095149706103,
          -1.4855057620299903,
          -0.6967002864504952,
          0.6592024314305059,
          0.7725617098876191,
          -0.008263027740115753,
          -0.6944179983332547,
          1.1526220459892333,
          1.4501439219254952,
          2.1505517700712176,
          -0.3492929750190928,
          0.11094652493428009,
          -0.6108141968900309,
          0.3502143994430392,
          -0.2227433971114668,
          1.678016033517746,
          -0.9382350184164863,
          -0.7751011686520267,
          0.4806329226047449,
          -1.2579044633708636,
          -0.9662571507224871,
          -0.3709616614910942,
          -0.06452441870975577,
          -0.35563498268520916,
          -0.016514764413823962,
          -0.22861270922344848,
          -0.5462410861762043,
          -0.16893452437550166,
          0.4508344021737034,
          -1.1284200562808675,
          0.8783286696936663,
          1.051529015196934
         ],
         "xaxis": "x11",
         "yaxis": "y11"
        },
        {
         "line": {
          "color": "rgba(128, 128, 128, 1.0)",
          "dash": "solid",
          "shape": "linear",
          "width": 1.3
         },
         "marker": {
          "size": 2,
          "symbol": "circle"
         },
         "mode": "markers",
         "name": "C",
         "text": "",
         "type": "scatter",
         "x": [
          -0.4265649055030353,
          0.5345753963116453,
          1.2648624239240278,
          -0.5036965328663572,
          1.3839523450361182,
          1.2575049616846319,
          0.4144214395049769,
          -0.5025921390683061,
          0.4646854192098949,
          -1.0187018400737897,
          -0.41604955826801,
          -0.704873422773722,
          0.34012659882708757,
          0.8215859955152438,
          -0.9630212613275814,
          -1.5479364624579965,
          1.262427324095102,
          -0.6314716294991332,
          -0.2948263242881089,
          2.045843585833337,
          0.7779892759515108,
          -2.3374769861385496,
          0.08076847935905539,
          0.9386365422370996,
          1.006813472053596,
          -1.7130081664294843,
          -0.8301818918715494,
          0.40662438561416886,
          0.6184271143243777,
          -1.1171162565881085,
          -0.7259743318271101,
          -0.7894973693297371,
          0.15673300611977514,
          -0.0411443578526938,
          1.8725145576747395,
          0.07417574962603085,
          -2.0476069434418798,
          -0.5231585358294968,
          -1.1450987535161061,
          0.6433542561798411,
          0.01529112076703967,
          -0.48657373270143484,
          1.7052382835670108,
          0.4116424859047016,
          -0.4234715279258913,
          -0.9252985606450924,
          0.4828442783376966,
          1.5942461288472833,
          0.08456822084845338,
          -1.5394659470604126,
          0.5501664509165102,
          0.9454148982132563,
          -0.1261792942872043,
          0.3017002608052505,
          -1.2519565936221715,
          -0.24466158095145318,
          1.1954983324987216,
          -0.3809112557174018,
          1.33923613114652,
          1.3560837868399453,
          0.09661889452534182,
          -1.4880197906360266,
          -0.2827010917022672,
          0.11638639687460929,
          1.4606288990278828,
          -0.724909388940758,
          -0.8292888279027019,
          1.2152792806199297,
          0.9406782217308104,
          -0.2271121287232906,
          -0.6456754382419851,
          0.2246503169045476,
          0.9088534114783418,
          -0.785122627292339,
          -0.43312963489765566,
          -0.6263627891053157,
          -0.8124367069314169,
          -0.0944907864199542,
          -0.19604602013795855,
          1.6082443316810087,
          -0.4009981234549997,
          0.35696227827031496,
          0.08582423282612472,
          0.11139904700992809,
          0.3807598674561099,
          1.7292243256324968,
          0.5402498413873286,
          1.0069502326770607,
          1.7525588986920897,
          -1.0483571007203314,
          0.42820914988334524,
          0.9648945646092203,
          1.4849291082110934,
          -0.6459546098399391,
          -0.11144734102298919,
          0.6220318081645934,
          0.4307143405325117,
          -0.06911151660227972,
          0.18914139541645156,
          -1.3974429546298435
         ],
         "xaxis": "x12",
         "y": [
          0.07422700527315418,
          0.4130249643103405,
          0.08548858850732852,
          -0.2313907405072228,
          0.37480831038947743,
          -0.5804733866469306,
          -0.6801880384913043,
          1.8022342350275198,
          0.2860197998610701,
          0.44232578447992343,
          -1.5016331070440165,
          -0.17047063909762822,
          0.2969657590242623,
          -0.3938742717666108,
          0.005322578576980963,
          -0.1509403635371195,
          -1.475176645424478,
          -0.6996670204144476,
          0.01040519118246566,
          -0.43008029671786063,
          0.049262896897995734,
          -2.2794486022226317,
          -0.05170995821764871,
          -1.1642223337949063,
          -0.7845961694373157,
          1.7201571256729855,
          -0.1080899951479665,
          1.9172077113769468,
          -1.0291295424930516,
          -0.4830378049493245,
          -3.042769218598791,
          -0.24804905428614898,
          1.0314805119510864,
          -1.404281005575798,
          -0.1379101447202194,
          -0.7195472131915353,
          -0.2735942321860184,
          -1.7388301654248608,
          0.8921268176921588,
          0.015092574704470684,
          -0.017843727398743788,
          -0.023373546868586628,
          0.48356729019745276,
          0.3724710103514023,
          1.008265930319548,
          2.4463710370181833,
          -1.984883419537376,
          0.3580786992700125,
          -1.1542277648532895,
          0.4987945521011533,
          -0.5602989609894605,
          -1.2899859967795375,
          -0.18340439848799506,
          -1.0255585995065564,
          -1.3069786772803889,
          -0.12442852338564153,
          0.9828613424354359,
          -0.5926949048387103,
          -0.7621082270075276,
          -1.5803155758375553,
          -1.5450357781388426,
          -0.6167758224917211,
          1.0960016305928086,
          -0.3660385461050507,
          0.40608765534013885,
          0.061831984060027934,
          -1.5480288983429116,
          2.2488514861594293,
          -0.2471095149706103,
          -1.4855057620299903,
          -0.6967002864504952,
          0.6592024314305059,
          0.7725617098876191,
          -0.008263027740115753,
          -0.6944179983332547,
          1.1526220459892333,
          1.4501439219254952,
          2.1505517700712176,
          -0.3492929750190928,
          0.11094652493428009,
          -0.6108141968900309,
          0.3502143994430392,
          -0.2227433971114668,
          1.678016033517746,
          -0.9382350184164863,
          -0.7751011686520267,
          0.4806329226047449,
          -1.2579044633708636,
          -0.9662571507224871,
          -0.3709616614910942,
          -0.06452441870975577,
          -0.35563498268520916,
          -0.016514764413823962,
          -0.22861270922344848,
          -0.5462410861762043,
          -0.16893452437550166,
          0.4508344021737034,
          -1.1284200562808675,
          0.8783286696936663,
          1.051529015196934
         ],
         "yaxis": "y12"
        },
        {
         "line": {
          "color": "rgba(128, 128, 128, 1.0)",
          "dash": "solid",
          "shape": "linear",
          "width": 1.3
         },
         "marker": {
          "size": 2,
          "symbol": "circle"
         },
         "mode": "markers",
         "name": "D",
         "text": "",
         "type": "scatter",
         "x": [
          -0.4203769172138504,
          -1.7425536061462963,
          0.889037777019348,
          -1.0146950303,
          0.644987085922443,
          -0.5867545637092614,
          0.19788543355418084,
          -0.2730404740189748,
          -0.9026425523496677,
          -1.6279069661349634,
          -1.502814218287029,
          0.9328022335577573,
          -0.1647065323106058,
          0.6098435552056553,
          0.7157458424489646,
          -1.8653534653067507,
          0.04561722455290629,
          -1.83236922326372,
          1.2857591028121669,
          0.970847338623453,
          0.38469108105725586,
          -0.40669880244896184,
          -0.06933498378794453,
          1.320095941524994,
          -0.049271141297447224,
          0.24992502893762825,
          -1.0468650538432982,
          0.8544164021291353,
          0.5427353132690936,
          -0.6046711968130206,
          0.268146006228171,
          -0.8136978787020882,
          0.5129283434240521,
          -1.135879355830157,
          -0.5949835740230749,
          -0.9991198230270095,
          -1.6954857308348357,
          -0.5946797454314954,
          -0.038096198045322445,
          -0.597690474040178,
          -0.91787070032281,
          0.0049305892151103705,
          0.3176792336961347,
          1.8158591736530727,
          -0.18625555231119253,
          0.5334916797623348,
          -1.7790749335164024,
          -0.4561764528203567,
          -0.5383765801583805,
          0.9303974394928215,
          0.3019654074882458,
          -0.44691681108686937,
          1.0528514568643699,
          -0.8167380173526259,
          1.2329356705867764,
          1.5463527728336532,
          -0.20062580071149355,
          -0.09651096288571068,
          0.9154837337810589,
          -1.116298893230286,
          -0.12815668411074205,
          -0.35583474560030715,
          -0.1451024331637089,
          -0.015403174313218963,
          -0.28000443145952597,
          -0.47316418081547024,
          1.1183679273647713,
          0.5531770838513008,
          0.510397106892376,
          0.8396821842077113,
          0.11193850783712242,
          1.5340640502750655,
          0.021240171794083367,
          -0.9880713077949188,
          -0.6483165415061083,
          -0.3232730425399403,
          -0.3962516779122834,
          -0.4889839801990028,
          -0.6958235391363193,
          1.0309874763249955,
          -1.2084742863986977,
          -1.326989784774145,
          0.87219511894707,
          -0.5061261280696431,
          -0.9298406048337552,
          0.3475633689311191,
          -0.4488686768784139,
          0.08110817045384922,
          -0.0762302794889301,
          0.9625165014804028,
          0.8396345494906886,
          -1.80754629237557,
          0.8112661931818693,
          -0.6042239124449605,
          0.12005231709963185,
          -0.1764783558475839,
          1.4807239063761461,
          -1.2889664844008466,
          0.34080712450550255,
          0.5160231621797224
         ],
         "xaxis": "x13",
         "y": [
          -0.4265649055030353,
          0.5345753963116453,
          1.2648624239240278,
          -0.5036965328663572,
          1.3839523450361182,
          1.2575049616846319,
          0.4144214395049769,
          -0.5025921390683061,
          0.4646854192098949,
          -1.0187018400737897,
          -0.41604955826801,
          -0.704873422773722,
          0.34012659882708757,
          0.8215859955152438,
          -0.9630212613275814,
          -1.5479364624579965,
          1.262427324095102,
          -0.6314716294991332,
          -0.2948263242881089,
          2.045843585833337,
          0.7779892759515108,
          -2.3374769861385496,
          0.08076847935905539,
          0.9386365422370996,
          1.006813472053596,
          -1.7130081664294843,
          -0.8301818918715494,
          0.40662438561416886,
          0.6184271143243777,
          -1.1171162565881085,
          -0.7259743318271101,
          -0.7894973693297371,
          0.15673300611977514,
          -0.0411443578526938,
          1.8725145576747395,
          0.07417574962603085,
          -2.0476069434418798,
          -0.5231585358294968,
          -1.1450987535161061,
          0.6433542561798411,
          0.01529112076703967,
          -0.48657373270143484,
          1.7052382835670108,
          0.4116424859047016,
          -0.4234715279258913,
          -0.9252985606450924,
          0.4828442783376966,
          1.5942461288472833,
          0.08456822084845338,
          -1.5394659470604126,
          0.5501664509165102,
          0.9454148982132563,
          -0.1261792942872043,
          0.3017002608052505,
          -1.2519565936221715,
          -0.24466158095145318,
          1.1954983324987216,
          -0.3809112557174018,
          1.33923613114652,
          1.3560837868399453,
          0.09661889452534182,
          -1.4880197906360266,
          -0.2827010917022672,
          0.11638639687460929,
          1.4606288990278828,
          -0.724909388940758,
          -0.8292888279027019,
          1.2152792806199297,
          0.9406782217308104,
          -0.2271121287232906,
          -0.6456754382419851,
          0.2246503169045476,
          0.9088534114783418,
          -0.785122627292339,
          -0.43312963489765566,
          -0.6263627891053157,
          -0.8124367069314169,
          -0.0944907864199542,
          -0.19604602013795855,
          1.6082443316810087,
          -0.4009981234549997,
          0.35696227827031496,
          0.08582423282612472,
          0.11139904700992809,
          0.3807598674561099,
          1.7292243256324968,
          0.5402498413873286,
          1.0069502326770607,
          1.7525588986920897,
          -1.0483571007203314,
          0.42820914988334524,
          0.9648945646092203,
          1.4849291082110934,
          -0.6459546098399391,
          -0.11144734102298919,
          0.6220318081645934,
          0.4307143405325117,
          -0.06911151660227972,
          0.18914139541645156,
          -1.3974429546298435
         ],
         "yaxis": "y13"
        },
        {
         "line": {
          "color": "rgba(128, 128, 128, 1.0)",
          "dash": "solid",
          "shape": "linear",
          "width": 1.3
         },
         "marker": {
          "size": 2,
          "symbol": "circle"
         },
         "mode": "markers",
         "name": "D",
         "text": "",
         "type": "scatter",
         "x": [
          0.6705648136691061,
          0.7479108416593321,
          0.12376066704020804,
          0.5076865776365572,
          0.27751055021147714,
          -0.03885891767652951,
          -1.1484619773486824,
          0.06228241207836648,
          -1.057573110496256,
          1.135998182104359,
          -1.5268471457059039,
          0.03189578091454026,
          0.22200393733858212,
          0.35923447166256467,
          0.0438455986084191,
          -0.3286116744247036,
          -2.263135223059364,
          -0.4813577542132742,
          -1.3263312412535673,
          -0.49685187273799336,
          0.3715396209386487,
          1.3972487045901876,
          -1.7711776100919718,
          0.5164795444719394,
          -0.4040893207540781,
          -0.233485549950093,
          -1.476540568165758,
          0.28736959359819514,
          -1.828738271205067,
          -0.23033607719013108,
          -0.1716670784386983,
          0.6333589652539582,
          0.24579312524127364,
          -1.0430792092208319,
          -1.3054477184770257,
          -0.377953740083831,
          -1.6893335298772036,
          -0.05613954327924084,
          -0.6487634074366234,
          0.28329949096429036,
          -0.4042017835341697,
          0.032341002346677895,
          0.09703874914253871,
          -1.6933485826179155,
          0.6919740876165209,
          1.6491769080229144,
          -0.5779327269841692,
          -0.368352415642468,
          -1.5547059886995682,
          -1.9347232358061432,
          -0.49457341387009357,
          -1.1431865654017428,
          -0.589440944580983,
          -0.7321925083296308,
          -0.5598495607910404,
          -0.07280153382431334,
          -0.9677078775408386,
          2.110893914463245,
          -1.8007775476818115,
          -0.5492778523321554,
          -0.5153143189722851,
          0.2819410514014495,
          0.6389173365089797,
          -0.03690079064012558,
          0.3154919697960902,
          0.34399013315007754,
          0.8770157732702345,
          1.59051131022073,
          0.7904345189953608,
          0.7311438272766193,
          0.7387973826077535,
          -0.879583440706914,
          0.5868810728835954,
          0.03420631434201392,
          -0.45894188198105734,
          -0.4850085142032951,
          0.15108157763018584,
          0.1416739928211047,
          0.4779585274094298,
          -0.8118140116099221,
          0.5562018187811655,
          -0.24169835421043992,
          -0.5660844805115468,
          -0.49218350172725206,
          -0.61293743048621,
          1.2332793309806727,
          2.1240417997227214,
          1.400322812515332,
          -1.2707703517297577,
          0.04297896308622119,
          -1.1629777976548832,
          -0.527264203119578,
          -1.1036025507929965,
          0.11634484045105915,
          1.4459565634949803,
          -0.19104602555144024,
          1.43788963939247,
          -2.0614461044332733,
          1.6997794796458487,
          0.19527633470967637
         ],
         "xaxis": "x14",
         "y": [
          -0.4265649055030353,
          0.5345753963116453,
          1.2648624239240278,
          -0.5036965328663572,
          1.3839523450361182,
          1.2575049616846319,
          0.4144214395049769,
          -0.5025921390683061,
          0.4646854192098949,
          -1.0187018400737897,
          -0.41604955826801,
          -0.704873422773722,
          0.34012659882708757,
          0.8215859955152438,
          -0.9630212613275814,
          -1.5479364624579965,
          1.262427324095102,
          -0.6314716294991332,
          -0.2948263242881089,
          2.045843585833337,
          0.7779892759515108,
          -2.3374769861385496,
          0.08076847935905539,
          0.9386365422370996,
          1.006813472053596,
          -1.7130081664294843,
          -0.8301818918715494,
          0.40662438561416886,
          0.6184271143243777,
          -1.1171162565881085,
          -0.7259743318271101,
          -0.7894973693297371,
          0.15673300611977514,
          -0.0411443578526938,
          1.8725145576747395,
          0.07417574962603085,
          -2.0476069434418798,
          -0.5231585358294968,
          -1.1450987535161061,
          0.6433542561798411,
          0.01529112076703967,
          -0.48657373270143484,
          1.7052382835670108,
          0.4116424859047016,
          -0.4234715279258913,
          -0.9252985606450924,
          0.4828442783376966,
          1.5942461288472833,
          0.08456822084845338,
          -1.5394659470604126,
          0.5501664509165102,
          0.9454148982132563,
          -0.1261792942872043,
          0.3017002608052505,
          -1.2519565936221715,
          -0.24466158095145318,
          1.1954983324987216,
          -0.3809112557174018,
          1.33923613114652,
          1.3560837868399453,
          0.09661889452534182,
          -1.4880197906360266,
          -0.2827010917022672,
          0.11638639687460929,
          1.4606288990278828,
          -0.724909388940758,
          -0.8292888279027019,
          1.2152792806199297,
          0.9406782217308104,
          -0.2271121287232906,
          -0.6456754382419851,
          0.2246503169045476,
          0.9088534114783418,
          -0.785122627292339,
          -0.43312963489765566,
          -0.6263627891053157,
          -0.8124367069314169,
          -0.0944907864199542,
          -0.19604602013795855,
          1.6082443316810087,
          -0.4009981234549997,
          0.35696227827031496,
          0.08582423282612472,
          0.11139904700992809,
          0.3807598674561099,
          1.7292243256324968,
          0.5402498413873286,
          1.0069502326770607,
          1.7525588986920897,
          -1.0483571007203314,
          0.42820914988334524,
          0.9648945646092203,
          1.4849291082110934,
          -0.6459546098399391,
          -0.11144734102298919,
          0.6220318081645934,
          0.4307143405325117,
          -0.06911151660227972,
          0.18914139541645156,
          -1.3974429546298435
         ],
         "yaxis": "y14"
        },
        {
         "line": {
          "color": "rgba(128, 128, 128, 1.0)",
          "dash": "solid",
          "shape": "linear",
          "width": 1.3
         },
         "marker": {
          "size": 2,
          "symbol": "circle"
         },
         "mode": "markers",
         "name": "D",
         "text": "",
         "type": "scatter",
         "x": [
          0.07422700527315418,
          0.4130249643103405,
          0.08548858850732852,
          -0.2313907405072228,
          0.37480831038947743,
          -0.5804733866469306,
          -0.6801880384913043,
          1.8022342350275198,
          0.2860197998610701,
          0.44232578447992343,
          -1.5016331070440165,
          -0.17047063909762822,
          0.2969657590242623,
          -0.3938742717666108,
          0.005322578576980963,
          -0.1509403635371195,
          -1.475176645424478,
          -0.6996670204144476,
          0.01040519118246566,
          -0.43008029671786063,
          0.049262896897995734,
          -2.2794486022226317,
          -0.05170995821764871,
          -1.1642223337949063,
          -0.7845961694373157,
          1.7201571256729855,
          -0.1080899951479665,
          1.9172077113769468,
          -1.0291295424930516,
          -0.4830378049493245,
          -3.042769218598791,
          -0.24804905428614898,
          1.0314805119510864,
          -1.404281005575798,
          -0.1379101447202194,
          -0.7195472131915353,
          -0.2735942321860184,
          -1.7388301654248608,
          0.8921268176921588,
          0.015092574704470684,
          -0.017843727398743788,
          -0.023373546868586628,
          0.48356729019745276,
          0.3724710103514023,
          1.008265930319548,
          2.4463710370181833,
          -1.984883419537376,
          0.3580786992700125,
          -1.1542277648532895,
          0.4987945521011533,
          -0.5602989609894605,
          -1.2899859967795375,
          -0.18340439848799506,
          -1.0255585995065564,
          -1.3069786772803889,
          -0.12442852338564153,
          0.9828613424354359,
          -0.5926949048387103,
          -0.7621082270075276,
          -1.5803155758375553,
          -1.5450357781388426,
          -0.6167758224917211,
          1.0960016305928086,
          -0.3660385461050507,
          0.40608765534013885,
          0.061831984060027934,
          -1.5480288983429116,
          2.2488514861594293,
          -0.2471095149706103,
          -1.4855057620299903,
          -0.6967002864504952,
          0.6592024314305059,
          0.7725617098876191,
          -0.008263027740115753,
          -0.6944179983332547,
          1.1526220459892333,
          1.4501439219254952,
          2.1505517700712176,
          -0.3492929750190928,
          0.11094652493428009,
          -0.6108141968900309,
          0.3502143994430392,
          -0.2227433971114668,
          1.678016033517746,
          -0.9382350184164863,
          -0.7751011686520267,
          0.4806329226047449,
          -1.2579044633708636,
          -0.9662571507224871,
          -0.3709616614910942,
          -0.06452441870975577,
          -0.35563498268520916,
          -0.016514764413823962,
          -0.22861270922344848,
          -0.5462410861762043,
          -0.16893452437550166,
          0.4508344021737034,
          -1.1284200562808675,
          0.8783286696936663,
          1.051529015196934
         ],
         "xaxis": "x15",
         "y": [
          -0.4265649055030353,
          0.5345753963116453,
          1.2648624239240278,
          -0.5036965328663572,
          1.3839523450361182,
          1.2575049616846319,
          0.4144214395049769,
          -0.5025921390683061,
          0.4646854192098949,
          -1.0187018400737897,
          -0.41604955826801,
          -0.704873422773722,
          0.34012659882708757,
          0.8215859955152438,
          -0.9630212613275814,
          -1.5479364624579965,
          1.262427324095102,
          -0.6314716294991332,
          -0.2948263242881089,
          2.045843585833337,
          0.7779892759515108,
          -2.3374769861385496,
          0.08076847935905539,
          0.9386365422370996,
          1.006813472053596,
          -1.7130081664294843,
          -0.8301818918715494,
          0.40662438561416886,
          0.6184271143243777,
          -1.1171162565881085,
          -0.7259743318271101,
          -0.7894973693297371,
          0.15673300611977514,
          -0.0411443578526938,
          1.8725145576747395,
          0.07417574962603085,
          -2.0476069434418798,
          -0.5231585358294968,
          -1.1450987535161061,
          0.6433542561798411,
          0.01529112076703967,
          -0.48657373270143484,
          1.7052382835670108,
          0.4116424859047016,
          -0.4234715279258913,
          -0.9252985606450924,
          0.4828442783376966,
          1.5942461288472833,
          0.08456822084845338,
          -1.5394659470604126,
          0.5501664509165102,
          0.9454148982132563,
          -0.1261792942872043,
          0.3017002608052505,
          -1.2519565936221715,
          -0.24466158095145318,
          1.1954983324987216,
          -0.3809112557174018,
          1.33923613114652,
          1.3560837868399453,
          0.09661889452534182,
          -1.4880197906360266,
          -0.2827010917022672,
          0.11638639687460929,
          1.4606288990278828,
          -0.724909388940758,
          -0.8292888279027019,
          1.2152792806199297,
          0.9406782217308104,
          -0.2271121287232906,
          -0.6456754382419851,
          0.2246503169045476,
          0.9088534114783418,
          -0.785122627292339,
          -0.43312963489765566,
          -0.6263627891053157,
          -0.8124367069314169,
          -0.0944907864199542,
          -0.19604602013795855,
          1.6082443316810087,
          -0.4009981234549997,
          0.35696227827031496,
          0.08582423282612472,
          0.11139904700992809,
          0.3807598674561099,
          1.7292243256324968,
          0.5402498413873286,
          1.0069502326770607,
          1.7525588986920897,
          -1.0483571007203314,
          0.42820914988334524,
          0.9648945646092203,
          1.4849291082110934,
          -0.6459546098399391,
          -0.11144734102298919,
          0.6220318081645934,
          0.4307143405325117,
          -0.06911151660227972,
          0.18914139541645156,
          -1.3974429546298435
         ],
         "yaxis": "y15"
        },
        {
         "histfunc": "count",
         "histnorm": "",
         "marker": {
          "color": "rgba(128, 0, 128, 1.0)",
          "line": {
           "color": "#4D5663",
           "width": 1.3
          }
         },
         "name": "D",
         "nbinsx": 10,
         "opacity": 0.8,
         "orientation": "v",
         "type": "histogram",
         "x": [
          -0.4265649055030353,
          0.5345753963116453,
          1.2648624239240278,
          -0.5036965328663572,
          1.3839523450361182,
          1.2575049616846319,
          0.4144214395049769,
          -0.5025921390683061,
          0.4646854192098949,
          -1.0187018400737897,
          -0.41604955826801,
          -0.704873422773722,
          0.34012659882708757,
          0.8215859955152438,
          -0.9630212613275814,
          -1.5479364624579965,
          1.262427324095102,
          -0.6314716294991332,
          -0.2948263242881089,
          2.045843585833337,
          0.7779892759515108,
          -2.3374769861385496,
          0.08076847935905539,
          0.9386365422370996,
          1.006813472053596,
          -1.7130081664294843,
          -0.8301818918715494,
          0.40662438561416886,
          0.6184271143243777,
          -1.1171162565881085,
          -0.7259743318271101,
          -0.7894973693297371,
          0.15673300611977514,
          -0.0411443578526938,
          1.8725145576747395,
          0.07417574962603085,
          -2.0476069434418798,
          -0.5231585358294968,
          -1.1450987535161061,
          0.6433542561798411,
          0.01529112076703967,
          -0.48657373270143484,
          1.7052382835670108,
          0.4116424859047016,
          -0.4234715279258913,
          -0.9252985606450924,
          0.4828442783376966,
          1.5942461288472833,
          0.08456822084845338,
          -1.5394659470604126,
          0.5501664509165102,
          0.9454148982132563,
          -0.1261792942872043,
          0.3017002608052505,
          -1.2519565936221715,
          -0.24466158095145318,
          1.1954983324987216,
          -0.3809112557174018,
          1.33923613114652,
          1.3560837868399453,
          0.09661889452534182,
          -1.4880197906360266,
          -0.2827010917022672,
          0.11638639687460929,
          1.4606288990278828,
          -0.724909388940758,
          -0.8292888279027019,
          1.2152792806199297,
          0.9406782217308104,
          -0.2271121287232906,
          -0.6456754382419851,
          0.2246503169045476,
          0.9088534114783418,
          -0.785122627292339,
          -0.43312963489765566,
          -0.6263627891053157,
          -0.8124367069314169,
          -0.0944907864199542,
          -0.19604602013795855,
          1.6082443316810087,
          -0.4009981234549997,
          0.35696227827031496,
          0.08582423282612472,
          0.11139904700992809,
          0.3807598674561099,
          1.7292243256324968,
          0.5402498413873286,
          1.0069502326770607,
          1.7525588986920897,
          -1.0483571007203314,
          0.42820914988334524,
          0.9648945646092203,
          1.4849291082110934,
          -0.6459546098399391,
          -0.11144734102298919,
          0.6220318081645934,
          0.4307143405325117,
          -0.06911151660227972,
          0.18914139541645156,
          -1.3974429546298435
         ],
         "xaxis": "x16",
         "yaxis": "y16"
        }
       ],
       "layout": {
        "bargap": 0.02,
        "legend": {
         "bgcolor": "#F5F6F9",
         "font": {
          "color": "#4D5663"
         }
        },
        "paper_bgcolor": "#F5F6F9",
        "plot_bgcolor": "#F5F6F9",
        "showlegend": false,
        "template": {
         "data": {
          "bar": [
           {
            "error_x": {
             "color": "#2a3f5f"
            },
            "error_y": {
             "color": "#2a3f5f"
            },
            "marker": {
             "line": {
              "color": "#E5ECF6",
              "width": 0.5
             },
             "pattern": {
              "fillmode": "overlay",
              "size": 10,
              "solidity": 0.2
             }
            },
            "type": "bar"
           }
          ],
          "barpolar": [
           {
            "marker": {
             "line": {
              "color": "#E5ECF6",
              "width": 0.5
             },
             "pattern": {
              "fillmode": "overlay",
              "size": 10,
              "solidity": 0.2
             }
            },
            "type": "barpolar"
           }
          ],
          "carpet": [
           {
            "aaxis": {
             "endlinecolor": "#2a3f5f",
             "gridcolor": "white",
             "linecolor": "white",
             "minorgridcolor": "white",
             "startlinecolor": "#2a3f5f"
            },
            "baxis": {
             "endlinecolor": "#2a3f5f",
             "gridcolor": "white",
             "linecolor": "white",
             "minorgridcolor": "white",
             "startlinecolor": "#2a3f5f"
            },
            "type": "carpet"
           }
          ],
          "choropleth": [
           {
            "colorbar": {
             "outlinewidth": 0,
             "ticks": ""
            },
            "type": "choropleth"
           }
          ],
          "contour": [
           {
            "colorbar": {
             "outlinewidth": 0,
             "ticks": ""
            },
            "colorscale": [
             [
              0,
              "#0d0887"
             ],
             [
              0.1111111111111111,
              "#46039f"
             ],
             [
              0.2222222222222222,
              "#7201a8"
             ],
             [
              0.3333333333333333,
              "#9c179e"
             ],
             [
              0.4444444444444444,
              "#bd3786"
             ],
             [
              0.5555555555555556,
              "#d8576b"
             ],
             [
              0.6666666666666666,
              "#ed7953"
             ],
             [
              0.7777777777777778,
              "#fb9f3a"
             ],
             [
              0.8888888888888888,
              "#fdca26"
             ],
             [
              1,
              "#f0f921"
             ]
            ],
            "type": "contour"
           }
          ],
          "contourcarpet": [
           {
            "colorbar": {
             "outlinewidth": 0,
             "ticks": ""
            },
            "type": "contourcarpet"
           }
          ],
          "heatmap": [
           {
            "colorbar": {
             "outlinewidth": 0,
             "ticks": ""
            },
            "colorscale": [
             [
              0,
              "#0d0887"
             ],
             [
              0.1111111111111111,
              "#46039f"
             ],
             [
              0.2222222222222222,
              "#7201a8"
             ],
             [
              0.3333333333333333,
              "#9c179e"
             ],
             [
              0.4444444444444444,
              "#bd3786"
             ],
             [
              0.5555555555555556,
              "#d8576b"
             ],
             [
              0.6666666666666666,
              "#ed7953"
             ],
             [
              0.7777777777777778,
              "#fb9f3a"
             ],
             [
              0.8888888888888888,
              "#fdca26"
             ],
             [
              1,
              "#f0f921"
             ]
            ],
            "type": "heatmap"
           }
          ],
          "heatmapgl": [
           {
            "colorbar": {
             "outlinewidth": 0,
             "ticks": ""
            },
            "colorscale": [
             [
              0,
              "#0d0887"
             ],
             [
              0.1111111111111111,
              "#46039f"
             ],
             [
              0.2222222222222222,
              "#7201a8"
             ],
             [
              0.3333333333333333,
              "#9c179e"
             ],
             [
              0.4444444444444444,
              "#bd3786"
             ],
             [
              0.5555555555555556,
              "#d8576b"
             ],
             [
              0.6666666666666666,
              "#ed7953"
             ],
             [
              0.7777777777777778,
              "#fb9f3a"
             ],
             [
              0.8888888888888888,
              "#fdca26"
             ],
             [
              1,
              "#f0f921"
             ]
            ],
            "type": "heatmapgl"
           }
          ],
          "histogram": [
           {
            "marker": {
             "pattern": {
              "fillmode": "overlay",
              "size": 10,
              "solidity": 0.2
             }
            },
            "type": "histogram"
           }
          ],
          "histogram2d": [
           {
            "colorbar": {
             "outlinewidth": 0,
             "ticks": ""
            },
            "colorscale": [
             [
              0,
              "#0d0887"
             ],
             [
              0.1111111111111111,
              "#46039f"
             ],
             [
              0.2222222222222222,
              "#7201a8"
             ],
             [
              0.3333333333333333,
              "#9c179e"
             ],
             [
              0.4444444444444444,
              "#bd3786"
             ],
             [
              0.5555555555555556,
              "#d8576b"
             ],
             [
              0.6666666666666666,
              "#ed7953"
             ],
             [
              0.7777777777777778,
              "#fb9f3a"
             ],
             [
              0.8888888888888888,
              "#fdca26"
             ],
             [
              1,
              "#f0f921"
             ]
            ],
            "type": "histogram2d"
           }
          ],
          "histogram2dcontour": [
           {
            "colorbar": {
             "outlinewidth": 0,
             "ticks": ""
            },
            "colorscale": [
             [
              0,
              "#0d0887"
             ],
             [
              0.1111111111111111,
              "#46039f"
             ],
             [
              0.2222222222222222,
              "#7201a8"
             ],
             [
              0.3333333333333333,
              "#9c179e"
             ],
             [
              0.4444444444444444,
              "#bd3786"
             ],
             [
              0.5555555555555556,
              "#d8576b"
             ],
             [
              0.6666666666666666,
              "#ed7953"
             ],
             [
              0.7777777777777778,
              "#fb9f3a"
             ],
             [
              0.8888888888888888,
              "#fdca26"
             ],
             [
              1,
              "#f0f921"
             ]
            ],
            "type": "histogram2dcontour"
           }
          ],
          "mesh3d": [
           {
            "colorbar": {
             "outlinewidth": 0,
             "ticks": ""
            },
            "type": "mesh3d"
           }
          ],
          "parcoords": [
           {
            "line": {
             "colorbar": {
              "outlinewidth": 0,
              "ticks": ""
             }
            },
            "type": "parcoords"
           }
          ],
          "pie": [
           {
            "automargin": true,
            "type": "pie"
           }
          ],
          "scatter": [
           {
            "marker": {
             "colorbar": {
              "outlinewidth": 0,
              "ticks": ""
             }
            },
            "type": "scatter"
           }
          ],
          "scatter3d": [
           {
            "line": {
             "colorbar": {
              "outlinewidth": 0,
              "ticks": ""
             }
            },
            "marker": {
             "colorbar": {
              "outlinewidth": 0,
              "ticks": ""
             }
            },
            "type": "scatter3d"
           }
          ],
          "scattercarpet": [
           {
            "marker": {
             "colorbar": {
              "outlinewidth": 0,
              "ticks": ""
             }
            },
            "type": "scattercarpet"
           }
          ],
          "scattergeo": [
           {
            "marker": {
             "colorbar": {
              "outlinewidth": 0,
              "ticks": ""
             }
            },
            "type": "scattergeo"
           }
          ],
          "scattergl": [
           {
            "marker": {
             "colorbar": {
              "outlinewidth": 0,
              "ticks": ""
             }
            },
            "type": "scattergl"
           }
          ],
          "scattermapbox": [
           {
            "marker": {
             "colorbar": {
              "outlinewidth": 0,
              "ticks": ""
             }
            },
            "type": "scattermapbox"
           }
          ],
          "scatterpolar": [
           {
            "marker": {
             "colorbar": {
              "outlinewidth": 0,
              "ticks": ""
             }
            },
            "type": "scatterpolar"
           }
          ],
          "scatterpolargl": [
           {
            "marker": {
             "colorbar": {
              "outlinewidth": 0,
              "ticks": ""
             }
            },
            "type": "scatterpolargl"
           }
          ],
          "scatterternary": [
           {
            "marker": {
             "colorbar": {
              "outlinewidth": 0,
              "ticks": ""
             }
            },
            "type": "scatterternary"
           }
          ],
          "surface": [
           {
            "colorbar": {
             "outlinewidth": 0,
             "ticks": ""
            },
            "colorscale": [
             [
              0,
              "#0d0887"
             ],
             [
              0.1111111111111111,
              "#46039f"
             ],
             [
              0.2222222222222222,
              "#7201a8"
             ],
             [
              0.3333333333333333,
              "#9c179e"
             ],
             [
              0.4444444444444444,
              "#bd3786"
             ],
             [
              0.5555555555555556,
              "#d8576b"
             ],
             [
              0.6666666666666666,
              "#ed7953"
             ],
             [
              0.7777777777777778,
              "#fb9f3a"
             ],
             [
              0.8888888888888888,
              "#fdca26"
             ],
             [
              1,
              "#f0f921"
             ]
            ],
            "type": "surface"
           }
          ],
          "table": [
           {
            "cells": {
             "fill": {
              "color": "#EBF0F8"
             },
             "line": {
              "color": "white"
             }
            },
            "header": {
             "fill": {
              "color": "#C8D4E3"
             },
             "line": {
              "color": "white"
             }
            },
            "type": "table"
           }
          ]
         },
         "layout": {
          "annotationdefaults": {
           "arrowcolor": "#2a3f5f",
           "arrowhead": 0,
           "arrowwidth": 1
          },
          "autotypenumbers": "strict",
          "coloraxis": {
           "colorbar": {
            "outlinewidth": 0,
            "ticks": ""
           }
          },
          "colorscale": {
           "diverging": [
            [
             0,
             "#8e0152"
            ],
            [
             0.1,
             "#c51b7d"
            ],
            [
             0.2,
             "#de77ae"
            ],
            [
             0.3,
             "#f1b6da"
            ],
            [
             0.4,
             "#fde0ef"
            ],
            [
             0.5,
             "#f7f7f7"
            ],
            [
             0.6,
             "#e6f5d0"
            ],
            [
             0.7,
             "#b8e186"
            ],
            [
             0.8,
             "#7fbc41"
            ],
            [
             0.9,
             "#4d9221"
            ],
            [
             1,
             "#276419"
            ]
           ],
           "sequential": [
            [
             0,
             "#0d0887"
            ],
            [
             0.1111111111111111,
             "#46039f"
            ],
            [
             0.2222222222222222,
             "#7201a8"
            ],
            [
             0.3333333333333333,
             "#9c179e"
            ],
            [
             0.4444444444444444,
             "#bd3786"
            ],
            [
             0.5555555555555556,
             "#d8576b"
            ],
            [
             0.6666666666666666,
             "#ed7953"
            ],
            [
             0.7777777777777778,
             "#fb9f3a"
            ],
            [
             0.8888888888888888,
             "#fdca26"
            ],
            [
             1,
             "#f0f921"
            ]
           ],
           "sequentialminus": [
            [
             0,
             "#0d0887"
            ],
            [
             0.1111111111111111,
             "#46039f"
            ],
            [
             0.2222222222222222,
             "#7201a8"
            ],
            [
             0.3333333333333333,
             "#9c179e"
            ],
            [
             0.4444444444444444,
             "#bd3786"
            ],
            [
             0.5555555555555556,
             "#d8576b"
            ],
            [
             0.6666666666666666,
             "#ed7953"
            ],
            [
             0.7777777777777778,
             "#fb9f3a"
            ],
            [
             0.8888888888888888,
             "#fdca26"
            ],
            [
             1,
             "#f0f921"
            ]
           ]
          },
          "colorway": [
           "#636efa",
           "#EF553B",
           "#00cc96",
           "#ab63fa",
           "#FFA15A",
           "#19d3f3",
           "#FF6692",
           "#B6E880",
           "#FF97FF",
           "#FECB52"
          ],
          "font": {
           "color": "#2a3f5f"
          },
          "geo": {
           "bgcolor": "white",
           "lakecolor": "white",
           "landcolor": "#E5ECF6",
           "showlakes": true,
           "showland": true,
           "subunitcolor": "white"
          },
          "hoverlabel": {
           "align": "left"
          },
          "hovermode": "closest",
          "mapbox": {
           "style": "light"
          },
          "paper_bgcolor": "white",
          "plot_bgcolor": "#E5ECF6",
          "polar": {
           "angularaxis": {
            "gridcolor": "white",
            "linecolor": "white",
            "ticks": ""
           },
           "bgcolor": "#E5ECF6",
           "radialaxis": {
            "gridcolor": "white",
            "linecolor": "white",
            "ticks": ""
           }
          },
          "scene": {
           "xaxis": {
            "backgroundcolor": "#E5ECF6",
            "gridcolor": "white",
            "gridwidth": 2,
            "linecolor": "white",
            "showbackground": true,
            "ticks": "",
            "zerolinecolor": "white"
           },
           "yaxis": {
            "backgroundcolor": "#E5ECF6",
            "gridcolor": "white",
            "gridwidth": 2,
            "linecolor": "white",
            "showbackground": true,
            "ticks": "",
            "zerolinecolor": "white"
           },
           "zaxis": {
            "backgroundcolor": "#E5ECF6",
            "gridcolor": "white",
            "gridwidth": 2,
            "linecolor": "white",
            "showbackground": true,
            "ticks": "",
            "zerolinecolor": "white"
           }
          },
          "shapedefaults": {
           "line": {
            "color": "#2a3f5f"
           }
          },
          "ternary": {
           "aaxis": {
            "gridcolor": "white",
            "linecolor": "white",
            "ticks": ""
           },
           "baxis": {
            "gridcolor": "white",
            "linecolor": "white",
            "ticks": ""
           },
           "bgcolor": "#E5ECF6",
           "caxis": {
            "gridcolor": "white",
            "linecolor": "white",
            "ticks": ""
           }
          },
          "title": {
           "x": 0.05
          },
          "xaxis": {
           "automargin": true,
           "gridcolor": "white",
           "linecolor": "white",
           "ticks": "",
           "title": {
            "standoff": 15
           },
           "zerolinecolor": "white",
           "zerolinewidth": 2
          },
          "yaxis": {
           "automargin": true,
           "gridcolor": "white",
           "linecolor": "white",
           "ticks": "",
           "title": {
            "standoff": 15
           },
           "zerolinecolor": "white",
           "zerolinewidth": 2
          }
         }
        },
        "title": {
         "font": {
          "color": "#4D5663"
         }
        },
        "xaxis": {
         "anchor": "y",
         "domain": [
          0,
          0.2125
         ],
         "gridcolor": "#E1E5ED",
         "showgrid": false,
         "tickfont": {
          "color": "#4D5663"
         },
         "title": {
          "font": {
           "color": "#4D5663"
          },
          "text": ""
         },
         "zerolinecolor": "#E1E5ED"
        },
        "xaxis10": {
         "anchor": "y10",
         "domain": [
          0.2625,
          0.475
         ],
         "gridcolor": "#E1E5ED",
         "showgrid": false,
         "tickfont": {
          "color": "#4D5663"
         },
         "title": {
          "font": {
           "color": "#4D5663"
          },
          "text": ""
         },
         "zerolinecolor": "#E1E5ED"
        },
        "xaxis11": {
         "anchor": "y11",
         "domain": [
          0.525,
          0.7375
         ],
         "gridcolor": "#E1E5ED",
         "showgrid": false,
         "tickfont": {
          "color": "#4D5663"
         },
         "title": {
          "font": {
           "color": "#4D5663"
          },
          "text": ""
         },
         "zerolinecolor": "#E1E5ED"
        },
        "xaxis12": {
         "anchor": "y12",
         "domain": [
          0.7875,
          1
         ],
         "gridcolor": "#E1E5ED",
         "showgrid": false,
         "tickfont": {
          "color": "#4D5663"
         },
         "title": {
          "font": {
           "color": "#4D5663"
          },
          "text": ""
         },
         "zerolinecolor": "#E1E5ED"
        },
        "xaxis13": {
         "anchor": "y13",
         "domain": [
          0,
          0.2125
         ],
         "gridcolor": "#E1E5ED",
         "showgrid": false,
         "tickfont": {
          "color": "#4D5663"
         },
         "title": {
          "font": {
           "color": "#4D5663"
          },
          "text": ""
         },
         "zerolinecolor": "#E1E5ED"
        },
        "xaxis14": {
         "anchor": "y14",
         "domain": [
          0.2625,
          0.475
         ],
         "gridcolor": "#E1E5ED",
         "showgrid": false,
         "tickfont": {
          "color": "#4D5663"
         },
         "title": {
          "font": {
           "color": "#4D5663"
          },
          "text": ""
         },
         "zerolinecolor": "#E1E5ED"
        },
        "xaxis15": {
         "anchor": "y15",
         "domain": [
          0.525,
          0.7375
         ],
         "gridcolor": "#E1E5ED",
         "showgrid": false,
         "tickfont": {
          "color": "#4D5663"
         },
         "title": {
          "font": {
           "color": "#4D5663"
          },
          "text": ""
         },
         "zerolinecolor": "#E1E5ED"
        },
        "xaxis16": {
         "anchor": "y16",
         "domain": [
          0.7875,
          1
         ],
         "gridcolor": "#E1E5ED",
         "showgrid": false,
         "tickfont": {
          "color": "#4D5663"
         },
         "title": {
          "font": {
           "color": "#4D5663"
          },
          "text": ""
         },
         "zerolinecolor": "#E1E5ED"
        },
        "xaxis2": {
         "anchor": "y2",
         "domain": [
          0.2625,
          0.475
         ],
         "gridcolor": "#E1E5ED",
         "showgrid": false,
         "tickfont": {
          "color": "#4D5663"
         },
         "title": {
          "font": {
           "color": "#4D5663"
          },
          "text": ""
         },
         "zerolinecolor": "#E1E5ED"
        },
        "xaxis3": {
         "anchor": "y3",
         "domain": [
          0.525,
          0.7375
         ],
         "gridcolor": "#E1E5ED",
         "showgrid": false,
         "tickfont": {
          "color": "#4D5663"
         },
         "title": {
          "font": {
           "color": "#4D5663"
          },
          "text": ""
         },
         "zerolinecolor": "#E1E5ED"
        },
        "xaxis4": {
         "anchor": "y4",
         "domain": [
          0.7875,
          1
         ],
         "gridcolor": "#E1E5ED",
         "showgrid": false,
         "tickfont": {
          "color": "#4D5663"
         },
         "title": {
          "font": {
           "color": "#4D5663"
          },
          "text": ""
         },
         "zerolinecolor": "#E1E5ED"
        },
        "xaxis5": {
         "anchor": "y5",
         "domain": [
          0,
          0.2125
         ],
         "gridcolor": "#E1E5ED",
         "showgrid": false,
         "tickfont": {
          "color": "#4D5663"
         },
         "title": {
          "font": {
           "color": "#4D5663"
          },
          "text": ""
         },
         "zerolinecolor": "#E1E5ED"
        },
        "xaxis6": {
         "anchor": "y6",
         "domain": [
          0.2625,
          0.475
         ],
         "gridcolor": "#E1E5ED",
         "showgrid": false,
         "tickfont": {
          "color": "#4D5663"
         },
         "title": {
          "font": {
           "color": "#4D5663"
          },
          "text": ""
         },
         "zerolinecolor": "#E1E5ED"
        },
        "xaxis7": {
         "anchor": "y7",
         "domain": [
          0.525,
          0.7375
         ],
         "gridcolor": "#E1E5ED",
         "showgrid": false,
         "tickfont": {
          "color": "#4D5663"
         },
         "title": {
          "font": {
           "color": "#4D5663"
          },
          "text": ""
         },
         "zerolinecolor": "#E1E5ED"
        },
        "xaxis8": {
         "anchor": "y8",
         "domain": [
          0.7875,
          1
         ],
         "gridcolor": "#E1E5ED",
         "showgrid": false,
         "tickfont": {
          "color": "#4D5663"
         },
         "title": {
          "font": {
           "color": "#4D5663"
          },
          "text": ""
         },
         "zerolinecolor": "#E1E5ED"
        },
        "xaxis9": {
         "anchor": "y9",
         "domain": [
          0,
          0.2125
         ],
         "gridcolor": "#E1E5ED",
         "showgrid": false,
         "tickfont": {
          "color": "#4D5663"
         },
         "title": {
          "font": {
           "color": "#4D5663"
          },
          "text": ""
         },
         "zerolinecolor": "#E1E5ED"
        },
        "yaxis": {
         "anchor": "x",
         "domain": [
          0.8025,
          1
         ],
         "gridcolor": "#E1E5ED",
         "showgrid": false,
         "tickfont": {
          "color": "#4D5663"
         },
         "title": {
          "font": {
           "color": "#4D5663"
          },
          "text": ""
         },
         "zerolinecolor": "#E1E5ED"
        },
        "yaxis10": {
         "anchor": "x10",
         "domain": [
          0.2675,
          0.465
         ],
         "gridcolor": "#E1E5ED",
         "showgrid": false,
         "tickfont": {
          "color": "#4D5663"
         },
         "title": {
          "font": {
           "color": "#4D5663"
          },
          "text": ""
         },
         "zerolinecolor": "#E1E5ED"
        },
        "yaxis11": {
         "anchor": "x11",
         "domain": [
          0.2675,
          0.465
         ],
         "gridcolor": "#E1E5ED",
         "showgrid": false,
         "tickfont": {
          "color": "#4D5663"
         },
         "title": {
          "font": {
           "color": "#4D5663"
          },
          "text": ""
         },
         "zerolinecolor": "#E1E5ED"
        },
        "yaxis12": {
         "anchor": "x12",
         "domain": [
          0.2675,
          0.465
         ],
         "gridcolor": "#E1E5ED",
         "showgrid": false,
         "tickfont": {
          "color": "#4D5663"
         },
         "title": {
          "font": {
           "color": "#4D5663"
          },
          "text": ""
         },
         "zerolinecolor": "#E1E5ED"
        },
        "yaxis13": {
         "anchor": "x13",
         "domain": [
          0,
          0.1975
         ],
         "gridcolor": "#E1E5ED",
         "showgrid": false,
         "tickfont": {
          "color": "#4D5663"
         },
         "title": {
          "font": {
           "color": "#4D5663"
          },
          "text": ""
         },
         "zerolinecolor": "#E1E5ED"
        },
        "yaxis14": {
         "anchor": "x14",
         "domain": [
          0,
          0.1975
         ],
         "gridcolor": "#E1E5ED",
         "showgrid": false,
         "tickfont": {
          "color": "#4D5663"
         },
         "title": {
          "font": {
           "color": "#4D5663"
          },
          "text": ""
         },
         "zerolinecolor": "#E1E5ED"
        },
        "yaxis15": {
         "anchor": "x15",
         "domain": [
          0,
          0.1975
         ],
         "gridcolor": "#E1E5ED",
         "showgrid": false,
         "tickfont": {
          "color": "#4D5663"
         },
         "title": {
          "font": {
           "color": "#4D5663"
          },
          "text": ""
         },
         "zerolinecolor": "#E1E5ED"
        },
        "yaxis16": {
         "anchor": "x16",
         "domain": [
          0,
          0.1975
         ],
         "gridcolor": "#E1E5ED",
         "showgrid": false,
         "tickfont": {
          "color": "#4D5663"
         },
         "title": {
          "font": {
           "color": "#4D5663"
          },
          "text": ""
         },
         "zerolinecolor": "#E1E5ED"
        },
        "yaxis2": {
         "anchor": "x2",
         "domain": [
          0.8025,
          1
         ],
         "gridcolor": "#E1E5ED",
         "showgrid": false,
         "tickfont": {
          "color": "#4D5663"
         },
         "title": {
          "font": {
           "color": "#4D5663"
          },
          "text": ""
         },
         "zerolinecolor": "#E1E5ED"
        },
        "yaxis3": {
         "anchor": "x3",
         "domain": [
          0.8025,
          1
         ],
         "gridcolor": "#E1E5ED",
         "showgrid": false,
         "tickfont": {
          "color": "#4D5663"
         },
         "title": {
          "font": {
           "color": "#4D5663"
          },
          "text": ""
         },
         "zerolinecolor": "#E1E5ED"
        },
        "yaxis4": {
         "anchor": "x4",
         "domain": [
          0.8025,
          1
         ],
         "gridcolor": "#E1E5ED",
         "showgrid": false,
         "tickfont": {
          "color": "#4D5663"
         },
         "title": {
          "font": {
           "color": "#4D5663"
          },
          "text": ""
         },
         "zerolinecolor": "#E1E5ED"
        },
        "yaxis5": {
         "anchor": "x5",
         "domain": [
          0.535,
          0.7325
         ],
         "gridcolor": "#E1E5ED",
         "showgrid": false,
         "tickfont": {
          "color": "#4D5663"
         },
         "title": {
          "font": {
           "color": "#4D5663"
          },
          "text": ""
         },
         "zerolinecolor": "#E1E5ED"
        },
        "yaxis6": {
         "anchor": "x6",
         "domain": [
          0.535,
          0.7325
         ],
         "gridcolor": "#E1E5ED",
         "showgrid": false,
         "tickfont": {
          "color": "#4D5663"
         },
         "title": {
          "font": {
           "color": "#4D5663"
          },
          "text": ""
         },
         "zerolinecolor": "#E1E5ED"
        },
        "yaxis7": {
         "anchor": "x7",
         "domain": [
          0.535,
          0.7325
         ],
         "gridcolor": "#E1E5ED",
         "showgrid": false,
         "tickfont": {
          "color": "#4D5663"
         },
         "title": {
          "font": {
           "color": "#4D5663"
          },
          "text": ""
         },
         "zerolinecolor": "#E1E5ED"
        },
        "yaxis8": {
         "anchor": "x8",
         "domain": [
          0.535,
          0.7325
         ],
         "gridcolor": "#E1E5ED",
         "showgrid": false,
         "tickfont": {
          "color": "#4D5663"
         },
         "title": {
          "font": {
           "color": "#4D5663"
          },
          "text": ""
         },
         "zerolinecolor": "#E1E5ED"
        },
        "yaxis9": {
         "anchor": "x9",
         "domain": [
          0.2675,
          0.465
         ],
         "gridcolor": "#E1E5ED",
         "showgrid": false,
         "tickfont": {
          "color": "#4D5663"
         },
         "title": {
          "font": {
           "color": "#4D5663"
          },
          "text": ""
         },
         "zerolinecolor": "#E1E5ED"
        }
       }
      },
      "text/html": [
       "<div>                            <div id=\"9fd2c1cc-2d93-4645-bd60-28680b53d6da\" class=\"plotly-graph-div\" style=\"height:525px; width:100%;\"></div>            <script type=\"text/javascript\">                require([\"plotly\"], function(Plotly) {                    window.PLOTLYENV=window.PLOTLYENV || {};\n",
       "                    window.PLOTLYENV.BASE_URL='https://plot.ly';                                    if (document.getElementById(\"9fd2c1cc-2d93-4645-bd60-28680b53d6da\")) {                    Plotly.newPlot(                        \"9fd2c1cc-2d93-4645-bd60-28680b53d6da\",                        [{\"histfunc\":\"count\",\"histnorm\":\"\",\"marker\":{\"color\":\"rgba(255, 153, 51, 1.0)\",\"line\":{\"color\":\"#4D5663\",\"width\":1.3}},\"name\":\"A\",\"nbinsx\":10,\"opacity\":0.8,\"orientation\":\"v\",\"type\":\"histogram\",\"x\":[-0.4203769172138504,-1.7425536061462963,0.889037777019348,-1.0146950303,0.644987085922443,-0.5867545637092614,0.19788543355418084,-0.2730404740189748,-0.9026425523496677,-1.6279069661349634,-1.502814218287029,0.9328022335577573,-0.1647065323106058,0.6098435552056553,0.7157458424489646,-1.8653534653067507,0.04561722455290629,-1.83236922326372,1.2857591028121669,0.970847338623453,0.38469108105725586,-0.40669880244896184,-0.06933498378794453,1.320095941524994,-0.049271141297447224,0.24992502893762825,-1.0468650538432982,0.8544164021291353,0.5427353132690936,-0.6046711968130206,0.268146006228171,-0.8136978787020882,0.5129283434240521,-1.135879355830157,-0.5949835740230749,-0.9991198230270095,-1.6954857308348357,-0.5946797454314954,-0.038096198045322445,-0.597690474040178,-0.91787070032281,0.0049305892151103705,0.3176792336961347,1.8158591736530727,-0.18625555231119253,0.5334916797623348,-1.7790749335164024,-0.4561764528203567,-0.5383765801583805,0.9303974394928215,0.3019654074882458,-0.44691681108686937,1.0528514568643699,-0.8167380173526259,1.2329356705867764,1.5463527728336532,-0.20062580071149355,-0.09651096288571068,0.9154837337810589,-1.116298893230286,-0.12815668411074205,-0.35583474560030715,-0.1451024331637089,-0.015403174313218963,-0.28000443145952597,-0.47316418081547024,1.1183679273647713,0.5531770838513008,0.510397106892376,0.8396821842077113,0.11193850783712242,1.5340640502750655,0.021240171794083367,-0.9880713077949188,-0.6483165415061083,-0.3232730425399403,-0.3962516779122834,-0.4889839801990028,-0.6958235391363193,1.0309874763249955,-1.2084742863986977,-1.326989784774145,0.87219511894707,-0.5061261280696431,-0.9298406048337552,0.3475633689311191,-0.4488686768784139,0.08110817045384922,-0.0762302794889301,0.9625165014804028,0.8396345494906886,-1.80754629237557,0.8112661931818693,-0.6042239124449605,0.12005231709963185,-0.1764783558475839,1.4807239063761461,-1.2889664844008466,0.34080712450550255,0.5160231621797224],\"xaxis\":\"x\",\"yaxis\":\"y\"},{\"line\":{\"color\":\"rgba(128, 128, 128, 1.0)\",\"dash\":\"solid\",\"shape\":\"linear\",\"width\":1.3},\"marker\":{\"size\":2,\"symbol\":\"circle\"},\"mode\":\"markers\",\"name\":\"A\",\"text\":\"\",\"type\":\"scatter\",\"x\":[0.6705648136691061,0.7479108416593321,0.12376066704020804,0.5076865776365572,0.27751055021147714,-0.03885891767652951,-1.1484619773486824,0.06228241207836648,-1.057573110496256,1.135998182104359,-1.5268471457059039,0.03189578091454026,0.22200393733858212,0.35923447166256467,0.0438455986084191,-0.3286116744247036,-2.263135223059364,-0.4813577542132742,-1.3263312412535673,-0.49685187273799336,0.3715396209386487,1.3972487045901876,-1.7711776100919718,0.5164795444719394,-0.4040893207540781,-0.233485549950093,-1.476540568165758,0.28736959359819514,-1.828738271205067,-0.23033607719013108,-0.1716670784386983,0.6333589652539582,0.24579312524127364,-1.0430792092208319,-1.3054477184770257,-0.377953740083831,-1.6893335298772036,-0.05613954327924084,-0.6487634074366234,0.28329949096429036,-0.4042017835341697,0.032341002346677895,0.09703874914253871,-1.6933485826179155,0.6919740876165209,1.6491769080229144,-0.5779327269841692,-0.368352415642468,-1.5547059886995682,-1.9347232358061432,-0.49457341387009357,-1.1431865654017428,-0.589440944580983,-0.7321925083296308,-0.5598495607910404,-0.07280153382431334,-0.9677078775408386,2.110893914463245,-1.8007775476818115,-0.5492778523321554,-0.5153143189722851,0.2819410514014495,0.6389173365089797,-0.03690079064012558,0.3154919697960902,0.34399013315007754,0.8770157732702345,1.59051131022073,0.7904345189953608,0.7311438272766193,0.7387973826077535,-0.879583440706914,0.5868810728835954,0.03420631434201392,-0.45894188198105734,-0.4850085142032951,0.15108157763018584,0.1416739928211047,0.4779585274094298,-0.8118140116099221,0.5562018187811655,-0.24169835421043992,-0.5660844805115468,-0.49218350172725206,-0.61293743048621,1.2332793309806727,2.1240417997227214,1.400322812515332,-1.2707703517297577,0.04297896308622119,-1.1629777976548832,-0.527264203119578,-1.1036025507929965,0.11634484045105915,1.4459565634949803,-0.19104602555144024,1.43788963939247,-2.0614461044332733,1.6997794796458487,0.19527633470967637],\"xaxis\":\"x2\",\"y\":[-0.4203769172138504,-1.7425536061462963,0.889037777019348,-1.0146950303,0.644987085922443,-0.5867545637092614,0.19788543355418084,-0.2730404740189748,-0.9026425523496677,-1.6279069661349634,-1.502814218287029,0.9328022335577573,-0.1647065323106058,0.6098435552056553,0.7157458424489646,-1.8653534653067507,0.04561722455290629,-1.83236922326372,1.2857591028121669,0.970847338623453,0.38469108105725586,-0.40669880244896184,-0.06933498378794453,1.320095941524994,-0.049271141297447224,0.24992502893762825,-1.0468650538432982,0.8544164021291353,0.5427353132690936,-0.6046711968130206,0.268146006228171,-0.8136978787020882,0.5129283434240521,-1.135879355830157,-0.5949835740230749,-0.9991198230270095,-1.6954857308348357,-0.5946797454314954,-0.038096198045322445,-0.597690474040178,-0.91787070032281,0.0049305892151103705,0.3176792336961347,1.8158591736530727,-0.18625555231119253,0.5334916797623348,-1.7790749335164024,-0.4561764528203567,-0.5383765801583805,0.9303974394928215,0.3019654074882458,-0.44691681108686937,1.0528514568643699,-0.8167380173526259,1.2329356705867764,1.5463527728336532,-0.20062580071149355,-0.09651096288571068,0.9154837337810589,-1.116298893230286,-0.12815668411074205,-0.35583474560030715,-0.1451024331637089,-0.015403174313218963,-0.28000443145952597,-0.47316418081547024,1.1183679273647713,0.5531770838513008,0.510397106892376,0.8396821842077113,0.11193850783712242,1.5340640502750655,0.021240171794083367,-0.9880713077949188,-0.6483165415061083,-0.3232730425399403,-0.3962516779122834,-0.4889839801990028,-0.6958235391363193,1.0309874763249955,-1.2084742863986977,-1.326989784774145,0.87219511894707,-0.5061261280696431,-0.9298406048337552,0.3475633689311191,-0.4488686768784139,0.08110817045384922,-0.0762302794889301,0.9625165014804028,0.8396345494906886,-1.80754629237557,0.8112661931818693,-0.6042239124449605,0.12005231709963185,-0.1764783558475839,1.4807239063761461,-1.2889664844008466,0.34080712450550255,0.5160231621797224],\"yaxis\":\"y2\"},{\"line\":{\"color\":\"rgba(128, 128, 128, 1.0)\",\"dash\":\"solid\",\"shape\":\"linear\",\"width\":1.3},\"marker\":{\"size\":2,\"symbol\":\"circle\"},\"mode\":\"markers\",\"name\":\"A\",\"text\":\"\",\"type\":\"scatter\",\"x\":[0.07422700527315418,0.4130249643103405,0.08548858850732852,-0.2313907405072228,0.37480831038947743,-0.5804733866469306,-0.6801880384913043,1.8022342350275198,0.2860197998610701,0.44232578447992343,-1.5016331070440165,-0.17047063909762822,0.2969657590242623,-0.3938742717666108,0.005322578576980963,-0.1509403635371195,-1.475176645424478,-0.6996670204144476,0.01040519118246566,-0.43008029671786063,0.049262896897995734,-2.2794486022226317,-0.05170995821764871,-1.1642223337949063,-0.7845961694373157,1.7201571256729855,-0.1080899951479665,1.9172077113769468,-1.0291295424930516,-0.4830378049493245,-3.042769218598791,-0.24804905428614898,1.0314805119510864,-1.404281005575798,-0.1379101447202194,-0.7195472131915353,-0.2735942321860184,-1.7388301654248608,0.8921268176921588,0.015092574704470684,-0.017843727398743788,-0.023373546868586628,0.48356729019745276,0.3724710103514023,1.008265930319548,2.4463710370181833,-1.984883419537376,0.3580786992700125,-1.1542277648532895,0.4987945521011533,-0.5602989609894605,-1.2899859967795375,-0.18340439848799506,-1.0255585995065564,-1.3069786772803889,-0.12442852338564153,0.9828613424354359,-0.5926949048387103,-0.7621082270075276,-1.5803155758375553,-1.5450357781388426,-0.6167758224917211,1.0960016305928086,-0.3660385461050507,0.40608765534013885,0.061831984060027934,-1.5480288983429116,2.2488514861594293,-0.2471095149706103,-1.4855057620299903,-0.6967002864504952,0.6592024314305059,0.7725617098876191,-0.008263027740115753,-0.6944179983332547,1.1526220459892333,1.4501439219254952,2.1505517700712176,-0.3492929750190928,0.11094652493428009,-0.6108141968900309,0.3502143994430392,-0.2227433971114668,1.678016033517746,-0.9382350184164863,-0.7751011686520267,0.4806329226047449,-1.2579044633708636,-0.9662571507224871,-0.3709616614910942,-0.06452441870975577,-0.35563498268520916,-0.016514764413823962,-0.22861270922344848,-0.5462410861762043,-0.16893452437550166,0.4508344021737034,-1.1284200562808675,0.8783286696936663,1.051529015196934],\"xaxis\":\"x3\",\"y\":[-0.4203769172138504,-1.7425536061462963,0.889037777019348,-1.0146950303,0.644987085922443,-0.5867545637092614,0.19788543355418084,-0.2730404740189748,-0.9026425523496677,-1.6279069661349634,-1.502814218287029,0.9328022335577573,-0.1647065323106058,0.6098435552056553,0.7157458424489646,-1.8653534653067507,0.04561722455290629,-1.83236922326372,1.2857591028121669,0.970847338623453,0.38469108105725586,-0.40669880244896184,-0.06933498378794453,1.320095941524994,-0.049271141297447224,0.24992502893762825,-1.0468650538432982,0.8544164021291353,0.5427353132690936,-0.6046711968130206,0.268146006228171,-0.8136978787020882,0.5129283434240521,-1.135879355830157,-0.5949835740230749,-0.9991198230270095,-1.6954857308348357,-0.5946797454314954,-0.038096198045322445,-0.597690474040178,-0.91787070032281,0.0049305892151103705,0.3176792336961347,1.8158591736530727,-0.18625555231119253,0.5334916797623348,-1.7790749335164024,-0.4561764528203567,-0.5383765801583805,0.9303974394928215,0.3019654074882458,-0.44691681108686937,1.0528514568643699,-0.8167380173526259,1.2329356705867764,1.5463527728336532,-0.20062580071149355,-0.09651096288571068,0.9154837337810589,-1.116298893230286,-0.12815668411074205,-0.35583474560030715,-0.1451024331637089,-0.015403174313218963,-0.28000443145952597,-0.47316418081547024,1.1183679273647713,0.5531770838513008,0.510397106892376,0.8396821842077113,0.11193850783712242,1.5340640502750655,0.021240171794083367,-0.9880713077949188,-0.6483165415061083,-0.3232730425399403,-0.3962516779122834,-0.4889839801990028,-0.6958235391363193,1.0309874763249955,-1.2084742863986977,-1.326989784774145,0.87219511894707,-0.5061261280696431,-0.9298406048337552,0.3475633689311191,-0.4488686768784139,0.08110817045384922,-0.0762302794889301,0.9625165014804028,0.8396345494906886,-1.80754629237557,0.8112661931818693,-0.6042239124449605,0.12005231709963185,-0.1764783558475839,1.4807239063761461,-1.2889664844008466,0.34080712450550255,0.5160231621797224],\"yaxis\":\"y3\"},{\"line\":{\"color\":\"rgba(128, 128, 128, 1.0)\",\"dash\":\"solid\",\"shape\":\"linear\",\"width\":1.3},\"marker\":{\"size\":2,\"symbol\":\"circle\"},\"mode\":\"markers\",\"name\":\"A\",\"text\":\"\",\"type\":\"scatter\",\"x\":[-0.4265649055030353,0.5345753963116453,1.2648624239240278,-0.5036965328663572,1.3839523450361182,1.2575049616846319,0.4144214395049769,-0.5025921390683061,0.4646854192098949,-1.0187018400737897,-0.41604955826801,-0.704873422773722,0.34012659882708757,0.8215859955152438,-0.9630212613275814,-1.5479364624579965,1.262427324095102,-0.6314716294991332,-0.2948263242881089,2.045843585833337,0.7779892759515108,-2.3374769861385496,0.08076847935905539,0.9386365422370996,1.006813472053596,-1.7130081664294843,-0.8301818918715494,0.40662438561416886,0.6184271143243777,-1.1171162565881085,-0.7259743318271101,-0.7894973693297371,0.15673300611977514,-0.0411443578526938,1.8725145576747395,0.07417574962603085,-2.0476069434418798,-0.5231585358294968,-1.1450987535161061,0.6433542561798411,0.01529112076703967,-0.48657373270143484,1.7052382835670108,0.4116424859047016,-0.4234715279258913,-0.9252985606450924,0.4828442783376966,1.5942461288472833,0.08456822084845338,-1.5394659470604126,0.5501664509165102,0.9454148982132563,-0.1261792942872043,0.3017002608052505,-1.2519565936221715,-0.24466158095145318,1.1954983324987216,-0.3809112557174018,1.33923613114652,1.3560837868399453,0.09661889452534182,-1.4880197906360266,-0.2827010917022672,0.11638639687460929,1.4606288990278828,-0.724909388940758,-0.8292888279027019,1.2152792806199297,0.9406782217308104,-0.2271121287232906,-0.6456754382419851,0.2246503169045476,0.9088534114783418,-0.785122627292339,-0.43312963489765566,-0.6263627891053157,-0.8124367069314169,-0.0944907864199542,-0.19604602013795855,1.6082443316810087,-0.4009981234549997,0.35696227827031496,0.08582423282612472,0.11139904700992809,0.3807598674561099,1.7292243256324968,0.5402498413873286,1.0069502326770607,1.7525588986920897,-1.0483571007203314,0.42820914988334524,0.9648945646092203,1.4849291082110934,-0.6459546098399391,-0.11144734102298919,0.6220318081645934,0.4307143405325117,-0.06911151660227972,0.18914139541645156,-1.3974429546298435],\"xaxis\":\"x4\",\"y\":[-0.4203769172138504,-1.7425536061462963,0.889037777019348,-1.0146950303,0.644987085922443,-0.5867545637092614,0.19788543355418084,-0.2730404740189748,-0.9026425523496677,-1.6279069661349634,-1.502814218287029,0.9328022335577573,-0.1647065323106058,0.6098435552056553,0.7157458424489646,-1.8653534653067507,0.04561722455290629,-1.83236922326372,1.2857591028121669,0.970847338623453,0.38469108105725586,-0.40669880244896184,-0.06933498378794453,1.320095941524994,-0.049271141297447224,0.24992502893762825,-1.0468650538432982,0.8544164021291353,0.5427353132690936,-0.6046711968130206,0.268146006228171,-0.8136978787020882,0.5129283434240521,-1.135879355830157,-0.5949835740230749,-0.9991198230270095,-1.6954857308348357,-0.5946797454314954,-0.038096198045322445,-0.597690474040178,-0.91787070032281,0.0049305892151103705,0.3176792336961347,1.8158591736530727,-0.18625555231119253,0.5334916797623348,-1.7790749335164024,-0.4561764528203567,-0.5383765801583805,0.9303974394928215,0.3019654074882458,-0.44691681108686937,1.0528514568643699,-0.8167380173526259,1.2329356705867764,1.5463527728336532,-0.20062580071149355,-0.09651096288571068,0.9154837337810589,-1.116298893230286,-0.12815668411074205,-0.35583474560030715,-0.1451024331637089,-0.015403174313218963,-0.28000443145952597,-0.47316418081547024,1.1183679273647713,0.5531770838513008,0.510397106892376,0.8396821842077113,0.11193850783712242,1.5340640502750655,0.021240171794083367,-0.9880713077949188,-0.6483165415061083,-0.3232730425399403,-0.3962516779122834,-0.4889839801990028,-0.6958235391363193,1.0309874763249955,-1.2084742863986977,-1.326989784774145,0.87219511894707,-0.5061261280696431,-0.9298406048337552,0.3475633689311191,-0.4488686768784139,0.08110817045384922,-0.0762302794889301,0.9625165014804028,0.8396345494906886,-1.80754629237557,0.8112661931818693,-0.6042239124449605,0.12005231709963185,-0.1764783558475839,1.4807239063761461,-1.2889664844008466,0.34080712450550255,0.5160231621797224],\"yaxis\":\"y4\"},{\"line\":{\"color\":\"rgba(128, 128, 128, 1.0)\",\"dash\":\"solid\",\"shape\":\"linear\",\"width\":1.3},\"marker\":{\"size\":2,\"symbol\":\"circle\"},\"mode\":\"markers\",\"name\":\"B\",\"text\":\"\",\"type\":\"scatter\",\"x\":[-0.4203769172138504,-1.7425536061462963,0.889037777019348,-1.0146950303,0.644987085922443,-0.5867545637092614,0.19788543355418084,-0.2730404740189748,-0.9026425523496677,-1.6279069661349634,-1.502814218287029,0.9328022335577573,-0.1647065323106058,0.6098435552056553,0.7157458424489646,-1.8653534653067507,0.04561722455290629,-1.83236922326372,1.2857591028121669,0.970847338623453,0.38469108105725586,-0.40669880244896184,-0.06933498378794453,1.320095941524994,-0.049271141297447224,0.24992502893762825,-1.0468650538432982,0.8544164021291353,0.5427353132690936,-0.6046711968130206,0.268146006228171,-0.8136978787020882,0.5129283434240521,-1.135879355830157,-0.5949835740230749,-0.9991198230270095,-1.6954857308348357,-0.5946797454314954,-0.038096198045322445,-0.597690474040178,-0.91787070032281,0.0049305892151103705,0.3176792336961347,1.8158591736530727,-0.18625555231119253,0.5334916797623348,-1.7790749335164024,-0.4561764528203567,-0.5383765801583805,0.9303974394928215,0.3019654074882458,-0.44691681108686937,1.0528514568643699,-0.8167380173526259,1.2329356705867764,1.5463527728336532,-0.20062580071149355,-0.09651096288571068,0.9154837337810589,-1.116298893230286,-0.12815668411074205,-0.35583474560030715,-0.1451024331637089,-0.015403174313218963,-0.28000443145952597,-0.47316418081547024,1.1183679273647713,0.5531770838513008,0.510397106892376,0.8396821842077113,0.11193850783712242,1.5340640502750655,0.021240171794083367,-0.9880713077949188,-0.6483165415061083,-0.3232730425399403,-0.3962516779122834,-0.4889839801990028,-0.6958235391363193,1.0309874763249955,-1.2084742863986977,-1.326989784774145,0.87219511894707,-0.5061261280696431,-0.9298406048337552,0.3475633689311191,-0.4488686768784139,0.08110817045384922,-0.0762302794889301,0.9625165014804028,0.8396345494906886,-1.80754629237557,0.8112661931818693,-0.6042239124449605,0.12005231709963185,-0.1764783558475839,1.4807239063761461,-1.2889664844008466,0.34080712450550255,0.5160231621797224],\"xaxis\":\"x5\",\"y\":[0.6705648136691061,0.7479108416593321,0.12376066704020804,0.5076865776365572,0.27751055021147714,-0.03885891767652951,-1.1484619773486824,0.06228241207836648,-1.057573110496256,1.135998182104359,-1.5268471457059039,0.03189578091454026,0.22200393733858212,0.35923447166256467,0.0438455986084191,-0.3286116744247036,-2.263135223059364,-0.4813577542132742,-1.3263312412535673,-0.49685187273799336,0.3715396209386487,1.3972487045901876,-1.7711776100919718,0.5164795444719394,-0.4040893207540781,-0.233485549950093,-1.476540568165758,0.28736959359819514,-1.828738271205067,-0.23033607719013108,-0.1716670784386983,0.6333589652539582,0.24579312524127364,-1.0430792092208319,-1.3054477184770257,-0.377953740083831,-1.6893335298772036,-0.05613954327924084,-0.6487634074366234,0.28329949096429036,-0.4042017835341697,0.032341002346677895,0.09703874914253871,-1.6933485826179155,0.6919740876165209,1.6491769080229144,-0.5779327269841692,-0.368352415642468,-1.5547059886995682,-1.9347232358061432,-0.49457341387009357,-1.1431865654017428,-0.589440944580983,-0.7321925083296308,-0.5598495607910404,-0.07280153382431334,-0.9677078775408386,2.110893914463245,-1.8007775476818115,-0.5492778523321554,-0.5153143189722851,0.2819410514014495,0.6389173365089797,-0.03690079064012558,0.3154919697960902,0.34399013315007754,0.8770157732702345,1.59051131022073,0.7904345189953608,0.7311438272766193,0.7387973826077535,-0.879583440706914,0.5868810728835954,0.03420631434201392,-0.45894188198105734,-0.4850085142032951,0.15108157763018584,0.1416739928211047,0.4779585274094298,-0.8118140116099221,0.5562018187811655,-0.24169835421043992,-0.5660844805115468,-0.49218350172725206,-0.61293743048621,1.2332793309806727,2.1240417997227214,1.400322812515332,-1.2707703517297577,0.04297896308622119,-1.1629777976548832,-0.527264203119578,-1.1036025507929965,0.11634484045105915,1.4459565634949803,-0.19104602555144024,1.43788963939247,-2.0614461044332733,1.6997794796458487,0.19527633470967637],\"yaxis\":\"y5\"},{\"histfunc\":\"count\",\"histnorm\":\"\",\"marker\":{\"color\":\"rgba(55, 128, 191, 1.0)\",\"line\":{\"color\":\"#4D5663\",\"width\":1.3}},\"name\":\"B\",\"nbinsx\":10,\"opacity\":0.8,\"orientation\":\"v\",\"type\":\"histogram\",\"x\":[0.6705648136691061,0.7479108416593321,0.12376066704020804,0.5076865776365572,0.27751055021147714,-0.03885891767652951,-1.1484619773486824,0.06228241207836648,-1.057573110496256,1.135998182104359,-1.5268471457059039,0.03189578091454026,0.22200393733858212,0.35923447166256467,0.0438455986084191,-0.3286116744247036,-2.263135223059364,-0.4813577542132742,-1.3263312412535673,-0.49685187273799336,0.3715396209386487,1.3972487045901876,-1.7711776100919718,0.5164795444719394,-0.4040893207540781,-0.233485549950093,-1.476540568165758,0.28736959359819514,-1.828738271205067,-0.23033607719013108,-0.1716670784386983,0.6333589652539582,0.24579312524127364,-1.0430792092208319,-1.3054477184770257,-0.377953740083831,-1.6893335298772036,-0.05613954327924084,-0.6487634074366234,0.28329949096429036,-0.4042017835341697,0.032341002346677895,0.09703874914253871,-1.6933485826179155,0.6919740876165209,1.6491769080229144,-0.5779327269841692,-0.368352415642468,-1.5547059886995682,-1.9347232358061432,-0.49457341387009357,-1.1431865654017428,-0.589440944580983,-0.7321925083296308,-0.5598495607910404,-0.07280153382431334,-0.9677078775408386,2.110893914463245,-1.8007775476818115,-0.5492778523321554,-0.5153143189722851,0.2819410514014495,0.6389173365089797,-0.03690079064012558,0.3154919697960902,0.34399013315007754,0.8770157732702345,1.59051131022073,0.7904345189953608,0.7311438272766193,0.7387973826077535,-0.879583440706914,0.5868810728835954,0.03420631434201392,-0.45894188198105734,-0.4850085142032951,0.15108157763018584,0.1416739928211047,0.4779585274094298,-0.8118140116099221,0.5562018187811655,-0.24169835421043992,-0.5660844805115468,-0.49218350172725206,-0.61293743048621,1.2332793309806727,2.1240417997227214,1.400322812515332,-1.2707703517297577,0.04297896308622119,-1.1629777976548832,-0.527264203119578,-1.1036025507929965,0.11634484045105915,1.4459565634949803,-0.19104602555144024,1.43788963939247,-2.0614461044332733,1.6997794796458487,0.19527633470967637],\"xaxis\":\"x6\",\"yaxis\":\"y6\"},{\"line\":{\"color\":\"rgba(128, 128, 128, 1.0)\",\"dash\":\"solid\",\"shape\":\"linear\",\"width\":1.3},\"marker\":{\"size\":2,\"symbol\":\"circle\"},\"mode\":\"markers\",\"name\":\"B\",\"text\":\"\",\"type\":\"scatter\",\"x\":[0.07422700527315418,0.4130249643103405,0.08548858850732852,-0.2313907405072228,0.37480831038947743,-0.5804733866469306,-0.6801880384913043,1.8022342350275198,0.2860197998610701,0.44232578447992343,-1.5016331070440165,-0.17047063909762822,0.2969657590242623,-0.3938742717666108,0.005322578576980963,-0.1509403635371195,-1.475176645424478,-0.6996670204144476,0.01040519118246566,-0.43008029671786063,0.049262896897995734,-2.2794486022226317,-0.05170995821764871,-1.1642223337949063,-0.7845961694373157,1.7201571256729855,-0.1080899951479665,1.9172077113769468,-1.0291295424930516,-0.4830378049493245,-3.042769218598791,-0.24804905428614898,1.0314805119510864,-1.404281005575798,-0.1379101447202194,-0.7195472131915353,-0.2735942321860184,-1.7388301654248608,0.8921268176921588,0.015092574704470684,-0.017843727398743788,-0.023373546868586628,0.48356729019745276,0.3724710103514023,1.008265930319548,2.4463710370181833,-1.984883419537376,0.3580786992700125,-1.1542277648532895,0.4987945521011533,-0.5602989609894605,-1.2899859967795375,-0.18340439848799506,-1.0255585995065564,-1.3069786772803889,-0.12442852338564153,0.9828613424354359,-0.5926949048387103,-0.7621082270075276,-1.5803155758375553,-1.5450357781388426,-0.6167758224917211,1.0960016305928086,-0.3660385461050507,0.40608765534013885,0.061831984060027934,-1.5480288983429116,2.2488514861594293,-0.2471095149706103,-1.4855057620299903,-0.6967002864504952,0.6592024314305059,0.7725617098876191,-0.008263027740115753,-0.6944179983332547,1.1526220459892333,1.4501439219254952,2.1505517700712176,-0.3492929750190928,0.11094652493428009,-0.6108141968900309,0.3502143994430392,-0.2227433971114668,1.678016033517746,-0.9382350184164863,-0.7751011686520267,0.4806329226047449,-1.2579044633708636,-0.9662571507224871,-0.3709616614910942,-0.06452441870975577,-0.35563498268520916,-0.016514764413823962,-0.22861270922344848,-0.5462410861762043,-0.16893452437550166,0.4508344021737034,-1.1284200562808675,0.8783286696936663,1.051529015196934],\"xaxis\":\"x7\",\"y\":[0.6705648136691061,0.7479108416593321,0.12376066704020804,0.5076865776365572,0.27751055021147714,-0.03885891767652951,-1.1484619773486824,0.06228241207836648,-1.057573110496256,1.135998182104359,-1.5268471457059039,0.03189578091454026,0.22200393733858212,0.35923447166256467,0.0438455986084191,-0.3286116744247036,-2.263135223059364,-0.4813577542132742,-1.3263312412535673,-0.49685187273799336,0.3715396209386487,1.3972487045901876,-1.7711776100919718,0.5164795444719394,-0.4040893207540781,-0.233485549950093,-1.476540568165758,0.28736959359819514,-1.828738271205067,-0.23033607719013108,-0.1716670784386983,0.6333589652539582,0.24579312524127364,-1.0430792092208319,-1.3054477184770257,-0.377953740083831,-1.6893335298772036,-0.05613954327924084,-0.6487634074366234,0.28329949096429036,-0.4042017835341697,0.032341002346677895,0.09703874914253871,-1.6933485826179155,0.6919740876165209,1.6491769080229144,-0.5779327269841692,-0.368352415642468,-1.5547059886995682,-1.9347232358061432,-0.49457341387009357,-1.1431865654017428,-0.589440944580983,-0.7321925083296308,-0.5598495607910404,-0.07280153382431334,-0.9677078775408386,2.110893914463245,-1.8007775476818115,-0.5492778523321554,-0.5153143189722851,0.2819410514014495,0.6389173365089797,-0.03690079064012558,0.3154919697960902,0.34399013315007754,0.8770157732702345,1.59051131022073,0.7904345189953608,0.7311438272766193,0.7387973826077535,-0.879583440706914,0.5868810728835954,0.03420631434201392,-0.45894188198105734,-0.4850085142032951,0.15108157763018584,0.1416739928211047,0.4779585274094298,-0.8118140116099221,0.5562018187811655,-0.24169835421043992,-0.5660844805115468,-0.49218350172725206,-0.61293743048621,1.2332793309806727,2.1240417997227214,1.400322812515332,-1.2707703517297577,0.04297896308622119,-1.1629777976548832,-0.527264203119578,-1.1036025507929965,0.11634484045105915,1.4459565634949803,-0.19104602555144024,1.43788963939247,-2.0614461044332733,1.6997794796458487,0.19527633470967637],\"yaxis\":\"y7\"},{\"line\":{\"color\":\"rgba(128, 128, 128, 1.0)\",\"dash\":\"solid\",\"shape\":\"linear\",\"width\":1.3},\"marker\":{\"size\":2,\"symbol\":\"circle\"},\"mode\":\"markers\",\"name\":\"B\",\"text\":\"\",\"type\":\"scatter\",\"x\":[-0.4265649055030353,0.5345753963116453,1.2648624239240278,-0.5036965328663572,1.3839523450361182,1.2575049616846319,0.4144214395049769,-0.5025921390683061,0.4646854192098949,-1.0187018400737897,-0.41604955826801,-0.704873422773722,0.34012659882708757,0.8215859955152438,-0.9630212613275814,-1.5479364624579965,1.262427324095102,-0.6314716294991332,-0.2948263242881089,2.045843585833337,0.7779892759515108,-2.3374769861385496,0.08076847935905539,0.9386365422370996,1.006813472053596,-1.7130081664294843,-0.8301818918715494,0.40662438561416886,0.6184271143243777,-1.1171162565881085,-0.7259743318271101,-0.7894973693297371,0.15673300611977514,-0.0411443578526938,1.8725145576747395,0.07417574962603085,-2.0476069434418798,-0.5231585358294968,-1.1450987535161061,0.6433542561798411,0.01529112076703967,-0.48657373270143484,1.7052382835670108,0.4116424859047016,-0.4234715279258913,-0.9252985606450924,0.4828442783376966,1.5942461288472833,0.08456822084845338,-1.5394659470604126,0.5501664509165102,0.9454148982132563,-0.1261792942872043,0.3017002608052505,-1.2519565936221715,-0.24466158095145318,1.1954983324987216,-0.3809112557174018,1.33923613114652,1.3560837868399453,0.09661889452534182,-1.4880197906360266,-0.2827010917022672,0.11638639687460929,1.4606288990278828,-0.724909388940758,-0.8292888279027019,1.2152792806199297,0.9406782217308104,-0.2271121287232906,-0.6456754382419851,0.2246503169045476,0.9088534114783418,-0.785122627292339,-0.43312963489765566,-0.6263627891053157,-0.8124367069314169,-0.0944907864199542,-0.19604602013795855,1.6082443316810087,-0.4009981234549997,0.35696227827031496,0.08582423282612472,0.11139904700992809,0.3807598674561099,1.7292243256324968,0.5402498413873286,1.0069502326770607,1.7525588986920897,-1.0483571007203314,0.42820914988334524,0.9648945646092203,1.4849291082110934,-0.6459546098399391,-0.11144734102298919,0.6220318081645934,0.4307143405325117,-0.06911151660227972,0.18914139541645156,-1.3974429546298435],\"xaxis\":\"x8\",\"y\":[0.6705648136691061,0.7479108416593321,0.12376066704020804,0.5076865776365572,0.27751055021147714,-0.03885891767652951,-1.1484619773486824,0.06228241207836648,-1.057573110496256,1.135998182104359,-1.5268471457059039,0.03189578091454026,0.22200393733858212,0.35923447166256467,0.0438455986084191,-0.3286116744247036,-2.263135223059364,-0.4813577542132742,-1.3263312412535673,-0.49685187273799336,0.3715396209386487,1.3972487045901876,-1.7711776100919718,0.5164795444719394,-0.4040893207540781,-0.233485549950093,-1.476540568165758,0.28736959359819514,-1.828738271205067,-0.23033607719013108,-0.1716670784386983,0.6333589652539582,0.24579312524127364,-1.0430792092208319,-1.3054477184770257,-0.377953740083831,-1.6893335298772036,-0.05613954327924084,-0.6487634074366234,0.28329949096429036,-0.4042017835341697,0.032341002346677895,0.09703874914253871,-1.6933485826179155,0.6919740876165209,1.6491769080229144,-0.5779327269841692,-0.368352415642468,-1.5547059886995682,-1.9347232358061432,-0.49457341387009357,-1.1431865654017428,-0.589440944580983,-0.7321925083296308,-0.5598495607910404,-0.07280153382431334,-0.9677078775408386,2.110893914463245,-1.8007775476818115,-0.5492778523321554,-0.5153143189722851,0.2819410514014495,0.6389173365089797,-0.03690079064012558,0.3154919697960902,0.34399013315007754,0.8770157732702345,1.59051131022073,0.7904345189953608,0.7311438272766193,0.7387973826077535,-0.879583440706914,0.5868810728835954,0.03420631434201392,-0.45894188198105734,-0.4850085142032951,0.15108157763018584,0.1416739928211047,0.4779585274094298,-0.8118140116099221,0.5562018187811655,-0.24169835421043992,-0.5660844805115468,-0.49218350172725206,-0.61293743048621,1.2332793309806727,2.1240417997227214,1.400322812515332,-1.2707703517297577,0.04297896308622119,-1.1629777976548832,-0.527264203119578,-1.1036025507929965,0.11634484045105915,1.4459565634949803,-0.19104602555144024,1.43788963939247,-2.0614461044332733,1.6997794796458487,0.19527633470967637],\"yaxis\":\"y8\"},{\"line\":{\"color\":\"rgba(128, 128, 128, 1.0)\",\"dash\":\"solid\",\"shape\":\"linear\",\"width\":1.3},\"marker\":{\"size\":2,\"symbol\":\"circle\"},\"mode\":\"markers\",\"name\":\"C\",\"text\":\"\",\"type\":\"scatter\",\"x\":[-0.4203769172138504,-1.7425536061462963,0.889037777019348,-1.0146950303,0.644987085922443,-0.5867545637092614,0.19788543355418084,-0.2730404740189748,-0.9026425523496677,-1.6279069661349634,-1.502814218287029,0.9328022335577573,-0.1647065323106058,0.6098435552056553,0.7157458424489646,-1.8653534653067507,0.04561722455290629,-1.83236922326372,1.2857591028121669,0.970847338623453,0.38469108105725586,-0.40669880244896184,-0.06933498378794453,1.320095941524994,-0.049271141297447224,0.24992502893762825,-1.0468650538432982,0.8544164021291353,0.5427353132690936,-0.6046711968130206,0.268146006228171,-0.8136978787020882,0.5129283434240521,-1.135879355830157,-0.5949835740230749,-0.9991198230270095,-1.6954857308348357,-0.5946797454314954,-0.038096198045322445,-0.597690474040178,-0.91787070032281,0.0049305892151103705,0.3176792336961347,1.8158591736530727,-0.18625555231119253,0.5334916797623348,-1.7790749335164024,-0.4561764528203567,-0.5383765801583805,0.9303974394928215,0.3019654074882458,-0.44691681108686937,1.0528514568643699,-0.8167380173526259,1.2329356705867764,1.5463527728336532,-0.20062580071149355,-0.09651096288571068,0.9154837337810589,-1.116298893230286,-0.12815668411074205,-0.35583474560030715,-0.1451024331637089,-0.015403174313218963,-0.28000443145952597,-0.47316418081547024,1.1183679273647713,0.5531770838513008,0.510397106892376,0.8396821842077113,0.11193850783712242,1.5340640502750655,0.021240171794083367,-0.9880713077949188,-0.6483165415061083,-0.3232730425399403,-0.3962516779122834,-0.4889839801990028,-0.6958235391363193,1.0309874763249955,-1.2084742863986977,-1.326989784774145,0.87219511894707,-0.5061261280696431,-0.9298406048337552,0.3475633689311191,-0.4488686768784139,0.08110817045384922,-0.0762302794889301,0.9625165014804028,0.8396345494906886,-1.80754629237557,0.8112661931818693,-0.6042239124449605,0.12005231709963185,-0.1764783558475839,1.4807239063761461,-1.2889664844008466,0.34080712450550255,0.5160231621797224],\"xaxis\":\"x9\",\"y\":[0.07422700527315418,0.4130249643103405,0.08548858850732852,-0.2313907405072228,0.37480831038947743,-0.5804733866469306,-0.6801880384913043,1.8022342350275198,0.2860197998610701,0.44232578447992343,-1.5016331070440165,-0.17047063909762822,0.2969657590242623,-0.3938742717666108,0.005322578576980963,-0.1509403635371195,-1.475176645424478,-0.6996670204144476,0.01040519118246566,-0.43008029671786063,0.049262896897995734,-2.2794486022226317,-0.05170995821764871,-1.1642223337949063,-0.7845961694373157,1.7201571256729855,-0.1080899951479665,1.9172077113769468,-1.0291295424930516,-0.4830378049493245,-3.042769218598791,-0.24804905428614898,1.0314805119510864,-1.404281005575798,-0.1379101447202194,-0.7195472131915353,-0.2735942321860184,-1.7388301654248608,0.8921268176921588,0.015092574704470684,-0.017843727398743788,-0.023373546868586628,0.48356729019745276,0.3724710103514023,1.008265930319548,2.4463710370181833,-1.984883419537376,0.3580786992700125,-1.1542277648532895,0.4987945521011533,-0.5602989609894605,-1.2899859967795375,-0.18340439848799506,-1.0255585995065564,-1.3069786772803889,-0.12442852338564153,0.9828613424354359,-0.5926949048387103,-0.7621082270075276,-1.5803155758375553,-1.5450357781388426,-0.6167758224917211,1.0960016305928086,-0.3660385461050507,0.40608765534013885,0.061831984060027934,-1.5480288983429116,2.2488514861594293,-0.2471095149706103,-1.4855057620299903,-0.6967002864504952,0.6592024314305059,0.7725617098876191,-0.008263027740115753,-0.6944179983332547,1.1526220459892333,1.4501439219254952,2.1505517700712176,-0.3492929750190928,0.11094652493428009,-0.6108141968900309,0.3502143994430392,-0.2227433971114668,1.678016033517746,-0.9382350184164863,-0.7751011686520267,0.4806329226047449,-1.2579044633708636,-0.9662571507224871,-0.3709616614910942,-0.06452441870975577,-0.35563498268520916,-0.016514764413823962,-0.22861270922344848,-0.5462410861762043,-0.16893452437550166,0.4508344021737034,-1.1284200562808675,0.8783286696936663,1.051529015196934],\"yaxis\":\"y9\"},{\"line\":{\"color\":\"rgba(128, 128, 128, 1.0)\",\"dash\":\"solid\",\"shape\":\"linear\",\"width\":1.3},\"marker\":{\"size\":2,\"symbol\":\"circle\"},\"mode\":\"markers\",\"name\":\"C\",\"text\":\"\",\"type\":\"scatter\",\"x\":[0.6705648136691061,0.7479108416593321,0.12376066704020804,0.5076865776365572,0.27751055021147714,-0.03885891767652951,-1.1484619773486824,0.06228241207836648,-1.057573110496256,1.135998182104359,-1.5268471457059039,0.03189578091454026,0.22200393733858212,0.35923447166256467,0.0438455986084191,-0.3286116744247036,-2.263135223059364,-0.4813577542132742,-1.3263312412535673,-0.49685187273799336,0.3715396209386487,1.3972487045901876,-1.7711776100919718,0.5164795444719394,-0.4040893207540781,-0.233485549950093,-1.476540568165758,0.28736959359819514,-1.828738271205067,-0.23033607719013108,-0.1716670784386983,0.6333589652539582,0.24579312524127364,-1.0430792092208319,-1.3054477184770257,-0.377953740083831,-1.6893335298772036,-0.05613954327924084,-0.6487634074366234,0.28329949096429036,-0.4042017835341697,0.032341002346677895,0.09703874914253871,-1.6933485826179155,0.6919740876165209,1.6491769080229144,-0.5779327269841692,-0.368352415642468,-1.5547059886995682,-1.9347232358061432,-0.49457341387009357,-1.1431865654017428,-0.589440944580983,-0.7321925083296308,-0.5598495607910404,-0.07280153382431334,-0.9677078775408386,2.110893914463245,-1.8007775476818115,-0.5492778523321554,-0.5153143189722851,0.2819410514014495,0.6389173365089797,-0.03690079064012558,0.3154919697960902,0.34399013315007754,0.8770157732702345,1.59051131022073,0.7904345189953608,0.7311438272766193,0.7387973826077535,-0.879583440706914,0.5868810728835954,0.03420631434201392,-0.45894188198105734,-0.4850085142032951,0.15108157763018584,0.1416739928211047,0.4779585274094298,-0.8118140116099221,0.5562018187811655,-0.24169835421043992,-0.5660844805115468,-0.49218350172725206,-0.61293743048621,1.2332793309806727,2.1240417997227214,1.400322812515332,-1.2707703517297577,0.04297896308622119,-1.1629777976548832,-0.527264203119578,-1.1036025507929965,0.11634484045105915,1.4459565634949803,-0.19104602555144024,1.43788963939247,-2.0614461044332733,1.6997794796458487,0.19527633470967637],\"xaxis\":\"x10\",\"y\":[0.07422700527315418,0.4130249643103405,0.08548858850732852,-0.2313907405072228,0.37480831038947743,-0.5804733866469306,-0.6801880384913043,1.8022342350275198,0.2860197998610701,0.44232578447992343,-1.5016331070440165,-0.17047063909762822,0.2969657590242623,-0.3938742717666108,0.005322578576980963,-0.1509403635371195,-1.475176645424478,-0.6996670204144476,0.01040519118246566,-0.43008029671786063,0.049262896897995734,-2.2794486022226317,-0.05170995821764871,-1.1642223337949063,-0.7845961694373157,1.7201571256729855,-0.1080899951479665,1.9172077113769468,-1.0291295424930516,-0.4830378049493245,-3.042769218598791,-0.24804905428614898,1.0314805119510864,-1.404281005575798,-0.1379101447202194,-0.7195472131915353,-0.2735942321860184,-1.7388301654248608,0.8921268176921588,0.015092574704470684,-0.017843727398743788,-0.023373546868586628,0.48356729019745276,0.3724710103514023,1.008265930319548,2.4463710370181833,-1.984883419537376,0.3580786992700125,-1.1542277648532895,0.4987945521011533,-0.5602989609894605,-1.2899859967795375,-0.18340439848799506,-1.0255585995065564,-1.3069786772803889,-0.12442852338564153,0.9828613424354359,-0.5926949048387103,-0.7621082270075276,-1.5803155758375553,-1.5450357781388426,-0.6167758224917211,1.0960016305928086,-0.3660385461050507,0.40608765534013885,0.061831984060027934,-1.5480288983429116,2.2488514861594293,-0.2471095149706103,-1.4855057620299903,-0.6967002864504952,0.6592024314305059,0.7725617098876191,-0.008263027740115753,-0.6944179983332547,1.1526220459892333,1.4501439219254952,2.1505517700712176,-0.3492929750190928,0.11094652493428009,-0.6108141968900309,0.3502143994430392,-0.2227433971114668,1.678016033517746,-0.9382350184164863,-0.7751011686520267,0.4806329226047449,-1.2579044633708636,-0.9662571507224871,-0.3709616614910942,-0.06452441870975577,-0.35563498268520916,-0.016514764413823962,-0.22861270922344848,-0.5462410861762043,-0.16893452437550166,0.4508344021737034,-1.1284200562808675,0.8783286696936663,1.051529015196934],\"yaxis\":\"y10\"},{\"histfunc\":\"count\",\"histnorm\":\"\",\"marker\":{\"color\":\"rgba(50, 171, 96, 1.0)\",\"line\":{\"color\":\"#4D5663\",\"width\":1.3}},\"name\":\"C\",\"nbinsx\":10,\"opacity\":0.8,\"orientation\":\"v\",\"type\":\"histogram\",\"x\":[0.07422700527315418,0.4130249643103405,0.08548858850732852,-0.2313907405072228,0.37480831038947743,-0.5804733866469306,-0.6801880384913043,1.8022342350275198,0.2860197998610701,0.44232578447992343,-1.5016331070440165,-0.17047063909762822,0.2969657590242623,-0.3938742717666108,0.005322578576980963,-0.1509403635371195,-1.475176645424478,-0.6996670204144476,0.01040519118246566,-0.43008029671786063,0.049262896897995734,-2.2794486022226317,-0.05170995821764871,-1.1642223337949063,-0.7845961694373157,1.7201571256729855,-0.1080899951479665,1.9172077113769468,-1.0291295424930516,-0.4830378049493245,-3.042769218598791,-0.24804905428614898,1.0314805119510864,-1.404281005575798,-0.1379101447202194,-0.7195472131915353,-0.2735942321860184,-1.7388301654248608,0.8921268176921588,0.015092574704470684,-0.017843727398743788,-0.023373546868586628,0.48356729019745276,0.3724710103514023,1.008265930319548,2.4463710370181833,-1.984883419537376,0.3580786992700125,-1.1542277648532895,0.4987945521011533,-0.5602989609894605,-1.2899859967795375,-0.18340439848799506,-1.0255585995065564,-1.3069786772803889,-0.12442852338564153,0.9828613424354359,-0.5926949048387103,-0.7621082270075276,-1.5803155758375553,-1.5450357781388426,-0.6167758224917211,1.0960016305928086,-0.3660385461050507,0.40608765534013885,0.061831984060027934,-1.5480288983429116,2.2488514861594293,-0.2471095149706103,-1.4855057620299903,-0.6967002864504952,0.6592024314305059,0.7725617098876191,-0.008263027740115753,-0.6944179983332547,1.1526220459892333,1.4501439219254952,2.1505517700712176,-0.3492929750190928,0.11094652493428009,-0.6108141968900309,0.3502143994430392,-0.2227433971114668,1.678016033517746,-0.9382350184164863,-0.7751011686520267,0.4806329226047449,-1.2579044633708636,-0.9662571507224871,-0.3709616614910942,-0.06452441870975577,-0.35563498268520916,-0.016514764413823962,-0.22861270922344848,-0.5462410861762043,-0.16893452437550166,0.4508344021737034,-1.1284200562808675,0.8783286696936663,1.051529015196934],\"xaxis\":\"x11\",\"yaxis\":\"y11\"},{\"line\":{\"color\":\"rgba(128, 128, 128, 1.0)\",\"dash\":\"solid\",\"shape\":\"linear\",\"width\":1.3},\"marker\":{\"size\":2,\"symbol\":\"circle\"},\"mode\":\"markers\",\"name\":\"C\",\"text\":\"\",\"type\":\"scatter\",\"x\":[-0.4265649055030353,0.5345753963116453,1.2648624239240278,-0.5036965328663572,1.3839523450361182,1.2575049616846319,0.4144214395049769,-0.5025921390683061,0.4646854192098949,-1.0187018400737897,-0.41604955826801,-0.704873422773722,0.34012659882708757,0.8215859955152438,-0.9630212613275814,-1.5479364624579965,1.262427324095102,-0.6314716294991332,-0.2948263242881089,2.045843585833337,0.7779892759515108,-2.3374769861385496,0.08076847935905539,0.9386365422370996,1.006813472053596,-1.7130081664294843,-0.8301818918715494,0.40662438561416886,0.6184271143243777,-1.1171162565881085,-0.7259743318271101,-0.7894973693297371,0.15673300611977514,-0.0411443578526938,1.8725145576747395,0.07417574962603085,-2.0476069434418798,-0.5231585358294968,-1.1450987535161061,0.6433542561798411,0.01529112076703967,-0.48657373270143484,1.7052382835670108,0.4116424859047016,-0.4234715279258913,-0.9252985606450924,0.4828442783376966,1.5942461288472833,0.08456822084845338,-1.5394659470604126,0.5501664509165102,0.9454148982132563,-0.1261792942872043,0.3017002608052505,-1.2519565936221715,-0.24466158095145318,1.1954983324987216,-0.3809112557174018,1.33923613114652,1.3560837868399453,0.09661889452534182,-1.4880197906360266,-0.2827010917022672,0.11638639687460929,1.4606288990278828,-0.724909388940758,-0.8292888279027019,1.2152792806199297,0.9406782217308104,-0.2271121287232906,-0.6456754382419851,0.2246503169045476,0.9088534114783418,-0.785122627292339,-0.43312963489765566,-0.6263627891053157,-0.8124367069314169,-0.0944907864199542,-0.19604602013795855,1.6082443316810087,-0.4009981234549997,0.35696227827031496,0.08582423282612472,0.11139904700992809,0.3807598674561099,1.7292243256324968,0.5402498413873286,1.0069502326770607,1.7525588986920897,-1.0483571007203314,0.42820914988334524,0.9648945646092203,1.4849291082110934,-0.6459546098399391,-0.11144734102298919,0.6220318081645934,0.4307143405325117,-0.06911151660227972,0.18914139541645156,-1.3974429546298435],\"xaxis\":\"x12\",\"y\":[0.07422700527315418,0.4130249643103405,0.08548858850732852,-0.2313907405072228,0.37480831038947743,-0.5804733866469306,-0.6801880384913043,1.8022342350275198,0.2860197998610701,0.44232578447992343,-1.5016331070440165,-0.17047063909762822,0.2969657590242623,-0.3938742717666108,0.005322578576980963,-0.1509403635371195,-1.475176645424478,-0.6996670204144476,0.01040519118246566,-0.43008029671786063,0.049262896897995734,-2.2794486022226317,-0.05170995821764871,-1.1642223337949063,-0.7845961694373157,1.7201571256729855,-0.1080899951479665,1.9172077113769468,-1.0291295424930516,-0.4830378049493245,-3.042769218598791,-0.24804905428614898,1.0314805119510864,-1.404281005575798,-0.1379101447202194,-0.7195472131915353,-0.2735942321860184,-1.7388301654248608,0.8921268176921588,0.015092574704470684,-0.017843727398743788,-0.023373546868586628,0.48356729019745276,0.3724710103514023,1.008265930319548,2.4463710370181833,-1.984883419537376,0.3580786992700125,-1.1542277648532895,0.4987945521011533,-0.5602989609894605,-1.2899859967795375,-0.18340439848799506,-1.0255585995065564,-1.3069786772803889,-0.12442852338564153,0.9828613424354359,-0.5926949048387103,-0.7621082270075276,-1.5803155758375553,-1.5450357781388426,-0.6167758224917211,1.0960016305928086,-0.3660385461050507,0.40608765534013885,0.061831984060027934,-1.5480288983429116,2.2488514861594293,-0.2471095149706103,-1.4855057620299903,-0.6967002864504952,0.6592024314305059,0.7725617098876191,-0.008263027740115753,-0.6944179983332547,1.1526220459892333,1.4501439219254952,2.1505517700712176,-0.3492929750190928,0.11094652493428009,-0.6108141968900309,0.3502143994430392,-0.2227433971114668,1.678016033517746,-0.9382350184164863,-0.7751011686520267,0.4806329226047449,-1.2579044633708636,-0.9662571507224871,-0.3709616614910942,-0.06452441870975577,-0.35563498268520916,-0.016514764413823962,-0.22861270922344848,-0.5462410861762043,-0.16893452437550166,0.4508344021737034,-1.1284200562808675,0.8783286696936663,1.051529015196934],\"yaxis\":\"y12\"},{\"line\":{\"color\":\"rgba(128, 128, 128, 1.0)\",\"dash\":\"solid\",\"shape\":\"linear\",\"width\":1.3},\"marker\":{\"size\":2,\"symbol\":\"circle\"},\"mode\":\"markers\",\"name\":\"D\",\"text\":\"\",\"type\":\"scatter\",\"x\":[-0.4203769172138504,-1.7425536061462963,0.889037777019348,-1.0146950303,0.644987085922443,-0.5867545637092614,0.19788543355418084,-0.2730404740189748,-0.9026425523496677,-1.6279069661349634,-1.502814218287029,0.9328022335577573,-0.1647065323106058,0.6098435552056553,0.7157458424489646,-1.8653534653067507,0.04561722455290629,-1.83236922326372,1.2857591028121669,0.970847338623453,0.38469108105725586,-0.40669880244896184,-0.06933498378794453,1.320095941524994,-0.049271141297447224,0.24992502893762825,-1.0468650538432982,0.8544164021291353,0.5427353132690936,-0.6046711968130206,0.268146006228171,-0.8136978787020882,0.5129283434240521,-1.135879355830157,-0.5949835740230749,-0.9991198230270095,-1.6954857308348357,-0.5946797454314954,-0.038096198045322445,-0.597690474040178,-0.91787070032281,0.0049305892151103705,0.3176792336961347,1.8158591736530727,-0.18625555231119253,0.5334916797623348,-1.7790749335164024,-0.4561764528203567,-0.5383765801583805,0.9303974394928215,0.3019654074882458,-0.44691681108686937,1.0528514568643699,-0.8167380173526259,1.2329356705867764,1.5463527728336532,-0.20062580071149355,-0.09651096288571068,0.9154837337810589,-1.116298893230286,-0.12815668411074205,-0.35583474560030715,-0.1451024331637089,-0.015403174313218963,-0.28000443145952597,-0.47316418081547024,1.1183679273647713,0.5531770838513008,0.510397106892376,0.8396821842077113,0.11193850783712242,1.5340640502750655,0.021240171794083367,-0.9880713077949188,-0.6483165415061083,-0.3232730425399403,-0.3962516779122834,-0.4889839801990028,-0.6958235391363193,1.0309874763249955,-1.2084742863986977,-1.326989784774145,0.87219511894707,-0.5061261280696431,-0.9298406048337552,0.3475633689311191,-0.4488686768784139,0.08110817045384922,-0.0762302794889301,0.9625165014804028,0.8396345494906886,-1.80754629237557,0.8112661931818693,-0.6042239124449605,0.12005231709963185,-0.1764783558475839,1.4807239063761461,-1.2889664844008466,0.34080712450550255,0.5160231621797224],\"xaxis\":\"x13\",\"y\":[-0.4265649055030353,0.5345753963116453,1.2648624239240278,-0.5036965328663572,1.3839523450361182,1.2575049616846319,0.4144214395049769,-0.5025921390683061,0.4646854192098949,-1.0187018400737897,-0.41604955826801,-0.704873422773722,0.34012659882708757,0.8215859955152438,-0.9630212613275814,-1.5479364624579965,1.262427324095102,-0.6314716294991332,-0.2948263242881089,2.045843585833337,0.7779892759515108,-2.3374769861385496,0.08076847935905539,0.9386365422370996,1.006813472053596,-1.7130081664294843,-0.8301818918715494,0.40662438561416886,0.6184271143243777,-1.1171162565881085,-0.7259743318271101,-0.7894973693297371,0.15673300611977514,-0.0411443578526938,1.8725145576747395,0.07417574962603085,-2.0476069434418798,-0.5231585358294968,-1.1450987535161061,0.6433542561798411,0.01529112076703967,-0.48657373270143484,1.7052382835670108,0.4116424859047016,-0.4234715279258913,-0.9252985606450924,0.4828442783376966,1.5942461288472833,0.08456822084845338,-1.5394659470604126,0.5501664509165102,0.9454148982132563,-0.1261792942872043,0.3017002608052505,-1.2519565936221715,-0.24466158095145318,1.1954983324987216,-0.3809112557174018,1.33923613114652,1.3560837868399453,0.09661889452534182,-1.4880197906360266,-0.2827010917022672,0.11638639687460929,1.4606288990278828,-0.724909388940758,-0.8292888279027019,1.2152792806199297,0.9406782217308104,-0.2271121287232906,-0.6456754382419851,0.2246503169045476,0.9088534114783418,-0.785122627292339,-0.43312963489765566,-0.6263627891053157,-0.8124367069314169,-0.0944907864199542,-0.19604602013795855,1.6082443316810087,-0.4009981234549997,0.35696227827031496,0.08582423282612472,0.11139904700992809,0.3807598674561099,1.7292243256324968,0.5402498413873286,1.0069502326770607,1.7525588986920897,-1.0483571007203314,0.42820914988334524,0.9648945646092203,1.4849291082110934,-0.6459546098399391,-0.11144734102298919,0.6220318081645934,0.4307143405325117,-0.06911151660227972,0.18914139541645156,-1.3974429546298435],\"yaxis\":\"y13\"},{\"line\":{\"color\":\"rgba(128, 128, 128, 1.0)\",\"dash\":\"solid\",\"shape\":\"linear\",\"width\":1.3},\"marker\":{\"size\":2,\"symbol\":\"circle\"},\"mode\":\"markers\",\"name\":\"D\",\"text\":\"\",\"type\":\"scatter\",\"x\":[0.6705648136691061,0.7479108416593321,0.12376066704020804,0.5076865776365572,0.27751055021147714,-0.03885891767652951,-1.1484619773486824,0.06228241207836648,-1.057573110496256,1.135998182104359,-1.5268471457059039,0.03189578091454026,0.22200393733858212,0.35923447166256467,0.0438455986084191,-0.3286116744247036,-2.263135223059364,-0.4813577542132742,-1.3263312412535673,-0.49685187273799336,0.3715396209386487,1.3972487045901876,-1.7711776100919718,0.5164795444719394,-0.4040893207540781,-0.233485549950093,-1.476540568165758,0.28736959359819514,-1.828738271205067,-0.23033607719013108,-0.1716670784386983,0.6333589652539582,0.24579312524127364,-1.0430792092208319,-1.3054477184770257,-0.377953740083831,-1.6893335298772036,-0.05613954327924084,-0.6487634074366234,0.28329949096429036,-0.4042017835341697,0.032341002346677895,0.09703874914253871,-1.6933485826179155,0.6919740876165209,1.6491769080229144,-0.5779327269841692,-0.368352415642468,-1.5547059886995682,-1.9347232358061432,-0.49457341387009357,-1.1431865654017428,-0.589440944580983,-0.7321925083296308,-0.5598495607910404,-0.07280153382431334,-0.9677078775408386,2.110893914463245,-1.8007775476818115,-0.5492778523321554,-0.5153143189722851,0.2819410514014495,0.6389173365089797,-0.03690079064012558,0.3154919697960902,0.34399013315007754,0.8770157732702345,1.59051131022073,0.7904345189953608,0.7311438272766193,0.7387973826077535,-0.879583440706914,0.5868810728835954,0.03420631434201392,-0.45894188198105734,-0.4850085142032951,0.15108157763018584,0.1416739928211047,0.4779585274094298,-0.8118140116099221,0.5562018187811655,-0.24169835421043992,-0.5660844805115468,-0.49218350172725206,-0.61293743048621,1.2332793309806727,2.1240417997227214,1.400322812515332,-1.2707703517297577,0.04297896308622119,-1.1629777976548832,-0.527264203119578,-1.1036025507929965,0.11634484045105915,1.4459565634949803,-0.19104602555144024,1.43788963939247,-2.0614461044332733,1.6997794796458487,0.19527633470967637],\"xaxis\":\"x14\",\"y\":[-0.4265649055030353,0.5345753963116453,1.2648624239240278,-0.5036965328663572,1.3839523450361182,1.2575049616846319,0.4144214395049769,-0.5025921390683061,0.4646854192098949,-1.0187018400737897,-0.41604955826801,-0.704873422773722,0.34012659882708757,0.8215859955152438,-0.9630212613275814,-1.5479364624579965,1.262427324095102,-0.6314716294991332,-0.2948263242881089,2.045843585833337,0.7779892759515108,-2.3374769861385496,0.08076847935905539,0.9386365422370996,1.006813472053596,-1.7130081664294843,-0.8301818918715494,0.40662438561416886,0.6184271143243777,-1.1171162565881085,-0.7259743318271101,-0.7894973693297371,0.15673300611977514,-0.0411443578526938,1.8725145576747395,0.07417574962603085,-2.0476069434418798,-0.5231585358294968,-1.1450987535161061,0.6433542561798411,0.01529112076703967,-0.48657373270143484,1.7052382835670108,0.4116424859047016,-0.4234715279258913,-0.9252985606450924,0.4828442783376966,1.5942461288472833,0.08456822084845338,-1.5394659470604126,0.5501664509165102,0.9454148982132563,-0.1261792942872043,0.3017002608052505,-1.2519565936221715,-0.24466158095145318,1.1954983324987216,-0.3809112557174018,1.33923613114652,1.3560837868399453,0.09661889452534182,-1.4880197906360266,-0.2827010917022672,0.11638639687460929,1.4606288990278828,-0.724909388940758,-0.8292888279027019,1.2152792806199297,0.9406782217308104,-0.2271121287232906,-0.6456754382419851,0.2246503169045476,0.9088534114783418,-0.785122627292339,-0.43312963489765566,-0.6263627891053157,-0.8124367069314169,-0.0944907864199542,-0.19604602013795855,1.6082443316810087,-0.4009981234549997,0.35696227827031496,0.08582423282612472,0.11139904700992809,0.3807598674561099,1.7292243256324968,0.5402498413873286,1.0069502326770607,1.7525588986920897,-1.0483571007203314,0.42820914988334524,0.9648945646092203,1.4849291082110934,-0.6459546098399391,-0.11144734102298919,0.6220318081645934,0.4307143405325117,-0.06911151660227972,0.18914139541645156,-1.3974429546298435],\"yaxis\":\"y14\"},{\"line\":{\"color\":\"rgba(128, 128, 128, 1.0)\",\"dash\":\"solid\",\"shape\":\"linear\",\"width\":1.3},\"marker\":{\"size\":2,\"symbol\":\"circle\"},\"mode\":\"markers\",\"name\":\"D\",\"text\":\"\",\"type\":\"scatter\",\"x\":[0.07422700527315418,0.4130249643103405,0.08548858850732852,-0.2313907405072228,0.37480831038947743,-0.5804733866469306,-0.6801880384913043,1.8022342350275198,0.2860197998610701,0.44232578447992343,-1.5016331070440165,-0.17047063909762822,0.2969657590242623,-0.3938742717666108,0.005322578576980963,-0.1509403635371195,-1.475176645424478,-0.6996670204144476,0.01040519118246566,-0.43008029671786063,0.049262896897995734,-2.2794486022226317,-0.05170995821764871,-1.1642223337949063,-0.7845961694373157,1.7201571256729855,-0.1080899951479665,1.9172077113769468,-1.0291295424930516,-0.4830378049493245,-3.042769218598791,-0.24804905428614898,1.0314805119510864,-1.404281005575798,-0.1379101447202194,-0.7195472131915353,-0.2735942321860184,-1.7388301654248608,0.8921268176921588,0.015092574704470684,-0.017843727398743788,-0.023373546868586628,0.48356729019745276,0.3724710103514023,1.008265930319548,2.4463710370181833,-1.984883419537376,0.3580786992700125,-1.1542277648532895,0.4987945521011533,-0.5602989609894605,-1.2899859967795375,-0.18340439848799506,-1.0255585995065564,-1.3069786772803889,-0.12442852338564153,0.9828613424354359,-0.5926949048387103,-0.7621082270075276,-1.5803155758375553,-1.5450357781388426,-0.6167758224917211,1.0960016305928086,-0.3660385461050507,0.40608765534013885,0.061831984060027934,-1.5480288983429116,2.2488514861594293,-0.2471095149706103,-1.4855057620299903,-0.6967002864504952,0.6592024314305059,0.7725617098876191,-0.008263027740115753,-0.6944179983332547,1.1526220459892333,1.4501439219254952,2.1505517700712176,-0.3492929750190928,0.11094652493428009,-0.6108141968900309,0.3502143994430392,-0.2227433971114668,1.678016033517746,-0.9382350184164863,-0.7751011686520267,0.4806329226047449,-1.2579044633708636,-0.9662571507224871,-0.3709616614910942,-0.06452441870975577,-0.35563498268520916,-0.016514764413823962,-0.22861270922344848,-0.5462410861762043,-0.16893452437550166,0.4508344021737034,-1.1284200562808675,0.8783286696936663,1.051529015196934],\"xaxis\":\"x15\",\"y\":[-0.4265649055030353,0.5345753963116453,1.2648624239240278,-0.5036965328663572,1.3839523450361182,1.2575049616846319,0.4144214395049769,-0.5025921390683061,0.4646854192098949,-1.0187018400737897,-0.41604955826801,-0.704873422773722,0.34012659882708757,0.8215859955152438,-0.9630212613275814,-1.5479364624579965,1.262427324095102,-0.6314716294991332,-0.2948263242881089,2.045843585833337,0.7779892759515108,-2.3374769861385496,0.08076847935905539,0.9386365422370996,1.006813472053596,-1.7130081664294843,-0.8301818918715494,0.40662438561416886,0.6184271143243777,-1.1171162565881085,-0.7259743318271101,-0.7894973693297371,0.15673300611977514,-0.0411443578526938,1.8725145576747395,0.07417574962603085,-2.0476069434418798,-0.5231585358294968,-1.1450987535161061,0.6433542561798411,0.01529112076703967,-0.48657373270143484,1.7052382835670108,0.4116424859047016,-0.4234715279258913,-0.9252985606450924,0.4828442783376966,1.5942461288472833,0.08456822084845338,-1.5394659470604126,0.5501664509165102,0.9454148982132563,-0.1261792942872043,0.3017002608052505,-1.2519565936221715,-0.24466158095145318,1.1954983324987216,-0.3809112557174018,1.33923613114652,1.3560837868399453,0.09661889452534182,-1.4880197906360266,-0.2827010917022672,0.11638639687460929,1.4606288990278828,-0.724909388940758,-0.8292888279027019,1.2152792806199297,0.9406782217308104,-0.2271121287232906,-0.6456754382419851,0.2246503169045476,0.9088534114783418,-0.785122627292339,-0.43312963489765566,-0.6263627891053157,-0.8124367069314169,-0.0944907864199542,-0.19604602013795855,1.6082443316810087,-0.4009981234549997,0.35696227827031496,0.08582423282612472,0.11139904700992809,0.3807598674561099,1.7292243256324968,0.5402498413873286,1.0069502326770607,1.7525588986920897,-1.0483571007203314,0.42820914988334524,0.9648945646092203,1.4849291082110934,-0.6459546098399391,-0.11144734102298919,0.6220318081645934,0.4307143405325117,-0.06911151660227972,0.18914139541645156,-1.3974429546298435],\"yaxis\":\"y15\"},{\"histfunc\":\"count\",\"histnorm\":\"\",\"marker\":{\"color\":\"rgba(128, 0, 128, 1.0)\",\"line\":{\"color\":\"#4D5663\",\"width\":1.3}},\"name\":\"D\",\"nbinsx\":10,\"opacity\":0.8,\"orientation\":\"v\",\"type\":\"histogram\",\"x\":[-0.4265649055030353,0.5345753963116453,1.2648624239240278,-0.5036965328663572,1.3839523450361182,1.2575049616846319,0.4144214395049769,-0.5025921390683061,0.4646854192098949,-1.0187018400737897,-0.41604955826801,-0.704873422773722,0.34012659882708757,0.8215859955152438,-0.9630212613275814,-1.5479364624579965,1.262427324095102,-0.6314716294991332,-0.2948263242881089,2.045843585833337,0.7779892759515108,-2.3374769861385496,0.08076847935905539,0.9386365422370996,1.006813472053596,-1.7130081664294843,-0.8301818918715494,0.40662438561416886,0.6184271143243777,-1.1171162565881085,-0.7259743318271101,-0.7894973693297371,0.15673300611977514,-0.0411443578526938,1.8725145576747395,0.07417574962603085,-2.0476069434418798,-0.5231585358294968,-1.1450987535161061,0.6433542561798411,0.01529112076703967,-0.48657373270143484,1.7052382835670108,0.4116424859047016,-0.4234715279258913,-0.9252985606450924,0.4828442783376966,1.5942461288472833,0.08456822084845338,-1.5394659470604126,0.5501664509165102,0.9454148982132563,-0.1261792942872043,0.3017002608052505,-1.2519565936221715,-0.24466158095145318,1.1954983324987216,-0.3809112557174018,1.33923613114652,1.3560837868399453,0.09661889452534182,-1.4880197906360266,-0.2827010917022672,0.11638639687460929,1.4606288990278828,-0.724909388940758,-0.8292888279027019,1.2152792806199297,0.9406782217308104,-0.2271121287232906,-0.6456754382419851,0.2246503169045476,0.9088534114783418,-0.785122627292339,-0.43312963489765566,-0.6263627891053157,-0.8124367069314169,-0.0944907864199542,-0.19604602013795855,1.6082443316810087,-0.4009981234549997,0.35696227827031496,0.08582423282612472,0.11139904700992809,0.3807598674561099,1.7292243256324968,0.5402498413873286,1.0069502326770607,1.7525588986920897,-1.0483571007203314,0.42820914988334524,0.9648945646092203,1.4849291082110934,-0.6459546098399391,-0.11144734102298919,0.6220318081645934,0.4307143405325117,-0.06911151660227972,0.18914139541645156,-1.3974429546298435],\"xaxis\":\"x16\",\"yaxis\":\"y16\"}],                        {\"bargap\":0.02,\"legend\":{\"bgcolor\":\"#F5F6F9\",\"font\":{\"color\":\"#4D5663\"}},\"paper_bgcolor\":\"#F5F6F9\",\"plot_bgcolor\":\"#F5F6F9\",\"showlegend\":false,\"template\":{\"data\":{\"bar\":[{\"error_x\":{\"color\":\"#2a3f5f\"},\"error_y\":{\"color\":\"#2a3f5f\"},\"marker\":{\"line\":{\"color\":\"#E5ECF6\",\"width\":0.5},\"pattern\":{\"fillmode\":\"overlay\",\"size\":10,\"solidity\":0.2}},\"type\":\"bar\"}],\"barpolar\":[{\"marker\":{\"line\":{\"color\":\"#E5ECF6\",\"width\":0.5},\"pattern\":{\"fillmode\":\"overlay\",\"size\":10,\"solidity\":0.2}},\"type\":\"barpolar\"}],\"carpet\":[{\"aaxis\":{\"endlinecolor\":\"#2a3f5f\",\"gridcolor\":\"white\",\"linecolor\":\"white\",\"minorgridcolor\":\"white\",\"startlinecolor\":\"#2a3f5f\"},\"baxis\":{\"endlinecolor\":\"#2a3f5f\",\"gridcolor\":\"white\",\"linecolor\":\"white\",\"minorgridcolor\":\"white\",\"startlinecolor\":\"#2a3f5f\"},\"type\":\"carpet\"}],\"choropleth\":[{\"colorbar\":{\"outlinewidth\":0,\"ticks\":\"\"},\"type\":\"choropleth\"}],\"contour\":[{\"colorbar\":{\"outlinewidth\":0,\"ticks\":\"\"},\"colorscale\":[[0.0,\"#0d0887\"],[0.1111111111111111,\"#46039f\"],[0.2222222222222222,\"#7201a8\"],[0.3333333333333333,\"#9c179e\"],[0.4444444444444444,\"#bd3786\"],[0.5555555555555556,\"#d8576b\"],[0.6666666666666666,\"#ed7953\"],[0.7777777777777778,\"#fb9f3a\"],[0.8888888888888888,\"#fdca26\"],[1.0,\"#f0f921\"]],\"type\":\"contour\"}],\"contourcarpet\":[{\"colorbar\":{\"outlinewidth\":0,\"ticks\":\"\"},\"type\":\"contourcarpet\"}],\"heatmap\":[{\"colorbar\":{\"outlinewidth\":0,\"ticks\":\"\"},\"colorscale\":[[0.0,\"#0d0887\"],[0.1111111111111111,\"#46039f\"],[0.2222222222222222,\"#7201a8\"],[0.3333333333333333,\"#9c179e\"],[0.4444444444444444,\"#bd3786\"],[0.5555555555555556,\"#d8576b\"],[0.6666666666666666,\"#ed7953\"],[0.7777777777777778,\"#fb9f3a\"],[0.8888888888888888,\"#fdca26\"],[1.0,\"#f0f921\"]],\"type\":\"heatmap\"}],\"heatmapgl\":[{\"colorbar\":{\"outlinewidth\":0,\"ticks\":\"\"},\"colorscale\":[[0.0,\"#0d0887\"],[0.1111111111111111,\"#46039f\"],[0.2222222222222222,\"#7201a8\"],[0.3333333333333333,\"#9c179e\"],[0.4444444444444444,\"#bd3786\"],[0.5555555555555556,\"#d8576b\"],[0.6666666666666666,\"#ed7953\"],[0.7777777777777778,\"#fb9f3a\"],[0.8888888888888888,\"#fdca26\"],[1.0,\"#f0f921\"]],\"type\":\"heatmapgl\"}],\"histogram\":[{\"marker\":{\"pattern\":{\"fillmode\":\"overlay\",\"size\":10,\"solidity\":0.2}},\"type\":\"histogram\"}],\"histogram2d\":[{\"colorbar\":{\"outlinewidth\":0,\"ticks\":\"\"},\"colorscale\":[[0.0,\"#0d0887\"],[0.1111111111111111,\"#46039f\"],[0.2222222222222222,\"#7201a8\"],[0.3333333333333333,\"#9c179e\"],[0.4444444444444444,\"#bd3786\"],[0.5555555555555556,\"#d8576b\"],[0.6666666666666666,\"#ed7953\"],[0.7777777777777778,\"#fb9f3a\"],[0.8888888888888888,\"#fdca26\"],[1.0,\"#f0f921\"]],\"type\":\"histogram2d\"}],\"histogram2dcontour\":[{\"colorbar\":{\"outlinewidth\":0,\"ticks\":\"\"},\"colorscale\":[[0.0,\"#0d0887\"],[0.1111111111111111,\"#46039f\"],[0.2222222222222222,\"#7201a8\"],[0.3333333333333333,\"#9c179e\"],[0.4444444444444444,\"#bd3786\"],[0.5555555555555556,\"#d8576b\"],[0.6666666666666666,\"#ed7953\"],[0.7777777777777778,\"#fb9f3a\"],[0.8888888888888888,\"#fdca26\"],[1.0,\"#f0f921\"]],\"type\":\"histogram2dcontour\"}],\"mesh3d\":[{\"colorbar\":{\"outlinewidth\":0,\"ticks\":\"\"},\"type\":\"mesh3d\"}],\"parcoords\":[{\"line\":{\"colorbar\":{\"outlinewidth\":0,\"ticks\":\"\"}},\"type\":\"parcoords\"}],\"pie\":[{\"automargin\":true,\"type\":\"pie\"}],\"scatter\":[{\"marker\":{\"colorbar\":{\"outlinewidth\":0,\"ticks\":\"\"}},\"type\":\"scatter\"}],\"scatter3d\":[{\"line\":{\"colorbar\":{\"outlinewidth\":0,\"ticks\":\"\"}},\"marker\":{\"colorbar\":{\"outlinewidth\":0,\"ticks\":\"\"}},\"type\":\"scatter3d\"}],\"scattercarpet\":[{\"marker\":{\"colorbar\":{\"outlinewidth\":0,\"ticks\":\"\"}},\"type\":\"scattercarpet\"}],\"scattergeo\":[{\"marker\":{\"colorbar\":{\"outlinewidth\":0,\"ticks\":\"\"}},\"type\":\"scattergeo\"}],\"scattergl\":[{\"marker\":{\"colorbar\":{\"outlinewidth\":0,\"ticks\":\"\"}},\"type\":\"scattergl\"}],\"scattermapbox\":[{\"marker\":{\"colorbar\":{\"outlinewidth\":0,\"ticks\":\"\"}},\"type\":\"scattermapbox\"}],\"scatterpolar\":[{\"marker\":{\"colorbar\":{\"outlinewidth\":0,\"ticks\":\"\"}},\"type\":\"scatterpolar\"}],\"scatterpolargl\":[{\"marker\":{\"colorbar\":{\"outlinewidth\":0,\"ticks\":\"\"}},\"type\":\"scatterpolargl\"}],\"scatterternary\":[{\"marker\":{\"colorbar\":{\"outlinewidth\":0,\"ticks\":\"\"}},\"type\":\"scatterternary\"}],\"surface\":[{\"colorbar\":{\"outlinewidth\":0,\"ticks\":\"\"},\"colorscale\":[[0.0,\"#0d0887\"],[0.1111111111111111,\"#46039f\"],[0.2222222222222222,\"#7201a8\"],[0.3333333333333333,\"#9c179e\"],[0.4444444444444444,\"#bd3786\"],[0.5555555555555556,\"#d8576b\"],[0.6666666666666666,\"#ed7953\"],[0.7777777777777778,\"#fb9f3a\"],[0.8888888888888888,\"#fdca26\"],[1.0,\"#f0f921\"]],\"type\":\"surface\"}],\"table\":[{\"cells\":{\"fill\":{\"color\":\"#EBF0F8\"},\"line\":{\"color\":\"white\"}},\"header\":{\"fill\":{\"color\":\"#C8D4E3\"},\"line\":{\"color\":\"white\"}},\"type\":\"table\"}]},\"layout\":{\"annotationdefaults\":{\"arrowcolor\":\"#2a3f5f\",\"arrowhead\":0,\"arrowwidth\":1},\"autotypenumbers\":\"strict\",\"coloraxis\":{\"colorbar\":{\"outlinewidth\":0,\"ticks\":\"\"}},\"colorscale\":{\"diverging\":[[0,\"#8e0152\"],[0.1,\"#c51b7d\"],[0.2,\"#de77ae\"],[0.3,\"#f1b6da\"],[0.4,\"#fde0ef\"],[0.5,\"#f7f7f7\"],[0.6,\"#e6f5d0\"],[0.7,\"#b8e186\"],[0.8,\"#7fbc41\"],[0.9,\"#4d9221\"],[1,\"#276419\"]],\"sequential\":[[0.0,\"#0d0887\"],[0.1111111111111111,\"#46039f\"],[0.2222222222222222,\"#7201a8\"],[0.3333333333333333,\"#9c179e\"],[0.4444444444444444,\"#bd3786\"],[0.5555555555555556,\"#d8576b\"],[0.6666666666666666,\"#ed7953\"],[0.7777777777777778,\"#fb9f3a\"],[0.8888888888888888,\"#fdca26\"],[1.0,\"#f0f921\"]],\"sequentialminus\":[[0.0,\"#0d0887\"],[0.1111111111111111,\"#46039f\"],[0.2222222222222222,\"#7201a8\"],[0.3333333333333333,\"#9c179e\"],[0.4444444444444444,\"#bd3786\"],[0.5555555555555556,\"#d8576b\"],[0.6666666666666666,\"#ed7953\"],[0.7777777777777778,\"#fb9f3a\"],[0.8888888888888888,\"#fdca26\"],[1.0,\"#f0f921\"]]},\"colorway\":[\"#636efa\",\"#EF553B\",\"#00cc96\",\"#ab63fa\",\"#FFA15A\",\"#19d3f3\",\"#FF6692\",\"#B6E880\",\"#FF97FF\",\"#FECB52\"],\"font\":{\"color\":\"#2a3f5f\"},\"geo\":{\"bgcolor\":\"white\",\"lakecolor\":\"white\",\"landcolor\":\"#E5ECF6\",\"showlakes\":true,\"showland\":true,\"subunitcolor\":\"white\"},\"hoverlabel\":{\"align\":\"left\"},\"hovermode\":\"closest\",\"mapbox\":{\"style\":\"light\"},\"paper_bgcolor\":\"white\",\"plot_bgcolor\":\"#E5ECF6\",\"polar\":{\"angularaxis\":{\"gridcolor\":\"white\",\"linecolor\":\"white\",\"ticks\":\"\"},\"bgcolor\":\"#E5ECF6\",\"radialaxis\":{\"gridcolor\":\"white\",\"linecolor\":\"white\",\"ticks\":\"\"}},\"scene\":{\"xaxis\":{\"backgroundcolor\":\"#E5ECF6\",\"gridcolor\":\"white\",\"gridwidth\":2,\"linecolor\":\"white\",\"showbackground\":true,\"ticks\":\"\",\"zerolinecolor\":\"white\"},\"yaxis\":{\"backgroundcolor\":\"#E5ECF6\",\"gridcolor\":\"white\",\"gridwidth\":2,\"linecolor\":\"white\",\"showbackground\":true,\"ticks\":\"\",\"zerolinecolor\":\"white\"},\"zaxis\":{\"backgroundcolor\":\"#E5ECF6\",\"gridcolor\":\"white\",\"gridwidth\":2,\"linecolor\":\"white\",\"showbackground\":true,\"ticks\":\"\",\"zerolinecolor\":\"white\"}},\"shapedefaults\":{\"line\":{\"color\":\"#2a3f5f\"}},\"ternary\":{\"aaxis\":{\"gridcolor\":\"white\",\"linecolor\":\"white\",\"ticks\":\"\"},\"baxis\":{\"gridcolor\":\"white\",\"linecolor\":\"white\",\"ticks\":\"\"},\"bgcolor\":\"#E5ECF6\",\"caxis\":{\"gridcolor\":\"white\",\"linecolor\":\"white\",\"ticks\":\"\"}},\"title\":{\"x\":0.05},\"xaxis\":{\"automargin\":true,\"gridcolor\":\"white\",\"linecolor\":\"white\",\"ticks\":\"\",\"title\":{\"standoff\":15},\"zerolinecolor\":\"white\",\"zerolinewidth\":2},\"yaxis\":{\"automargin\":true,\"gridcolor\":\"white\",\"linecolor\":\"white\",\"ticks\":\"\",\"title\":{\"standoff\":15},\"zerolinecolor\":\"white\",\"zerolinewidth\":2}}},\"title\":{\"font\":{\"color\":\"#4D5663\"}},\"xaxis\":{\"anchor\":\"y\",\"domain\":[0.0,0.2125],\"gridcolor\":\"#E1E5ED\",\"showgrid\":false,\"tickfont\":{\"color\":\"#4D5663\"},\"title\":{\"font\":{\"color\":\"#4D5663\"},\"text\":\"\"},\"zerolinecolor\":\"#E1E5ED\"},\"xaxis10\":{\"anchor\":\"y10\",\"domain\":[0.2625,0.475],\"gridcolor\":\"#E1E5ED\",\"showgrid\":false,\"tickfont\":{\"color\":\"#4D5663\"},\"title\":{\"font\":{\"color\":\"#4D5663\"},\"text\":\"\"},\"zerolinecolor\":\"#E1E5ED\"},\"xaxis11\":{\"anchor\":\"y11\",\"domain\":[0.525,0.7375],\"gridcolor\":\"#E1E5ED\",\"showgrid\":false,\"tickfont\":{\"color\":\"#4D5663\"},\"title\":{\"font\":{\"color\":\"#4D5663\"},\"text\":\"\"},\"zerolinecolor\":\"#E1E5ED\"},\"xaxis12\":{\"anchor\":\"y12\",\"domain\":[0.7875,1.0],\"gridcolor\":\"#E1E5ED\",\"showgrid\":false,\"tickfont\":{\"color\":\"#4D5663\"},\"title\":{\"font\":{\"color\":\"#4D5663\"},\"text\":\"\"},\"zerolinecolor\":\"#E1E5ED\"},\"xaxis13\":{\"anchor\":\"y13\",\"domain\":[0.0,0.2125],\"gridcolor\":\"#E1E5ED\",\"showgrid\":false,\"tickfont\":{\"color\":\"#4D5663\"},\"title\":{\"font\":{\"color\":\"#4D5663\"},\"text\":\"\"},\"zerolinecolor\":\"#E1E5ED\"},\"xaxis14\":{\"anchor\":\"y14\",\"domain\":[0.2625,0.475],\"gridcolor\":\"#E1E5ED\",\"showgrid\":false,\"tickfont\":{\"color\":\"#4D5663\"},\"title\":{\"font\":{\"color\":\"#4D5663\"},\"text\":\"\"},\"zerolinecolor\":\"#E1E5ED\"},\"xaxis15\":{\"anchor\":\"y15\",\"domain\":[0.525,0.7375],\"gridcolor\":\"#E1E5ED\",\"showgrid\":false,\"tickfont\":{\"color\":\"#4D5663\"},\"title\":{\"font\":{\"color\":\"#4D5663\"},\"text\":\"\"},\"zerolinecolor\":\"#E1E5ED\"},\"xaxis16\":{\"anchor\":\"y16\",\"domain\":[0.7875,1.0],\"gridcolor\":\"#E1E5ED\",\"showgrid\":false,\"tickfont\":{\"color\":\"#4D5663\"},\"title\":{\"font\":{\"color\":\"#4D5663\"},\"text\":\"\"},\"zerolinecolor\":\"#E1E5ED\"},\"xaxis2\":{\"anchor\":\"y2\",\"domain\":[0.2625,0.475],\"gridcolor\":\"#E1E5ED\",\"showgrid\":false,\"tickfont\":{\"color\":\"#4D5663\"},\"title\":{\"font\":{\"color\":\"#4D5663\"},\"text\":\"\"},\"zerolinecolor\":\"#E1E5ED\"},\"xaxis3\":{\"anchor\":\"y3\",\"domain\":[0.525,0.7375],\"gridcolor\":\"#E1E5ED\",\"showgrid\":false,\"tickfont\":{\"color\":\"#4D5663\"},\"title\":{\"font\":{\"color\":\"#4D5663\"},\"text\":\"\"},\"zerolinecolor\":\"#E1E5ED\"},\"xaxis4\":{\"anchor\":\"y4\",\"domain\":[0.7875,1.0],\"gridcolor\":\"#E1E5ED\",\"showgrid\":false,\"tickfont\":{\"color\":\"#4D5663\"},\"title\":{\"font\":{\"color\":\"#4D5663\"},\"text\":\"\"},\"zerolinecolor\":\"#E1E5ED\"},\"xaxis5\":{\"anchor\":\"y5\",\"domain\":[0.0,0.2125],\"gridcolor\":\"#E1E5ED\",\"showgrid\":false,\"tickfont\":{\"color\":\"#4D5663\"},\"title\":{\"font\":{\"color\":\"#4D5663\"},\"text\":\"\"},\"zerolinecolor\":\"#E1E5ED\"},\"xaxis6\":{\"anchor\":\"y6\",\"domain\":[0.2625,0.475],\"gridcolor\":\"#E1E5ED\",\"showgrid\":false,\"tickfont\":{\"color\":\"#4D5663\"},\"title\":{\"font\":{\"color\":\"#4D5663\"},\"text\":\"\"},\"zerolinecolor\":\"#E1E5ED\"},\"xaxis7\":{\"anchor\":\"y7\",\"domain\":[0.525,0.7375],\"gridcolor\":\"#E1E5ED\",\"showgrid\":false,\"tickfont\":{\"color\":\"#4D5663\"},\"title\":{\"font\":{\"color\":\"#4D5663\"},\"text\":\"\"},\"zerolinecolor\":\"#E1E5ED\"},\"xaxis8\":{\"anchor\":\"y8\",\"domain\":[0.7875,1.0],\"gridcolor\":\"#E1E5ED\",\"showgrid\":false,\"tickfont\":{\"color\":\"#4D5663\"},\"title\":{\"font\":{\"color\":\"#4D5663\"},\"text\":\"\"},\"zerolinecolor\":\"#E1E5ED\"},\"xaxis9\":{\"anchor\":\"y9\",\"domain\":[0.0,0.2125],\"gridcolor\":\"#E1E5ED\",\"showgrid\":false,\"tickfont\":{\"color\":\"#4D5663\"},\"title\":{\"font\":{\"color\":\"#4D5663\"},\"text\":\"\"},\"zerolinecolor\":\"#E1E5ED\"},\"yaxis\":{\"anchor\":\"x\",\"domain\":[0.8025,1.0],\"gridcolor\":\"#E1E5ED\",\"showgrid\":false,\"tickfont\":{\"color\":\"#4D5663\"},\"title\":{\"font\":{\"color\":\"#4D5663\"},\"text\":\"\"},\"zerolinecolor\":\"#E1E5ED\"},\"yaxis10\":{\"anchor\":\"x10\",\"domain\":[0.2675,0.465],\"gridcolor\":\"#E1E5ED\",\"showgrid\":false,\"tickfont\":{\"color\":\"#4D5663\"},\"title\":{\"font\":{\"color\":\"#4D5663\"},\"text\":\"\"},\"zerolinecolor\":\"#E1E5ED\"},\"yaxis11\":{\"anchor\":\"x11\",\"domain\":[0.2675,0.465],\"gridcolor\":\"#E1E5ED\",\"showgrid\":false,\"tickfont\":{\"color\":\"#4D5663\"},\"title\":{\"font\":{\"color\":\"#4D5663\"},\"text\":\"\"},\"zerolinecolor\":\"#E1E5ED\"},\"yaxis12\":{\"anchor\":\"x12\",\"domain\":[0.2675,0.465],\"gridcolor\":\"#E1E5ED\",\"showgrid\":false,\"tickfont\":{\"color\":\"#4D5663\"},\"title\":{\"font\":{\"color\":\"#4D5663\"},\"text\":\"\"},\"zerolinecolor\":\"#E1E5ED\"},\"yaxis13\":{\"anchor\":\"x13\",\"domain\":[0.0,0.1975],\"gridcolor\":\"#E1E5ED\",\"showgrid\":false,\"tickfont\":{\"color\":\"#4D5663\"},\"title\":{\"font\":{\"color\":\"#4D5663\"},\"text\":\"\"},\"zerolinecolor\":\"#E1E5ED\"},\"yaxis14\":{\"anchor\":\"x14\",\"domain\":[0.0,0.1975],\"gridcolor\":\"#E1E5ED\",\"showgrid\":false,\"tickfont\":{\"color\":\"#4D5663\"},\"title\":{\"font\":{\"color\":\"#4D5663\"},\"text\":\"\"},\"zerolinecolor\":\"#E1E5ED\"},\"yaxis15\":{\"anchor\":\"x15\",\"domain\":[0.0,0.1975],\"gridcolor\":\"#E1E5ED\",\"showgrid\":false,\"tickfont\":{\"color\":\"#4D5663\"},\"title\":{\"font\":{\"color\":\"#4D5663\"},\"text\":\"\"},\"zerolinecolor\":\"#E1E5ED\"},\"yaxis16\":{\"anchor\":\"x16\",\"domain\":[0.0,0.1975],\"gridcolor\":\"#E1E5ED\",\"showgrid\":false,\"tickfont\":{\"color\":\"#4D5663\"},\"title\":{\"font\":{\"color\":\"#4D5663\"},\"text\":\"\"},\"zerolinecolor\":\"#E1E5ED\"},\"yaxis2\":{\"anchor\":\"x2\",\"domain\":[0.8025,1.0],\"gridcolor\":\"#E1E5ED\",\"showgrid\":false,\"tickfont\":{\"color\":\"#4D5663\"},\"title\":{\"font\":{\"color\":\"#4D5663\"},\"text\":\"\"},\"zerolinecolor\":\"#E1E5ED\"},\"yaxis3\":{\"anchor\":\"x3\",\"domain\":[0.8025,1.0],\"gridcolor\":\"#E1E5ED\",\"showgrid\":false,\"tickfont\":{\"color\":\"#4D5663\"},\"title\":{\"font\":{\"color\":\"#4D5663\"},\"text\":\"\"},\"zerolinecolor\":\"#E1E5ED\"},\"yaxis4\":{\"anchor\":\"x4\",\"domain\":[0.8025,1.0],\"gridcolor\":\"#E1E5ED\",\"showgrid\":false,\"tickfont\":{\"color\":\"#4D5663\"},\"title\":{\"font\":{\"color\":\"#4D5663\"},\"text\":\"\"},\"zerolinecolor\":\"#E1E5ED\"},\"yaxis5\":{\"anchor\":\"x5\",\"domain\":[0.535,0.7325],\"gridcolor\":\"#E1E5ED\",\"showgrid\":false,\"tickfont\":{\"color\":\"#4D5663\"},\"title\":{\"font\":{\"color\":\"#4D5663\"},\"text\":\"\"},\"zerolinecolor\":\"#E1E5ED\"},\"yaxis6\":{\"anchor\":\"x6\",\"domain\":[0.535,0.7325],\"gridcolor\":\"#E1E5ED\",\"showgrid\":false,\"tickfont\":{\"color\":\"#4D5663\"},\"title\":{\"font\":{\"color\":\"#4D5663\"},\"text\":\"\"},\"zerolinecolor\":\"#E1E5ED\"},\"yaxis7\":{\"anchor\":\"x7\",\"domain\":[0.535,0.7325],\"gridcolor\":\"#E1E5ED\",\"showgrid\":false,\"tickfont\":{\"color\":\"#4D5663\"},\"title\":{\"font\":{\"color\":\"#4D5663\"},\"text\":\"\"},\"zerolinecolor\":\"#E1E5ED\"},\"yaxis8\":{\"anchor\":\"x8\",\"domain\":[0.535,0.7325],\"gridcolor\":\"#E1E5ED\",\"showgrid\":false,\"tickfont\":{\"color\":\"#4D5663\"},\"title\":{\"font\":{\"color\":\"#4D5663\"},\"text\":\"\"},\"zerolinecolor\":\"#E1E5ED\"},\"yaxis9\":{\"anchor\":\"x9\",\"domain\":[0.2675,0.465],\"gridcolor\":\"#E1E5ED\",\"showgrid\":false,\"tickfont\":{\"color\":\"#4D5663\"},\"title\":{\"font\":{\"color\":\"#4D5663\"},\"text\":\"\"},\"zerolinecolor\":\"#E1E5ED\"}},                        {\"showLink\": true, \"linkText\": \"Export to plot.ly\", \"plotlyServerURL\": \"https://plot.ly\", \"responsive\": true}                    ).then(function(){\n",
       "                            \n",
       "var gd = document.getElementById('9fd2c1cc-2d93-4645-bd60-28680b53d6da');\n",
       "var x = new MutationObserver(function (mutations, observer) {{\n",
       "        var display = window.getComputedStyle(gd).display;\n",
       "        if (!display || display === 'none') {{\n",
       "            console.log([gd, 'removed!']);\n",
       "            Plotly.purge(gd);\n",
       "            observer.disconnect();\n",
       "        }}\n",
       "}});\n",
       "\n",
       "// Listen for the removal of the full notebook cells\n",
       "var notebookContainer = gd.closest('#notebook-container');\n",
       "if (notebookContainer) {{\n",
       "    x.observe(notebookContainer, {childList: true});\n",
       "}}\n",
       "\n",
       "// Listen for the clearing of the current output cell\n",
       "var outputEl = gd.closest('.output');\n",
       "if (outputEl) {{\n",
       "    x.observe(outputEl, {childList: true});\n",
       "}}\n",
       "\n",
       "                        })                };                });            </script>        </div>"
      ]
     },
     "metadata": {},
     "output_type": "display_data"
    }
   ],
   "source": [
    "df.scatter_matrix()"
   ]
  },
  {
   "cell_type": "code",
   "execution_count": null,
   "id": "7accc49e",
   "metadata": {},
   "outputs": [],
   "source": []
  }
 ],
 "metadata": {
  "kernelspec": {
   "display_name": "Python 3",
   "language": "python",
   "name": "python3"
  },
  "language_info": {
   "codemirror_mode": {
    "name": "ipython",
    "version": 3
   },
   "file_extension": ".py",
   "mimetype": "text/x-python",
   "name": "python",
   "nbconvert_exporter": "python",
   "pygments_lexer": "ipython3",
   "version": "3.8.8"
  }
 },
 "nbformat": 4,
 "nbformat_minor": 5
}
